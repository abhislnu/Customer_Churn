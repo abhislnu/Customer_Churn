{
 "cells": [
  {
   "cell_type": "markdown",
   "id": "332e071e-1540-40ce-8dc1-80878434ff66",
   "metadata": {
    "tags": []
   },
   "source": [
    "### Importing the required libraries and reading the dataset\n"
   ]
  },
  {
   "cell_type": "code",
   "execution_count": 1,
   "id": "9af4e5e6-a08c-46b7-b6cf-5dcd15027885",
   "metadata": {},
   "outputs": [],
   "source": [
    "import pandas as pd\n",
    "import numpy as np\n",
    "import seaborn as sns\n",
    "import matplotlib.pyplot as plt\n",
    "import warnings \n",
    "warnings.filterwarnings('ignore')\n",
    "pd.set_option('display.max_columns', None)\n"
   ]
  },
  {
   "cell_type": "code",
   "execution_count": 2,
   "id": "6a8a473e-514a-4b34-a394-de6dfc0d4092",
   "metadata": {},
   "outputs": [],
   "source": [
    "data = pd.read_csv('telecom_customer_churn.csv')"
   ]
  },
  {
   "cell_type": "code",
   "execution_count": 3,
   "id": "cb145bf6-d86c-49d9-956f-d84b0c4c5f9e",
   "metadata": {},
   "outputs": [
    {
     "data": {
      "text/plain": [
       "(7043, 38)"
      ]
     },
     "execution_count": 3,
     "metadata": {},
     "output_type": "execute_result"
    }
   ],
   "source": [
    "data.shape"
   ]
  },
  {
   "cell_type": "code",
   "execution_count": 4,
   "id": "74a3871b-fa35-4406-92d0-9d418fd97c74",
   "metadata": {},
   "outputs": [
    {
     "data": {
      "text/html": [
       "<div>\n",
       "<style scoped>\n",
       "    .dataframe tbody tr th:only-of-type {\n",
       "        vertical-align: middle;\n",
       "    }\n",
       "\n",
       "    .dataframe tbody tr th {\n",
       "        vertical-align: top;\n",
       "    }\n",
       "\n",
       "    .dataframe thead th {\n",
       "        text-align: right;\n",
       "    }\n",
       "</style>\n",
       "<table border=\"1\" class=\"dataframe\">\n",
       "  <thead>\n",
       "    <tr style=\"text-align: right;\">\n",
       "      <th></th>\n",
       "      <th>Customer ID</th>\n",
       "      <th>Gender</th>\n",
       "      <th>Age</th>\n",
       "      <th>Married</th>\n",
       "      <th>Number of Dependents</th>\n",
       "      <th>City</th>\n",
       "      <th>Zip Code</th>\n",
       "      <th>Latitude</th>\n",
       "      <th>Longitude</th>\n",
       "      <th>Number of Referrals</th>\n",
       "      <th>Tenure in Months</th>\n",
       "      <th>Offer</th>\n",
       "      <th>Phone Service</th>\n",
       "      <th>Avg Monthly Long Distance Charges</th>\n",
       "      <th>Multiple Lines</th>\n",
       "      <th>Internet Service</th>\n",
       "      <th>Internet Type</th>\n",
       "      <th>Avg Monthly GB Download</th>\n",
       "      <th>Online Security</th>\n",
       "      <th>Online Backup</th>\n",
       "      <th>Device Protection Plan</th>\n",
       "      <th>Premium Tech Support</th>\n",
       "      <th>Streaming TV</th>\n",
       "      <th>Streaming Movies</th>\n",
       "      <th>Streaming Music</th>\n",
       "      <th>Unlimited Data</th>\n",
       "      <th>Contract</th>\n",
       "      <th>Paperless Billing</th>\n",
       "      <th>Payment Method</th>\n",
       "      <th>Monthly Charge</th>\n",
       "      <th>Total Charges</th>\n",
       "      <th>Total Refunds</th>\n",
       "      <th>Total Extra Data Charges</th>\n",
       "      <th>Total Long Distance Charges</th>\n",
       "      <th>Total Revenue</th>\n",
       "      <th>Customer Status</th>\n",
       "      <th>Churn Category</th>\n",
       "      <th>Churn Reason</th>\n",
       "    </tr>\n",
       "  </thead>\n",
       "  <tbody>\n",
       "    <tr>\n",
       "      <th>0</th>\n",
       "      <td>0002-ORFBO</td>\n",
       "      <td>Female</td>\n",
       "      <td>37</td>\n",
       "      <td>Yes</td>\n",
       "      <td>0</td>\n",
       "      <td>Frazier Park</td>\n",
       "      <td>93225</td>\n",
       "      <td>34.827662</td>\n",
       "      <td>-118.999073</td>\n",
       "      <td>2</td>\n",
       "      <td>9</td>\n",
       "      <td>None</td>\n",
       "      <td>Yes</td>\n",
       "      <td>42.39</td>\n",
       "      <td>No</td>\n",
       "      <td>Yes</td>\n",
       "      <td>Cable</td>\n",
       "      <td>16.0</td>\n",
       "      <td>No</td>\n",
       "      <td>Yes</td>\n",
       "      <td>No</td>\n",
       "      <td>Yes</td>\n",
       "      <td>Yes</td>\n",
       "      <td>No</td>\n",
       "      <td>No</td>\n",
       "      <td>Yes</td>\n",
       "      <td>One Year</td>\n",
       "      <td>Yes</td>\n",
       "      <td>Credit Card</td>\n",
       "      <td>65.6</td>\n",
       "      <td>593.30</td>\n",
       "      <td>0.00</td>\n",
       "      <td>0</td>\n",
       "      <td>381.51</td>\n",
       "      <td>974.81</td>\n",
       "      <td>Stayed</td>\n",
       "      <td>NaN</td>\n",
       "      <td>NaN</td>\n",
       "    </tr>\n",
       "    <tr>\n",
       "      <th>1</th>\n",
       "      <td>0003-MKNFE</td>\n",
       "      <td>Male</td>\n",
       "      <td>46</td>\n",
       "      <td>No</td>\n",
       "      <td>0</td>\n",
       "      <td>Glendale</td>\n",
       "      <td>91206</td>\n",
       "      <td>34.162515</td>\n",
       "      <td>-118.203869</td>\n",
       "      <td>0</td>\n",
       "      <td>9</td>\n",
       "      <td>None</td>\n",
       "      <td>Yes</td>\n",
       "      <td>10.69</td>\n",
       "      <td>Yes</td>\n",
       "      <td>Yes</td>\n",
       "      <td>Cable</td>\n",
       "      <td>10.0</td>\n",
       "      <td>No</td>\n",
       "      <td>No</td>\n",
       "      <td>No</td>\n",
       "      <td>No</td>\n",
       "      <td>No</td>\n",
       "      <td>Yes</td>\n",
       "      <td>Yes</td>\n",
       "      <td>No</td>\n",
       "      <td>Month-to-Month</td>\n",
       "      <td>No</td>\n",
       "      <td>Credit Card</td>\n",
       "      <td>-4.0</td>\n",
       "      <td>542.40</td>\n",
       "      <td>38.33</td>\n",
       "      <td>10</td>\n",
       "      <td>96.21</td>\n",
       "      <td>610.28</td>\n",
       "      <td>Stayed</td>\n",
       "      <td>NaN</td>\n",
       "      <td>NaN</td>\n",
       "    </tr>\n",
       "    <tr>\n",
       "      <th>2</th>\n",
       "      <td>0004-TLHLJ</td>\n",
       "      <td>Male</td>\n",
       "      <td>50</td>\n",
       "      <td>No</td>\n",
       "      <td>0</td>\n",
       "      <td>Costa Mesa</td>\n",
       "      <td>92627</td>\n",
       "      <td>33.645672</td>\n",
       "      <td>-117.922613</td>\n",
       "      <td>0</td>\n",
       "      <td>4</td>\n",
       "      <td>Offer E</td>\n",
       "      <td>Yes</td>\n",
       "      <td>33.65</td>\n",
       "      <td>No</td>\n",
       "      <td>Yes</td>\n",
       "      <td>Fiber Optic</td>\n",
       "      <td>30.0</td>\n",
       "      <td>No</td>\n",
       "      <td>No</td>\n",
       "      <td>Yes</td>\n",
       "      <td>No</td>\n",
       "      <td>No</td>\n",
       "      <td>No</td>\n",
       "      <td>No</td>\n",
       "      <td>Yes</td>\n",
       "      <td>Month-to-Month</td>\n",
       "      <td>Yes</td>\n",
       "      <td>Bank Withdrawal</td>\n",
       "      <td>73.9</td>\n",
       "      <td>280.85</td>\n",
       "      <td>0.00</td>\n",
       "      <td>0</td>\n",
       "      <td>134.60</td>\n",
       "      <td>415.45</td>\n",
       "      <td>Churned</td>\n",
       "      <td>Competitor</td>\n",
       "      <td>Competitor had better devices</td>\n",
       "    </tr>\n",
       "    <tr>\n",
       "      <th>3</th>\n",
       "      <td>0011-IGKFF</td>\n",
       "      <td>Male</td>\n",
       "      <td>78</td>\n",
       "      <td>Yes</td>\n",
       "      <td>0</td>\n",
       "      <td>Martinez</td>\n",
       "      <td>94553</td>\n",
       "      <td>38.014457</td>\n",
       "      <td>-122.115432</td>\n",
       "      <td>1</td>\n",
       "      <td>13</td>\n",
       "      <td>Offer D</td>\n",
       "      <td>Yes</td>\n",
       "      <td>27.82</td>\n",
       "      <td>No</td>\n",
       "      <td>Yes</td>\n",
       "      <td>Fiber Optic</td>\n",
       "      <td>4.0</td>\n",
       "      <td>No</td>\n",
       "      <td>Yes</td>\n",
       "      <td>Yes</td>\n",
       "      <td>No</td>\n",
       "      <td>Yes</td>\n",
       "      <td>Yes</td>\n",
       "      <td>No</td>\n",
       "      <td>Yes</td>\n",
       "      <td>Month-to-Month</td>\n",
       "      <td>Yes</td>\n",
       "      <td>Bank Withdrawal</td>\n",
       "      <td>98.0</td>\n",
       "      <td>1237.85</td>\n",
       "      <td>0.00</td>\n",
       "      <td>0</td>\n",
       "      <td>361.66</td>\n",
       "      <td>1599.51</td>\n",
       "      <td>Churned</td>\n",
       "      <td>Dissatisfaction</td>\n",
       "      <td>Product dissatisfaction</td>\n",
       "    </tr>\n",
       "    <tr>\n",
       "      <th>4</th>\n",
       "      <td>0013-EXCHZ</td>\n",
       "      <td>Female</td>\n",
       "      <td>75</td>\n",
       "      <td>Yes</td>\n",
       "      <td>0</td>\n",
       "      <td>Camarillo</td>\n",
       "      <td>93010</td>\n",
       "      <td>34.227846</td>\n",
       "      <td>-119.079903</td>\n",
       "      <td>3</td>\n",
       "      <td>3</td>\n",
       "      <td>None</td>\n",
       "      <td>Yes</td>\n",
       "      <td>7.38</td>\n",
       "      <td>No</td>\n",
       "      <td>Yes</td>\n",
       "      <td>Fiber Optic</td>\n",
       "      <td>11.0</td>\n",
       "      <td>No</td>\n",
       "      <td>No</td>\n",
       "      <td>No</td>\n",
       "      <td>Yes</td>\n",
       "      <td>Yes</td>\n",
       "      <td>No</td>\n",
       "      <td>No</td>\n",
       "      <td>Yes</td>\n",
       "      <td>Month-to-Month</td>\n",
       "      <td>Yes</td>\n",
       "      <td>Credit Card</td>\n",
       "      <td>83.9</td>\n",
       "      <td>267.40</td>\n",
       "      <td>0.00</td>\n",
       "      <td>0</td>\n",
       "      <td>22.14</td>\n",
       "      <td>289.54</td>\n",
       "      <td>Churned</td>\n",
       "      <td>Dissatisfaction</td>\n",
       "      <td>Network reliability</td>\n",
       "    </tr>\n",
       "  </tbody>\n",
       "</table>\n",
       "</div>"
      ],
      "text/plain": [
       "  Customer ID  Gender  Age Married  Number of Dependents          City  \\\n",
       "0  0002-ORFBO  Female   37     Yes                     0  Frazier Park   \n",
       "1  0003-MKNFE    Male   46      No                     0      Glendale   \n",
       "2  0004-TLHLJ    Male   50      No                     0    Costa Mesa   \n",
       "3  0011-IGKFF    Male   78     Yes                     0      Martinez   \n",
       "4  0013-EXCHZ  Female   75     Yes                     0     Camarillo   \n",
       "\n",
       "   Zip Code   Latitude   Longitude  Number of Referrals  Tenure in Months  \\\n",
       "0     93225  34.827662 -118.999073                    2                 9   \n",
       "1     91206  34.162515 -118.203869                    0                 9   \n",
       "2     92627  33.645672 -117.922613                    0                 4   \n",
       "3     94553  38.014457 -122.115432                    1                13   \n",
       "4     93010  34.227846 -119.079903                    3                 3   \n",
       "\n",
       "     Offer Phone Service  Avg Monthly Long Distance Charges Multiple Lines  \\\n",
       "0     None           Yes                              42.39             No   \n",
       "1     None           Yes                              10.69            Yes   \n",
       "2  Offer E           Yes                              33.65             No   \n",
       "3  Offer D           Yes                              27.82             No   \n",
       "4     None           Yes                               7.38             No   \n",
       "\n",
       "  Internet Service Internet Type  Avg Monthly GB Download Online Security  \\\n",
       "0              Yes         Cable                     16.0              No   \n",
       "1              Yes         Cable                     10.0              No   \n",
       "2              Yes   Fiber Optic                     30.0              No   \n",
       "3              Yes   Fiber Optic                      4.0              No   \n",
       "4              Yes   Fiber Optic                     11.0              No   \n",
       "\n",
       "  Online Backup Device Protection Plan Premium Tech Support Streaming TV  \\\n",
       "0           Yes                     No                  Yes          Yes   \n",
       "1            No                     No                   No           No   \n",
       "2            No                    Yes                   No           No   \n",
       "3           Yes                    Yes                   No          Yes   \n",
       "4            No                     No                  Yes          Yes   \n",
       "\n",
       "  Streaming Movies Streaming Music Unlimited Data        Contract  \\\n",
       "0               No              No            Yes        One Year   \n",
       "1              Yes             Yes             No  Month-to-Month   \n",
       "2               No              No            Yes  Month-to-Month   \n",
       "3              Yes              No            Yes  Month-to-Month   \n",
       "4               No              No            Yes  Month-to-Month   \n",
       "\n",
       "  Paperless Billing   Payment Method  Monthly Charge  Total Charges  \\\n",
       "0               Yes      Credit Card            65.6         593.30   \n",
       "1                No      Credit Card            -4.0         542.40   \n",
       "2               Yes  Bank Withdrawal            73.9         280.85   \n",
       "3               Yes  Bank Withdrawal            98.0        1237.85   \n",
       "4               Yes      Credit Card            83.9         267.40   \n",
       "\n",
       "   Total Refunds  Total Extra Data Charges  Total Long Distance Charges  \\\n",
       "0           0.00                         0                       381.51   \n",
       "1          38.33                        10                        96.21   \n",
       "2           0.00                         0                       134.60   \n",
       "3           0.00                         0                       361.66   \n",
       "4           0.00                         0                        22.14   \n",
       "\n",
       "   Total Revenue Customer Status   Churn Category  \\\n",
       "0         974.81          Stayed              NaN   \n",
       "1         610.28          Stayed              NaN   \n",
       "2         415.45         Churned       Competitor   \n",
       "3        1599.51         Churned  Dissatisfaction   \n",
       "4         289.54         Churned  Dissatisfaction   \n",
       "\n",
       "                    Churn Reason  \n",
       "0                            NaN  \n",
       "1                            NaN  \n",
       "2  Competitor had better devices  \n",
       "3        Product dissatisfaction  \n",
       "4            Network reliability  "
      ]
     },
     "execution_count": 4,
     "metadata": {},
     "output_type": "execute_result"
    }
   ],
   "source": [
    "data.head()"
   ]
  },
  {
   "cell_type": "markdown",
   "id": "eb89d55b-914c-4038-be0a-8b8bddb3a393",
   "metadata": {
    "tags": []
   },
   "source": [
    "### Analysing the dataset"
   ]
  },
  {
   "cell_type": "code",
   "execution_count": 5,
   "id": "ccad5965-74a3-4770-b8a6-fcb90c9c91e5",
   "metadata": {},
   "outputs": [],
   "source": [
    "data['Customer Status'] = data['Customer Status'].replace(to_replace=\"Joined\",\n",
    "           value=\"Stayed\")"
   ]
  },
  {
   "cell_type": "code",
   "execution_count": 6,
   "id": "6293e341-8d3c-41b0-8539-d665bf23cf2b",
   "metadata": {},
   "outputs": [
    {
     "name": "stdout",
     "output_type": "stream",
     "text": [
      "<class 'pandas.core.frame.DataFrame'>\n",
      "RangeIndex: 7043 entries, 0 to 7042\n",
      "Data columns (total 38 columns):\n",
      " #   Column                             Non-Null Count  Dtype  \n",
      "---  ------                             --------------  -----  \n",
      " 0   Customer ID                        7043 non-null   object \n",
      " 1   Gender                             7043 non-null   object \n",
      " 2   Age                                7043 non-null   int64  \n",
      " 3   Married                            7043 non-null   object \n",
      " 4   Number of Dependents               7043 non-null   int64  \n",
      " 5   City                               7043 non-null   object \n",
      " 6   Zip Code                           7043 non-null   int64  \n",
      " 7   Latitude                           7043 non-null   float64\n",
      " 8   Longitude                          7043 non-null   float64\n",
      " 9   Number of Referrals                7043 non-null   int64  \n",
      " 10  Tenure in Months                   7043 non-null   int64  \n",
      " 11  Offer                              7043 non-null   object \n",
      " 12  Phone Service                      7043 non-null   object \n",
      " 13  Avg Monthly Long Distance Charges  6361 non-null   float64\n",
      " 14  Multiple Lines                     6361 non-null   object \n",
      " 15  Internet Service                   7043 non-null   object \n",
      " 16  Internet Type                      5517 non-null   object \n",
      " 17  Avg Monthly GB Download            5517 non-null   float64\n",
      " 18  Online Security                    5517 non-null   object \n",
      " 19  Online Backup                      5517 non-null   object \n",
      " 20  Device Protection Plan             5517 non-null   object \n",
      " 21  Premium Tech Support               5517 non-null   object \n",
      " 22  Streaming TV                       5517 non-null   object \n",
      " 23  Streaming Movies                   5517 non-null   object \n",
      " 24  Streaming Music                    5517 non-null   object \n",
      " 25  Unlimited Data                     5517 non-null   object \n",
      " 26  Contract                           7043 non-null   object \n",
      " 27  Paperless Billing                  7043 non-null   object \n",
      " 28  Payment Method                     7043 non-null   object \n",
      " 29  Monthly Charge                     7043 non-null   float64\n",
      " 30  Total Charges                      7043 non-null   float64\n",
      " 31  Total Refunds                      7043 non-null   float64\n",
      " 32  Total Extra Data Charges           7043 non-null   int64  \n",
      " 33  Total Long Distance Charges        7043 non-null   float64\n",
      " 34  Total Revenue                      7043 non-null   float64\n",
      " 35  Customer Status                    7043 non-null   object \n",
      " 36  Churn Category                     1869 non-null   object \n",
      " 37  Churn Reason                       1869 non-null   object \n",
      "dtypes: float64(9), int64(6), object(23)\n",
      "memory usage: 2.0+ MB\n"
     ]
    }
   ],
   "source": [
    "data.info()"
   ]
  },
  {
   "cell_type": "code",
   "execution_count": 7,
   "id": "97004b3c-5228-4e8d-bf99-db1b2c344fdf",
   "metadata": {},
   "outputs": [
    {
     "data": {
      "text/plain": [
       "Customer ID                             0\n",
       "Gender                                  0\n",
       "Age                                     0\n",
       "Married                                 0\n",
       "Number of Dependents                    0\n",
       "City                                    0\n",
       "Zip Code                                0\n",
       "Latitude                                0\n",
       "Longitude                               0\n",
       "Number of Referrals                     0\n",
       "Tenure in Months                        0\n",
       "Offer                                   0\n",
       "Phone Service                           0\n",
       "Avg Monthly Long Distance Charges     682\n",
       "Multiple Lines                        682\n",
       "Internet Service                        0\n",
       "Internet Type                        1526\n",
       "Avg Monthly GB Download              1526\n",
       "Online Security                      1526\n",
       "Online Backup                        1526\n",
       "Device Protection Plan               1526\n",
       "Premium Tech Support                 1526\n",
       "Streaming TV                         1526\n",
       "Streaming Movies                     1526\n",
       "Streaming Music                      1526\n",
       "Unlimited Data                       1526\n",
       "Contract                                0\n",
       "Paperless Billing                       0\n",
       "Payment Method                          0\n",
       "Monthly Charge                          0\n",
       "Total Charges                           0\n",
       "Total Refunds                           0\n",
       "Total Extra Data Charges                0\n",
       "Total Long Distance Charges             0\n",
       "Total Revenue                           0\n",
       "Customer Status                         0\n",
       "Churn Category                       5174\n",
       "Churn Reason                         5174\n",
       "dtype: int64"
      ]
     },
     "execution_count": 7,
     "metadata": {},
     "output_type": "execute_result"
    }
   ],
   "source": [
    "data.isnull().sum()"
   ]
  },
  {
   "cell_type": "code",
   "execution_count": 8,
   "id": "df734e91-95b3-432e-9c16-a6bded4c0762",
   "metadata": {},
   "outputs": [
    {
     "data": {
      "text/plain": [
       "Index(['Customer ID', 'Gender', 'Age', 'Married', 'Number of Dependents',\n",
       "       'City', 'Zip Code', 'Latitude', 'Longitude', 'Number of Referrals',\n",
       "       'Tenure in Months', 'Offer', 'Phone Service',\n",
       "       'Avg Monthly Long Distance Charges', 'Multiple Lines',\n",
       "       'Internet Service', 'Internet Type', 'Avg Monthly GB Download',\n",
       "       'Online Security', 'Online Backup', 'Device Protection Plan',\n",
       "       'Premium Tech Support', 'Streaming TV', 'Streaming Movies',\n",
       "       'Streaming Music', 'Unlimited Data', 'Contract', 'Paperless Billing',\n",
       "       'Payment Method', 'Monthly Charge', 'Total Charges', 'Total Refunds',\n",
       "       'Total Extra Data Charges', 'Total Long Distance Charges',\n",
       "       'Total Revenue', 'Customer Status', 'Churn Category', 'Churn Reason'],\n",
       "      dtype='object')"
      ]
     },
     "execution_count": 8,
     "metadata": {},
     "output_type": "execute_result"
    }
   ],
   "source": [
    "data.columns"
   ]
  },
  {
   "cell_type": "code",
   "execution_count": 9,
   "id": "5196446b-5716-4473-aedd-4173dd44103b",
   "metadata": {},
   "outputs": [
    {
     "data": {
      "text/html": [
       "<div>\n",
       "<style scoped>\n",
       "    .dataframe tbody tr th:only-of-type {\n",
       "        vertical-align: middle;\n",
       "    }\n",
       "\n",
       "    .dataframe tbody tr th {\n",
       "        vertical-align: top;\n",
       "    }\n",
       "\n",
       "    .dataframe thead th {\n",
       "        text-align: right;\n",
       "    }\n",
       "</style>\n",
       "<table border=\"1\" class=\"dataframe\">\n",
       "  <thead>\n",
       "    <tr style=\"text-align: right;\">\n",
       "      <th></th>\n",
       "      <th>Age</th>\n",
       "      <th>Number of Dependents</th>\n",
       "      <th>Zip Code</th>\n",
       "      <th>Latitude</th>\n",
       "      <th>Longitude</th>\n",
       "      <th>Number of Referrals</th>\n",
       "      <th>Tenure in Months</th>\n",
       "      <th>Avg Monthly Long Distance Charges</th>\n",
       "      <th>Avg Monthly GB Download</th>\n",
       "      <th>Monthly Charge</th>\n",
       "      <th>Total Charges</th>\n",
       "      <th>Total Refunds</th>\n",
       "      <th>Total Extra Data Charges</th>\n",
       "      <th>Total Long Distance Charges</th>\n",
       "      <th>Total Revenue</th>\n",
       "    </tr>\n",
       "  </thead>\n",
       "  <tbody>\n",
       "    <tr>\n",
       "      <th>count</th>\n",
       "      <td>7043.000000</td>\n",
       "      <td>7043.000000</td>\n",
       "      <td>7043.000000</td>\n",
       "      <td>7043.000000</td>\n",
       "      <td>7043.000000</td>\n",
       "      <td>7043.000000</td>\n",
       "      <td>7043.000000</td>\n",
       "      <td>6361.000000</td>\n",
       "      <td>5517.000000</td>\n",
       "      <td>7043.000000</td>\n",
       "      <td>7043.000000</td>\n",
       "      <td>7043.000000</td>\n",
       "      <td>7043.000000</td>\n",
       "      <td>7043.000000</td>\n",
       "      <td>7043.000000</td>\n",
       "    </tr>\n",
       "    <tr>\n",
       "      <th>mean</th>\n",
       "      <td>46.509726</td>\n",
       "      <td>0.468692</td>\n",
       "      <td>93486.070567</td>\n",
       "      <td>36.197455</td>\n",
       "      <td>-119.756684</td>\n",
       "      <td>1.951867</td>\n",
       "      <td>32.386767</td>\n",
       "      <td>25.420517</td>\n",
       "      <td>26.189958</td>\n",
       "      <td>63.596131</td>\n",
       "      <td>2280.381264</td>\n",
       "      <td>1.962182</td>\n",
       "      <td>6.860713</td>\n",
       "      <td>749.099262</td>\n",
       "      <td>3034.379056</td>\n",
       "    </tr>\n",
       "    <tr>\n",
       "      <th>std</th>\n",
       "      <td>16.750352</td>\n",
       "      <td>0.962802</td>\n",
       "      <td>1856.767505</td>\n",
       "      <td>2.468929</td>\n",
       "      <td>2.154425</td>\n",
       "      <td>3.001199</td>\n",
       "      <td>24.542061</td>\n",
       "      <td>14.200374</td>\n",
       "      <td>19.586585</td>\n",
       "      <td>31.204743</td>\n",
       "      <td>2266.220462</td>\n",
       "      <td>7.902614</td>\n",
       "      <td>25.104978</td>\n",
       "      <td>846.660055</td>\n",
       "      <td>2865.204542</td>\n",
       "    </tr>\n",
       "    <tr>\n",
       "      <th>min</th>\n",
       "      <td>19.000000</td>\n",
       "      <td>0.000000</td>\n",
       "      <td>90001.000000</td>\n",
       "      <td>32.555828</td>\n",
       "      <td>-124.301372</td>\n",
       "      <td>0.000000</td>\n",
       "      <td>1.000000</td>\n",
       "      <td>1.010000</td>\n",
       "      <td>2.000000</td>\n",
       "      <td>-10.000000</td>\n",
       "      <td>18.800000</td>\n",
       "      <td>0.000000</td>\n",
       "      <td>0.000000</td>\n",
       "      <td>0.000000</td>\n",
       "      <td>21.360000</td>\n",
       "    </tr>\n",
       "    <tr>\n",
       "      <th>25%</th>\n",
       "      <td>32.000000</td>\n",
       "      <td>0.000000</td>\n",
       "      <td>92101.000000</td>\n",
       "      <td>33.990646</td>\n",
       "      <td>-121.788090</td>\n",
       "      <td>0.000000</td>\n",
       "      <td>9.000000</td>\n",
       "      <td>13.050000</td>\n",
       "      <td>13.000000</td>\n",
       "      <td>30.400000</td>\n",
       "      <td>400.150000</td>\n",
       "      <td>0.000000</td>\n",
       "      <td>0.000000</td>\n",
       "      <td>70.545000</td>\n",
       "      <td>605.610000</td>\n",
       "    </tr>\n",
       "    <tr>\n",
       "      <th>50%</th>\n",
       "      <td>46.000000</td>\n",
       "      <td>0.000000</td>\n",
       "      <td>93518.000000</td>\n",
       "      <td>36.205465</td>\n",
       "      <td>-119.595293</td>\n",
       "      <td>0.000000</td>\n",
       "      <td>29.000000</td>\n",
       "      <td>25.690000</td>\n",
       "      <td>21.000000</td>\n",
       "      <td>70.050000</td>\n",
       "      <td>1394.550000</td>\n",
       "      <td>0.000000</td>\n",
       "      <td>0.000000</td>\n",
       "      <td>401.440000</td>\n",
       "      <td>2108.640000</td>\n",
       "    </tr>\n",
       "    <tr>\n",
       "      <th>75%</th>\n",
       "      <td>60.000000</td>\n",
       "      <td>0.000000</td>\n",
       "      <td>95329.000000</td>\n",
       "      <td>38.161321</td>\n",
       "      <td>-117.969795</td>\n",
       "      <td>3.000000</td>\n",
       "      <td>55.000000</td>\n",
       "      <td>37.680000</td>\n",
       "      <td>30.000000</td>\n",
       "      <td>89.750000</td>\n",
       "      <td>3786.600000</td>\n",
       "      <td>0.000000</td>\n",
       "      <td>0.000000</td>\n",
       "      <td>1191.100000</td>\n",
       "      <td>4801.145000</td>\n",
       "    </tr>\n",
       "    <tr>\n",
       "      <th>max</th>\n",
       "      <td>80.000000</td>\n",
       "      <td>9.000000</td>\n",
       "      <td>96150.000000</td>\n",
       "      <td>41.962127</td>\n",
       "      <td>-114.192901</td>\n",
       "      <td>11.000000</td>\n",
       "      <td>72.000000</td>\n",
       "      <td>49.990000</td>\n",
       "      <td>85.000000</td>\n",
       "      <td>118.750000</td>\n",
       "      <td>8684.800000</td>\n",
       "      <td>49.790000</td>\n",
       "      <td>150.000000</td>\n",
       "      <td>3564.720000</td>\n",
       "      <td>11979.340000</td>\n",
       "    </tr>\n",
       "  </tbody>\n",
       "</table>\n",
       "</div>"
      ],
      "text/plain": [
       "               Age  Number of Dependents      Zip Code     Latitude  \\\n",
       "count  7043.000000           7043.000000   7043.000000  7043.000000   \n",
       "mean     46.509726              0.468692  93486.070567    36.197455   \n",
       "std      16.750352              0.962802   1856.767505     2.468929   \n",
       "min      19.000000              0.000000  90001.000000    32.555828   \n",
       "25%      32.000000              0.000000  92101.000000    33.990646   \n",
       "50%      46.000000              0.000000  93518.000000    36.205465   \n",
       "75%      60.000000              0.000000  95329.000000    38.161321   \n",
       "max      80.000000              9.000000  96150.000000    41.962127   \n",
       "\n",
       "         Longitude  Number of Referrals  Tenure in Months  \\\n",
       "count  7043.000000          7043.000000       7043.000000   \n",
       "mean   -119.756684             1.951867         32.386767   \n",
       "std       2.154425             3.001199         24.542061   \n",
       "min    -124.301372             0.000000          1.000000   \n",
       "25%    -121.788090             0.000000          9.000000   \n",
       "50%    -119.595293             0.000000         29.000000   \n",
       "75%    -117.969795             3.000000         55.000000   \n",
       "max    -114.192901            11.000000         72.000000   \n",
       "\n",
       "       Avg Monthly Long Distance Charges  Avg Monthly GB Download  \\\n",
       "count                        6361.000000              5517.000000   \n",
       "mean                           25.420517                26.189958   \n",
       "std                            14.200374                19.586585   \n",
       "min                             1.010000                 2.000000   \n",
       "25%                            13.050000                13.000000   \n",
       "50%                            25.690000                21.000000   \n",
       "75%                            37.680000                30.000000   \n",
       "max                            49.990000                85.000000   \n",
       "\n",
       "       Monthly Charge  Total Charges  Total Refunds  Total Extra Data Charges  \\\n",
       "count     7043.000000    7043.000000    7043.000000               7043.000000   \n",
       "mean        63.596131    2280.381264       1.962182                  6.860713   \n",
       "std         31.204743    2266.220462       7.902614                 25.104978   \n",
       "min        -10.000000      18.800000       0.000000                  0.000000   \n",
       "25%         30.400000     400.150000       0.000000                  0.000000   \n",
       "50%         70.050000    1394.550000       0.000000                  0.000000   \n",
       "75%         89.750000    3786.600000       0.000000                  0.000000   \n",
       "max        118.750000    8684.800000      49.790000                150.000000   \n",
       "\n",
       "       Total Long Distance Charges  Total Revenue  \n",
       "count                  7043.000000    7043.000000  \n",
       "mean                    749.099262    3034.379056  \n",
       "std                     846.660055    2865.204542  \n",
       "min                       0.000000      21.360000  \n",
       "25%                      70.545000     605.610000  \n",
       "50%                     401.440000    2108.640000  \n",
       "75%                    1191.100000    4801.145000  \n",
       "max                    3564.720000   11979.340000  "
      ]
     },
     "execution_count": 9,
     "metadata": {},
     "output_type": "execute_result"
    }
   ],
   "source": [
    "data.describe()"
   ]
  },
  {
   "cell_type": "code",
   "execution_count": 10,
   "id": "9154d85e-40e3-4b83-afbe-441809d1c80d",
   "metadata": {},
   "outputs": [
    {
     "data": {
      "text/plain": [
       "(7043, 38)"
      ]
     },
     "execution_count": 10,
     "metadata": {},
     "output_type": "execute_result"
    }
   ],
   "source": [
    "data = data.drop_duplicates()\n",
    "data.shape"
   ]
  },
  {
   "cell_type": "markdown",
   "id": "b1b5a48c-4b67-411f-82c0-51e3f80e5fb1",
   "metadata": {
    "tags": []
   },
   "source": [
    "### Analysing the target variable"
   ]
  },
  {
   "cell_type": "code",
   "execution_count": 11,
   "id": "6a169368-1f13-49fd-bfb8-3440093c3f41",
   "metadata": {},
   "outputs": [
    {
     "data": {
      "text/plain": [
       "Stayed     5174\n",
       "Churned    1869\n",
       "Name: Customer Status, dtype: int64"
      ]
     },
     "execution_count": 11,
     "metadata": {},
     "output_type": "execute_result"
    }
   ],
   "source": [
    "data['Customer Status'].value_counts()"
   ]
  },
  {
   "cell_type": "code",
   "execution_count": 12,
   "id": "55b93baa-a443-426f-8214-094fc28ebe14",
   "metadata": {},
   "outputs": [],
   "source": [
    "#from sklearn.preprocessing import LabelEncoder \n",
    "#le = LabelEncoder()\n",
    "#data['Churn'] = le.fit_transform(data[\"Customer Status\"])\n",
    "data['Churn'] = data['Customer Status'].replace('Churned',1)\n",
    "data['Churn'] = data['Churn'].replace('Stayed',0)"
   ]
  },
  {
   "cell_type": "code",
   "execution_count": 13,
   "id": "e2862162-4e42-4f5e-85b6-4611f65e7660",
   "metadata": {},
   "outputs": [
    {
     "data": {
      "text/plain": [
       "0       0\n",
       "1       0\n",
       "2       1\n",
       "3       1\n",
       "4       1\n",
       "       ..\n",
       "7038    0\n",
       "7039    1\n",
       "7040    0\n",
       "7041    0\n",
       "7042    0\n",
       "Name: Churn, Length: 7043, dtype: int64"
      ]
     },
     "execution_count": 13,
     "metadata": {},
     "output_type": "execute_result"
    }
   ],
   "source": [
    "data['Churn']"
   ]
  },
  {
   "cell_type": "code",
   "execution_count": null,
   "id": "24e4ee51-729e-4fa3-b10f-3813413e0c6a",
   "metadata": {},
   "outputs": [],
   "source": [
    "\n"
   ]
  },
  {
   "cell_type": "code",
   "execution_count": null,
   "id": "caef3907-1985-48c8-acaa-378788400b72",
   "metadata": {},
   "outputs": [],
   "source": []
  },
  {
   "cell_type": "code",
   "execution_count": 14,
   "id": "f6b6cbf4-c10a-416b-88c2-0539a7573326",
   "metadata": {},
   "outputs": [
    {
     "data": {
      "image/png": "[encoded data removed]",
      "text/plain": [
       "<Figure size 432x288 with 1 Axes>"
      ]
     },
     "metadata": {},
     "output_type": "display_data"
    }
   ],
   "source": [
    "#data['Customer Status'].value_counts().plot(kind='pie')\n",
    "palette_color = sns.color_palette('bright')\n",
    "keys = [' Stayed','Churned']\n",
    "plt.pie(data['Customer Status'].value_counts(), labels=keys, colors=palette_color, autopct='%.0f%%')\n",
    "plt.show()"
   ]
  },
  {
   "cell_type": "code",
   "execution_count": 15,
   "id": "e1fdd8c6-3aba-419f-a06b-3a283bad5314",
   "metadata": {},
   "outputs": [
    {
     "data": {
      "image/png": "[encoded data removed]",
      "text/plain": [
       "<Figure size 720x720 with 2 Axes>"
      ]
     },
     "metadata": {
      "needs_background": "light"
     },
     "output_type": "display_data"
    }
   ],
   "source": [
    "plt.figure(figsize=(10,10))\n",
    "sns.heatmap(data.corr(),annot = True)\n",
    "plt.show()"
   ]
  },
  {
   "cell_type": "markdown",
   "id": "6908ebcf-9ba2-49f8-b9ce-78b9542342c7",
   "metadata": {},
   "source": [
    "Around 1 out of 4 people are leaving the service."
   ]
  },
  {
   "cell_type": "code",
   "execution_count": 16,
   "id": "69731abb-0abf-4d7d-91bb-b20df611172d",
   "metadata": {},
   "outputs": [
    {
     "data": {
      "text/plain": [
       "Tenure in Months                    -0.352861\n",
       "Number of Referrals                 -0.286540\n",
       "Total Long Distance Charges         -0.223756\n",
       "Total Revenue                       -0.223003\n",
       "Number of Dependents                -0.218780\n",
       "Total Charges                       -0.198546\n",
       "Avg Monthly GB Download             -0.090274\n",
       "Latitude                            -0.041546\n",
       "Total Refunds                       -0.033709\n",
       "Zip Code                            -0.016289\n",
       "Avg Monthly Long Distance Charges    0.002774\n",
       "Total Extra Data Charges             0.007139\n",
       "Longitude                            0.024052\n",
       "Age                                  0.115760\n",
       "Monthly Charge                       0.187833\n",
       "Churn                                1.000000\n",
       "Name: Churn, dtype: float64"
      ]
     },
     "execution_count": 16,
     "metadata": {},
     "output_type": "execute_result"
    }
   ],
   "source": [
    "num_corr = data.corr()['Churn']\n",
    "num_corr.sort_values()"
   ]
  },
  {
   "cell_type": "markdown",
   "id": "8bca3684-ebd6-4783-8fb4-d0c8eccdd7d3",
   "metadata": {
    "tags": []
   },
   "source": [
    "### Analysing columns with Target Variables"
   ]
  },
  {
   "cell_type": "markdown",
   "id": "a31fa82a-5ef5-4307-909e-f54ce25521f7",
   "metadata": {
    "tags": []
   },
   "source": [
    "#### 1) Gender"
   ]
  },
  {
   "cell_type": "code",
   "execution_count": 17,
   "id": "ee2467c7-874e-4e0c-86d4-e7798941915b",
   "metadata": {},
   "outputs": [
    {
     "data": {
      "text/plain": [
       "Male      3555\n",
       "Female    3488\n",
       "Name: Gender, dtype: int64"
      ]
     },
     "execution_count": 17,
     "metadata": {},
     "output_type": "execute_result"
    }
   ],
   "source": [
    "data[\"Gender\"].value_counts()"
   ]
  },
  {
   "cell_type": "code",
   "execution_count": 18,
   "id": "4471b665-ec30-4509-8e1c-2c1e39bbd03d",
   "metadata": {},
   "outputs": [
    {
     "data": {
      "text/html": [
       "<div>\n",
       "<style scoped>\n",
       "    .dataframe tbody tr th:only-of-type {\n",
       "        vertical-align: middle;\n",
       "    }\n",
       "\n",
       "    .dataframe tbody tr th {\n",
       "        vertical-align: top;\n",
       "    }\n",
       "\n",
       "    .dataframe thead th {\n",
       "        text-align: right;\n",
       "    }\n",
       "</style>\n",
       "<table border=\"1\" class=\"dataframe\">\n",
       "  <thead>\n",
       "    <tr style=\"text-align: right;\">\n",
       "      <th>Customer Status</th>\n",
       "      <th>Churned</th>\n",
       "      <th>Stayed</th>\n",
       "      <th>percentage</th>\n",
       "    </tr>\n",
       "    <tr>\n",
       "      <th>Gender</th>\n",
       "      <th></th>\n",
       "      <th></th>\n",
       "      <th></th>\n",
       "    </tr>\n",
       "  </thead>\n",
       "  <tbody>\n",
       "    <tr>\n",
       "      <th>Female</th>\n",
       "      <td>939</td>\n",
       "      <td>2549</td>\n",
       "      <td>0.269209</td>\n",
       "    </tr>\n",
       "    <tr>\n",
       "      <th>Male</th>\n",
       "      <td>930</td>\n",
       "      <td>2625</td>\n",
       "      <td>0.261603</td>\n",
       "    </tr>\n",
       "  </tbody>\n",
       "</table>\n",
       "</div>"
      ],
      "text/plain": [
       "Customer Status  Churned  Stayed  percentage\n",
       "Gender                                      \n",
       "Female               939    2549    0.269209\n",
       "Male                 930    2625    0.261603"
      ]
     },
     "execution_count": 18,
     "metadata": {},
     "output_type": "execute_result"
    }
   ],
   "source": [
    "a = pd.crosstab(data['Gender'],data[\"Customer Status\"])\n",
    "a['percentage'] = a.Churned/(a.Stayed+a.Churned)\n",
    "a"
   ]
  },
  {
   "cell_type": "markdown",
   "id": "1fcaaeda-2e70-478c-97c7-693248716aae",
   "metadata": {},
   "source": [
    "data['index']=data.index\n",
    "for i in data.columns:\n",
    "    if(data[i].dtype!=\"object\"):\n",
    "        plt.figure()\n",
    "        sns.scatterplot(x=i,y=\"Churn\",data=data)\n",
    "    else:\n",
    "        plt.figure()\n",
    "        sns.barplot(x=i,y='index',hue='Churn',data=data,estimator=sum) "
   ]
  },
  {
   "cell_type": "code",
   "execution_count": 19,
   "id": "160bd4e9-25af-4d71-8b49-42137404860a",
   "metadata": {},
   "outputs": [
    {
     "data": {
      "text/html": [
       "<div>\n",
       "<style scoped>\n",
       "    .dataframe tbody tr th:only-of-type {\n",
       "        vertical-align: middle;\n",
       "    }\n",
       "\n",
       "    .dataframe tbody tr th {\n",
       "        vertical-align: top;\n",
       "    }\n",
       "\n",
       "    .dataframe thead th {\n",
       "        text-align: right;\n",
       "    }\n",
       "</style>\n",
       "<table border=\"1\" class=\"dataframe\">\n",
       "  <thead>\n",
       "    <tr style=\"text-align: right;\">\n",
       "      <th></th>\n",
       "      <th>Age</th>\n",
       "      <th>Number of Dependents</th>\n",
       "      <th>Zip Code</th>\n",
       "      <th>Latitude</th>\n",
       "      <th>Longitude</th>\n",
       "      <th>Number of Referrals</th>\n",
       "      <th>Tenure in Months</th>\n",
       "      <th>Avg Monthly Long Distance Charges</th>\n",
       "      <th>Avg Monthly GB Download</th>\n",
       "      <th>Monthly Charge</th>\n",
       "      <th>Total Charges</th>\n",
       "      <th>Total Refunds</th>\n",
       "      <th>Total Extra Data Charges</th>\n",
       "      <th>Total Long Distance Charges</th>\n",
       "      <th>Total Revenue</th>\n",
       "      <th>Churn</th>\n",
       "    </tr>\n",
       "    <tr>\n",
       "      <th>Gender</th>\n",
       "      <th></th>\n",
       "      <th></th>\n",
       "      <th></th>\n",
       "      <th></th>\n",
       "      <th></th>\n",
       "      <th></th>\n",
       "      <th></th>\n",
       "      <th></th>\n",
       "      <th></th>\n",
       "      <th></th>\n",
       "      <th></th>\n",
       "      <th></th>\n",
       "      <th></th>\n",
       "      <th></th>\n",
       "      <th></th>\n",
       "      <th></th>\n",
       "    </tr>\n",
       "  </thead>\n",
       "  <tbody>\n",
       "    <tr>\n",
       "      <th>Female</th>\n",
       "      <td>46.472764</td>\n",
       "      <td>0.463016</td>\n",
       "      <td>93446.599484</td>\n",
       "      <td>36.164880</td>\n",
       "      <td>-119.727939</td>\n",
       "      <td>1.979358</td>\n",
       "      <td>32.258888</td>\n",
       "      <td>25.191581</td>\n",
       "      <td>26.475374</td>\n",
       "      <td>64.228440</td>\n",
       "      <td>2280.728842</td>\n",
       "      <td>1.924490</td>\n",
       "      <td>6.909404</td>\n",
       "      <td>739.619384</td>\n",
       "      <td>3025.333139</td>\n",
       "      <td>0.269209</td>\n",
       "    </tr>\n",
       "    <tr>\n",
       "      <th>Male</th>\n",
       "      <td>46.545992</td>\n",
       "      <td>0.474262</td>\n",
       "      <td>93524.797750</td>\n",
       "      <td>36.229416</td>\n",
       "      <td>-119.784887</td>\n",
       "      <td>1.924895</td>\n",
       "      <td>32.512236</td>\n",
       "      <td>25.646096</td>\n",
       "      <td>25.908141</td>\n",
       "      <td>62.975738</td>\n",
       "      <td>2280.040236</td>\n",
       "      <td>1.999165</td>\n",
       "      <td>6.812940</td>\n",
       "      <td>758.400475</td>\n",
       "      <td>3043.254487</td>\n",
       "      <td>0.261603</td>\n",
       "    </tr>\n",
       "  </tbody>\n",
       "</table>\n",
       "</div>"
      ],
      "text/plain": [
       "              Age  Number of Dependents      Zip Code   Latitude   Longitude  \\\n",
       "Gender                                                                         \n",
       "Female  46.472764              0.463016  93446.599484  36.164880 -119.727939   \n",
       "Male    46.545992              0.474262  93524.797750  36.229416 -119.784887   \n",
       "\n",
       "        Number of Referrals  Tenure in Months  \\\n",
       "Gender                                          \n",
       "Female             1.979358         32.258888   \n",
       "Male               1.924895         32.512236   \n",
       "\n",
       "        Avg Monthly Long Distance Charges  Avg Monthly GB Download  \\\n",
       "Gender                                                               \n",
       "Female                          25.191581                26.475374   \n",
       "Male                            25.646096                25.908141   \n",
       "\n",
       "        Monthly Charge  Total Charges  Total Refunds  \\\n",
       "Gender                                                 \n",
       "Female       64.228440    2280.728842       1.924490   \n",
       "Male         62.975738    2280.040236       1.999165   \n",
       "\n",
       "        Total Extra Data Charges  Total Long Distance Charges  Total Revenue  \\\n",
       "Gender                                                                         \n",
       "Female                  6.909404                   739.619384    3025.333139   \n",
       "Male                    6.812940                   758.400475    3043.254487   \n",
       "\n",
       "           Churn  \n",
       "Gender            \n",
       "Female  0.269209  \n",
       "Male    0.261603  "
      ]
     },
     "execution_count": 19,
     "metadata": {},
     "output_type": "execute_result"
    }
   ],
   "source": [
    "data.groupby(['Gender']).mean()"
   ]
  },
  {
   "cell_type": "markdown",
   "id": "8754edad-6d93-4110-8ab6-da38cfa67365",
   "metadata": {},
   "source": [
    "Gender is not helping me to find any insights."
   ]
  },
  {
   "cell_type": "markdown",
   "id": "3ebaabaf-e320-4a1e-99ae-73d135c8783d",
   "metadata": {
    "tags": []
   },
   "source": [
    "#### 2) Age"
   ]
  },
  {
   "cell_type": "code",
   "execution_count": 20,
   "id": "98a274a7-a96c-4ff3-9fb1-7c1c88310f52",
   "metadata": {},
   "outputs": [
    {
     "data": {
      "text/plain": [
       "<AxesSubplot:xlabel='Age', ylabel='Count'>"
      ]
     },
     "execution_count": 20,
     "metadata": {},
     "output_type": "execute_result"
    },
    {
     "data": {
      "image/png": "[encoded data removed]",
      "text/plain": [
       "<Figure size 432x288 with 1 Axes>"
      ]
     },
     "metadata": {
      "needs_background": "light"
     },
     "output_type": "display_data"
    }
   ],
   "source": [
    "bins= range(18,90,10)\n",
    "sns.histplot(data=data, x=\"Age\", hue=\"Customer Status\",bins=bins)"
   ]
  },
  {
   "cell_type": "code",
   "execution_count": 21,
   "id": "d974412e-bccf-4278-b779-417c2bca681d",
   "metadata": {},
   "outputs": [
    {
     "data": {
      "text/html": [
       "<div>\n",
       "<style scoped>\n",
       "    .dataframe tbody tr th:only-of-type {\n",
       "        vertical-align: middle;\n",
       "    }\n",
       "\n",
       "    .dataframe tbody tr th {\n",
       "        vertical-align: top;\n",
       "    }\n",
       "\n",
       "    .dataframe thead th {\n",
       "        text-align: right;\n",
       "    }\n",
       "</style>\n",
       "<table border=\"1\" class=\"dataframe\">\n",
       "  <thead>\n",
       "    <tr style=\"text-align: right;\">\n",
       "      <th></th>\n",
       "      <th>count</th>\n",
       "    </tr>\n",
       "    <tr>\n",
       "      <th>Age</th>\n",
       "      <th></th>\n",
       "    </tr>\n",
       "  </thead>\n",
       "  <tbody>\n",
       "    <tr>\n",
       "      <th>19</th>\n",
       "      <td>127</td>\n",
       "    </tr>\n",
       "    <tr>\n",
       "      <th>20</th>\n",
       "      <td>127</td>\n",
       "    </tr>\n",
       "    <tr>\n",
       "      <th>21</th>\n",
       "      <td>140</td>\n",
       "    </tr>\n",
       "    <tr>\n",
       "      <th>22</th>\n",
       "      <td>130</td>\n",
       "    </tr>\n",
       "    <tr>\n",
       "      <th>23</th>\n",
       "      <td>146</td>\n",
       "    </tr>\n",
       "    <tr>\n",
       "      <th>...</th>\n",
       "      <td>...</td>\n",
       "    </tr>\n",
       "    <tr>\n",
       "      <th>76</th>\n",
       "      <td>69</td>\n",
       "    </tr>\n",
       "    <tr>\n",
       "      <th>77</th>\n",
       "      <td>72</td>\n",
       "    </tr>\n",
       "    <tr>\n",
       "      <th>78</th>\n",
       "      <td>63</td>\n",
       "    </tr>\n",
       "    <tr>\n",
       "      <th>79</th>\n",
       "      <td>76</td>\n",
       "    </tr>\n",
       "    <tr>\n",
       "      <th>80</th>\n",
       "      <td>66</td>\n",
       "    </tr>\n",
       "  </tbody>\n",
       "</table>\n",
       "<p>62 rows × 1 columns</p>\n",
       "</div>"
      ],
      "text/plain": [
       "     count\n",
       "Age       \n",
       "19     127\n",
       "20     127\n",
       "21     140\n",
       "22     130\n",
       "23     146\n",
       "..     ...\n",
       "76      69\n",
       "77      72\n",
       "78      63\n",
       "79      76\n",
       "80      66\n",
       "\n",
       "[62 rows x 1 columns]"
      ]
     },
     "execution_count": 21,
     "metadata": {},
     "output_type": "execute_result"
    }
   ],
   "source": [
    "data.groupby(['Age'])['Churn'].agg(['count'])"
   ]
  },
  {
   "cell_type": "markdown",
   "id": "bf8dc681-0cad-494b-89fa-3cf91433d971",
   "metadata": {
    "tags": []
   },
   "source": [
    "#### 3) Married"
   ]
  },
  {
   "cell_type": "code",
   "execution_count": 22,
   "id": "500e842a-c0aa-4df1-82b6-4312b2b97d3e",
   "metadata": {},
   "outputs": [
    {
     "data": {
      "text/plain": [
       "No     3641\n",
       "Yes    3402\n",
       "Name: Married, dtype: int64"
      ]
     },
     "execution_count": 22,
     "metadata": {},
     "output_type": "execute_result"
    }
   ],
   "source": [
    "data['Married'].value_counts()"
   ]
  },
  {
   "cell_type": "code",
   "execution_count": 23,
   "id": "037a97cf-b60e-4e46-a3a6-ae751e3239e0",
   "metadata": {},
   "outputs": [
    {
     "data": {
      "text/plain": [
       "<AxesSubplot:xlabel='Married'>"
      ]
     },
     "execution_count": 23,
     "metadata": {},
     "output_type": "execute_result"
    },
    {
     "data": {
      "image/png": "[encoded data removed]",
      "text/plain": [
       "<Figure size 432x288 with 1 Axes>"
      ]
     },
     "metadata": {
      "needs_background": "light"
     },
     "output_type": "display_data"
    }
   ],
   "source": [
    "pd.crosstab(data['Married'],data[\"Customer Status\"]).plot(kind='bar')"
   ]
  },
  {
   "cell_type": "markdown",
   "id": "0c652560-ae2e-4e3b-a871-a254ee898ed7",
   "metadata": {
    "tags": []
   },
   "source": [
    "#### 4) Number of Dependents"
   ]
  },
  {
   "cell_type": "code",
   "execution_count": 24,
   "id": "eea7e5da-4526-46ac-9ef2-e0e2390e34a9",
   "metadata": {},
   "outputs": [
    {
     "data": {
      "text/plain": [
       "0    5416\n",
       "1     553\n",
       "2     531\n",
       "3     517\n",
       "5      10\n",
       "4       9\n",
       "6       3\n",
       "7       2\n",
       "9       1\n",
       "8       1\n",
       "Name: Number of Dependents, dtype: int64"
      ]
     },
     "execution_count": 24,
     "metadata": {},
     "output_type": "execute_result"
    }
   ],
   "source": [
    "data['Number of Dependents'].value_counts()"
   ]
  },
  {
   "cell_type": "code",
   "execution_count": 25,
   "id": "0a79c244-5f74-477b-ba56-7f63dd9e20b3",
   "metadata": {},
   "outputs": [
    {
     "data": {
      "text/html": [
       "<div>\n",
       "<style scoped>\n",
       "    .dataframe tbody tr th:only-of-type {\n",
       "        vertical-align: middle;\n",
       "    }\n",
       "\n",
       "    .dataframe tbody tr th {\n",
       "        vertical-align: top;\n",
       "    }\n",
       "\n",
       "    .dataframe thead th {\n",
       "        text-align: right;\n",
       "    }\n",
       "</style>\n",
       "<table border=\"1\" class=\"dataframe\">\n",
       "  <thead>\n",
       "    <tr style=\"text-align: right;\">\n",
       "      <th>Customer Status</th>\n",
       "      <th>Churned</th>\n",
       "      <th>Stayed</th>\n",
       "    </tr>\n",
       "    <tr>\n",
       "      <th>Number of Dependents</th>\n",
       "      <th></th>\n",
       "      <th></th>\n",
       "    </tr>\n",
       "  </thead>\n",
       "  <tbody>\n",
       "    <tr>\n",
       "      <th>0</th>\n",
       "      <td>1763</td>\n",
       "      <td>3653</td>\n",
       "    </tr>\n",
       "    <tr>\n",
       "      <th>1</th>\n",
       "      <td>38</td>\n",
       "      <td>515</td>\n",
       "    </tr>\n",
       "    <tr>\n",
       "      <th>2</th>\n",
       "      <td>33</td>\n",
       "      <td>498</td>\n",
       "    </tr>\n",
       "    <tr>\n",
       "      <th>3</th>\n",
       "      <td>30</td>\n",
       "      <td>487</td>\n",
       "    </tr>\n",
       "    <tr>\n",
       "      <th>4</th>\n",
       "      <td>1</td>\n",
       "      <td>8</td>\n",
       "    </tr>\n",
       "    <tr>\n",
       "      <th>5</th>\n",
       "      <td>2</td>\n",
       "      <td>8</td>\n",
       "    </tr>\n",
       "    <tr>\n",
       "      <th>6</th>\n",
       "      <td>1</td>\n",
       "      <td>2</td>\n",
       "    </tr>\n",
       "    <tr>\n",
       "      <th>7</th>\n",
       "      <td>1</td>\n",
       "      <td>1</td>\n",
       "    </tr>\n",
       "    <tr>\n",
       "      <th>8</th>\n",
       "      <td>0</td>\n",
       "      <td>1</td>\n",
       "    </tr>\n",
       "    <tr>\n",
       "      <th>9</th>\n",
       "      <td>0</td>\n",
       "      <td>1</td>\n",
       "    </tr>\n",
       "  </tbody>\n",
       "</table>\n",
       "</div>"
      ],
      "text/plain": [
       "Customer Status       Churned  Stayed\n",
       "Number of Dependents                 \n",
       "0                        1763    3653\n",
       "1                          38     515\n",
       "2                          33     498\n",
       "3                          30     487\n",
       "4                           1       8\n",
       "5                           2       8\n",
       "6                           1       2\n",
       "7                           1       1\n",
       "8                           0       1\n",
       "9                           0       1"
      ]
     },
     "execution_count": 25,
     "metadata": {},
     "output_type": "execute_result"
    }
   ],
   "source": [
    "pd.crosstab(data['Number of Dependents'] , data['Customer Status'])"
   ]
  },
  {
   "cell_type": "markdown",
   "id": "7c5d1724-1e70-40ad-aa31-f8b6219c323a",
   "metadata": {},
   "source": [
    "People are staying if no of dependent is high. "
   ]
  },
  {
   "cell_type": "code",
   "execution_count": 26,
   "id": "336ac63e-692c-4b32-bf3d-f1df004c7b41",
   "metadata": {},
   "outputs": [
    {
     "data": {
      "text/plain": [
       "(7043, 35)"
      ]
     },
     "execution_count": 26,
     "metadata": {},
     "output_type": "execute_result"
    }
   ],
   "source": [
    "data.drop(['City','Zip Code','Latitude','Longitude'],inplace = True,axis=1)\n",
    "data.shape"
   ]
  },
  {
   "cell_type": "code",
   "execution_count": 27,
   "id": "e404f85c-4634-46f3-a57f-f2e53ac8d522",
   "metadata": {},
   "outputs": [],
   "source": [
    "## Replacing Nan values according to the EDA\n",
    "\n",
    "data[['Internet Type', 'Online Security', 'Online Backup', 'Device Protection Plan', \n",
    "           'Premium Tech Support', 'Streaming TV', 'Streaming Movies','Streaming Music','Unlimited Data']] = data[['Internet Type', 'Online Security', 'Online Backup', 'Device Protection Plan', \n",
    "           'Premium Tech Support', 'Streaming TV', 'Streaming Movies','Streaming Music','Unlimited Data']].replace(np.nan,'No Internet')\n",
    "data['Avg Monthly GB Download'] = data['Avg Monthly GB Download'].replace(np.nan,0.0)\n",
    "data['Multiple Lines'] = data['Multiple Lines'].replace(np.nan,'NO phone Service')\n",
    "data['Avg Monthly Long Distance Charges'] = data['Avg Monthly Long Distance Charges'].replace(np.nan,0.0)"
   ]
  },
  {
   "cell_type": "code",
   "execution_count": 28,
   "id": "7732fd40-7ce5-497e-a866-2c6988f6fd13",
   "metadata": {},
   "outputs": [
    {
     "name": "stdout",
     "output_type": "stream",
     "text": [
      "<class 'pandas.core.frame.DataFrame'>\n",
      "Int64Index: 7043 entries, 0 to 7042\n",
      "Data columns (total 35 columns):\n",
      " #   Column                             Non-Null Count  Dtype  \n",
      "---  ------                             --------------  -----  \n",
      " 0   Customer ID                        7043 non-null   object \n",
      " 1   Gender                             7043 non-null   object \n",
      " 2   Age                                7043 non-null   int64  \n",
      " 3   Married                            7043 non-null   object \n",
      " 4   Number of Dependents               7043 non-null   int64  \n",
      " 5   Number of Referrals                7043 non-null   int64  \n",
      " 6   Tenure in Months                   7043 non-null   int64  \n",
      " 7   Offer                              7043 non-null   object \n",
      " 8   Phone Service                      7043 non-null   object \n",
      " 9   Avg Monthly Long Distance Charges  7043 non-null   float64\n",
      " 10  Multiple Lines                     7043 non-null   object \n",
      " 11  Internet Service                   7043 non-null   object \n",
      " 12  Internet Type                      7043 non-null   object \n",
      " 13  Avg Monthly GB Download            7043 non-null   float64\n",
      " 14  Online Security                    7043 non-null   object \n",
      " 15  Online Backup                      7043 non-null   object \n",
      " 16  Device Protection Plan             7043 non-null   object \n",
      " 17  Premium Tech Support               7043 non-null   object \n",
      " 18  Streaming TV                       7043 non-null   object \n",
      " 19  Streaming Movies                   7043 non-null   object \n",
      " 20  Streaming Music                    7043 non-null   object \n",
      " 21  Unlimited Data                     7043 non-null   object \n",
      " 22  Contract                           7043 non-null   object \n",
      " 23  Paperless Billing                  7043 non-null   object \n",
      " 24  Payment Method                     7043 non-null   object \n",
      " 25  Monthly Charge                     7043 non-null   float64\n",
      " 26  Total Charges                      7043 non-null   float64\n",
      " 27  Total Refunds                      7043 non-null   float64\n",
      " 28  Total Extra Data Charges           7043 non-null   int64  \n",
      " 29  Total Long Distance Charges        7043 non-null   float64\n",
      " 30  Total Revenue                      7043 non-null   float64\n",
      " 31  Customer Status                    7043 non-null   object \n",
      " 32  Churn Category                     1869 non-null   object \n",
      " 33  Churn Reason                       1869 non-null   object \n",
      " 34  Churn                              7043 non-null   int64  \n",
      "dtypes: float64(7), int64(6), object(22)\n",
      "memory usage: 2.2+ MB\n"
     ]
    }
   ],
   "source": [
    "data.info()"
   ]
  },
  {
   "cell_type": "markdown",
   "id": "ff788453-41bf-4f3c-8492-c652423d59f3",
   "metadata": {
    "tags": []
   },
   "source": [
    "#### 5) Number of Referrals"
   ]
  },
  {
   "cell_type": "code",
   "execution_count": 29,
   "id": "43d3e169-f787-4f17-a9ac-bbaa75380581",
   "metadata": {},
   "outputs": [
    {
     "data": {
      "text/plain": [
       "0     3821\n",
       "1     1086\n",
       "5      264\n",
       "3      255\n",
       "7      248\n",
       "9      238\n",
       "2      236\n",
       "4      236\n",
       "10     223\n",
       "6      221\n",
       "8      213\n",
       "11       2\n",
       "Name: Number of Referrals, dtype: int64"
      ]
     },
     "execution_count": 29,
     "metadata": {},
     "output_type": "execute_result"
    }
   ],
   "source": [
    "data['Number of Referrals'].value_counts()"
   ]
  },
  {
   "cell_type": "code",
   "execution_count": 30,
   "id": "59ef706a-f0db-47a6-a53c-cfae0d9ff21a",
   "metadata": {},
   "outputs": [
    {
     "data": {
      "text/html": [
       "<div>\n",
       "<style scoped>\n",
       "    .dataframe tbody tr th:only-of-type {\n",
       "        vertical-align: middle;\n",
       "    }\n",
       "\n",
       "    .dataframe tbody tr th {\n",
       "        vertical-align: top;\n",
       "    }\n",
       "\n",
       "    .dataframe thead th {\n",
       "        text-align: right;\n",
       "    }\n",
       "</style>\n",
       "<table border=\"1\" class=\"dataframe\">\n",
       "  <thead>\n",
       "    <tr style=\"text-align: right;\">\n",
       "      <th>Customer Status</th>\n",
       "      <th>Churned</th>\n",
       "      <th>Stayed</th>\n",
       "    </tr>\n",
       "    <tr>\n",
       "      <th>Number of Referrals</th>\n",
       "      <th></th>\n",
       "      <th></th>\n",
       "    </tr>\n",
       "  </thead>\n",
       "  <tbody>\n",
       "    <tr>\n",
       "      <th>0</th>\n",
       "      <td>1245</td>\n",
       "      <td>2576</td>\n",
       "    </tr>\n",
       "    <tr>\n",
       "      <th>1</th>\n",
       "      <td>507</td>\n",
       "      <td>579</td>\n",
       "    </tr>\n",
       "    <tr>\n",
       "      <th>2</th>\n",
       "      <td>26</td>\n",
       "      <td>210</td>\n",
       "    </tr>\n",
       "    <tr>\n",
       "      <th>3</th>\n",
       "      <td>32</td>\n",
       "      <td>223</td>\n",
       "    </tr>\n",
       "    <tr>\n",
       "      <th>4</th>\n",
       "      <td>18</td>\n",
       "      <td>218</td>\n",
       "    </tr>\n",
       "    <tr>\n",
       "      <th>5</th>\n",
       "      <td>21</td>\n",
       "      <td>243</td>\n",
       "    </tr>\n",
       "    <tr>\n",
       "      <th>6</th>\n",
       "      <td>8</td>\n",
       "      <td>213</td>\n",
       "    </tr>\n",
       "    <tr>\n",
       "      <th>7</th>\n",
       "      <td>6</td>\n",
       "      <td>242</td>\n",
       "    </tr>\n",
       "    <tr>\n",
       "      <th>8</th>\n",
       "      <td>2</td>\n",
       "      <td>211</td>\n",
       "    </tr>\n",
       "    <tr>\n",
       "      <th>9</th>\n",
       "      <td>4</td>\n",
       "      <td>234</td>\n",
       "    </tr>\n",
       "    <tr>\n",
       "      <th>10</th>\n",
       "      <td>0</td>\n",
       "      <td>223</td>\n",
       "    </tr>\n",
       "    <tr>\n",
       "      <th>11</th>\n",
       "      <td>0</td>\n",
       "      <td>2</td>\n",
       "    </tr>\n",
       "  </tbody>\n",
       "</table>\n",
       "</div>"
      ],
      "text/plain": [
       "Customer Status      Churned  Stayed\n",
       "Number of Referrals                 \n",
       "0                       1245    2576\n",
       "1                        507     579\n",
       "2                         26     210\n",
       "3                         32     223\n",
       "4                         18     218\n",
       "5                         21     243\n",
       "6                          8     213\n",
       "7                          6     242\n",
       "8                          2     211\n",
       "9                          4     234\n",
       "10                         0     223\n",
       "11                         0       2"
      ]
     },
     "execution_count": 30,
     "metadata": {},
     "output_type": "execute_result"
    }
   ],
   "source": [
    "pd.crosstab(data['Number of Referrals'] , data['Customer Status'])"
   ]
  },
  {
   "cell_type": "markdown",
   "id": "63c04c70-8e37-459d-85d9-d71aa521608f",
   "metadata": {
    "tags": []
   },
   "source": [
    "#### 6) Tenure in Months "
   ]
  },
  {
   "cell_type": "code",
   "execution_count": 31,
   "id": "90cf43e5-1fcd-4340-b43f-a85d8b621577",
   "metadata": {},
   "outputs": [
    {
     "data": {
      "text/plain": [
       "1     613\n",
       "72    362\n",
       "2     238\n",
       "3     200\n",
       "4     176\n",
       "     ... \n",
       "38     59\n",
       "28     57\n",
       "39     56\n",
       "44     51\n",
       "36     50\n",
       "Name: Tenure in Months, Length: 72, dtype: int64"
      ]
     },
     "execution_count": 31,
     "metadata": {},
     "output_type": "execute_result"
    }
   ],
   "source": [
    "data['Tenure in Months'].value_counts(sort=True)"
   ]
  },
  {
   "cell_type": "code",
   "execution_count": 32,
   "id": "e02e2fa5-ac95-47b7-b4bb-8be1acef4797",
   "metadata": {},
   "outputs": [
    {
     "data": {
      "text/html": [
       "<div>\n",
       "<style scoped>\n",
       "    .dataframe tbody tr th:only-of-type {\n",
       "        vertical-align: middle;\n",
       "    }\n",
       "\n",
       "    .dataframe tbody tr th {\n",
       "        vertical-align: top;\n",
       "    }\n",
       "\n",
       "    .dataframe thead th {\n",
       "        text-align: right;\n",
       "    }\n",
       "</style>\n",
       "<table border=\"1\" class=\"dataframe\">\n",
       "  <thead>\n",
       "    <tr style=\"text-align: right;\">\n",
       "      <th>Customer Status</th>\n",
       "      <th>Churned</th>\n",
       "      <th>Stayed</th>\n",
       "    </tr>\n",
       "    <tr>\n",
       "      <th>Tenure in Months</th>\n",
       "      <th></th>\n",
       "      <th></th>\n",
       "    </tr>\n",
       "  </thead>\n",
       "  <tbody>\n",
       "    <tr>\n",
       "      <th>1</th>\n",
       "      <td>380</td>\n",
       "      <td>233</td>\n",
       "    </tr>\n",
       "    <tr>\n",
       "      <th>2</th>\n",
       "      <td>123</td>\n",
       "      <td>115</td>\n",
       "    </tr>\n",
       "    <tr>\n",
       "      <th>3</th>\n",
       "      <td>94</td>\n",
       "      <td>106</td>\n",
       "    </tr>\n",
       "    <tr>\n",
       "      <th>4</th>\n",
       "      <td>83</td>\n",
       "      <td>93</td>\n",
       "    </tr>\n",
       "    <tr>\n",
       "      <th>5</th>\n",
       "      <td>64</td>\n",
       "      <td>69</td>\n",
       "    </tr>\n",
       "    <tr>\n",
       "      <th>...</th>\n",
       "      <td>...</td>\n",
       "      <td>...</td>\n",
       "    </tr>\n",
       "    <tr>\n",
       "      <th>68</th>\n",
       "      <td>9</td>\n",
       "      <td>91</td>\n",
       "    </tr>\n",
       "    <tr>\n",
       "      <th>69</th>\n",
       "      <td>8</td>\n",
       "      <td>87</td>\n",
       "    </tr>\n",
       "    <tr>\n",
       "      <th>70</th>\n",
       "      <td>11</td>\n",
       "      <td>108</td>\n",
       "    </tr>\n",
       "    <tr>\n",
       "      <th>71</th>\n",
       "      <td>6</td>\n",
       "      <td>164</td>\n",
       "    </tr>\n",
       "    <tr>\n",
       "      <th>72</th>\n",
       "      <td>6</td>\n",
       "      <td>356</td>\n",
       "    </tr>\n",
       "  </tbody>\n",
       "</table>\n",
       "<p>72 rows × 2 columns</p>\n",
       "</div>"
      ],
      "text/plain": [
       "Customer Status   Churned  Stayed\n",
       "Tenure in Months                 \n",
       "1                     380     233\n",
       "2                     123     115\n",
       "3                      94     106\n",
       "4                      83      93\n",
       "5                      64      69\n",
       "...                   ...     ...\n",
       "68                      9      91\n",
       "69                      8      87\n",
       "70                     11     108\n",
       "71                      6     164\n",
       "72                      6     356\n",
       "\n",
       "[72 rows x 2 columns]"
      ]
     },
     "execution_count": 32,
     "metadata": {},
     "output_type": "execute_result"
    }
   ],
   "source": [
    "pd.crosstab(data['Tenure in Months'] , data['Customer Status'])"
   ]
  },
  {
   "cell_type": "markdown",
   "id": "1378ea99-349e-4b41-9727-16dd33577b2b",
   "metadata": {},
   "source": [
    "Customers who choose tenure in months high stay longer with service."
   ]
  },
  {
   "cell_type": "markdown",
   "id": "61bc70e0-1e6a-41f5-a413-e3836f901b58",
   "metadata": {
    "tags": []
   },
   "source": [
    "#### 7) Offer"
   ]
  },
  {
   "cell_type": "code",
   "execution_count": 33,
   "id": "aeef47d1-f265-4e74-8380-97d8bb4dee80",
   "metadata": {},
   "outputs": [
    {
     "data": {
      "text/plain": [
       "None       3877\n",
       "Offer B     824\n",
       "Offer E     805\n",
       "Offer D     602\n",
       "Offer A     520\n",
       "Offer C     415\n",
       "Name: Offer, dtype: int64"
      ]
     },
     "execution_count": 33,
     "metadata": {},
     "output_type": "execute_result"
    }
   ],
   "source": [
    "data['Offer'].value_counts(sort=True)"
   ]
  },
  {
   "cell_type": "code",
   "execution_count": 34,
   "id": "451ab238-5f90-4abb-bcba-1bce8b4295f7",
   "metadata": {},
   "outputs": [
    {
     "data": {
      "text/html": [
       "<div>\n",
       "<style scoped>\n",
       "    .dataframe tbody tr th:only-of-type {\n",
       "        vertical-align: middle;\n",
       "    }\n",
       "\n",
       "    .dataframe tbody tr th {\n",
       "        vertical-align: top;\n",
       "    }\n",
       "\n",
       "    .dataframe thead th {\n",
       "        text-align: right;\n",
       "    }\n",
       "</style>\n",
       "<table border=\"1\" class=\"dataframe\">\n",
       "  <thead>\n",
       "    <tr style=\"text-align: right;\">\n",
       "      <th>Customer Status</th>\n",
       "      <th>Churned</th>\n",
       "      <th>Stayed</th>\n",
       "    </tr>\n",
       "    <tr>\n",
       "      <th>Offer</th>\n",
       "      <th></th>\n",
       "      <th></th>\n",
       "    </tr>\n",
       "  </thead>\n",
       "  <tbody>\n",
       "    <tr>\n",
       "      <th>None</th>\n",
       "      <td>1051</td>\n",
       "      <td>2826</td>\n",
       "    </tr>\n",
       "    <tr>\n",
       "      <th>Offer A</th>\n",
       "      <td>35</td>\n",
       "      <td>485</td>\n",
       "    </tr>\n",
       "    <tr>\n",
       "      <th>Offer B</th>\n",
       "      <td>101</td>\n",
       "      <td>723</td>\n",
       "    </tr>\n",
       "    <tr>\n",
       "      <th>Offer C</th>\n",
       "      <td>95</td>\n",
       "      <td>320</td>\n",
       "    </tr>\n",
       "    <tr>\n",
       "      <th>Offer D</th>\n",
       "      <td>161</td>\n",
       "      <td>441</td>\n",
       "    </tr>\n",
       "    <tr>\n",
       "      <th>Offer E</th>\n",
       "      <td>426</td>\n",
       "      <td>379</td>\n",
       "    </tr>\n",
       "  </tbody>\n",
       "</table>\n",
       "</div>"
      ],
      "text/plain": [
       "Customer Status  Churned  Stayed\n",
       "Offer                           \n",
       "None                1051    2826\n",
       "Offer A               35     485\n",
       "Offer B              101     723\n",
       "Offer C               95     320\n",
       "Offer D              161     441\n",
       "Offer E              426     379"
      ]
     },
     "execution_count": 34,
     "metadata": {},
     "output_type": "execute_result"
    }
   ],
   "source": [
    "pd.crosstab(data['Offer'] , data['Customer Status'])"
   ]
  },
  {
   "cell_type": "markdown",
   "id": "daebe1d2-dc4d-48e1-99d5-17ac17953ffd",
   "metadata": {
    "tags": []
   },
   "source": [
    "#### 8) Internet Service"
   ]
  },
  {
   "cell_type": "code",
   "execution_count": 35,
   "id": "6970b7eb-8188-4e2b-9b21-cac31559c8ee",
   "metadata": {},
   "outputs": [
    {
     "data": {
      "text/plain": [
       "Yes    5517\n",
       "No     1526\n",
       "Name: Internet Service, dtype: int64"
      ]
     },
     "execution_count": 35,
     "metadata": {},
     "output_type": "execute_result"
    }
   ],
   "source": [
    "data['Internet Service'].value_counts()"
   ]
  },
  {
   "cell_type": "code",
   "execution_count": 37,
   "id": "23d2f370-bb31-4a6e-b575-8a76c0f73d0b",
   "metadata": {},
   "outputs": [
    {
     "data": {
      "text/plain": [
       "<AxesSubplot:xlabel='Internet Service'>"
      ]
     },
     "execution_count": 37,
     "metadata": {},
     "output_type": "execute_result"
    },
    {
     "data": {
      "image/png": "[encoded data removed]",
      "text/plain": [
       "<Figure size 432x288 with 1 Axes>"
      ]
     },
     "metadata": {
      "needs_background": "light"
     },
     "output_type": "display_data"
    }
   ],
   "source": [
    "pd.crosstab( data['Internet Service'],data['Customer Status']).plot(kind='bar')"
   ]
  },
  {
   "cell_type": "markdown",
   "id": "26721345-b7eb-45cc-ad3e-3f806d9693fb",
   "metadata": {},
   "source": [
    "The people who use internet services are more likely to churn, it could be possible because of poor internet connectivity issue or better offers from others competitiors."
   ]
  },
  {
   "cell_type": "markdown",
   "id": "f1534e8b-7ddb-4864-9104-1f025ec35225",
   "metadata": {
    "tags": []
   },
   "source": [
    "#### 9) Internet Type "
   ]
  },
  {
   "cell_type": "code",
   "execution_count": 37,
   "id": "d84873fc-d2c6-4e9c-ae87-c33d78ca2d59",
   "metadata": {},
   "outputs": [
    {
     "data": {
      "text/plain": [
       "Fiber Optic    3035\n",
       "DSL            1652\n",
       "No Internet    1526\n",
       "Cable           830\n",
       "Name: Internet Type, dtype: int64"
      ]
     },
     "execution_count": 37,
     "metadata": {},
     "output_type": "execute_result"
    }
   ],
   "source": [
    "data['Internet Type'].value_counts()"
   ]
  },
  {
   "cell_type": "code",
   "execution_count": 38,
   "id": "74269982-bac4-4814-b38b-310e3ad2779b",
   "metadata": {},
   "outputs": [
    {
     "data": {
      "text/plain": [
       "<AxesSubplot:xlabel='Internet Type'>"
      ]
     },
     "execution_count": 38,
     "metadata": {},
     "output_type": "execute_result"
    },
    {
     "data": {
      "image/png": "[encoded data removed]",
      "text/plain": [
       "<Figure size 432x288 with 1 Axes>"
      ]
     },
     "metadata": {
      "needs_background": "light"
     },
     "output_type": "display_data"
    }
   ],
   "source": [
    "pd.crosstab(data['Internet Type'] , data['Customer Status']).plot(kind='bar')"
   ]
  },
  {
   "cell_type": "markdown",
   "id": "baa8a2dc-d988-4cb0-9661-dec525ba35ec",
   "metadata": {
    "tags": []
   },
   "source": [
    "#### 10) Avg Monthly GB Download"
   ]
  },
  {
   "cell_type": "code",
   "execution_count": 39,
   "id": "c23a78e8-5f5d-43a8-8e3c-b7e29a5b7489",
   "metadata": {},
   "outputs": [
    {
     "data": {
      "text/plain": [
       "20.515405367031093"
      ]
     },
     "execution_count": 39,
     "metadata": {},
     "output_type": "execute_result"
    }
   ],
   "source": [
    "data['Avg Monthly GB Download'].mean()"
   ]
  },
  {
   "cell_type": "code",
   "execution_count": 40,
   "id": "d1b594be-10c6-47e7-bdd2-ce16b737db20",
   "metadata": {},
   "outputs": [
    {
     "data": {
      "text/plain": [
       "<AxesSubplot:xlabel='Avg Monthly GB Download', ylabel='Count'>"
      ]
     },
     "execution_count": 40,
     "metadata": {},
     "output_type": "execute_result"
    },
    {
     "data": {
      "image/png": "[encoded data removed]",
      "text/plain": [
       "<Figure size 432x288 with 1 Axes>"
      ]
     },
     "metadata": {
      "needs_background": "light"
     },
     "output_type": "display_data"
    }
   ],
   "source": [
    "sns.histplot(data=data, x=\"Avg Monthly GB Download\")"
   ]
  },
  {
   "cell_type": "code",
   "execution_count": 41,
   "id": "f088f0eb-2603-4128-ac4c-cde447a71a5a",
   "metadata": {},
   "outputs": [
    {
     "data": {
      "text/plain": [
       "<AxesSubplot:xlabel='Avg Monthly GB Download'>"
      ]
     },
     "execution_count": 41,
     "metadata": {},
     "output_type": "execute_result"
    },
    {
     "data": {
      "image/png": "[encoded data removed]",
      "text/plain": [
       "<Figure size 432x288 with 1 Axes>"
      ]
     },
     "metadata": {
      "needs_background": "light"
     },
     "output_type": "display_data"
    }
   ],
   "source": [
    "data.groupby(['Avg Monthly GB Download'])['Total Charges','Total Long Distance Charges','Total Revenue','Monthly Charge'].mean().plot()"
   ]
  },
  {
   "cell_type": "code",
   "execution_count": 42,
   "id": "242e1796-7a24-45cf-9deb-2e30239b1e21",
   "metadata": {},
   "outputs": [
    {
     "data": {
      "text/plain": [
       "<AxesSubplot:xlabel='Avg Monthly GB Download'>"
      ]
     },
     "execution_count": 42,
     "metadata": {},
     "output_type": "execute_result"
    },
    {
     "data": {
      "image/png": "[encoded data removed]",
      "text/plain": [
       "<Figure size 432x288 with 1 Axes>"
      ]
     },
     "metadata": {
      "needs_background": "light"
     },
     "output_type": "display_data"
    }
   ],
   "source": [
    "sns.boxplot(data['Avg Monthly GB Download'])"
   ]
  },
  {
   "cell_type": "markdown",
   "id": "9037b806-8134-486d-a9d4-ec1b88c0046a",
   "metadata": {
    "tags": []
   },
   "source": [
    "#### 11) Online Security"
   ]
  },
  {
   "cell_type": "code",
   "execution_count": 43,
   "id": "d37758b9-adcf-4e7d-a4ae-1af7878291fa",
   "metadata": {},
   "outputs": [
    {
     "data": {
      "text/plain": [
       "No             3498\n",
       "Yes            2019\n",
       "No Internet    1526\n",
       "Name: Online Security, dtype: int64"
      ]
     },
     "execution_count": 43,
     "metadata": {},
     "output_type": "execute_result"
    }
   ],
   "source": [
    "data['Online Security'].value_counts()"
   ]
  },
  {
   "cell_type": "code",
   "execution_count": 44,
   "id": "5b107937-0127-445c-86bf-28454aef6081",
   "metadata": {},
   "outputs": [
    {
     "data": {
      "text/plain": [
       "<AxesSubplot:xlabel='Online Security'>"
      ]
     },
     "execution_count": 44,
     "metadata": {},
     "output_type": "execute_result"
    },
    {
     "data": {
      "image/png": "[encoded data removed]",
      "text/plain": [
       "<Figure size 432x288 with 1 Axes>"
      ]
     },
     "metadata": {
      "needs_background": "light"
     },
     "output_type": "display_data"
    }
   ],
   "source": [
    "pd.crosstab(data['Online Security'] , data['Customer Status']).plot(kind='bar')"
   ]
  },
  {
   "cell_type": "markdown",
   "id": "695f7cbb-7530-4273-b51e-523f7af509b2",
   "metadata": {
    "tags": []
   },
   "source": [
    "#### 12) Contract"
   ]
  },
  {
   "cell_type": "code",
   "execution_count": 45,
   "id": "bd0634de-fd41-4929-8db6-f9bf148ace0d",
   "metadata": {},
   "outputs": [
    {
     "data": {
      "text/plain": [
       "Month-to-Month    3610\n",
       "Two Year          1883\n",
       "One Year          1550\n",
       "Name: Contract, dtype: int64"
      ]
     },
     "execution_count": 45,
     "metadata": {},
     "output_type": "execute_result"
    }
   ],
   "source": [
    "data['Contract'].value_counts()"
   ]
  },
  {
   "cell_type": "code",
   "execution_count": 46,
   "id": "1204cbb6-f408-47a9-9264-de63ab79eda3",
   "metadata": {},
   "outputs": [
    {
     "data": {
      "text/plain": [
       "<AxesSubplot:xlabel='Contract'>"
      ]
     },
     "execution_count": 46,
     "metadata": {},
     "output_type": "execute_result"
    },
    {
     "data": {
      "image/png": "[encoded data removed]",
      "text/plain": [
       "<Figure size 432x288 with 1 Axes>"
      ]
     },
     "metadata": {
      "needs_background": "light"
     },
     "output_type": "display_data"
    }
   ],
   "source": [
    "pd.crosstab(data['Contract'] , data['Customer Status']).plot(kind='bar')"
   ]
  },
  {
   "cell_type": "markdown",
   "id": "7edf9553-c817-4b34-8b31-12e8b4b8c17b",
   "metadata": {
    "tags": []
   },
   "source": [
    "#### 13) Paperless Billing"
   ]
  },
  {
   "cell_type": "code",
   "execution_count": 47,
   "id": "626759b4-d324-4237-b037-4aea08e6bd2d",
   "metadata": {},
   "outputs": [
    {
     "data": {
      "text/plain": [
       "Yes    4171\n",
       "No     2872\n",
       "Name: Paperless Billing, dtype: int64"
      ]
     },
     "execution_count": 47,
     "metadata": {},
     "output_type": "execute_result"
    }
   ],
   "source": [
    "data['Paperless Billing'].value_counts()"
   ]
  },
  {
   "cell_type": "code",
   "execution_count": 48,
   "id": "6d9829af-3245-44c5-a943-248b69ac85e0",
   "metadata": {},
   "outputs": [
    {
     "data": {
      "text/plain": [
       "<AxesSubplot:xlabel='Paperless Billing'>"
      ]
     },
     "execution_count": 48,
     "metadata": {},
     "output_type": "execute_result"
    },
    {
     "data": {
      "image/png": "[encoded data removed]",
      "text/plain": [
       "<Figure size 432x288 with 1 Axes>"
      ]
     },
     "metadata": {
      "needs_background": "light"
     },
     "output_type": "display_data"
    }
   ],
   "source": [
    "pd.crosstab(data['Paperless Billing'] , data['Customer Status']).plot(kind='bar')"
   ]
  },
  {
   "cell_type": "markdown",
   "id": "8e550a9d-9dff-459e-be26-b23216ab8bb3",
   "metadata": {
    "tags": []
   },
   "source": [
    "#### 14) Payment Method"
   ]
  },
  {
   "cell_type": "code",
   "execution_count": 49,
   "id": "c0e26749-7729-4c49-960d-07a000c17fd1",
   "metadata": {},
   "outputs": [
    {
     "data": {
      "text/plain": [
       "<AxesSubplot:xlabel='Payment Method'>"
      ]
     },
     "execution_count": 49,
     "metadata": {},
     "output_type": "execute_result"
    },
    {
     "data": {
      "image/png": "[encoded data removed]",
      "text/plain": [
       "<Figure size 432x288 with 1 Axes>"
      ]
     },
     "metadata": {
      "needs_background": "light"
     },
     "output_type": "display_data"
    }
   ],
   "source": [
    "pd.crosstab( data['Payment Method'],data['Churn']).plot(kind='bar')"
   ]
  },
  {
   "cell_type": "code",
   "execution_count": 50,
   "id": "d6370fc2-f46a-4bd8-8c82-303682898291",
   "metadata": {},
   "outputs": [
    {
     "data": {
      "text/plain": [
       "<AxesSubplot:xlabel='Payment Method', ylabel='Count'>"
      ]
     },
     "execution_count": 50,
     "metadata": {},
     "output_type": "execute_result"
    },
    {
     "data": {
      "image/png": "[encoded data removed]",
      "text/plain": [
       "<Figure size 432x288 with 1 Axes>"
      ]
     },
     "metadata": {
      "needs_background": "light"
     },
     "output_type": "display_data"
    }
   ],
   "source": [
    "sns.histplot(data=data, x=\"Payment Method\", hue=\"Customer Status\")"
   ]
  },
  {
   "cell_type": "raw",
   "id": "fd20d24c-1c35-4603-bacd-62643ab0ab7f",
   "metadata": {},
   "source": [
    "People who pay thorugh credit card are likely to stay with company more."
   ]
  },
  {
   "cell_type": "raw",
   "id": "7fe1792b-cdf0-4e82-8067-432522187f11",
   "metadata": {},
   "source": [
    "trying to figure out what is average cost by each payment method"
   ]
  },
  {
   "cell_type": "code",
   "execution_count": 51,
   "id": "f6a16031-9cce-434b-b8f1-8ffafa4d9fe6",
   "metadata": {},
   "outputs": [
    {
     "data": {
      "text/html": [
       "<div>\n",
       "<style scoped>\n",
       "    .dataframe tbody tr th:only-of-type {\n",
       "        vertical-align: middle;\n",
       "    }\n",
       "\n",
       "    .dataframe tbody tr th {\n",
       "        vertical-align: top;\n",
       "    }\n",
       "\n",
       "    .dataframe thead th {\n",
       "        text-align: right;\n",
       "    }\n",
       "</style>\n",
       "<table border=\"1\" class=\"dataframe\">\n",
       "  <thead>\n",
       "    <tr style=\"text-align: right;\">\n",
       "      <th></th>\n",
       "      <th>Total Charges</th>\n",
       "      <th>Total Long Distance Charges</th>\n",
       "      <th>Total Revenue</th>\n",
       "      <th>Monthly Charge</th>\n",
       "    </tr>\n",
       "    <tr>\n",
       "      <th>Payment Method</th>\n",
       "      <th></th>\n",
       "      <th></th>\n",
       "      <th></th>\n",
       "      <th></th>\n",
       "    </tr>\n",
       "  </thead>\n",
       "  <tbody>\n",
       "    <tr>\n",
       "      <th>Bank Withdrawal</th>\n",
       "      <td>2480.001957</td>\n",
       "      <td>755.956667</td>\n",
       "      <td>3241.773164</td>\n",
       "      <td>71.500371</td>\n",
       "    </tr>\n",
       "    <tr>\n",
       "      <th>Credit Card</th>\n",
       "      <td>2175.606162</td>\n",
       "      <td>787.748858</td>\n",
       "      <td>2967.328541</td>\n",
       "      <td>54.727246</td>\n",
       "    </tr>\n",
       "    <tr>\n",
       "      <th>Mailed Check</th>\n",
       "      <td>1001.704545</td>\n",
       "      <td>403.506182</td>\n",
       "      <td>1407.413584</td>\n",
       "      <td>46.668571</td>\n",
       "    </tr>\n",
       "  </tbody>\n",
       "</table>\n",
       "</div>"
      ],
      "text/plain": [
       "                 Total Charges  Total Long Distance Charges  Total Revenue  \\\n",
       "Payment Method                                                               \n",
       "Bank Withdrawal    2480.001957                   755.956667    3241.773164   \n",
       "Credit Card        2175.606162                   787.748858    2967.328541   \n",
       "Mailed Check       1001.704545                   403.506182    1407.413584   \n",
       "\n",
       "                 Monthly Charge  \n",
       "Payment Method                   \n",
       "Bank Withdrawal       71.500371  \n",
       "Credit Card           54.727246  \n",
       "Mailed Check          46.668571  "
      ]
     },
     "execution_count": 51,
     "metadata": {},
     "output_type": "execute_result"
    }
   ],
   "source": [
    "data.groupby(['Payment Method'])['Total Charges','Total Long Distance Charges','Total Revenue','Monthly Charge'].mean()"
   ]
  },
  {
   "cell_type": "code",
   "execution_count": 52,
   "id": "066d59dd-7334-4c3b-a1fa-afc1989a2b6f",
   "metadata": {},
   "outputs": [],
   "source": [
    "#pd.crosstab( data['Payment Method'],data['Churn'])"
   ]
  },
  {
   "cell_type": "code",
   "execution_count": 53,
   "id": "a31a5193-062e-4099-85bb-2083353d6c95",
   "metadata": {},
   "outputs": [
    {
     "name": "stdout",
     "output_type": "stream",
     "text": [
      "                        mean\n",
      "Payment Method              \n",
      "Bank Withdrawal  2480.001957\n",
      "Credit Card      2175.606162\n",
      "Mailed Check     1001.704545\n"
     ]
    }
   ],
   "source": [
    "grouped = data.groupby(['Payment Method'])['Total Charges'].agg(['mean'])\n",
    "print(grouped)"
   ]
  },
  {
   "cell_type": "code",
   "execution_count": 54,
   "id": "c2768362-d7cd-4ac6-ac69-82540caf91db",
   "metadata": {},
   "outputs": [
    {
     "data": {
      "text/plain": [
       "9694327.65"
      ]
     },
     "execution_count": 54,
     "metadata": {},
     "output_type": "execute_result"
    }
   ],
   "source": [
    "# find out sum or average of any column by their categories\n",
    "data[data['Payment Method'] == \"Bank Withdrawal\"]['Total Charges'].sum()"
   ]
  },
  {
   "cell_type": "markdown",
   "id": "8a689f57-e569-4bbc-a104-8ef81a1f3203",
   "metadata": {
    "tags": []
   },
   "source": [
    "#### 15) Monthly Charge and Total Charges"
   ]
  },
  {
   "cell_type": "code",
   "execution_count": 55,
   "id": "b567d059-1627-4f83-b8bb-d1a9a897f981",
   "metadata": {},
   "outputs": [
    {
     "data": {
      "text/html": [
       "<div>\n",
       "<style scoped>\n",
       "    .dataframe tbody tr th:only-of-type {\n",
       "        vertical-align: middle;\n",
       "    }\n",
       "\n",
       "    .dataframe tbody tr th {\n",
       "        vertical-align: top;\n",
       "    }\n",
       "\n",
       "    .dataframe thead th {\n",
       "        text-align: right;\n",
       "    }\n",
       "</style>\n",
       "<table border=\"1\" class=\"dataframe\">\n",
       "  <thead>\n",
       "    <tr style=\"text-align: right;\">\n",
       "      <th></th>\n",
       "      <th>Monthly Charge</th>\n",
       "      <th>Total Charges</th>\n",
       "      <th>Total Revenue</th>\n",
       "    </tr>\n",
       "  </thead>\n",
       "  <tbody>\n",
       "    <tr>\n",
       "      <th>count</th>\n",
       "      <td>7043.000000</td>\n",
       "      <td>7043.000000</td>\n",
       "      <td>7043.000000</td>\n",
       "    </tr>\n",
       "    <tr>\n",
       "      <th>mean</th>\n",
       "      <td>63.596131</td>\n",
       "      <td>2280.381264</td>\n",
       "      <td>3034.379056</td>\n",
       "    </tr>\n",
       "    <tr>\n",
       "      <th>std</th>\n",
       "      <td>31.204743</td>\n",
       "      <td>2266.220462</td>\n",
       "      <td>2865.204542</td>\n",
       "    </tr>\n",
       "    <tr>\n",
       "      <th>min</th>\n",
       "      <td>-10.000000</td>\n",
       "      <td>18.800000</td>\n",
       "      <td>21.360000</td>\n",
       "    </tr>\n",
       "    <tr>\n",
       "      <th>25%</th>\n",
       "      <td>30.400000</td>\n",
       "      <td>400.150000</td>\n",
       "      <td>605.610000</td>\n",
       "    </tr>\n",
       "    <tr>\n",
       "      <th>50%</th>\n",
       "      <td>70.050000</td>\n",
       "      <td>1394.550000</td>\n",
       "      <td>2108.640000</td>\n",
       "    </tr>\n",
       "    <tr>\n",
       "      <th>75%</th>\n",
       "      <td>89.750000</td>\n",
       "      <td>3786.600000</td>\n",
       "      <td>4801.145000</td>\n",
       "    </tr>\n",
       "    <tr>\n",
       "      <th>max</th>\n",
       "      <td>118.750000</td>\n",
       "      <td>8684.800000</td>\n",
       "      <td>11979.340000</td>\n",
       "    </tr>\n",
       "  </tbody>\n",
       "</table>\n",
       "</div>"
      ],
      "text/plain": [
       "       Monthly Charge  Total Charges  Total Revenue\n",
       "count     7043.000000    7043.000000    7043.000000\n",
       "mean        63.596131    2280.381264    3034.379056\n",
       "std         31.204743    2266.220462    2865.204542\n",
       "min        -10.000000      18.800000      21.360000\n",
       "25%         30.400000     400.150000     605.610000\n",
       "50%         70.050000    1394.550000    2108.640000\n",
       "75%         89.750000    3786.600000    4801.145000\n",
       "max        118.750000    8684.800000   11979.340000"
      ]
     },
     "execution_count": 55,
     "metadata": {},
     "output_type": "execute_result"
    }
   ],
   "source": [
    "data[['Monthly Charge','Total Charges','Total Revenue']].describe()"
   ]
  },
  {
   "cell_type": "code",
   "execution_count": 56,
   "id": "31711628-bb70-4d06-b54d-e06cd167d376",
   "metadata": {},
   "outputs": [
    {
     "name": "stdout",
     "output_type": "stream",
     "text": [
      "                       mean\n",
      "Customer Status            \n",
      "Churned          433.917549\n",
      "Stayed           862.952107\n"
     ]
    }
   ],
   "source": [
    "grouped = data.groupby(['Customer Status'])['Total Long Distance Charges'].agg(['mean'])\n",
    "print(grouped)"
   ]
  },
  {
   "cell_type": "code",
   "execution_count": 57,
   "id": "093a02ce-d3fe-4fcd-9cbf-7b1a0c0301e7",
   "metadata": {},
   "outputs": [
    {
     "name": "stdout",
     "output_type": "stream",
     "text": [
      "                        mean\n",
      "Customer Status             \n",
      "Churned          1531.796094\n",
      "Stayed           2550.792103\n"
     ]
    }
   ],
   "source": [
    "grouped = data.groupby(['Customer Status'])['Total Charges'].agg(['mean'])\n",
    "print(grouped)"
   ]
  },
  {
   "cell_type": "code",
   "execution_count": 58,
   "id": "bb9d2992-6bca-4019-8084-9ab8f5f5341c",
   "metadata": {},
   "outputs": [
    {
     "data": {
      "text/plain": [
       "<AxesSubplot:xlabel='Total Revenue'>"
      ]
     },
     "execution_count": 58,
     "metadata": {},
     "output_type": "execute_result"
    },
    {
     "data": {
      "image/png": "[encoded data removed]",
      "text/plain": [
       "<Figure size 432x288 with 1 Axes>"
      ]
     },
     "metadata": {
      "needs_background": "light"
     },
     "output_type": "display_data"
    }
   ],
   "source": [
    "sns.boxplot(data['Total Revenue'])"
   ]
  },
  {
   "cell_type": "code",
   "execution_count": 59,
   "id": "26a5bd1d-8a08-4572-9c4e-b29922f2a8a6",
   "metadata": {},
   "outputs": [
    {
     "data": {
      "text/plain": [
       "<AxesSubplot:xlabel='Total Charges'>"
      ]
     },
     "execution_count": 59,
     "metadata": {},
     "output_type": "execute_result"
    },
    {
     "data": {
      "image/png": "[encoded data removed]",
      "text/plain": [
       "<Figure size 432x288 with 1 Axes>"
      ]
     },
     "metadata": {
      "needs_background": "light"
     },
     "output_type": "display_data"
    }
   ],
   "source": [
    "sns.boxplot(data['Total Charges'])"
   ]
  },
  {
   "cell_type": "code",
   "execution_count": 60,
   "id": "3941900c-d4f9-4990-a582-502a21135fd8",
   "metadata": {},
   "outputs": [
    {
     "data": {
      "text/plain": [
       "<AxesSubplot:xlabel='Monthly Charge'>"
      ]
     },
     "execution_count": 60,
     "metadata": {},
     "output_type": "execute_result"
    },
    {
     "data": {
      "image/png": "[encoded data removed]",
      "text/plain": [
       "<Figure size 432x288 with 1 Axes>"
      ]
     },
     "metadata": {
      "needs_background": "light"
     },
     "output_type": "display_data"
    }
   ],
   "source": [
    "sns.boxplot(data['Monthly Charge'])"
   ]
  },
  {
   "cell_type": "markdown",
   "id": "08c1cbaa-ffee-4078-af36-ac5ad8cbd739",
   "metadata": {
    "tags": []
   },
   "source": [
    "#### 16) Total Long Distance Charges"
   ]
  },
  {
   "cell_type": "code",
   "execution_count": 61,
   "id": "3b72899a-01e6-45fb-b32a-9b2f13c167a8",
   "metadata": {},
   "outputs": [
    {
     "data": {
      "text/plain": [
       "count    7043.000000\n",
       "mean      749.099262\n",
       "std       846.660055\n",
       "min         0.000000\n",
       "25%        70.545000\n",
       "50%       401.440000\n",
       "75%      1191.100000\n",
       "max      3564.720000\n",
       "Name: Total Long Distance Charges, dtype: float64"
      ]
     },
     "execution_count": 61,
     "metadata": {},
     "output_type": "execute_result"
    }
   ],
   "source": [
    "data['Total Long Distance Charges'].describe()"
   ]
  },
  {
   "cell_type": "code",
   "execution_count": 62,
   "id": "d1b6e11b-ae01-49e2-8581-842b2e12aa94",
   "metadata": {},
   "outputs": [
    {
     "data": {
      "text/plain": [
       "<AxesSubplot:xlabel='Total Long Distance Charges'>"
      ]
     },
     "execution_count": 62,
     "metadata": {},
     "output_type": "execute_result"
    },
    {
     "data": {
      "image/png": "[encoded data removed]",
      "text/plain": [
       "<Figure size 432x288 with 1 Axes>"
      ]
     },
     "metadata": {
      "needs_background": "light"
     },
     "output_type": "display_data"
    }
   ],
   "source": [
    "sns.boxplot(data['Total Long Distance Charges'])"
   ]
  },
  {
   "cell_type": "code",
   "execution_count": 63,
   "id": "b946c0dd-57da-4e49-b7d4-fab08fde4ef6",
   "metadata": {},
   "outputs": [
    {
     "data": {
      "text/plain": [
       "<AxesSubplot:xlabel='Total Long Distance Charges', ylabel='Count'>"
      ]
     },
     "execution_count": 63,
     "metadata": {},
     "output_type": "execute_result"
    },
    {
     "data": {
      "image/png": "[encoded data removed]",
      "text/plain": [
       "<Figure size 432x288 with 1 Axes>"
      ]
     },
     "metadata": {
      "needs_background": "light"
     },
     "output_type": "display_data"
    }
   ],
   "source": [
    "sns.histplot(data=data, x=\"Total Long Distance Charges\", hue=\"Customer Status\")"
   ]
  },
  {
   "cell_type": "code",
   "execution_count": 64,
   "id": "6ac8b225-763d-43a6-836b-00411915ee2e",
   "metadata": {},
   "outputs": [
    {
     "data": {
      "text/plain": [
       "<AxesSubplot:xlabel='Monthly Charge', ylabel='Density'>"
      ]
     },
     "execution_count": 64,
     "metadata": {},
     "output_type": "execute_result"
    },
    {
     "data": {
      "image/png": "[encoded data removed]",
      "text/plain": [
       "<Figure size 432x288 with 1 Axes>"
      ]
     },
     "metadata": {
      "needs_background": "light"
     },
     "output_type": "display_data"
    }
   ],
   "source": [
    "sns.distplot(data['Monthly Charge'],kde=True)"
   ]
  },
  {
   "cell_type": "code",
   "execution_count": 65,
   "id": "719584e4-d837-46e8-9e04-188b03cb497c",
   "metadata": {},
   "outputs": [
    {
     "data": {
      "image/png": "[encoded data removed]",
      "text/plain": [
       "<Figure size 432x288 with 1 Axes>"
      ]
     },
     "metadata": {
      "needs_background": "light"
     },
     "output_type": "display_data"
    }
   ],
   "source": [
    "ax=sns.kdeplot(data['Monthly Charge'][(data[\"Churn\"] == 0) ],\n",
    "                color=\"Red\", shade = True);\n",
    "ax=sns.kdeplot(data['Monthly Charge'][(data[\"Churn\"] == 1) ],\n",
    "                ax =ax, color=\"Blue\", shade= True);\n",
    "ax.legend([\"Not Churn\",\"Churn\"],loc='upper right');\n",
    "ax.set_ylabel('Density');\n",
    "ax.set_xlabel('Monthly Charges');\n",
    "ax.set_title('Distribution of monthly charges by churn');"
   ]
  },
  {
   "cell_type": "code",
   "execution_count": 66,
   "id": "d0883386-ed3d-4934-86a3-ce4385e90167",
   "metadata": {},
   "outputs": [
    {
     "data": {
      "image/png": "[encoded data removed]",
      "text/plain": [
       "<Figure size 432x288 with 1 Axes>"
      ]
     },
     "metadata": {
      "needs_background": "light"
     },
     "output_type": "display_data"
    }
   ],
   "source": [
    "ax=sns.kdeplot(data['Tenure in Months'][(data[\"Churn\"] == 0) ],\n",
    "                color=\"Green\", shade = True);\n",
    "ax=sns.kdeplot(data['Tenure in Months'][(data[\"Churn\"] == 1) ],\n",
    "                ax =ax, color=\"Red\", shade= True);\n",
    "ax.legend([\"Not Churn\",\"Churn\"],loc='upper right');\n",
    "ax.set_ylabel('Density');\n",
    "ax.set_xlabel('Tenure in months');\n",
    "ax.set_title('Distribution of Tenure in Months by churn');"
   ]
  },
  {
   "cell_type": "code",
   "execution_count": 67,
   "id": "a55c8430-54eb-45fc-ab25-030e42f4e7ab",
   "metadata": {},
   "outputs": [
    {
     "data": {
      "text/plain": [
       "Index(['Customer ID', 'Gender', 'Age', 'Married', 'Number of Dependents',\n",
       "       'Number of Referrals', 'Tenure in Months', 'Offer', 'Phone Service',\n",
       "       'Avg Monthly Long Distance Charges', 'Multiple Lines',\n",
       "       'Internet Service', 'Internet Type', 'Avg Monthly GB Download',\n",
       "       'Online Security', 'Online Backup', 'Device Protection Plan',\n",
       "       'Premium Tech Support', 'Streaming TV', 'Streaming Movies',\n",
       "       'Streaming Music', 'Unlimited Data', 'Contract', 'Paperless Billing',\n",
       "       'Payment Method', 'Monthly Charge', 'Total Charges', 'Total Refunds',\n",
       "       'Total Extra Data Charges', 'Total Long Distance Charges',\n",
       "       'Total Revenue', 'Customer Status', 'Churn Category', 'Churn Reason',\n",
       "       'Churn'],\n",
       "      dtype='object')"
      ]
     },
     "execution_count": 67,
     "metadata": {},
     "output_type": "execute_result"
    }
   ],
   "source": [
    "data.columns"
   ]
  },
  {
   "cell_type": "code",
   "execution_count": 68,
   "id": "c3008d85-0dcc-4eb9-8e80-89dfe6f9d4df",
   "metadata": {},
   "outputs": [
    {
     "data": {
      "text/plain": [
       "Index(['Gender', 'Married', 'Offer', 'Phone Service', 'Multiple Lines',\n",
       "       'Internet Service', 'Internet Type', 'Online Security', 'Online Backup',\n",
       "       'Device Protection Plan', 'Premium Tech Support', 'Streaming TV',\n",
       "       'Streaming Movies', 'Streaming Music', 'Unlimited Data', 'Contract',\n",
       "       'Paperless Billing', 'Payment Method'],\n",
       "      dtype='object')"
      ]
     },
     "execution_count": 68,
     "metadata": {},
     "output_type": "execute_result"
    }
   ],
   "source": [
    "catg_col = data.select_dtypes(include=['object']).columns\n",
    "catg_col = catg_col.drop(['Customer ID','Customer Status',\n",
    "       'Churn Category', 'Churn Reason'])\n",
    "catg_col"
   ]
  },
  {
   "cell_type": "code",
   "execution_count": 69,
   "id": "78f14004-e353-4021-b33f-66a5b598b08e",
   "metadata": {},
   "outputs": [
    {
     "data": {
      "text/html": [
       "<div>\n",
       "<style scoped>\n",
       "    .dataframe tbody tr th:only-of-type {\n",
       "        vertical-align: middle;\n",
       "    }\n",
       "\n",
       "    .dataframe tbody tr th {\n",
       "        vertical-align: top;\n",
       "    }\n",
       "\n",
       "    .dataframe thead th {\n",
       "        text-align: right;\n",
       "    }\n",
       "</style>\n",
       "<table border=\"1\" class=\"dataframe\">\n",
       "  <thead>\n",
       "    <tr style=\"text-align: right;\">\n",
       "      <th>Churn</th>\n",
       "      <th>0</th>\n",
       "      <th>1</th>\n",
       "      <th>percentage</th>\n",
       "    </tr>\n",
       "    <tr>\n",
       "      <th>Gender</th>\n",
       "      <th></th>\n",
       "      <th></th>\n",
       "      <th></th>\n",
       "    </tr>\n",
       "  </thead>\n",
       "  <tbody>\n",
       "    <tr>\n",
       "      <th>Female</th>\n",
       "      <td>2549</td>\n",
       "      <td>939</td>\n",
       "      <td>0.269209</td>\n",
       "    </tr>\n",
       "    <tr>\n",
       "      <th>Male</th>\n",
       "      <td>2625</td>\n",
       "      <td>930</td>\n",
       "      <td>0.261603</td>\n",
       "    </tr>\n",
       "  </tbody>\n",
       "</table>\n",
       "</div>"
      ],
      "text/plain": [
       "Churn      0    1  percentage\n",
       "Gender                       \n",
       "Female  2549  939    0.269209\n",
       "Male    2625  930    0.261603"
      ]
     },
     "metadata": {},
     "output_type": "display_data"
    },
    {
     "data": {
      "text/html": [
       "<div>\n",
       "<style scoped>\n",
       "    .dataframe tbody tr th:only-of-type {\n",
       "        vertical-align: middle;\n",
       "    }\n",
       "\n",
       "    .dataframe tbody tr th {\n",
       "        vertical-align: top;\n",
       "    }\n",
       "\n",
       "    .dataframe thead th {\n",
       "        text-align: right;\n",
       "    }\n",
       "</style>\n",
       "<table border=\"1\" class=\"dataframe\">\n",
       "  <thead>\n",
       "    <tr style=\"text-align: right;\">\n",
       "      <th>Churn</th>\n",
       "      <th>0</th>\n",
       "      <th>1</th>\n",
       "      <th>percentage</th>\n",
       "    </tr>\n",
       "    <tr>\n",
       "      <th>Married</th>\n",
       "      <th></th>\n",
       "      <th></th>\n",
       "      <th></th>\n",
       "    </tr>\n",
       "  </thead>\n",
       "  <tbody>\n",
       "    <tr>\n",
       "      <th>No</th>\n",
       "      <td>2441</td>\n",
       "      <td>1200</td>\n",
       "      <td>0.329580</td>\n",
       "    </tr>\n",
       "    <tr>\n",
       "      <th>Yes</th>\n",
       "      <td>2733</td>\n",
       "      <td>669</td>\n",
       "      <td>0.196649</td>\n",
       "    </tr>\n",
       "  </tbody>\n",
       "</table>\n",
       "</div>"
      ],
      "text/plain": [
       "Churn       0     1  percentage\n",
       "Married                        \n",
       "No       2441  1200    0.329580\n",
       "Yes      2733   669    0.196649"
      ]
     },
     "metadata": {},
     "output_type": "display_data"
    },
    {
     "data": {
      "text/html": [
       "<div>\n",
       "<style scoped>\n",
       "    .dataframe tbody tr th:only-of-type {\n",
       "        vertical-align: middle;\n",
       "    }\n",
       "\n",
       "    .dataframe tbody tr th {\n",
       "        vertical-align: top;\n",
       "    }\n",
       "\n",
       "    .dataframe thead th {\n",
       "        text-align: right;\n",
       "    }\n",
       "</style>\n",
       "<table border=\"1\" class=\"dataframe\">\n",
       "  <thead>\n",
       "    <tr style=\"text-align: right;\">\n",
       "      <th>Churn</th>\n",
       "      <th>0</th>\n",
       "      <th>1</th>\n",
       "      <th>percentage</th>\n",
       "    </tr>\n",
       "    <tr>\n",
       "      <th>Offer</th>\n",
       "      <th></th>\n",
       "      <th></th>\n",
       "      <th></th>\n",
       "    </tr>\n",
       "  </thead>\n",
       "  <tbody>\n",
       "    <tr>\n",
       "      <th>None</th>\n",
       "      <td>2826</td>\n",
       "      <td>1051</td>\n",
       "      <td>0.271086</td>\n",
       "    </tr>\n",
       "    <tr>\n",
       "      <th>Offer A</th>\n",
       "      <td>485</td>\n",
       "      <td>35</td>\n",
       "      <td>0.067308</td>\n",
       "    </tr>\n",
       "    <tr>\n",
       "      <th>Offer B</th>\n",
       "      <td>723</td>\n",
       "      <td>101</td>\n",
       "      <td>0.122573</td>\n",
       "    </tr>\n",
       "    <tr>\n",
       "      <th>Offer C</th>\n",
       "      <td>320</td>\n",
       "      <td>95</td>\n",
       "      <td>0.228916</td>\n",
       "    </tr>\n",
       "    <tr>\n",
       "      <th>Offer D</th>\n",
       "      <td>441</td>\n",
       "      <td>161</td>\n",
       "      <td>0.267442</td>\n",
       "    </tr>\n",
       "    <tr>\n",
       "      <th>Offer E</th>\n",
       "      <td>379</td>\n",
       "      <td>426</td>\n",
       "      <td>0.529193</td>\n",
       "    </tr>\n",
       "  </tbody>\n",
       "</table>\n",
       "</div>"
      ],
      "text/plain": [
       "Churn       0     1  percentage\n",
       "Offer                          \n",
       "None     2826  1051    0.271086\n",
       "Offer A   485    35    0.067308\n",
       "Offer B   723   101    0.122573\n",
       "Offer C   320    95    0.228916\n",
       "Offer D   441   161    0.267442\n",
       "Offer E   379   426    0.529193"
      ]
     },
     "metadata": {},
     "output_type": "display_data"
    },
    {
     "data": {
      "text/html": [
       "<div>\n",
       "<style scoped>\n",
       "    .dataframe tbody tr th:only-of-type {\n",
       "        vertical-align: middle;\n",
       "    }\n",
       "\n",
       "    .dataframe tbody tr th {\n",
       "        vertical-align: top;\n",
       "    }\n",
       "\n",
       "    .dataframe thead th {\n",
       "        text-align: right;\n",
       "    }\n",
       "</style>\n",
       "<table border=\"1\" class=\"dataframe\">\n",
       "  <thead>\n",
       "    <tr style=\"text-align: right;\">\n",
       "      <th>Churn</th>\n",
       "      <th>0</th>\n",
       "      <th>1</th>\n",
       "      <th>percentage</th>\n",
       "    </tr>\n",
       "    <tr>\n",
       "      <th>Phone Service</th>\n",
       "      <th></th>\n",
       "      <th></th>\n",
       "      <th></th>\n",
       "    </tr>\n",
       "  </thead>\n",
       "  <tbody>\n",
       "    <tr>\n",
       "      <th>No</th>\n",
       "      <td>512</td>\n",
       "      <td>170</td>\n",
       "      <td>0.249267</td>\n",
       "    </tr>\n",
       "    <tr>\n",
       "      <th>Yes</th>\n",
       "      <td>4662</td>\n",
       "      <td>1699</td>\n",
       "      <td>0.267096</td>\n",
       "    </tr>\n",
       "  </tbody>\n",
       "</table>\n",
       "</div>"
      ],
      "text/plain": [
       "Churn             0     1  percentage\n",
       "Phone Service                        \n",
       "No              512   170    0.249267\n",
       "Yes            4662  1699    0.267096"
      ]
     },
     "metadata": {},
     "output_type": "display_data"
    },
    {
     "data": {
      "text/html": [
       "<div>\n",
       "<style scoped>\n",
       "    .dataframe tbody tr th:only-of-type {\n",
       "        vertical-align: middle;\n",
       "    }\n",
       "\n",
       "    .dataframe tbody tr th {\n",
       "        vertical-align: top;\n",
       "    }\n",
       "\n",
       "    .dataframe thead th {\n",
       "        text-align: right;\n",
       "    }\n",
       "</style>\n",
       "<table border=\"1\" class=\"dataframe\">\n",
       "  <thead>\n",
       "    <tr style=\"text-align: right;\">\n",
       "      <th>Churn</th>\n",
       "      <th>0</th>\n",
       "      <th>1</th>\n",
       "      <th>percentage</th>\n",
       "    </tr>\n",
       "    <tr>\n",
       "      <th>Multiple Lines</th>\n",
       "      <th></th>\n",
       "      <th></th>\n",
       "      <th></th>\n",
       "    </tr>\n",
       "  </thead>\n",
       "  <tbody>\n",
       "    <tr>\n",
       "      <th>NO phone Service</th>\n",
       "      <td>512</td>\n",
       "      <td>170</td>\n",
       "      <td>0.249267</td>\n",
       "    </tr>\n",
       "    <tr>\n",
       "      <th>No</th>\n",
       "      <td>2541</td>\n",
       "      <td>849</td>\n",
       "      <td>0.250442</td>\n",
       "    </tr>\n",
       "    <tr>\n",
       "      <th>Yes</th>\n",
       "      <td>2121</td>\n",
       "      <td>850</td>\n",
       "      <td>0.286099</td>\n",
       "    </tr>\n",
       "  </tbody>\n",
       "</table>\n",
       "</div>"
      ],
      "text/plain": [
       "Churn                0    1  percentage\n",
       "Multiple Lines                         \n",
       "NO phone Service   512  170    0.249267\n",
       "No                2541  849    0.250442\n",
       "Yes               2121  850    0.286099"
      ]
     },
     "metadata": {},
     "output_type": "display_data"
    },
    {
     "data": {
      "text/html": [
       "<div>\n",
       "<style scoped>\n",
       "    .dataframe tbody tr th:only-of-type {\n",
       "        vertical-align: middle;\n",
       "    }\n",
       "\n",
       "    .dataframe tbody tr th {\n",
       "        vertical-align: top;\n",
       "    }\n",
       "\n",
       "    .dataframe thead th {\n",
       "        text-align: right;\n",
       "    }\n",
       "</style>\n",
       "<table border=\"1\" class=\"dataframe\">\n",
       "  <thead>\n",
       "    <tr style=\"text-align: right;\">\n",
       "      <th>Churn</th>\n",
       "      <th>0</th>\n",
       "      <th>1</th>\n",
       "      <th>percentage</th>\n",
       "    </tr>\n",
       "    <tr>\n",
       "      <th>Internet Service</th>\n",
       "      <th></th>\n",
       "      <th></th>\n",
       "      <th></th>\n",
       "    </tr>\n",
       "  </thead>\n",
       "  <tbody>\n",
       "    <tr>\n",
       "      <th>No</th>\n",
       "      <td>1413</td>\n",
       "      <td>113</td>\n",
       "      <td>0.074050</td>\n",
       "    </tr>\n",
       "    <tr>\n",
       "      <th>Yes</th>\n",
       "      <td>3761</td>\n",
       "      <td>1756</td>\n",
       "      <td>0.318289</td>\n",
       "    </tr>\n",
       "  </tbody>\n",
       "</table>\n",
       "</div>"
      ],
      "text/plain": [
       "Churn                0     1  percentage\n",
       "Internet Service                        \n",
       "No                1413   113    0.074050\n",
       "Yes               3761  1756    0.318289"
      ]
     },
     "metadata": {},
     "output_type": "display_data"
    },
    {
     "data": {
      "text/html": [
       "<div>\n",
       "<style scoped>\n",
       "    .dataframe tbody tr th:only-of-type {\n",
       "        vertical-align: middle;\n",
       "    }\n",
       "\n",
       "    .dataframe tbody tr th {\n",
       "        vertical-align: top;\n",
       "    }\n",
       "\n",
       "    .dataframe thead th {\n",
       "        text-align: right;\n",
       "    }\n",
       "</style>\n",
       "<table border=\"1\" class=\"dataframe\">\n",
       "  <thead>\n",
       "    <tr style=\"text-align: right;\">\n",
       "      <th>Churn</th>\n",
       "      <th>0</th>\n",
       "      <th>1</th>\n",
       "      <th>percentage</th>\n",
       "    </tr>\n",
       "    <tr>\n",
       "      <th>Internet Type</th>\n",
       "      <th></th>\n",
       "      <th></th>\n",
       "      <th></th>\n",
       "    </tr>\n",
       "  </thead>\n",
       "  <tbody>\n",
       "    <tr>\n",
       "      <th>Cable</th>\n",
       "      <td>617</td>\n",
       "      <td>213</td>\n",
       "      <td>0.256627</td>\n",
       "    </tr>\n",
       "    <tr>\n",
       "      <th>DSL</th>\n",
       "      <td>1345</td>\n",
       "      <td>307</td>\n",
       "      <td>0.185835</td>\n",
       "    </tr>\n",
       "    <tr>\n",
       "      <th>Fiber Optic</th>\n",
       "      <td>1799</td>\n",
       "      <td>1236</td>\n",
       "      <td>0.407249</td>\n",
       "    </tr>\n",
       "    <tr>\n",
       "      <th>No Internet</th>\n",
       "      <td>1413</td>\n",
       "      <td>113</td>\n",
       "      <td>0.074050</td>\n",
       "    </tr>\n",
       "  </tbody>\n",
       "</table>\n",
       "</div>"
      ],
      "text/plain": [
       "Churn             0     1  percentage\n",
       "Internet Type                        \n",
       "Cable           617   213    0.256627\n",
       "DSL            1345   307    0.185835\n",
       "Fiber Optic    1799  1236    0.407249\n",
       "No Internet    1413   113    0.074050"
      ]
     },
     "metadata": {},
     "output_type": "display_data"
    },
    {
     "data": {
      "text/html": [
       "<div>\n",
       "<style scoped>\n",
       "    .dataframe tbody tr th:only-of-type {\n",
       "        vertical-align: middle;\n",
       "    }\n",
       "\n",
       "    .dataframe tbody tr th {\n",
       "        vertical-align: top;\n",
       "    }\n",
       "\n",
       "    .dataframe thead th {\n",
       "        text-align: right;\n",
       "    }\n",
       "</style>\n",
       "<table border=\"1\" class=\"dataframe\">\n",
       "  <thead>\n",
       "    <tr style=\"text-align: right;\">\n",
       "      <th>Churn</th>\n",
       "      <th>0</th>\n",
       "      <th>1</th>\n",
       "      <th>percentage</th>\n",
       "    </tr>\n",
       "    <tr>\n",
       "      <th>Online Security</th>\n",
       "      <th></th>\n",
       "      <th></th>\n",
       "      <th></th>\n",
       "    </tr>\n",
       "  </thead>\n",
       "  <tbody>\n",
       "    <tr>\n",
       "      <th>No</th>\n",
       "      <td>2037</td>\n",
       "      <td>1461</td>\n",
       "      <td>0.417667</td>\n",
       "    </tr>\n",
       "    <tr>\n",
       "      <th>No Internet</th>\n",
       "      <td>1413</td>\n",
       "      <td>113</td>\n",
       "      <td>0.074050</td>\n",
       "    </tr>\n",
       "    <tr>\n",
       "      <th>Yes</th>\n",
       "      <td>1724</td>\n",
       "      <td>295</td>\n",
       "      <td>0.146112</td>\n",
       "    </tr>\n",
       "  </tbody>\n",
       "</table>\n",
       "</div>"
      ],
      "text/plain": [
       "Churn               0     1  percentage\n",
       "Online Security                        \n",
       "No               2037  1461    0.417667\n",
       "No Internet      1413   113    0.074050\n",
       "Yes              1724   295    0.146112"
      ]
     },
     "metadata": {},
     "output_type": "display_data"
    },
    {
     "data": {
      "text/html": [
       "<div>\n",
       "<style scoped>\n",
       "    .dataframe tbody tr th:only-of-type {\n",
       "        vertical-align: middle;\n",
       "    }\n",
       "\n",
       "    .dataframe tbody tr th {\n",
       "        vertical-align: top;\n",
       "    }\n",
       "\n",
       "    .dataframe thead th {\n",
       "        text-align: right;\n",
       "    }\n",
       "</style>\n",
       "<table border=\"1\" class=\"dataframe\">\n",
       "  <thead>\n",
       "    <tr style=\"text-align: right;\">\n",
       "      <th>Churn</th>\n",
       "      <th>0</th>\n",
       "      <th>1</th>\n",
       "      <th>percentage</th>\n",
       "    </tr>\n",
       "    <tr>\n",
       "      <th>Online Backup</th>\n",
       "      <th></th>\n",
       "      <th></th>\n",
       "      <th></th>\n",
       "    </tr>\n",
       "  </thead>\n",
       "  <tbody>\n",
       "    <tr>\n",
       "      <th>No</th>\n",
       "      <td>1855</td>\n",
       "      <td>1233</td>\n",
       "      <td>0.399288</td>\n",
       "    </tr>\n",
       "    <tr>\n",
       "      <th>No Internet</th>\n",
       "      <td>1413</td>\n",
       "      <td>113</td>\n",
       "      <td>0.074050</td>\n",
       "    </tr>\n",
       "    <tr>\n",
       "      <th>Yes</th>\n",
       "      <td>1906</td>\n",
       "      <td>523</td>\n",
       "      <td>0.215315</td>\n",
       "    </tr>\n",
       "  </tbody>\n",
       "</table>\n",
       "</div>"
      ],
      "text/plain": [
       "Churn             0     1  percentage\n",
       "Online Backup                        \n",
       "No             1855  1233    0.399288\n",
       "No Internet    1413   113    0.074050\n",
       "Yes            1906   523    0.215315"
      ]
     },
     "metadata": {},
     "output_type": "display_data"
    },
    {
     "data": {
      "text/html": [
       "<div>\n",
       "<style scoped>\n",
       "    .dataframe tbody tr th:only-of-type {\n",
       "        vertical-align: middle;\n",
       "    }\n",
       "\n",
       "    .dataframe tbody tr th {\n",
       "        vertical-align: top;\n",
       "    }\n",
       "\n",
       "    .dataframe thead th {\n",
       "        text-align: right;\n",
       "    }\n",
       "</style>\n",
       "<table border=\"1\" class=\"dataframe\">\n",
       "  <thead>\n",
       "    <tr style=\"text-align: right;\">\n",
       "      <th>Churn</th>\n",
       "      <th>0</th>\n",
       "      <th>1</th>\n",
       "      <th>percentage</th>\n",
       "    </tr>\n",
       "    <tr>\n",
       "      <th>Device Protection Plan</th>\n",
       "      <th></th>\n",
       "      <th></th>\n",
       "      <th></th>\n",
       "    </tr>\n",
       "  </thead>\n",
       "  <tbody>\n",
       "    <tr>\n",
       "      <th>No</th>\n",
       "      <td>1884</td>\n",
       "      <td>1211</td>\n",
       "      <td>0.391276</td>\n",
       "    </tr>\n",
       "    <tr>\n",
       "      <th>No Internet</th>\n",
       "      <td>1413</td>\n",
       "      <td>113</td>\n",
       "      <td>0.074050</td>\n",
       "    </tr>\n",
       "    <tr>\n",
       "      <th>Yes</th>\n",
       "      <td>1877</td>\n",
       "      <td>545</td>\n",
       "      <td>0.225021</td>\n",
       "    </tr>\n",
       "  </tbody>\n",
       "</table>\n",
       "</div>"
      ],
      "text/plain": [
       "Churn                      0     1  percentage\n",
       "Device Protection Plan                        \n",
       "No                      1884  1211    0.391276\n",
       "No Internet             1413   113    0.074050\n",
       "Yes                     1877   545    0.225021"
      ]
     },
     "metadata": {},
     "output_type": "display_data"
    },
    {
     "data": {
      "text/html": [
       "<div>\n",
       "<style scoped>\n",
       "    .dataframe tbody tr th:only-of-type {\n",
       "        vertical-align: middle;\n",
       "    }\n",
       "\n",
       "    .dataframe tbody tr th {\n",
       "        vertical-align: top;\n",
       "    }\n",
       "\n",
       "    .dataframe thead th {\n",
       "        text-align: right;\n",
       "    }\n",
       "</style>\n",
       "<table border=\"1\" class=\"dataframe\">\n",
       "  <thead>\n",
       "    <tr style=\"text-align: right;\">\n",
       "      <th>Churn</th>\n",
       "      <th>0</th>\n",
       "      <th>1</th>\n",
       "      <th>percentage</th>\n",
       "    </tr>\n",
       "    <tr>\n",
       "      <th>Premium Tech Support</th>\n",
       "      <th></th>\n",
       "      <th></th>\n",
       "      <th></th>\n",
       "    </tr>\n",
       "  </thead>\n",
       "  <tbody>\n",
       "    <tr>\n",
       "      <th>No</th>\n",
       "      <td>2027</td>\n",
       "      <td>1446</td>\n",
       "      <td>0.416355</td>\n",
       "    </tr>\n",
       "    <tr>\n",
       "      <th>No Internet</th>\n",
       "      <td>1413</td>\n",
       "      <td>113</td>\n",
       "      <td>0.074050</td>\n",
       "    </tr>\n",
       "    <tr>\n",
       "      <th>Yes</th>\n",
       "      <td>1734</td>\n",
       "      <td>310</td>\n",
       "      <td>0.151663</td>\n",
       "    </tr>\n",
       "  </tbody>\n",
       "</table>\n",
       "</div>"
      ],
      "text/plain": [
       "Churn                    0     1  percentage\n",
       "Premium Tech Support                        \n",
       "No                    2027  1446    0.416355\n",
       "No Internet           1413   113    0.074050\n",
       "Yes                   1734   310    0.151663"
      ]
     },
     "metadata": {},
     "output_type": "display_data"
    },
    {
     "data": {
      "text/html": [
       "<div>\n",
       "<style scoped>\n",
       "    .dataframe tbody tr th:only-of-type {\n",
       "        vertical-align: middle;\n",
       "    }\n",
       "\n",
       "    .dataframe tbody tr th {\n",
       "        vertical-align: top;\n",
       "    }\n",
       "\n",
       "    .dataframe thead th {\n",
       "        text-align: right;\n",
       "    }\n",
       "</style>\n",
       "<table border=\"1\" class=\"dataframe\">\n",
       "  <thead>\n",
       "    <tr style=\"text-align: right;\">\n",
       "      <th>Churn</th>\n",
       "      <th>0</th>\n",
       "      <th>1</th>\n",
       "      <th>percentage</th>\n",
       "    </tr>\n",
       "    <tr>\n",
       "      <th>Streaming TV</th>\n",
       "      <th></th>\n",
       "      <th></th>\n",
       "      <th></th>\n",
       "    </tr>\n",
       "  </thead>\n",
       "  <tbody>\n",
       "    <tr>\n",
       "      <th>No</th>\n",
       "      <td>1868</td>\n",
       "      <td>942</td>\n",
       "      <td>0.335231</td>\n",
       "    </tr>\n",
       "    <tr>\n",
       "      <th>No Internet</th>\n",
       "      <td>1413</td>\n",
       "      <td>113</td>\n",
       "      <td>0.074050</td>\n",
       "    </tr>\n",
       "    <tr>\n",
       "      <th>Yes</th>\n",
       "      <td>1893</td>\n",
       "      <td>814</td>\n",
       "      <td>0.300702</td>\n",
       "    </tr>\n",
       "  </tbody>\n",
       "</table>\n",
       "</div>"
      ],
      "text/plain": [
       "Churn            0    1  percentage\n",
       "Streaming TV                       \n",
       "No            1868  942    0.335231\n",
       "No Internet   1413  113    0.074050\n",
       "Yes           1893  814    0.300702"
      ]
     },
     "metadata": {},
     "output_type": "display_data"
    },
    {
     "data": {
      "text/html": [
       "<div>\n",
       "<style scoped>\n",
       "    .dataframe tbody tr th:only-of-type {\n",
       "        vertical-align: middle;\n",
       "    }\n",
       "\n",
       "    .dataframe tbody tr th {\n",
       "        vertical-align: top;\n",
       "    }\n",
       "\n",
       "    .dataframe thead th {\n",
       "        text-align: right;\n",
       "    }\n",
       "</style>\n",
       "<table border=\"1\" class=\"dataframe\">\n",
       "  <thead>\n",
       "    <tr style=\"text-align: right;\">\n",
       "      <th>Churn</th>\n",
       "      <th>0</th>\n",
       "      <th>1</th>\n",
       "      <th>percentage</th>\n",
       "    </tr>\n",
       "    <tr>\n",
       "      <th>Streaming Movies</th>\n",
       "      <th></th>\n",
       "      <th></th>\n",
       "      <th></th>\n",
       "    </tr>\n",
       "  </thead>\n",
       "  <tbody>\n",
       "    <tr>\n",
       "      <th>No</th>\n",
       "      <td>1847</td>\n",
       "      <td>938</td>\n",
       "      <td>0.336804</td>\n",
       "    </tr>\n",
       "    <tr>\n",
       "      <th>No Internet</th>\n",
       "      <td>1413</td>\n",
       "      <td>113</td>\n",
       "      <td>0.074050</td>\n",
       "    </tr>\n",
       "    <tr>\n",
       "      <th>Yes</th>\n",
       "      <td>1914</td>\n",
       "      <td>818</td>\n",
       "      <td>0.299414</td>\n",
       "    </tr>\n",
       "  </tbody>\n",
       "</table>\n",
       "</div>"
      ],
      "text/plain": [
       "Churn                0    1  percentage\n",
       "Streaming Movies                       \n",
       "No                1847  938    0.336804\n",
       "No Internet       1413  113    0.074050\n",
       "Yes               1914  818    0.299414"
      ]
     },
     "metadata": {},
     "output_type": "display_data"
    },
    {
     "data": {
      "text/html": [
       "<div>\n",
       "<style scoped>\n",
       "    .dataframe tbody tr th:only-of-type {\n",
       "        vertical-align: middle;\n",
       "    }\n",
       "\n",
       "    .dataframe tbody tr th {\n",
       "        vertical-align: top;\n",
       "    }\n",
       "\n",
       "    .dataframe thead th {\n",
       "        text-align: right;\n",
       "    }\n",
       "</style>\n",
       "<table border=\"1\" class=\"dataframe\">\n",
       "  <thead>\n",
       "    <tr style=\"text-align: right;\">\n",
       "      <th>Churn</th>\n",
       "      <th>0</th>\n",
       "      <th>1</th>\n",
       "      <th>percentage</th>\n",
       "    </tr>\n",
       "    <tr>\n",
       "      <th>Streaming Music</th>\n",
       "      <th></th>\n",
       "      <th></th>\n",
       "      <th></th>\n",
       "    </tr>\n",
       "  </thead>\n",
       "  <tbody>\n",
       "    <tr>\n",
       "      <th>No</th>\n",
       "      <td>2001</td>\n",
       "      <td>1028</td>\n",
       "      <td>0.339386</td>\n",
       "    </tr>\n",
       "    <tr>\n",
       "      <th>No Internet</th>\n",
       "      <td>1413</td>\n",
       "      <td>113</td>\n",
       "      <td>0.074050</td>\n",
       "    </tr>\n",
       "    <tr>\n",
       "      <th>Yes</th>\n",
       "      <td>1760</td>\n",
       "      <td>728</td>\n",
       "      <td>0.292605</td>\n",
       "    </tr>\n",
       "  </tbody>\n",
       "</table>\n",
       "</div>"
      ],
      "text/plain": [
       "Churn               0     1  percentage\n",
       "Streaming Music                        \n",
       "No               2001  1028    0.339386\n",
       "No Internet      1413   113    0.074050\n",
       "Yes              1760   728    0.292605"
      ]
     },
     "metadata": {},
     "output_type": "display_data"
    },
    {
     "data": {
      "text/html": [
       "<div>\n",
       "<style scoped>\n",
       "    .dataframe tbody tr th:only-of-type {\n",
       "        vertical-align: middle;\n",
       "    }\n",
       "\n",
       "    .dataframe tbody tr th {\n",
       "        vertical-align: top;\n",
       "    }\n",
       "\n",
       "    .dataframe thead th {\n",
       "        text-align: right;\n",
       "    }\n",
       "</style>\n",
       "<table border=\"1\" class=\"dataframe\">\n",
       "  <thead>\n",
       "    <tr style=\"text-align: right;\">\n",
       "      <th>Churn</th>\n",
       "      <th>0</th>\n",
       "      <th>1</th>\n",
       "      <th>percentage</th>\n",
       "    </tr>\n",
       "    <tr>\n",
       "      <th>Unlimited Data</th>\n",
       "      <th></th>\n",
       "      <th></th>\n",
       "      <th></th>\n",
       "    </tr>\n",
       "  </thead>\n",
       "  <tbody>\n",
       "    <tr>\n",
       "      <th>No</th>\n",
       "      <td>518</td>\n",
       "      <td>254</td>\n",
       "      <td>0.329016</td>\n",
       "    </tr>\n",
       "    <tr>\n",
       "      <th>No Internet</th>\n",
       "      <td>1413</td>\n",
       "      <td>113</td>\n",
       "      <td>0.074050</td>\n",
       "    </tr>\n",
       "    <tr>\n",
       "      <th>Yes</th>\n",
       "      <td>3243</td>\n",
       "      <td>1502</td>\n",
       "      <td>0.316544</td>\n",
       "    </tr>\n",
       "  </tbody>\n",
       "</table>\n",
       "</div>"
      ],
      "text/plain": [
       "Churn              0     1  percentage\n",
       "Unlimited Data                        \n",
       "No               518   254    0.329016\n",
       "No Internet     1413   113    0.074050\n",
       "Yes             3243  1502    0.316544"
      ]
     },
     "metadata": {},
     "output_type": "display_data"
    },
    {
     "data": {
      "text/html": [
       "<div>\n",
       "<style scoped>\n",
       "    .dataframe tbody tr th:only-of-type {\n",
       "        vertical-align: middle;\n",
       "    }\n",
       "\n",
       "    .dataframe tbody tr th {\n",
       "        vertical-align: top;\n",
       "    }\n",
       "\n",
       "    .dataframe thead th {\n",
       "        text-align: right;\n",
       "    }\n",
       "</style>\n",
       "<table border=\"1\" class=\"dataframe\">\n",
       "  <thead>\n",
       "    <tr style=\"text-align: right;\">\n",
       "      <th>Churn</th>\n",
       "      <th>0</th>\n",
       "      <th>1</th>\n",
       "      <th>percentage</th>\n",
       "    </tr>\n",
       "    <tr>\n",
       "      <th>Contract</th>\n",
       "      <th></th>\n",
       "      <th></th>\n",
       "      <th></th>\n",
       "    </tr>\n",
       "  </thead>\n",
       "  <tbody>\n",
       "    <tr>\n",
       "      <th>Month-to-Month</th>\n",
       "      <td>1955</td>\n",
       "      <td>1655</td>\n",
       "      <td>0.458449</td>\n",
       "    </tr>\n",
       "    <tr>\n",
       "      <th>One Year</th>\n",
       "      <td>1384</td>\n",
       "      <td>166</td>\n",
       "      <td>0.107097</td>\n",
       "    </tr>\n",
       "    <tr>\n",
       "      <th>Two Year</th>\n",
       "      <td>1835</td>\n",
       "      <td>48</td>\n",
       "      <td>0.025491</td>\n",
       "    </tr>\n",
       "  </tbody>\n",
       "</table>\n",
       "</div>"
      ],
      "text/plain": [
       "Churn              0     1  percentage\n",
       "Contract                              \n",
       "Month-to-Month  1955  1655    0.458449\n",
       "One Year        1384   166    0.107097\n",
       "Two Year        1835    48    0.025491"
      ]
     },
     "metadata": {},
     "output_type": "display_data"
    },
    {
     "data": {
      "text/html": [
       "<div>\n",
       "<style scoped>\n",
       "    .dataframe tbody tr th:only-of-type {\n",
       "        vertical-align: middle;\n",
       "    }\n",
       "\n",
       "    .dataframe tbody tr th {\n",
       "        vertical-align: top;\n",
       "    }\n",
       "\n",
       "    .dataframe thead th {\n",
       "        text-align: right;\n",
       "    }\n",
       "</style>\n",
       "<table border=\"1\" class=\"dataframe\">\n",
       "  <thead>\n",
       "    <tr style=\"text-align: right;\">\n",
       "      <th>Churn</th>\n",
       "      <th>0</th>\n",
       "      <th>1</th>\n",
       "      <th>percentage</th>\n",
       "    </tr>\n",
       "    <tr>\n",
       "      <th>Paperless Billing</th>\n",
       "      <th></th>\n",
       "      <th></th>\n",
       "      <th></th>\n",
       "    </tr>\n",
       "  </thead>\n",
       "  <tbody>\n",
       "    <tr>\n",
       "      <th>No</th>\n",
       "      <td>2403</td>\n",
       "      <td>469</td>\n",
       "      <td>0.163301</td>\n",
       "    </tr>\n",
       "    <tr>\n",
       "      <th>Yes</th>\n",
       "      <td>2771</td>\n",
       "      <td>1400</td>\n",
       "      <td>0.335651</td>\n",
       "    </tr>\n",
       "  </tbody>\n",
       "</table>\n",
       "</div>"
      ],
      "text/plain": [
       "Churn                 0     1  percentage\n",
       "Paperless Billing                        \n",
       "No                 2403   469    0.163301\n",
       "Yes                2771  1400    0.335651"
      ]
     },
     "metadata": {},
     "output_type": "display_data"
    },
    {
     "data": {
      "text/html": [
       "<div>\n",
       "<style scoped>\n",
       "    .dataframe tbody tr th:only-of-type {\n",
       "        vertical-align: middle;\n",
       "    }\n",
       "\n",
       "    .dataframe tbody tr th {\n",
       "        vertical-align: top;\n",
       "    }\n",
       "\n",
       "    .dataframe thead th {\n",
       "        text-align: right;\n",
       "    }\n",
       "</style>\n",
       "<table border=\"1\" class=\"dataframe\">\n",
       "  <thead>\n",
       "    <tr style=\"text-align: right;\">\n",
       "      <th>Churn</th>\n",
       "      <th>0</th>\n",
       "      <th>1</th>\n",
       "      <th>percentage</th>\n",
       "    </tr>\n",
       "    <tr>\n",
       "      <th>Payment Method</th>\n",
       "      <th></th>\n",
       "      <th></th>\n",
       "      <th></th>\n",
       "    </tr>\n",
       "  </thead>\n",
       "  <tbody>\n",
       "    <tr>\n",
       "      <th>Bank Withdrawal</th>\n",
       "      <td>2580</td>\n",
       "      <td>1329</td>\n",
       "      <td>0.339985</td>\n",
       "    </tr>\n",
       "    <tr>\n",
       "      <th>Credit Card</th>\n",
       "      <td>2351</td>\n",
       "      <td>398</td>\n",
       "      <td>0.144780</td>\n",
       "    </tr>\n",
       "    <tr>\n",
       "      <th>Mailed Check</th>\n",
       "      <td>243</td>\n",
       "      <td>142</td>\n",
       "      <td>0.368831</td>\n",
       "    </tr>\n",
       "  </tbody>\n",
       "</table>\n",
       "</div>"
      ],
      "text/plain": [
       "Churn               0     1  percentage\n",
       "Payment Method                         \n",
       "Bank Withdrawal  2580  1329    0.339985\n",
       "Credit Card      2351   398    0.144780\n",
       "Mailed Check      243   142    0.368831"
      ]
     },
     "metadata": {},
     "output_type": "display_data"
    }
   ],
   "source": [
    "\n",
    "for i in catg_col:\n",
    "    out=data[[i,'Churn']].pivot_table(index=i,columns='Churn',aggfunc=len)\n",
    "    out['percentage']=out[1]/(out[0]+out[1])\n",
    "    display(out) \n"
   ]
  },
  {
   "cell_type": "code",
   "execution_count": 70,
   "id": "11abaf8f-17ea-497c-88ac-a4c1636d6741",
   "metadata": {},
   "outputs": [
    {
     "data": {
      "text/plain": [
       "(6923, 36)"
      ]
     },
     "execution_count": 70,
     "metadata": {},
     "output_type": "execute_result"
    }
   ],
   "source": [
    "data = data[data['Monthly Charge']>0].reset_index()\n",
    "data.shape"
   ]
  },
  {
   "cell_type": "markdown",
   "id": "4d647cea-46b4-4c27-a4c3-59fca6d267bf",
   "metadata": {
    "tags": []
   },
   "source": [
    "### Model Creation"
   ]
  },
  {
   "cell_type": "code",
   "execution_count": 71,
   "id": "811aec09-c4f6-4a52-94fd-a0e3a8504fce",
   "metadata": {},
   "outputs": [],
   "source": [
    "from sklearn.preprocessing import OneHotEncoder\n",
    "from sklearn.model_selection import train_test_split\n",
    "from sklearn.ensemble import RandomForestClassifier\n",
    "from sklearn.linear_model import LogisticRegression\n",
    "from sklearn.metrics import mean_absolute_error, mean_squared_error\n",
    "from sklearn.metrics import confusion_matrix\n",
    "from sklearn.metrics import classification_report\n",
    "from sklearn.model_selection import KFold\n",
    "from sklearn import metrics"
   ]
  },
  {
   "cell_type": "code",
   "execution_count": null,
   "id": "a6528295-f1e9-4920-83ab-947e1e1a6472",
   "metadata": {},
   "outputs": [],
   "source": []
  },
  {
   "cell_type": "code",
   "execution_count": 72,
   "id": "b0c93e98-9750-4ad2-a018-2f0276b90085",
   "metadata": {},
   "outputs": [
    {
     "data": {
      "text/plain": [
       "Index(['index', 'Customer ID', 'Gender', 'Age', 'Married',\n",
       "       'Number of Dependents', 'Number of Referrals', 'Tenure in Months',\n",
       "       'Offer', 'Phone Service', 'Avg Monthly Long Distance Charges',\n",
       "       'Multiple Lines', 'Internet Service', 'Internet Type',\n",
       "       'Avg Monthly GB Download', 'Online Security', 'Online Backup',\n",
       "       'Device Protection Plan', 'Premium Tech Support', 'Streaming TV',\n",
       "       'Streaming Movies', 'Streaming Music', 'Unlimited Data', 'Contract',\n",
       "       'Paperless Billing', 'Payment Method', 'Monthly Charge',\n",
       "       'Total Charges', 'Total Refunds', 'Total Extra Data Charges',\n",
       "       'Total Long Distance Charges', 'Total Revenue', 'Customer Status',\n",
       "       'Churn Category', 'Churn Reason', 'Churn'],\n",
       "      dtype='object')"
      ]
     },
     "execution_count": 72,
     "metadata": {},
     "output_type": "execute_result"
    }
   ],
   "source": [
    "model_data = data.copy()\n",
    "model_data.columns"
   ]
  },
  {
   "cell_type": "code",
   "execution_count": 73,
   "id": "88ee484f-7618-466e-b7e3-94df70126292",
   "metadata": {},
   "outputs": [
    {
     "data": {
      "text/plain": [
       "(6923, 31)"
      ]
     },
     "execution_count": 73,
     "metadata": {},
     "output_type": "execute_result"
    }
   ],
   "source": [
    "## dropping not required columns\n",
    "\n",
    "model_data.drop(['index','Customer ID','Customer Status','Churn Category','Churn Reason'],axis=1,inplace=True)\n",
    "model_data.shape"
   ]
  },
  {
   "cell_type": "code",
   "execution_count": 74,
   "id": "fbd336a9-b437-4dca-90e5-80b8d2f13388",
   "metadata": {},
   "outputs": [
    {
     "name": "stdout",
     "output_type": "stream",
     "text": [
      "<class 'pandas.core.frame.DataFrame'>\n",
      "RangeIndex: 6923 entries, 0 to 6922\n",
      "Data columns (total 31 columns):\n",
      " #   Column                             Non-Null Count  Dtype  \n",
      "---  ------                             --------------  -----  \n",
      " 0   Gender                             6923 non-null   object \n",
      " 1   Age                                6923 non-null   int64  \n",
      " 2   Married                            6923 non-null   object \n",
      " 3   Number of Dependents               6923 non-null   int64  \n",
      " 4   Number of Referrals                6923 non-null   int64  \n",
      " 5   Tenure in Months                   6923 non-null   int64  \n",
      " 6   Offer                              6923 non-null   object \n",
      " 7   Phone Service                      6923 non-null   object \n",
      " 8   Avg Monthly Long Distance Charges  6923 non-null   float64\n",
      " 9   Multiple Lines                     6923 non-null   object \n",
      " 10  Internet Service                   6923 non-null   object \n",
      " 11  Internet Type                      6923 non-null   object \n",
      " 12  Avg Monthly GB Download            6923 non-null   float64\n",
      " 13  Online Security                    6923 non-null   object \n",
      " 14  Online Backup                      6923 non-null   object \n",
      " 15  Device Protection Plan             6923 non-null   object \n",
      " 16  Premium Tech Support               6923 non-null   object \n",
      " 17  Streaming TV                       6923 non-null   object \n",
      " 18  Streaming Movies                   6923 non-null   object \n",
      " 19  Streaming Music                    6923 non-null   object \n",
      " 20  Unlimited Data                     6923 non-null   object \n",
      " 21  Contract                           6923 non-null   object \n",
      " 22  Paperless Billing                  6923 non-null   object \n",
      " 23  Payment Method                     6923 non-null   object \n",
      " 24  Monthly Charge                     6923 non-null   float64\n",
      " 25  Total Charges                      6923 non-null   float64\n",
      " 26  Total Refunds                      6923 non-null   float64\n",
      " 27  Total Extra Data Charges           6923 non-null   int64  \n",
      " 28  Total Long Distance Charges        6923 non-null   float64\n",
      " 29  Total Revenue                      6923 non-null   float64\n",
      " 30  Churn                              6923 non-null   int64  \n",
      "dtypes: float64(7), int64(6), object(18)\n",
      "memory usage: 1.6+ MB\n"
     ]
    }
   ],
   "source": [
    "model_data.info()"
   ]
  },
  {
   "cell_type": "code",
   "execution_count": 75,
   "id": "15e403db-490a-4df8-ba56-8cb668eafd07",
   "metadata": {},
   "outputs": [
    {
     "data": {
      "text/plain": [
       "Gender                               0\n",
       "Age                                  0\n",
       "Married                              0\n",
       "Number of Dependents                 0\n",
       "Number of Referrals                  0\n",
       "Tenure in Months                     0\n",
       "Offer                                0\n",
       "Phone Service                        0\n",
       "Avg Monthly Long Distance Charges    0\n",
       "Multiple Lines                       0\n",
       "Internet Service                     0\n",
       "Internet Type                        0\n",
       "Avg Monthly GB Download              0\n",
       "Online Security                      0\n",
       "Online Backup                        0\n",
       "Device Protection Plan               0\n",
       "Premium Tech Support                 0\n",
       "Streaming TV                         0\n",
       "Streaming Movies                     0\n",
       "Streaming Music                      0\n",
       "Unlimited Data                       0\n",
       "Contract                             0\n",
       "Paperless Billing                    0\n",
       "Payment Method                       0\n",
       "Monthly Charge                       0\n",
       "Total Charges                        0\n",
       "Total Refunds                        0\n",
       "Total Extra Data Charges             0\n",
       "Total Long Distance Charges          0\n",
       "Total Revenue                        0\n",
       "Churn                                0\n",
       "dtype: int64"
      ]
     },
     "execution_count": 75,
     "metadata": {},
     "output_type": "execute_result"
    }
   ],
   "source": [
    "model_data.isnull().sum()"
   ]
  },
  {
   "cell_type": "code",
   "execution_count": 76,
   "id": "458421cc-b592-43c4-85a9-1f468fc5e15c",
   "metadata": {},
   "outputs": [],
   "source": [
    "ohe = OneHotEncoder(categories='auto',drop='first',sparse=True,handle_unknown='error')\n",
    "transformed = ohe.fit_transform(model_data[['Gender','Married','Offer','Phone Service','Multiple Lines',\n",
    "       'Internet Service', 'Internet Type','Online Security', 'Online Backup', 'Device Protection Plan',\n",
    "       'Premium Tech Support', 'Streaming TV', 'Streaming Movies',\n",
    "       'Streaming Music','Unlimited Data', 'Contract', 'Paperless Billing',\n",
    "       'Payment Method']])\n",
    "\n"
   ]
  },
  {
   "cell_type": "code",
   "execution_count": 77,
   "id": "e68ed0bd-73cb-45cc-a054-a7510543b003",
   "metadata": {},
   "outputs": [
    {
     "data": {
      "text/plain": [
       "array(['Gender_Male', 'Married_Yes', 'Offer_Offer A', 'Offer_Offer B',\n",
       "       'Offer_Offer C', 'Offer_Offer D', 'Offer_Offer E',\n",
       "       'Phone Service_Yes', 'Multiple Lines_No', 'Multiple Lines_Yes',\n",
       "       'Internet Service_Yes', 'Internet Type_DSL',\n",
       "       'Internet Type_Fiber Optic', 'Internet Type_No Internet',\n",
       "       'Online Security_No Internet', 'Online Security_Yes',\n",
       "       'Online Backup_No Internet', 'Online Backup_Yes',\n",
       "       'Device Protection Plan_No Internet', 'Device Protection Plan_Yes',\n",
       "       'Premium Tech Support_No Internet', 'Premium Tech Support_Yes',\n",
       "       'Streaming TV_No Internet', 'Streaming TV_Yes',\n",
       "       'Streaming Movies_No Internet', 'Streaming Movies_Yes',\n",
       "       'Streaming Music_No Internet', 'Streaming Music_Yes',\n",
       "       'Unlimited Data_No Internet', 'Unlimited Data_Yes',\n",
       "       'Contract_One Year', 'Contract_Two Year', 'Paperless Billing_Yes',\n",
       "       'Payment Method_Credit Card', 'Payment Method_Mailed Check'],\n",
       "      dtype=object)"
      ]
     },
     "execution_count": 77,
     "metadata": {},
     "output_type": "execute_result"
    }
   ],
   "source": [
    "feature_labels = ohe.get_feature_names(['Gender','Married','Offer','Phone Service','Multiple Lines',\n",
    "       'Internet Service', 'Internet Type','Online Security', 'Online Backup', 'Device Protection Plan',\n",
    "       'Premium Tech Support', 'Streaming TV', 'Streaming Movies',\n",
    "       'Streaming Music','Unlimited Data', 'Contract', 'Paperless Billing',\n",
    "       'Payment Method'])\n",
    "feature_labels\n"
   ]
  },
  {
   "cell_type": "code",
   "execution_count": 78,
   "id": "d0123ad4-fc8a-4f36-97d5-cfed7ff06522",
   "metadata": {},
   "outputs": [
    {
     "data": {
      "text/html": [
       "<div>\n",
       "<style scoped>\n",
       "    .dataframe tbody tr th:only-of-type {\n",
       "        vertical-align: middle;\n",
       "    }\n",
       "\n",
       "    .dataframe tbody tr th {\n",
       "        vertical-align: top;\n",
       "    }\n",
       "\n",
       "    .dataframe thead th {\n",
       "        text-align: right;\n",
       "    }\n",
       "</style>\n",
       "<table border=\"1\" class=\"dataframe\">\n",
       "  <thead>\n",
       "    <tr style=\"text-align: right;\">\n",
       "      <th></th>\n",
       "      <th>Gender_Male</th>\n",
       "      <th>Married_Yes</th>\n",
       "      <th>Offer_Offer A</th>\n",
       "      <th>Offer_Offer B</th>\n",
       "      <th>Offer_Offer C</th>\n",
       "      <th>Offer_Offer D</th>\n",
       "      <th>Offer_Offer E</th>\n",
       "      <th>Phone Service_Yes</th>\n",
       "      <th>Multiple Lines_No</th>\n",
       "      <th>Multiple Lines_Yes</th>\n",
       "      <th>Internet Service_Yes</th>\n",
       "      <th>Internet Type_DSL</th>\n",
       "      <th>Internet Type_Fiber Optic</th>\n",
       "      <th>Internet Type_No Internet</th>\n",
       "      <th>Online Security_No Internet</th>\n",
       "      <th>Online Security_Yes</th>\n",
       "      <th>Online Backup_No Internet</th>\n",
       "      <th>Online Backup_Yes</th>\n",
       "      <th>Device Protection Plan_No Internet</th>\n",
       "      <th>Device Protection Plan_Yes</th>\n",
       "      <th>Premium Tech Support_No Internet</th>\n",
       "      <th>Premium Tech Support_Yes</th>\n",
       "      <th>Streaming TV_No Internet</th>\n",
       "      <th>Streaming TV_Yes</th>\n",
       "      <th>Streaming Movies_No Internet</th>\n",
       "      <th>Streaming Movies_Yes</th>\n",
       "      <th>Streaming Music_No Internet</th>\n",
       "      <th>Streaming Music_Yes</th>\n",
       "      <th>Unlimited Data_No Internet</th>\n",
       "      <th>Unlimited Data_Yes</th>\n",
       "      <th>Contract_One Year</th>\n",
       "      <th>Contract_Two Year</th>\n",
       "      <th>Paperless Billing_Yes</th>\n",
       "      <th>Payment Method_Credit Card</th>\n",
       "      <th>Payment Method_Mailed Check</th>\n",
       "    </tr>\n",
       "  </thead>\n",
       "  <tbody>\n",
       "    <tr>\n",
       "      <th>0</th>\n",
       "      <td>0.0</td>\n",
       "      <td>1.0</td>\n",
       "      <td>0.0</td>\n",
       "      <td>0.0</td>\n",
       "      <td>0.0</td>\n",
       "      <td>0.0</td>\n",
       "      <td>0.0</td>\n",
       "      <td>1.0</td>\n",
       "      <td>1.0</td>\n",
       "      <td>0.0</td>\n",
       "      <td>1.0</td>\n",
       "      <td>0.0</td>\n",
       "      <td>0.0</td>\n",
       "      <td>0.0</td>\n",
       "      <td>0.0</td>\n",
       "      <td>0.0</td>\n",
       "      <td>0.0</td>\n",
       "      <td>1.0</td>\n",
       "      <td>0.0</td>\n",
       "      <td>0.0</td>\n",
       "      <td>0.0</td>\n",
       "      <td>1.0</td>\n",
       "      <td>0.0</td>\n",
       "      <td>1.0</td>\n",
       "      <td>0.0</td>\n",
       "      <td>0.0</td>\n",
       "      <td>0.0</td>\n",
       "      <td>0.0</td>\n",
       "      <td>0.0</td>\n",
       "      <td>1.0</td>\n",
       "      <td>1.0</td>\n",
       "      <td>0.0</td>\n",
       "      <td>1.0</td>\n",
       "      <td>1.0</td>\n",
       "      <td>0.0</td>\n",
       "    </tr>\n",
       "    <tr>\n",
       "      <th>1</th>\n",
       "      <td>1.0</td>\n",
       "      <td>0.0</td>\n",
       "      <td>0.0</td>\n",
       "      <td>0.0</td>\n",
       "      <td>0.0</td>\n",
       "      <td>0.0</td>\n",
       "      <td>1.0</td>\n",
       "      <td>1.0</td>\n",
       "      <td>1.0</td>\n",
       "      <td>0.0</td>\n",
       "      <td>1.0</td>\n",
       "      <td>0.0</td>\n",
       "      <td>1.0</td>\n",
       "      <td>0.0</td>\n",
       "      <td>0.0</td>\n",
       "      <td>0.0</td>\n",
       "      <td>0.0</td>\n",
       "      <td>0.0</td>\n",
       "      <td>0.0</td>\n",
       "      <td>1.0</td>\n",
       "      <td>0.0</td>\n",
       "      <td>0.0</td>\n",
       "      <td>0.0</td>\n",
       "      <td>0.0</td>\n",
       "      <td>0.0</td>\n",
       "      <td>0.0</td>\n",
       "      <td>0.0</td>\n",
       "      <td>0.0</td>\n",
       "      <td>0.0</td>\n",
       "      <td>1.0</td>\n",
       "      <td>0.0</td>\n",
       "      <td>0.0</td>\n",
       "      <td>1.0</td>\n",
       "      <td>0.0</td>\n",
       "      <td>0.0</td>\n",
       "    </tr>\n",
       "    <tr>\n",
       "      <th>2</th>\n",
       "      <td>1.0</td>\n",
       "      <td>1.0</td>\n",
       "      <td>0.0</td>\n",
       "      <td>0.0</td>\n",
       "      <td>0.0</td>\n",
       "      <td>1.0</td>\n",
       "      <td>0.0</td>\n",
       "      <td>1.0</td>\n",
       "      <td>1.0</td>\n",
       "      <td>0.0</td>\n",
       "      <td>1.0</td>\n",
       "      <td>0.0</td>\n",
       "      <td>1.0</td>\n",
       "      <td>0.0</td>\n",
       "      <td>0.0</td>\n",
       "      <td>0.0</td>\n",
       "      <td>0.0</td>\n",
       "      <td>1.0</td>\n",
       "      <td>0.0</td>\n",
       "      <td>1.0</td>\n",
       "      <td>0.0</td>\n",
       "      <td>0.0</td>\n",
       "      <td>0.0</td>\n",
       "      <td>1.0</td>\n",
       "      <td>0.0</td>\n",
       "      <td>1.0</td>\n",
       "      <td>0.0</td>\n",
       "      <td>0.0</td>\n",
       "      <td>0.0</td>\n",
       "      <td>1.0</td>\n",
       "      <td>0.0</td>\n",
       "      <td>0.0</td>\n",
       "      <td>1.0</td>\n",
       "      <td>0.0</td>\n",
       "      <td>0.0</td>\n",
       "    </tr>\n",
       "    <tr>\n",
       "      <th>3</th>\n",
       "      <td>0.0</td>\n",
       "      <td>1.0</td>\n",
       "      <td>0.0</td>\n",
       "      <td>0.0</td>\n",
       "      <td>0.0</td>\n",
       "      <td>0.0</td>\n",
       "      <td>0.0</td>\n",
       "      <td>1.0</td>\n",
       "      <td>1.0</td>\n",
       "      <td>0.0</td>\n",
       "      <td>1.0</td>\n",
       "      <td>0.0</td>\n",
       "      <td>1.0</td>\n",
       "      <td>0.0</td>\n",
       "      <td>0.0</td>\n",
       "      <td>0.0</td>\n",
       "      <td>0.0</td>\n",
       "      <td>0.0</td>\n",
       "      <td>0.0</td>\n",
       "      <td>0.0</td>\n",
       "      <td>0.0</td>\n",
       "      <td>1.0</td>\n",
       "      <td>0.0</td>\n",
       "      <td>1.0</td>\n",
       "      <td>0.0</td>\n",
       "      <td>0.0</td>\n",
       "      <td>0.0</td>\n",
       "      <td>0.0</td>\n",
       "      <td>0.0</td>\n",
       "      <td>1.0</td>\n",
       "      <td>0.0</td>\n",
       "      <td>0.0</td>\n",
       "      <td>1.0</td>\n",
       "      <td>1.0</td>\n",
       "      <td>0.0</td>\n",
       "    </tr>\n",
       "    <tr>\n",
       "      <th>4</th>\n",
       "      <td>0.0</td>\n",
       "      <td>0.0</td>\n",
       "      <td>0.0</td>\n",
       "      <td>0.0</td>\n",
       "      <td>0.0</td>\n",
       "      <td>0.0</td>\n",
       "      <td>1.0</td>\n",
       "      <td>1.0</td>\n",
       "      <td>1.0</td>\n",
       "      <td>0.0</td>\n",
       "      <td>1.0</td>\n",
       "      <td>0.0</td>\n",
       "      <td>0.0</td>\n",
       "      <td>0.0</td>\n",
       "      <td>0.0</td>\n",
       "      <td>0.0</td>\n",
       "      <td>0.0</td>\n",
       "      <td>0.0</td>\n",
       "      <td>0.0</td>\n",
       "      <td>0.0</td>\n",
       "      <td>0.0</td>\n",
       "      <td>1.0</td>\n",
       "      <td>0.0</td>\n",
       "      <td>1.0</td>\n",
       "      <td>0.0</td>\n",
       "      <td>1.0</td>\n",
       "      <td>0.0</td>\n",
       "      <td>1.0</td>\n",
       "      <td>0.0</td>\n",
       "      <td>1.0</td>\n",
       "      <td>0.0</td>\n",
       "      <td>0.0</td>\n",
       "      <td>1.0</td>\n",
       "      <td>1.0</td>\n",
       "      <td>0.0</td>\n",
       "    </tr>\n",
       "    <tr>\n",
       "      <th>...</th>\n",
       "      <td>...</td>\n",
       "      <td>...</td>\n",
       "      <td>...</td>\n",
       "      <td>...</td>\n",
       "      <td>...</td>\n",
       "      <td>...</td>\n",
       "      <td>...</td>\n",
       "      <td>...</td>\n",
       "      <td>...</td>\n",
       "      <td>...</td>\n",
       "      <td>...</td>\n",
       "      <td>...</td>\n",
       "      <td>...</td>\n",
       "      <td>...</td>\n",
       "      <td>...</td>\n",
       "      <td>...</td>\n",
       "      <td>...</td>\n",
       "      <td>...</td>\n",
       "      <td>...</td>\n",
       "      <td>...</td>\n",
       "      <td>...</td>\n",
       "      <td>...</td>\n",
       "      <td>...</td>\n",
       "      <td>...</td>\n",
       "      <td>...</td>\n",
       "      <td>...</td>\n",
       "      <td>...</td>\n",
       "      <td>...</td>\n",
       "      <td>...</td>\n",
       "      <td>...</td>\n",
       "      <td>...</td>\n",
       "      <td>...</td>\n",
       "      <td>...</td>\n",
       "      <td>...</td>\n",
       "      <td>...</td>\n",
       "    </tr>\n",
       "    <tr>\n",
       "      <th>6918</th>\n",
       "      <td>0.0</td>\n",
       "      <td>0.0</td>\n",
       "      <td>0.0</td>\n",
       "      <td>0.0</td>\n",
       "      <td>0.0</td>\n",
       "      <td>1.0</td>\n",
       "      <td>0.0</td>\n",
       "      <td>1.0</td>\n",
       "      <td>1.0</td>\n",
       "      <td>0.0</td>\n",
       "      <td>1.0</td>\n",
       "      <td>1.0</td>\n",
       "      <td>0.0</td>\n",
       "      <td>0.0</td>\n",
       "      <td>0.0</td>\n",
       "      <td>1.0</td>\n",
       "      <td>0.0</td>\n",
       "      <td>0.0</td>\n",
       "      <td>0.0</td>\n",
       "      <td>0.0</td>\n",
       "      <td>0.0</td>\n",
       "      <td>1.0</td>\n",
       "      <td>0.0</td>\n",
       "      <td>0.0</td>\n",
       "      <td>0.0</td>\n",
       "      <td>0.0</td>\n",
       "      <td>0.0</td>\n",
       "      <td>1.0</td>\n",
       "      <td>0.0</td>\n",
       "      <td>1.0</td>\n",
       "      <td>1.0</td>\n",
       "      <td>0.0</td>\n",
       "      <td>0.0</td>\n",
       "      <td>1.0</td>\n",
       "      <td>0.0</td>\n",
       "    </tr>\n",
       "    <tr>\n",
       "      <th>6919</th>\n",
       "      <td>1.0</td>\n",
       "      <td>1.0</td>\n",
       "      <td>0.0</td>\n",
       "      <td>0.0</td>\n",
       "      <td>0.0</td>\n",
       "      <td>1.0</td>\n",
       "      <td>0.0</td>\n",
       "      <td>1.0</td>\n",
       "      <td>0.0</td>\n",
       "      <td>1.0</td>\n",
       "      <td>1.0</td>\n",
       "      <td>0.0</td>\n",
       "      <td>1.0</td>\n",
       "      <td>0.0</td>\n",
       "      <td>0.0</td>\n",
       "      <td>0.0</td>\n",
       "      <td>0.0</td>\n",
       "      <td>0.0</td>\n",
       "      <td>0.0</td>\n",
       "      <td>0.0</td>\n",
       "      <td>0.0</td>\n",
       "      <td>0.0</td>\n",
       "      <td>0.0</td>\n",
       "      <td>0.0</td>\n",
       "      <td>0.0</td>\n",
       "      <td>1.0</td>\n",
       "      <td>0.0</td>\n",
       "      <td>1.0</td>\n",
       "      <td>0.0</td>\n",
       "      <td>1.0</td>\n",
       "      <td>0.0</td>\n",
       "      <td>0.0</td>\n",
       "      <td>1.0</td>\n",
       "      <td>0.0</td>\n",
       "      <td>0.0</td>\n",
       "    </tr>\n",
       "    <tr>\n",
       "      <th>6920</th>\n",
       "      <td>1.0</td>\n",
       "      <td>0.0</td>\n",
       "      <td>0.0</td>\n",
       "      <td>0.0</td>\n",
       "      <td>0.0</td>\n",
       "      <td>0.0</td>\n",
       "      <td>1.0</td>\n",
       "      <td>1.0</td>\n",
       "      <td>1.0</td>\n",
       "      <td>0.0</td>\n",
       "      <td>1.0</td>\n",
       "      <td>1.0</td>\n",
       "      <td>0.0</td>\n",
       "      <td>0.0</td>\n",
       "      <td>0.0</td>\n",
       "      <td>0.0</td>\n",
       "      <td>0.0</td>\n",
       "      <td>1.0</td>\n",
       "      <td>0.0</td>\n",
       "      <td>0.0</td>\n",
       "      <td>0.0</td>\n",
       "      <td>0.0</td>\n",
       "      <td>0.0</td>\n",
       "      <td>0.0</td>\n",
       "      <td>0.0</td>\n",
       "      <td>0.0</td>\n",
       "      <td>0.0</td>\n",
       "      <td>0.0</td>\n",
       "      <td>0.0</td>\n",
       "      <td>1.0</td>\n",
       "      <td>0.0</td>\n",
       "      <td>0.0</td>\n",
       "      <td>1.0</td>\n",
       "      <td>1.0</td>\n",
       "      <td>0.0</td>\n",
       "    </tr>\n",
       "    <tr>\n",
       "      <th>6921</th>\n",
       "      <td>1.0</td>\n",
       "      <td>1.0</td>\n",
       "      <td>1.0</td>\n",
       "      <td>0.0</td>\n",
       "      <td>0.0</td>\n",
       "      <td>0.0</td>\n",
       "      <td>0.0</td>\n",
       "      <td>1.0</td>\n",
       "      <td>1.0</td>\n",
       "      <td>0.0</td>\n",
       "      <td>1.0</td>\n",
       "      <td>0.0</td>\n",
       "      <td>0.0</td>\n",
       "      <td>0.0</td>\n",
       "      <td>0.0</td>\n",
       "      <td>1.0</td>\n",
       "      <td>0.0</td>\n",
       "      <td>0.0</td>\n",
       "      <td>0.0</td>\n",
       "      <td>1.0</td>\n",
       "      <td>0.0</td>\n",
       "      <td>1.0</td>\n",
       "      <td>0.0</td>\n",
       "      <td>0.0</td>\n",
       "      <td>0.0</td>\n",
       "      <td>1.0</td>\n",
       "      <td>0.0</td>\n",
       "      <td>1.0</td>\n",
       "      <td>0.0</td>\n",
       "      <td>1.0</td>\n",
       "      <td>0.0</td>\n",
       "      <td>1.0</td>\n",
       "      <td>0.0</td>\n",
       "      <td>1.0</td>\n",
       "      <td>0.0</td>\n",
       "    </tr>\n",
       "    <tr>\n",
       "      <th>6922</th>\n",
       "      <td>1.0</td>\n",
       "      <td>1.0</td>\n",
       "      <td>0.0</td>\n",
       "      <td>0.0</td>\n",
       "      <td>0.0</td>\n",
       "      <td>0.0</td>\n",
       "      <td>0.0</td>\n",
       "      <td>0.0</td>\n",
       "      <td>0.0</td>\n",
       "      <td>0.0</td>\n",
       "      <td>1.0</td>\n",
       "      <td>0.0</td>\n",
       "      <td>0.0</td>\n",
       "      <td>0.0</td>\n",
       "      <td>0.0</td>\n",
       "      <td>1.0</td>\n",
       "      <td>0.0</td>\n",
       "      <td>1.0</td>\n",
       "      <td>0.0</td>\n",
       "      <td>1.0</td>\n",
       "      <td>0.0</td>\n",
       "      <td>0.0</td>\n",
       "      <td>0.0</td>\n",
       "      <td>1.0</td>\n",
       "      <td>0.0</td>\n",
       "      <td>1.0</td>\n",
       "      <td>0.0</td>\n",
       "      <td>1.0</td>\n",
       "      <td>0.0</td>\n",
       "      <td>1.0</td>\n",
       "      <td>0.0</td>\n",
       "      <td>1.0</td>\n",
       "      <td>0.0</td>\n",
       "      <td>0.0</td>\n",
       "      <td>0.0</td>\n",
       "    </tr>\n",
       "  </tbody>\n",
       "</table>\n",
       "<p>6923 rows × 35 columns</p>\n",
       "</div>"
      ],
      "text/plain": [
       "      Gender_Male  Married_Yes  Offer_Offer A  Offer_Offer B  Offer_Offer C  \\\n",
       "0             0.0          1.0            0.0            0.0            0.0   \n",
       "1             1.0          0.0            0.0            0.0            0.0   \n",
       "2             1.0          1.0            0.0            0.0            0.0   \n",
       "3             0.0          1.0            0.0            0.0            0.0   \n",
       "4             0.0          0.0            0.0            0.0            0.0   \n",
       "...           ...          ...            ...            ...            ...   \n",
       "6918          0.0          0.0            0.0            0.0            0.0   \n",
       "6919          1.0          1.0            0.0            0.0            0.0   \n",
       "6920          1.0          0.0            0.0            0.0            0.0   \n",
       "6921          1.0          1.0            1.0            0.0            0.0   \n",
       "6922          1.0          1.0            0.0            0.0            0.0   \n",
       "\n",
       "      Offer_Offer D  Offer_Offer E  Phone Service_Yes  Multiple Lines_No  \\\n",
       "0               0.0            0.0                1.0                1.0   \n",
       "1               0.0            1.0                1.0                1.0   \n",
       "2               1.0            0.0                1.0                1.0   \n",
       "3               0.0            0.0                1.0                1.0   \n",
       "4               0.0            1.0                1.0                1.0   \n",
       "...             ...            ...                ...                ...   \n",
       "6918            1.0            0.0                1.0                1.0   \n",
       "6919            1.0            0.0                1.0                0.0   \n",
       "6920            0.0            1.0                1.0                1.0   \n",
       "6921            0.0            0.0                1.0                1.0   \n",
       "6922            0.0            0.0                0.0                0.0   \n",
       "\n",
       "      Multiple Lines_Yes  Internet Service_Yes  Internet Type_DSL  \\\n",
       "0                    0.0                   1.0                0.0   \n",
       "1                    0.0                   1.0                0.0   \n",
       "2                    0.0                   1.0                0.0   \n",
       "3                    0.0                   1.0                0.0   \n",
       "4                    0.0                   1.0                0.0   \n",
       "...                  ...                   ...                ...   \n",
       "6918                 0.0                   1.0                1.0   \n",
       "6919                 1.0                   1.0                0.0   \n",
       "6920                 0.0                   1.0                1.0   \n",
       "6921                 0.0                   1.0                0.0   \n",
       "6922                 0.0                   1.0                0.0   \n",
       "\n",
       "      Internet Type_Fiber Optic  Internet Type_No Internet  \\\n",
       "0                           0.0                        0.0   \n",
       "1                           1.0                        0.0   \n",
       "2                           1.0                        0.0   \n",
       "3                           1.0                        0.0   \n",
       "4                           0.0                        0.0   \n",
       "...                         ...                        ...   \n",
       "6918                        0.0                        0.0   \n",
       "6919                        1.0                        0.0   \n",
       "6920                        0.0                        0.0   \n",
       "6921                        0.0                        0.0   \n",
       "6922                        0.0                        0.0   \n",
       "\n",
       "      Online Security_No Internet  Online Security_Yes  \\\n",
       "0                             0.0                  0.0   \n",
       "1                             0.0                  0.0   \n",
       "2                             0.0                  0.0   \n",
       "3                             0.0                  0.0   \n",
       "4                             0.0                  0.0   \n",
       "...                           ...                  ...   \n",
       "6918                          0.0                  1.0   \n",
       "6919                          0.0                  0.0   \n",
       "6920                          0.0                  0.0   \n",
       "6921                          0.0                  1.0   \n",
       "6922                          0.0                  1.0   \n",
       "\n",
       "      Online Backup_No Internet  Online Backup_Yes  \\\n",
       "0                           0.0                1.0   \n",
       "1                           0.0                0.0   \n",
       "2                           0.0                1.0   \n",
       "3                           0.0                0.0   \n",
       "4                           0.0                0.0   \n",
       "...                         ...                ...   \n",
       "6918                        0.0                0.0   \n",
       "6919                        0.0                0.0   \n",
       "6920                        0.0                1.0   \n",
       "6921                        0.0                0.0   \n",
       "6922                        0.0                1.0   \n",
       "\n",
       "      Device Protection Plan_No Internet  Device Protection Plan_Yes  \\\n",
       "0                                    0.0                         0.0   \n",
       "1                                    0.0                         1.0   \n",
       "2                                    0.0                         1.0   \n",
       "3                                    0.0                         0.0   \n",
       "4                                    0.0                         0.0   \n",
       "...                                  ...                         ...   \n",
       "6918                                 0.0                         0.0   \n",
       "6919                                 0.0                         0.0   \n",
       "6920                                 0.0                         0.0   \n",
       "6921                                 0.0                         1.0   \n",
       "6922                                 0.0                         1.0   \n",
       "\n",
       "      Premium Tech Support_No Internet  Premium Tech Support_Yes  \\\n",
       "0                                  0.0                       1.0   \n",
       "1                                  0.0                       0.0   \n",
       "2                                  0.0                       0.0   \n",
       "3                                  0.0                       1.0   \n",
       "4                                  0.0                       1.0   \n",
       "...                                ...                       ...   \n",
       "6918                               0.0                       1.0   \n",
       "6919                               0.0                       0.0   \n",
       "6920                               0.0                       0.0   \n",
       "6921                               0.0                       1.0   \n",
       "6922                               0.0                       0.0   \n",
       "\n",
       "      Streaming TV_No Internet  Streaming TV_Yes  \\\n",
       "0                          0.0               1.0   \n",
       "1                          0.0               0.0   \n",
       "2                          0.0               1.0   \n",
       "3                          0.0               1.0   \n",
       "4                          0.0               1.0   \n",
       "...                        ...               ...   \n",
       "6918                       0.0               0.0   \n",
       "6919                       0.0               0.0   \n",
       "6920                       0.0               0.0   \n",
       "6921                       0.0               0.0   \n",
       "6922                       0.0               1.0   \n",
       "\n",
       "      Streaming Movies_No Internet  Streaming Movies_Yes  \\\n",
       "0                              0.0                   0.0   \n",
       "1                              0.0                   0.0   \n",
       "2                              0.0                   1.0   \n",
       "3                              0.0                   0.0   \n",
       "4                              0.0                   1.0   \n",
       "...                            ...                   ...   \n",
       "6918                           0.0                   0.0   \n",
       "6919                           0.0                   1.0   \n",
       "6920                           0.0                   0.0   \n",
       "6921                           0.0                   1.0   \n",
       "6922                           0.0                   1.0   \n",
       "\n",
       "      Streaming Music_No Internet  Streaming Music_Yes  \\\n",
       "0                             0.0                  0.0   \n",
       "1                             0.0                  0.0   \n",
       "2                             0.0                  0.0   \n",
       "3                             0.0                  0.0   \n",
       "4                             0.0                  1.0   \n",
       "...                           ...                  ...   \n",
       "6918                          0.0                  1.0   \n",
       "6919                          0.0                  1.0   \n",
       "6920                          0.0                  0.0   \n",
       "6921                          0.0                  1.0   \n",
       "6922                          0.0                  1.0   \n",
       "\n",
       "      Unlimited Data_No Internet  Unlimited Data_Yes  Contract_One Year  \\\n",
       "0                            0.0                 1.0                1.0   \n",
       "1                            0.0                 1.0                0.0   \n",
       "2                            0.0                 1.0                0.0   \n",
       "3                            0.0                 1.0                0.0   \n",
       "4                            0.0                 1.0                0.0   \n",
       "...                          ...                 ...                ...   \n",
       "6918                         0.0                 1.0                1.0   \n",
       "6919                         0.0                 1.0                0.0   \n",
       "6920                         0.0                 1.0                0.0   \n",
       "6921                         0.0                 1.0                0.0   \n",
       "6922                         0.0                 1.0                0.0   \n",
       "\n",
       "      Contract_Two Year  Paperless Billing_Yes  Payment Method_Credit Card  \\\n",
       "0                   0.0                    1.0                         1.0   \n",
       "1                   0.0                    1.0                         0.0   \n",
       "2                   0.0                    1.0                         0.0   \n",
       "3                   0.0                    1.0                         1.0   \n",
       "4                   0.0                    1.0                         1.0   \n",
       "...                 ...                    ...                         ...   \n",
       "6918                0.0                    0.0                         1.0   \n",
       "6919                0.0                    1.0                         0.0   \n",
       "6920                0.0                    1.0                         1.0   \n",
       "6921                1.0                    0.0                         1.0   \n",
       "6922                1.0                    0.0                         0.0   \n",
       "\n",
       "      Payment Method_Mailed Check  \n",
       "0                             0.0  \n",
       "1                             0.0  \n",
       "2                             0.0  \n",
       "3                             0.0  \n",
       "4                             0.0  \n",
       "...                           ...  \n",
       "6918                          0.0  \n",
       "6919                          0.0  \n",
       "6920                          0.0  \n",
       "6921                          0.0  \n",
       "6922                          0.0  \n",
       "\n",
       "[6923 rows x 35 columns]"
      ]
     },
     "execution_count": 78,
     "metadata": {},
     "output_type": "execute_result"
    }
   ],
   "source": [
    "encoder_df = pd.DataFrame((transformed).toarray(),columns = feature_labels)\n",
    "encoder_df"
   ]
  },
  {
   "cell_type": "code",
   "execution_count": 79,
   "id": "a420a6a5-6cc9-447b-a001-0fb747826e30",
   "metadata": {},
   "outputs": [],
   "source": [
    "model_data = pd.concat([model_data,encoder_df],axis=1)"
   ]
  },
  {
   "cell_type": "code",
   "execution_count": 80,
   "id": "4c37a1ca-acc6-41e8-9843-a6d47365d7ce",
   "metadata": {},
   "outputs": [
    {
     "data": {
      "text/plain": [
       "(6923, 66)"
      ]
     },
     "execution_count": 80,
     "metadata": {},
     "output_type": "execute_result"
    }
   ],
   "source": [
    "model_data.shape"
   ]
  },
  {
   "cell_type": "code",
   "execution_count": 81,
   "id": "dad9b7a2-b652-4c38-bd8f-393cf901d71c",
   "metadata": {},
   "outputs": [
    {
     "data": {
      "text/plain": [
       "(6923, 48)"
      ]
     },
     "execution_count": 81,
     "metadata": {},
     "output_type": "execute_result"
    }
   ],
   "source": [
    "model_data = model_data.drop(['Gender','Married','Offer','Phone Service','Multiple Lines',\n",
    "       'Internet Service', 'Internet Type','Online Security', 'Online Backup', 'Device Protection Plan',\n",
    "       'Premium Tech Support', 'Streaming TV', 'Streaming Movies',\n",
    "       'Streaming Music','Unlimited Data', 'Contract', 'Paperless Billing',\n",
    "       'Payment Method'],axis=1)\n",
    "model_data.shape"
   ]
  },
  {
   "cell_type": "code",
   "execution_count": 82,
   "id": "862eb473-a5e3-4d7c-920f-1b2a235fff55",
   "metadata": {},
   "outputs": [
    {
     "data": {
      "text/plain": [
       "Age                                   0\n",
       "Number of Dependents                  0\n",
       "Number of Referrals                   0\n",
       "Tenure in Months                      0\n",
       "Avg Monthly Long Distance Charges     0\n",
       "Avg Monthly GB Download               0\n",
       "Monthly Charge                        0\n",
       "Total Charges                         0\n",
       "Total Refunds                         0\n",
       "Total Extra Data Charges              0\n",
       "Total Long Distance Charges           0\n",
       "Total Revenue                         0\n",
       "Churn                                 0\n",
       "Gender_Male                           0\n",
       "Married_Yes                           0\n",
       "Offer_Offer A                         0\n",
       "Offer_Offer B                         0\n",
       "Offer_Offer C                         0\n",
       "Offer_Offer D                         0\n",
       "Offer_Offer E                         0\n",
       "Phone Service_Yes                     0\n",
       "Multiple Lines_No                     0\n",
       "Multiple Lines_Yes                    0\n",
       "Internet Service_Yes                  0\n",
       "Internet Type_DSL                     0\n",
       "Internet Type_Fiber Optic             0\n",
       "Internet Type_No Internet             0\n",
       "Online Security_No Internet           0\n",
       "Online Security_Yes                   0\n",
       "Online Backup_No Internet             0\n",
       "Online Backup_Yes                     0\n",
       "Device Protection Plan_No Internet    0\n",
       "Device Protection Plan_Yes            0\n",
       "Premium Tech Support_No Internet      0\n",
       "Premium Tech Support_Yes              0\n",
       "Streaming TV_No Internet              0\n",
       "Streaming TV_Yes                      0\n",
       "Streaming Movies_No Internet          0\n",
       "Streaming Movies_Yes                  0\n",
       "Streaming Music_No Internet           0\n",
       "Streaming Music_Yes                   0\n",
       "Unlimited Data_No Internet            0\n",
       "Unlimited Data_Yes                    0\n",
       "Contract_One Year                     0\n",
       "Contract_Two Year                     0\n",
       "Paperless Billing_Yes                 0\n",
       "Payment Method_Credit Card            0\n",
       "Payment Method_Mailed Check           0\n",
       "dtype: int64"
      ]
     },
     "execution_count": 82,
     "metadata": {},
     "output_type": "execute_result"
    }
   ],
   "source": [
    "model_data.isnull().sum()\n"
   ]
  },
  {
   "cell_type": "code",
   "execution_count": 83,
   "id": "104fd2ea-1c0a-4b18-a232-d4c85aecf6a3",
   "metadata": {},
   "outputs": [
    {
     "name": "stdout",
     "output_type": "stream",
     "text": [
      "Requirement already satisfied: imbalanced-learn in /usr/local/lib/python3.9/dist-packages (0.9.1)\n",
      "Requirement already satisfied: numpy>=1.17.3 in /usr/local/lib/python3.9/dist-packages (from imbalanced-learn) (1.23.1)\n",
      "Requirement already satisfied: threadpoolctl>=2.0.0 in /usr/local/lib/python3.9/dist-packages (from imbalanced-learn) (3.1.0)\n",
      "Requirement already satisfied: joblib>=1.0.0 in /usr/local/lib/python3.9/dist-packages (from imbalanced-learn) (1.1.0)\n",
      "Requirement already satisfied: scikit-learn>=1.1.0 in /usr/local/lib/python3.9/dist-packages (from imbalanced-learn) (1.1.1)\n",
      "Requirement already satisfied: scipy>=1.3.2 in /usr/local/lib/python3.9/dist-packages (from imbalanced-learn) (1.8.1)\n",
      "\u001b[33mWARNING: Running pip as the 'root' user can result in broken permissions and conflicting behaviour with the system package manager. It is recommended to use a virtual environment instead: https://pip.pypa.io/warnings/venv\u001b[0m\u001b[33m\n",
      "\u001b[0m"
     ]
    }
   ],
   "source": [
    "!pip install imbalanced-learn"
   ]
  },
  {
   "cell_type": "markdown",
   "id": "5d631f62-af91-4b08-b0a1-79814ca9f229",
   "metadata": {
    "tags": []
   },
   "source": [
    "#### Scaling"
   ]
  },
  {
   "cell_type": "code",
   "execution_count": 84,
   "id": "25d8f745-3c7b-41a5-a9d2-ba0ef9cbda96",
   "metadata": {},
   "outputs": [],
   "source": [
    "from sklearn.preprocessing import MinMaxScaler"
   ]
  },
  {
   "cell_type": "code",
   "execution_count": 85,
   "id": "472e8edb-f74e-43bf-8fbb-cf3af254e7d7",
   "metadata": {},
   "outputs": [
    {
     "data": {
      "text/html": [
       "<style>#sk-container-id-1 {color: black;background-color: white;}#sk-container-id-1 pre{padding: 0;}#sk-container-id-1 div.sk-toggleable {background-color: white;}#sk-container-id-1 label.sk-toggleable__label {cursor: pointer;display: block;width: 100%;margin-bottom: 0;padding: 0.3em;box-sizing: border-box;text-align: center;}#sk-container-id-1 label.sk-toggleable__label-arrow:before {content: \"▸\";float: left;margin-right: 0.25em;color: #696969;}#sk-container-id-1 label.sk-toggleable__label-arrow:hover:before {color: black;}#sk-container-id-1 div.sk-estimator:hover label.sk-toggleable__label-arrow:before {color: black;}#sk-container-id-1 div.sk-toggleable__content {max-height: 0;max-width: 0;overflow: hidden;text-align: left;background-color: #f0f8ff;}#sk-container-id-1 div.sk-toggleable__content pre {margin: 0.2em;color: black;border-radius: 0.25em;background-color: #f0f8ff;}#sk-container-id-1 input.sk-toggleable__control:checked~div.sk-toggleable__content {max-height: 200px;max-width: 100%;overflow: auto;}#sk-container-id-1 input.sk-toggleable__control:checked~label.sk-toggleable__label-arrow:before {content: \"▾\";}#sk-container-id-1 div.sk-estimator input.sk-toggleable__control:checked~label.sk-toggleable__label {background-color: #d4ebff;}#sk-container-id-1 div.sk-label input.sk-toggleable__control:checked~label.sk-toggleable__label {background-color: #d4ebff;}#sk-container-id-1 input.sk-hidden--visually {border: 0;clip: rect(1px 1px 1px 1px);clip: rect(1px, 1px, 1px, 1px);height: 1px;margin: -1px;overflow: hidden;padding: 0;position: absolute;width: 1px;}#sk-container-id-1 div.sk-estimator {font-family: monospace;background-color: #f0f8ff;border: 1px dotted black;border-radius: 0.25em;box-sizing: border-box;margin-bottom: 0.5em;}#sk-container-id-1 div.sk-estimator:hover {background-color: #d4ebff;}#sk-container-id-1 div.sk-parallel-item::after {content: \"\";width: 100%;border-bottom: 1px solid gray;flex-grow: 1;}#sk-container-id-1 div.sk-label:hover label.sk-toggleable__label {background-color: #d4ebff;}#sk-container-id-1 div.sk-serial::before {content: \"\";position: absolute;border-left: 1px solid gray;box-sizing: border-box;top: 0;bottom: 0;left: 50%;z-index: 0;}#sk-container-id-1 div.sk-serial {display: flex;flex-direction: column;align-items: center;background-color: white;padding-right: 0.2em;padding-left: 0.2em;position: relative;}#sk-container-id-1 div.sk-item {position: relative;z-index: 1;}#sk-container-id-1 div.sk-parallel {display: flex;align-items: stretch;justify-content: center;background-color: white;position: relative;}#sk-container-id-1 div.sk-item::before, #sk-container-id-1 div.sk-parallel-item::before {content: \"\";position: absolute;border-left: 1px solid gray;box-sizing: border-box;top: 0;bottom: 0;left: 50%;z-index: -1;}#sk-container-id-1 div.sk-parallel-item {display: flex;flex-direction: column;z-index: 1;position: relative;background-color: white;}#sk-container-id-1 div.sk-parallel-item:first-child::after {align-self: flex-end;width: 50%;}#sk-container-id-1 div.sk-parallel-item:last-child::after {align-self: flex-start;width: 50%;}#sk-container-id-1 div.sk-parallel-item:only-child::after {width: 0;}#sk-container-id-1 div.sk-dashed-wrapped {border: 1px dashed gray;margin: 0 0.4em 0.5em 0.4em;box-sizing: border-box;padding-bottom: 0.4em;background-color: white;}#sk-container-id-1 div.sk-label label {font-family: monospace;font-weight: bold;display: inline-block;line-height: 1.2em;}#sk-container-id-1 div.sk-label-container {text-align: center;}#sk-container-id-1 div.sk-container {/* jupyter's `normalize.less` sets `[hidden] { display: none; }` but bootstrap.min.css set `[hidden] { display: none !important; }` so we also need the `!important` here to be able to override the default hidden behavior on the sphinx rendered scikit-learn.org. See: https://github.com/scikit-learn/scikit-learn/issues/21755 */display: inline-block !important;position: relative;}#sk-container-id-1 div.sk-text-repr-fallback {display: none;}</style><div id=\"sk-container-id-1\" class=\"sk-top-container\"><div class=\"sk-text-repr-fallback\"><pre>MinMaxScaler()</pre><b>In a Jupyter environment, please rerun this cell to show the HTML representation or trust the notebook. <br />On GitHub, the HTML representation is unable to render, please try loading this page with nbviewer.org.</b></div><div class=\"sk-container\" hidden><div class=\"sk-item\"><div class=\"sk-estimator sk-toggleable\"><input class=\"sk-toggleable__control sk-hidden--visually\" id=\"sk-estimator-id-1\" type=\"checkbox\" checked><label for=\"sk-estimator-id-1\" class=\"sk-toggleable__label sk-toggleable__label-arrow\">MinMaxScaler</label><div class=\"sk-toggleable__content\"><pre>MinMaxScaler()</pre></div></div></div></div></div>"
      ],
      "text/plain": [
       "MinMaxScaler()"
      ]
     },
     "execution_count": 85,
     "metadata": {},
     "output_type": "execute_result"
    }
   ],
   "source": [
    "scaler = MinMaxScaler()\n",
    "scaler.fit(model_data)"
   ]
  },
  {
   "cell_type": "code",
   "execution_count": 86,
   "id": "237bd9b5-9b19-49cf-bb21-bbbf96f53625",
   "metadata": {},
   "outputs": [],
   "source": [
    "scaled_data = scaler.transform(model_data)"
   ]
  },
  {
   "cell_type": "code",
   "execution_count": 87,
   "id": "c1b1e6d5-8e2e-44e8-bc07-06d544f3fa7a",
   "metadata": {},
   "outputs": [],
   "source": [
    "model_data = pd.DataFrame(scaled_data,columns=model_data.columns)"
   ]
  },
  {
   "cell_type": "code",
   "execution_count": 88,
   "id": "ac5935c9-09af-4dc7-aadc-27d7648d89a9",
   "metadata": {},
   "outputs": [
    {
     "data": {
      "text/html": [
       "<div>\n",
       "<style scoped>\n",
       "    .dataframe tbody tr th:only-of-type {\n",
       "        vertical-align: middle;\n",
       "    }\n",
       "\n",
       "    .dataframe tbody tr th {\n",
       "        vertical-align: top;\n",
       "    }\n",
       "\n",
       "    .dataframe thead th {\n",
       "        text-align: right;\n",
       "    }\n",
       "</style>\n",
       "<table border=\"1\" class=\"dataframe\">\n",
       "  <thead>\n",
       "    <tr style=\"text-align: right;\">\n",
       "      <th></th>\n",
       "      <th>Age</th>\n",
       "      <th>Number of Dependents</th>\n",
       "      <th>Number of Referrals</th>\n",
       "      <th>Tenure in Months</th>\n",
       "      <th>Avg Monthly Long Distance Charges</th>\n",
       "      <th>Avg Monthly GB Download</th>\n",
       "      <th>Monthly Charge</th>\n",
       "      <th>Total Charges</th>\n",
       "      <th>Total Refunds</th>\n",
       "      <th>Total Extra Data Charges</th>\n",
       "      <th>Total Long Distance Charges</th>\n",
       "      <th>Total Revenue</th>\n",
       "      <th>Churn</th>\n",
       "      <th>Gender_Male</th>\n",
       "      <th>Married_Yes</th>\n",
       "      <th>Offer_Offer A</th>\n",
       "      <th>Offer_Offer B</th>\n",
       "      <th>Offer_Offer C</th>\n",
       "      <th>Offer_Offer D</th>\n",
       "      <th>Offer_Offer E</th>\n",
       "      <th>Phone Service_Yes</th>\n",
       "      <th>Multiple Lines_No</th>\n",
       "      <th>Multiple Lines_Yes</th>\n",
       "      <th>Internet Service_Yes</th>\n",
       "      <th>Internet Type_DSL</th>\n",
       "      <th>Internet Type_Fiber Optic</th>\n",
       "      <th>Internet Type_No Internet</th>\n",
       "      <th>Online Security_No Internet</th>\n",
       "      <th>Online Security_Yes</th>\n",
       "      <th>Online Backup_No Internet</th>\n",
       "      <th>Online Backup_Yes</th>\n",
       "      <th>Device Protection Plan_No Internet</th>\n",
       "      <th>Device Protection Plan_Yes</th>\n",
       "      <th>Premium Tech Support_No Internet</th>\n",
       "      <th>Premium Tech Support_Yes</th>\n",
       "      <th>Streaming TV_No Internet</th>\n",
       "      <th>Streaming TV_Yes</th>\n",
       "      <th>Streaming Movies_No Internet</th>\n",
       "      <th>Streaming Movies_Yes</th>\n",
       "      <th>Streaming Music_No Internet</th>\n",
       "      <th>Streaming Music_Yes</th>\n",
       "      <th>Unlimited Data_No Internet</th>\n",
       "      <th>Unlimited Data_Yes</th>\n",
       "      <th>Contract_One Year</th>\n",
       "      <th>Contract_Two Year</th>\n",
       "      <th>Paperless Billing_Yes</th>\n",
       "      <th>Payment Method_Credit Card</th>\n",
       "      <th>Payment Method_Mailed Check</th>\n",
       "    </tr>\n",
       "  </thead>\n",
       "  <tbody>\n",
       "    <tr>\n",
       "      <th>count</th>\n",
       "      <td>6923.000000</td>\n",
       "      <td>6923.000000</td>\n",
       "      <td>6923.000000</td>\n",
       "      <td>6923.000000</td>\n",
       "      <td>6923.000000</td>\n",
       "      <td>6923.000000</td>\n",
       "      <td>6923.000000</td>\n",
       "      <td>6923.000000</td>\n",
       "      <td>6923.000000</td>\n",
       "      <td>6923.000000</td>\n",
       "      <td>6923.000000</td>\n",
       "      <td>6923.000000</td>\n",
       "      <td>6923.000000</td>\n",
       "      <td>6923.000000</td>\n",
       "      <td>6923.000000</td>\n",
       "      <td>6923.000000</td>\n",
       "      <td>6923.000000</td>\n",
       "      <td>6923.000000</td>\n",
       "      <td>6923.000000</td>\n",
       "      <td>6923.000000</td>\n",
       "      <td>6923.000000</td>\n",
       "      <td>6923.000000</td>\n",
       "      <td>6923.000000</td>\n",
       "      <td>6923.000000</td>\n",
       "      <td>6923.000000</td>\n",
       "      <td>6923.000000</td>\n",
       "      <td>6923.000000</td>\n",
       "      <td>6923.000000</td>\n",
       "      <td>6923.000000</td>\n",
       "      <td>6923.000000</td>\n",
       "      <td>6923.000000</td>\n",
       "      <td>6923.000000</td>\n",
       "      <td>6923.000000</td>\n",
       "      <td>6923.000000</td>\n",
       "      <td>6923.000000</td>\n",
       "      <td>6923.000000</td>\n",
       "      <td>6923.000000</td>\n",
       "      <td>6923.000000</td>\n",
       "      <td>6923.000000</td>\n",
       "      <td>6923.000000</td>\n",
       "      <td>6923.000000</td>\n",
       "      <td>6923.000000</td>\n",
       "      <td>6923.000000</td>\n",
       "      <td>6923.000000</td>\n",
       "      <td>6923.000000</td>\n",
       "      <td>6923.000000</td>\n",
       "      <td>6923.000000</td>\n",
       "      <td>6923.000000</td>\n",
       "    </tr>\n",
       "    <tr>\n",
       "      <th>mean</th>\n",
       "      <td>0.450634</td>\n",
       "      <td>0.052065</td>\n",
       "      <td>0.177340</td>\n",
       "      <td>0.442707</td>\n",
       "      <td>0.459148</td>\n",
       "      <td>0.241385</td>\n",
       "      <td>0.463108</td>\n",
       "      <td>0.261475</td>\n",
       "      <td>0.038986</td>\n",
       "      <td>0.045809</td>\n",
       "      <td>0.210404</td>\n",
       "      <td>0.252412</td>\n",
       "      <td>0.265636</td>\n",
       "      <td>0.503250</td>\n",
       "      <td>0.483461</td>\n",
       "      <td>0.074101</td>\n",
       "      <td>0.117724</td>\n",
       "      <td>0.059367</td>\n",
       "      <td>0.085657</td>\n",
       "      <td>0.114257</td>\n",
       "      <td>0.903077</td>\n",
       "      <td>0.480716</td>\n",
       "      <td>0.422360</td>\n",
       "      <td>0.783331</td>\n",
       "      <td>0.233569</td>\n",
       "      <td>0.431605</td>\n",
       "      <td>0.216669</td>\n",
       "      <td>0.216669</td>\n",
       "      <td>0.286870</td>\n",
       "      <td>0.216669</td>\n",
       "      <td>0.345226</td>\n",
       "      <td>0.216669</td>\n",
       "      <td>0.344359</td>\n",
       "      <td>0.216669</td>\n",
       "      <td>0.289759</td>\n",
       "      <td>0.216669</td>\n",
       "      <td>0.384949</td>\n",
       "      <td>0.216669</td>\n",
       "      <td>0.387982</td>\n",
       "      <td>0.216669</td>\n",
       "      <td>0.353026</td>\n",
       "      <td>0.216669</td>\n",
       "      <td>0.673841</td>\n",
       "      <td>0.219558</td>\n",
       "      <td>0.267803</td>\n",
       "      <td>0.592951</td>\n",
       "      <td>0.389715</td>\n",
       "      <td>0.054601</td>\n",
       "    </tr>\n",
       "    <tr>\n",
       "      <th>std</th>\n",
       "      <td>0.274502</td>\n",
       "      <td>0.106889</td>\n",
       "      <td>0.272504</td>\n",
       "      <td>0.345628</td>\n",
       "      <td>0.309133</td>\n",
       "      <td>0.240291</td>\n",
       "      <td>0.299579</td>\n",
       "      <td>0.261777</td>\n",
       "      <td>0.157938</td>\n",
       "      <td>0.167493</td>\n",
       "      <td>0.237730</td>\n",
       "      <td>0.239804</td>\n",
       "      <td>0.441703</td>\n",
       "      <td>0.500026</td>\n",
       "      <td>0.499762</td>\n",
       "      <td>0.261954</td>\n",
       "      <td>0.322304</td>\n",
       "      <td>0.236328</td>\n",
       "      <td>0.279876</td>\n",
       "      <td>0.318146</td>\n",
       "      <td>0.295875</td>\n",
       "      <td>0.499664</td>\n",
       "      <td>0.493971</td>\n",
       "      <td>0.412005</td>\n",
       "      <td>0.423132</td>\n",
       "      <td>0.495336</td>\n",
       "      <td>0.412005</td>\n",
       "      <td>0.412005</td>\n",
       "      <td>0.452333</td>\n",
       "      <td>0.412005</td>\n",
       "      <td>0.475476</td>\n",
       "      <td>0.412005</td>\n",
       "      <td>0.475193</td>\n",
       "      <td>0.412005</td>\n",
       "      <td>0.453683</td>\n",
       "      <td>0.412005</td>\n",
       "      <td>0.486618</td>\n",
       "      <td>0.412005</td>\n",
       "      <td>0.487326</td>\n",
       "      <td>0.412005</td>\n",
       "      <td>0.477945</td>\n",
       "      <td>0.412005</td>\n",
       "      <td>0.468840</td>\n",
       "      <td>0.413977</td>\n",
       "      <td>0.442846</td>\n",
       "      <td>0.491320</td>\n",
       "      <td>0.487721</td>\n",
       "      <td>0.227215</td>\n",
       "    </tr>\n",
       "    <tr>\n",
       "      <th>min</th>\n",
       "      <td>0.000000</td>\n",
       "      <td>0.000000</td>\n",
       "      <td>0.000000</td>\n",
       "      <td>0.000000</td>\n",
       "      <td>0.000000</td>\n",
       "      <td>0.000000</td>\n",
       "      <td>0.000000</td>\n",
       "      <td>0.000000</td>\n",
       "      <td>0.000000</td>\n",
       "      <td>0.000000</td>\n",
       "      <td>0.000000</td>\n",
       "      <td>0.000000</td>\n",
       "      <td>0.000000</td>\n",
       "      <td>0.000000</td>\n",
       "      <td>0.000000</td>\n",
       "      <td>0.000000</td>\n",
       "      <td>0.000000</td>\n",
       "      <td>0.000000</td>\n",
       "      <td>0.000000</td>\n",
       "      <td>0.000000</td>\n",
       "      <td>0.000000</td>\n",
       "      <td>0.000000</td>\n",
       "      <td>0.000000</td>\n",
       "      <td>0.000000</td>\n",
       "      <td>0.000000</td>\n",
       "      <td>0.000000</td>\n",
       "      <td>0.000000</td>\n",
       "      <td>0.000000</td>\n",
       "      <td>0.000000</td>\n",
       "      <td>0.000000</td>\n",
       "      <td>0.000000</td>\n",
       "      <td>0.000000</td>\n",
       "      <td>0.000000</td>\n",
       "      <td>0.000000</td>\n",
       "      <td>0.000000</td>\n",
       "      <td>0.000000</td>\n",
       "      <td>0.000000</td>\n",
       "      <td>0.000000</td>\n",
       "      <td>0.000000</td>\n",
       "      <td>0.000000</td>\n",
       "      <td>0.000000</td>\n",
       "      <td>0.000000</td>\n",
       "      <td>0.000000</td>\n",
       "      <td>0.000000</td>\n",
       "      <td>0.000000</td>\n",
       "      <td>0.000000</td>\n",
       "      <td>0.000000</td>\n",
       "      <td>0.000000</td>\n",
       "    </tr>\n",
       "    <tr>\n",
       "      <th>25%</th>\n",
       "      <td>0.213115</td>\n",
       "      <td>0.000000</td>\n",
       "      <td>0.000000</td>\n",
       "      <td>0.112676</td>\n",
       "      <td>0.183837</td>\n",
       "      <td>0.035294</td>\n",
       "      <td>0.171642</td>\n",
       "      <td>0.044126</td>\n",
       "      <td>0.000000</td>\n",
       "      <td>0.000000</td>\n",
       "      <td>0.019864</td>\n",
       "      <td>0.049130</td>\n",
       "      <td>0.000000</td>\n",
       "      <td>0.000000</td>\n",
       "      <td>0.000000</td>\n",
       "      <td>0.000000</td>\n",
       "      <td>0.000000</td>\n",
       "      <td>0.000000</td>\n",
       "      <td>0.000000</td>\n",
       "      <td>0.000000</td>\n",
       "      <td>1.000000</td>\n",
       "      <td>0.000000</td>\n",
       "      <td>0.000000</td>\n",
       "      <td>1.000000</td>\n",
       "      <td>0.000000</td>\n",
       "      <td>0.000000</td>\n",
       "      <td>0.000000</td>\n",
       "      <td>0.000000</td>\n",
       "      <td>0.000000</td>\n",
       "      <td>0.000000</td>\n",
       "      <td>0.000000</td>\n",
       "      <td>0.000000</td>\n",
       "      <td>0.000000</td>\n",
       "      <td>0.000000</td>\n",
       "      <td>0.000000</td>\n",
       "      <td>0.000000</td>\n",
       "      <td>0.000000</td>\n",
       "      <td>0.000000</td>\n",
       "      <td>0.000000</td>\n",
       "      <td>0.000000</td>\n",
       "      <td>0.000000</td>\n",
       "      <td>0.000000</td>\n",
       "      <td>0.000000</td>\n",
       "      <td>0.000000</td>\n",
       "      <td>0.000000</td>\n",
       "      <td>0.000000</td>\n",
       "      <td>0.000000</td>\n",
       "      <td>0.000000</td>\n",
       "    </tr>\n",
       "    <tr>\n",
       "      <th>50%</th>\n",
       "      <td>0.442623</td>\n",
       "      <td>0.000000</td>\n",
       "      <td>0.000000</td>\n",
       "      <td>0.394366</td>\n",
       "      <td>0.457892</td>\n",
       "      <td>0.200000</td>\n",
       "      <td>0.518408</td>\n",
       "      <td>0.159024</td>\n",
       "      <td>0.000000</td>\n",
       "      <td>0.000000</td>\n",
       "      <td>0.112519</td>\n",
       "      <td>0.174654</td>\n",
       "      <td>0.000000</td>\n",
       "      <td>1.000000</td>\n",
       "      <td>0.000000</td>\n",
       "      <td>0.000000</td>\n",
       "      <td>0.000000</td>\n",
       "      <td>0.000000</td>\n",
       "      <td>0.000000</td>\n",
       "      <td>0.000000</td>\n",
       "      <td>1.000000</td>\n",
       "      <td>0.000000</td>\n",
       "      <td>0.000000</td>\n",
       "      <td>1.000000</td>\n",
       "      <td>0.000000</td>\n",
       "      <td>0.000000</td>\n",
       "      <td>0.000000</td>\n",
       "      <td>0.000000</td>\n",
       "      <td>0.000000</td>\n",
       "      <td>0.000000</td>\n",
       "      <td>0.000000</td>\n",
       "      <td>0.000000</td>\n",
       "      <td>0.000000</td>\n",
       "      <td>0.000000</td>\n",
       "      <td>0.000000</td>\n",
       "      <td>0.000000</td>\n",
       "      <td>0.000000</td>\n",
       "      <td>0.000000</td>\n",
       "      <td>0.000000</td>\n",
       "      <td>0.000000</td>\n",
       "      <td>0.000000</td>\n",
       "      <td>0.000000</td>\n",
       "      <td>1.000000</td>\n",
       "      <td>0.000000</td>\n",
       "      <td>0.000000</td>\n",
       "      <td>1.000000</td>\n",
       "      <td>0.000000</td>\n",
       "      <td>0.000000</td>\n",
       "    </tr>\n",
       "    <tr>\n",
       "      <th>75%</th>\n",
       "      <td>0.672131</td>\n",
       "      <td>0.000000</td>\n",
       "      <td>0.272727</td>\n",
       "      <td>0.760563</td>\n",
       "      <td>0.727946</td>\n",
       "      <td>0.317647</td>\n",
       "      <td>0.712935</td>\n",
       "      <td>0.435746</td>\n",
       "      <td>0.000000</td>\n",
       "      <td>0.000000</td>\n",
       "      <td>0.335450</td>\n",
       "      <td>0.400744</td>\n",
       "      <td>1.000000</td>\n",
       "      <td>1.000000</td>\n",
       "      <td>1.000000</td>\n",
       "      <td>0.000000</td>\n",
       "      <td>0.000000</td>\n",
       "      <td>0.000000</td>\n",
       "      <td>0.000000</td>\n",
       "      <td>0.000000</td>\n",
       "      <td>1.000000</td>\n",
       "      <td>1.000000</td>\n",
       "      <td>1.000000</td>\n",
       "      <td>1.000000</td>\n",
       "      <td>0.000000</td>\n",
       "      <td>1.000000</td>\n",
       "      <td>0.000000</td>\n",
       "      <td>0.000000</td>\n",
       "      <td>1.000000</td>\n",
       "      <td>0.000000</td>\n",
       "      <td>1.000000</td>\n",
       "      <td>0.000000</td>\n",
       "      <td>1.000000</td>\n",
       "      <td>0.000000</td>\n",
       "      <td>1.000000</td>\n",
       "      <td>0.000000</td>\n",
       "      <td>1.000000</td>\n",
       "      <td>0.000000</td>\n",
       "      <td>1.000000</td>\n",
       "      <td>0.000000</td>\n",
       "      <td>1.000000</td>\n",
       "      <td>0.000000</td>\n",
       "      <td>1.000000</td>\n",
       "      <td>0.000000</td>\n",
       "      <td>1.000000</td>\n",
       "      <td>1.000000</td>\n",
       "      <td>1.000000</td>\n",
       "      <td>0.000000</td>\n",
       "    </tr>\n",
       "    <tr>\n",
       "      <th>max</th>\n",
       "      <td>1.000000</td>\n",
       "      <td>1.000000</td>\n",
       "      <td>1.000000</td>\n",
       "      <td>1.000000</td>\n",
       "      <td>1.000000</td>\n",
       "      <td>1.000000</td>\n",
       "      <td>1.000000</td>\n",
       "      <td>1.000000</td>\n",
       "      <td>1.000000</td>\n",
       "      <td>1.000000</td>\n",
       "      <td>1.000000</td>\n",
       "      <td>1.000000</td>\n",
       "      <td>1.000000</td>\n",
       "      <td>1.000000</td>\n",
       "      <td>1.000000</td>\n",
       "      <td>1.000000</td>\n",
       "      <td>1.000000</td>\n",
       "      <td>1.000000</td>\n",
       "      <td>1.000000</td>\n",
       "      <td>1.000000</td>\n",
       "      <td>1.000000</td>\n",
       "      <td>1.000000</td>\n",
       "      <td>1.000000</td>\n",
       "      <td>1.000000</td>\n",
       "      <td>1.000000</td>\n",
       "      <td>1.000000</td>\n",
       "      <td>1.000000</td>\n",
       "      <td>1.000000</td>\n",
       "      <td>1.000000</td>\n",
       "      <td>1.000000</td>\n",
       "      <td>1.000000</td>\n",
       "      <td>1.000000</td>\n",
       "      <td>1.000000</td>\n",
       "      <td>1.000000</td>\n",
       "      <td>1.000000</td>\n",
       "      <td>1.000000</td>\n",
       "      <td>1.000000</td>\n",
       "      <td>1.000000</td>\n",
       "      <td>1.000000</td>\n",
       "      <td>1.000000</td>\n",
       "      <td>1.000000</td>\n",
       "      <td>1.000000</td>\n",
       "      <td>1.000000</td>\n",
       "      <td>1.000000</td>\n",
       "      <td>1.000000</td>\n",
       "      <td>1.000000</td>\n",
       "      <td>1.000000</td>\n",
       "      <td>1.000000</td>\n",
       "    </tr>\n",
       "  </tbody>\n",
       "</table>\n",
       "</div>"
      ],
      "text/plain": [
       "               Age  Number of Dependents  Number of Referrals  \\\n",
       "count  6923.000000           6923.000000          6923.000000   \n",
       "mean      0.450634              0.052065             0.177340   \n",
       "std       0.274502              0.106889             0.272504   \n",
       "min       0.000000              0.000000             0.000000   \n",
       "25%       0.213115              0.000000             0.000000   \n",
       "50%       0.442623              0.000000             0.000000   \n",
       "75%       0.672131              0.000000             0.272727   \n",
       "max       1.000000              1.000000             1.000000   \n",
       "\n",
       "       Tenure in Months  Avg Monthly Long Distance Charges  \\\n",
       "count       6923.000000                        6923.000000   \n",
       "mean           0.442707                           0.459148   \n",
       "std            0.345628                           0.309133   \n",
       "min            0.000000                           0.000000   \n",
       "25%            0.112676                           0.183837   \n",
       "50%            0.394366                           0.457892   \n",
       "75%            0.760563                           0.727946   \n",
       "max            1.000000                           1.000000   \n",
       "\n",
       "       Avg Monthly GB Download  Monthly Charge  Total Charges  Total Refunds  \\\n",
       "count              6923.000000     6923.000000    6923.000000    6923.000000   \n",
       "mean                  0.241385        0.463108       0.261475       0.038986   \n",
       "std                   0.240291        0.299579       0.261777       0.157938   \n",
       "min                   0.000000        0.000000       0.000000       0.000000   \n",
       "25%                   0.035294        0.171642       0.044126       0.000000   \n",
       "50%                   0.200000        0.518408       0.159024       0.000000   \n",
       "75%                   0.317647        0.712935       0.435746       0.000000   \n",
       "max                   1.000000        1.000000       1.000000       1.000000   \n",
       "\n",
       "       Total Extra Data Charges  Total Long Distance Charges  Total Revenue  \\\n",
       "count               6923.000000                  6923.000000    6923.000000   \n",
       "mean                   0.045809                     0.210404       0.252412   \n",
       "std                    0.167493                     0.237730       0.239804   \n",
       "min                    0.000000                     0.000000       0.000000   \n",
       "25%                    0.000000                     0.019864       0.049130   \n",
       "50%                    0.000000                     0.112519       0.174654   \n",
       "75%                    0.000000                     0.335450       0.400744   \n",
       "max                    1.000000                     1.000000       1.000000   \n",
       "\n",
       "             Churn  Gender_Male  Married_Yes  Offer_Offer A  Offer_Offer B  \\\n",
       "count  6923.000000  6923.000000  6923.000000    6923.000000    6923.000000   \n",
       "mean      0.265636     0.503250     0.483461       0.074101       0.117724   \n",
       "std       0.441703     0.500026     0.499762       0.261954       0.322304   \n",
       "min       0.000000     0.000000     0.000000       0.000000       0.000000   \n",
       "25%       0.000000     0.000000     0.000000       0.000000       0.000000   \n",
       "50%       0.000000     1.000000     0.000000       0.000000       0.000000   \n",
       "75%       1.000000     1.000000     1.000000       0.000000       0.000000   \n",
       "max       1.000000     1.000000     1.000000       1.000000       1.000000   \n",
       "\n",
       "       Offer_Offer C  Offer_Offer D  Offer_Offer E  Phone Service_Yes  \\\n",
       "count    6923.000000    6923.000000    6923.000000        6923.000000   \n",
       "mean        0.059367       0.085657       0.114257           0.903077   \n",
       "std         0.236328       0.279876       0.318146           0.295875   \n",
       "min         0.000000       0.000000       0.000000           0.000000   \n",
       "25%         0.000000       0.000000       0.000000           1.000000   \n",
       "50%         0.000000       0.000000       0.000000           1.000000   \n",
       "75%         0.000000       0.000000       0.000000           1.000000   \n",
       "max         1.000000       1.000000       1.000000           1.000000   \n",
       "\n",
       "       Multiple Lines_No  Multiple Lines_Yes  Internet Service_Yes  \\\n",
       "count        6923.000000         6923.000000           6923.000000   \n",
       "mean            0.480716            0.422360              0.783331   \n",
       "std             0.499664            0.493971              0.412005   \n",
       "min             0.000000            0.000000              0.000000   \n",
       "25%             0.000000            0.000000              1.000000   \n",
       "50%             0.000000            0.000000              1.000000   \n",
       "75%             1.000000            1.000000              1.000000   \n",
       "max             1.000000            1.000000              1.000000   \n",
       "\n",
       "       Internet Type_DSL  Internet Type_Fiber Optic  \\\n",
       "count        6923.000000                6923.000000   \n",
       "mean            0.233569                   0.431605   \n",
       "std             0.423132                   0.495336   \n",
       "min             0.000000                   0.000000   \n",
       "25%             0.000000                   0.000000   \n",
       "50%             0.000000                   0.000000   \n",
       "75%             0.000000                   1.000000   \n",
       "max             1.000000                   1.000000   \n",
       "\n",
       "       Internet Type_No Internet  Online Security_No Internet  \\\n",
       "count                6923.000000                  6923.000000   \n",
       "mean                    0.216669                     0.216669   \n",
       "std                     0.412005                     0.412005   \n",
       "min                     0.000000                     0.000000   \n",
       "25%                     0.000000                     0.000000   \n",
       "50%                     0.000000                     0.000000   \n",
       "75%                     0.000000                     0.000000   \n",
       "max                     1.000000                     1.000000   \n",
       "\n",
       "       Online Security_Yes  Online Backup_No Internet  Online Backup_Yes  \\\n",
       "count          6923.000000                6923.000000        6923.000000   \n",
       "mean              0.286870                   0.216669           0.345226   \n",
       "std               0.452333                   0.412005           0.475476   \n",
       "min               0.000000                   0.000000           0.000000   \n",
       "25%               0.000000                   0.000000           0.000000   \n",
       "50%               0.000000                   0.000000           0.000000   \n",
       "75%               1.000000                   0.000000           1.000000   \n",
       "max               1.000000                   1.000000           1.000000   \n",
       "\n",
       "       Device Protection Plan_No Internet  Device Protection Plan_Yes  \\\n",
       "count                         6923.000000                 6923.000000   \n",
       "mean                             0.216669                    0.344359   \n",
       "std                              0.412005                    0.475193   \n",
       "min                              0.000000                    0.000000   \n",
       "25%                              0.000000                    0.000000   \n",
       "50%                              0.000000                    0.000000   \n",
       "75%                              0.000000                    1.000000   \n",
       "max                              1.000000                    1.000000   \n",
       "\n",
       "       Premium Tech Support_No Internet  Premium Tech Support_Yes  \\\n",
       "count                       6923.000000               6923.000000   \n",
       "mean                           0.216669                  0.289759   \n",
       "std                            0.412005                  0.453683   \n",
       "min                            0.000000                  0.000000   \n",
       "25%                            0.000000                  0.000000   \n",
       "50%                            0.000000                  0.000000   \n",
       "75%                            0.000000                  1.000000   \n",
       "max                            1.000000                  1.000000   \n",
       "\n",
       "       Streaming TV_No Internet  Streaming TV_Yes  \\\n",
       "count               6923.000000       6923.000000   \n",
       "mean                   0.216669          0.384949   \n",
       "std                    0.412005          0.486618   \n",
       "min                    0.000000          0.000000   \n",
       "25%                    0.000000          0.000000   \n",
       "50%                    0.000000          0.000000   \n",
       "75%                    0.000000          1.000000   \n",
       "max                    1.000000          1.000000   \n",
       "\n",
       "       Streaming Movies_No Internet  Streaming Movies_Yes  \\\n",
       "count                   6923.000000           6923.000000   \n",
       "mean                       0.216669              0.387982   \n",
       "std                        0.412005              0.487326   \n",
       "min                        0.000000              0.000000   \n",
       "25%                        0.000000              0.000000   \n",
       "50%                        0.000000              0.000000   \n",
       "75%                        0.000000              1.000000   \n",
       "max                        1.000000              1.000000   \n",
       "\n",
       "       Streaming Music_No Internet  Streaming Music_Yes  \\\n",
       "count                  6923.000000          6923.000000   \n",
       "mean                      0.216669             0.353026   \n",
       "std                       0.412005             0.477945   \n",
       "min                       0.000000             0.000000   \n",
       "25%                       0.000000             0.000000   \n",
       "50%                       0.000000             0.000000   \n",
       "75%                       0.000000             1.000000   \n",
       "max                       1.000000             1.000000   \n",
       "\n",
       "       Unlimited Data_No Internet  Unlimited Data_Yes  Contract_One Year  \\\n",
       "count                 6923.000000         6923.000000        6923.000000   \n",
       "mean                     0.216669            0.673841           0.219558   \n",
       "std                      0.412005            0.468840           0.413977   \n",
       "min                      0.000000            0.000000           0.000000   \n",
       "25%                      0.000000            0.000000           0.000000   \n",
       "50%                      0.000000            1.000000           0.000000   \n",
       "75%                      0.000000            1.000000           0.000000   \n",
       "max                      1.000000            1.000000           1.000000   \n",
       "\n",
       "       Contract_Two Year  Paperless Billing_Yes  Payment Method_Credit Card  \\\n",
       "count        6923.000000            6923.000000                 6923.000000   \n",
       "mean            0.267803               0.592951                    0.389715   \n",
       "std             0.442846               0.491320                    0.487721   \n",
       "min             0.000000               0.000000                    0.000000   \n",
       "25%             0.000000               0.000000                    0.000000   \n",
       "50%             0.000000               1.000000                    0.000000   \n",
       "75%             1.000000               1.000000                    1.000000   \n",
       "max             1.000000               1.000000                    1.000000   \n",
       "\n",
       "       Payment Method_Mailed Check  \n",
       "count                  6923.000000  \n",
       "mean                      0.054601  \n",
       "std                       0.227215  \n",
       "min                       0.000000  \n",
       "25%                       0.000000  \n",
       "50%                       0.000000  \n",
       "75%                       0.000000  \n",
       "max                       1.000000  "
      ]
     },
     "execution_count": 88,
     "metadata": {},
     "output_type": "execute_result"
    }
   ],
   "source": [
    "model_data.describe()"
   ]
  },
  {
   "cell_type": "markdown",
   "id": "ef33c135-2605-4b60-b704-8e5244fe98ee",
   "metadata": {
    "tags": []
   },
   "source": [
    "#### Modelling"
   ]
  },
  {
   "cell_type": "code",
   "execution_count": 89,
   "id": "958d5ec9-00e5-4344-b481-9c51295a0fd9",
   "metadata": {},
   "outputs": [
    {
     "data": {
      "text/plain": [
       "(6923,)"
      ]
     },
     "execution_count": 89,
     "metadata": {},
     "output_type": "execute_result"
    }
   ],
   "source": [
    "Y=model_data['Churn']\n",
    "Y.shape\n"
   ]
  },
  {
   "cell_type": "code",
   "execution_count": 90,
   "id": "d1c25cac-a982-470f-aa64-485d6c94fb7c",
   "metadata": {},
   "outputs": [
    {
     "data": {
      "text/plain": [
       "(6923, 47)"
      ]
     },
     "execution_count": 90,
     "metadata": {},
     "output_type": "execute_result"
    }
   ],
   "source": [
    "X=model_data.drop('Churn',axis=1)\n",
    "#X=model_data[colsRequired]\n",
    "X.shape"
   ]
  },
  {
   "cell_type": "markdown",
   "id": "5b66ac49-a9c3-44a0-9e4a-43bac77b31c5",
   "metadata": {
    "tags": []
   },
   "source": [
    "#### Smoting"
   ]
  },
  {
   "cell_type": "code",
   "execution_count": 91,
   "id": "90a31c0a-81ea-449e-98ee-283f9896040b",
   "metadata": {},
   "outputs": [],
   "source": [
    "from imblearn.over_sampling import SMOTE \n",
    "from collections import Counter\n",
    "sm = SMOTE(random_state=42)"
   ]
  },
  {
   "cell_type": "code",
   "execution_count": 92,
   "id": "9079ce27-d890-4019-a962-bb4173a5de74",
   "metadata": {},
   "outputs": [
    {
     "name": "stdout",
     "output_type": "stream",
     "text": [
      "Original dataset shape Counter({0.0: 5084, 1.0: 1839})\n"
     ]
    }
   ],
   "source": [
    "print('Original dataset shape', Counter(Y))\n",
    "x_res, y_res = sm.fit_resample(X, Y)"
   ]
  },
  {
   "cell_type": "code",
   "execution_count": 93,
   "id": "1c1fc50e-0889-41dc-b62c-8e9ca8fd7d58",
   "metadata": {},
   "outputs": [
    {
     "name": "stdout",
     "output_type": "stream",
     "text": [
      "Resampled dataset shape Counter({0.0: 5084, 1.0: 5084})\n"
     ]
    }
   ],
   "source": [
    "print('Resampled dataset shape %s' % Counter(y_res))\n"
   ]
  },
  {
   "cell_type": "code",
   "execution_count": 94,
   "id": "f8881549-2d35-4594-a290-46d16b5a305e",
   "metadata": {},
   "outputs": [],
   "source": [
    "x_train, x_test, y_train, y_test = train_test_split(x_res,y_res, test_size =0.20, random_state=42,stratify=y_res)"
   ]
  },
  {
   "cell_type": "code",
   "execution_count": 95,
   "id": "3792cb4c-570f-485b-bf93-5a0c85454d7a",
   "metadata": {},
   "outputs": [
    {
     "name": "stdout",
     "output_type": "stream",
     "text": [
      "(8134, 47)\n",
      "(2034, 47)\n",
      "(8134,)\n",
      "(2034,)\n"
     ]
    }
   ],
   "source": [
    "print(x_train.shape)\n",
    "print(x_test.shape)\n",
    "print(y_train.shape)\n",
    "print(y_test.shape)"
   ]
  },
  {
   "cell_type": "markdown",
   "id": "c692f827-05ff-4d44-a5d9-5a6f0211e660",
   "metadata": {
    "tags": []
   },
   "source": [
    "#### Logistic Regression"
   ]
  },
  {
   "cell_type": "code",
   "execution_count": 96,
   "id": "5e35e03a-a3bd-45b5-b0b6-7e88764db06d",
   "metadata": {},
   "outputs": [],
   "source": [
    "lr = LogisticRegression(C= 100.0, penalty='l2')"
   ]
  },
  {
   "cell_type": "code",
   "execution_count": 97,
   "id": "8144579f-ccb9-4ca8-af6b-cfa83240a840",
   "metadata": {},
   "outputs": [
    {
     "data": {
      "text/html": [
       "<style>#sk-container-id-2 {color: black;background-color: white;}#sk-container-id-2 pre{padding: 0;}#sk-container-id-2 div.sk-toggleable {background-color: white;}#sk-container-id-2 label.sk-toggleable__label {cursor: pointer;display: block;width: 100%;margin-bottom: 0;padding: 0.3em;box-sizing: border-box;text-align: center;}#sk-container-id-2 label.sk-toggleable__label-arrow:before {content: \"▸\";float: left;margin-right: 0.25em;color: #696969;}#sk-container-id-2 label.sk-toggleable__label-arrow:hover:before {color: black;}#sk-container-id-2 div.sk-estimator:hover label.sk-toggleable__label-arrow:before {color: black;}#sk-container-id-2 div.sk-toggleable__content {max-height: 0;max-width: 0;overflow: hidden;text-align: left;background-color: #f0f8ff;}#sk-container-id-2 div.sk-toggleable__content pre {margin: 0.2em;color: black;border-radius: 0.25em;background-color: #f0f8ff;}#sk-container-id-2 input.sk-toggleable__control:checked~div.sk-toggleable__content {max-height: 200px;max-width: 100%;overflow: auto;}#sk-container-id-2 input.sk-toggleable__control:checked~label.sk-toggleable__label-arrow:before {content: \"▾\";}#sk-container-id-2 div.sk-estimator input.sk-toggleable__control:checked~label.sk-toggleable__label {background-color: #d4ebff;}#sk-container-id-2 div.sk-label input.sk-toggleable__control:checked~label.sk-toggleable__label {background-color: #d4ebff;}#sk-container-id-2 input.sk-hidden--visually {border: 0;clip: rect(1px 1px 1px 1px);clip: rect(1px, 1px, 1px, 1px);height: 1px;margin: -1px;overflow: hidden;padding: 0;position: absolute;width: 1px;}#sk-container-id-2 div.sk-estimator {font-family: monospace;background-color: #f0f8ff;border: 1px dotted black;border-radius: 0.25em;box-sizing: border-box;margin-bottom: 0.5em;}#sk-container-id-2 div.sk-estimator:hover {background-color: #d4ebff;}#sk-container-id-2 div.sk-parallel-item::after {content: \"\";width: 100%;border-bottom: 1px solid gray;flex-grow: 1;}#sk-container-id-2 div.sk-label:hover label.sk-toggleable__label {background-color: #d4ebff;}#sk-container-id-2 div.sk-serial::before {content: \"\";position: absolute;border-left: 1px solid gray;box-sizing: border-box;top: 0;bottom: 0;left: 50%;z-index: 0;}#sk-container-id-2 div.sk-serial {display: flex;flex-direction: column;align-items: center;background-color: white;padding-right: 0.2em;padding-left: 0.2em;position: relative;}#sk-container-id-2 div.sk-item {position: relative;z-index: 1;}#sk-container-id-2 div.sk-parallel {display: flex;align-items: stretch;justify-content: center;background-color: white;position: relative;}#sk-container-id-2 div.sk-item::before, #sk-container-id-2 div.sk-parallel-item::before {content: \"\";position: absolute;border-left: 1px solid gray;box-sizing: border-box;top: 0;bottom: 0;left: 50%;z-index: -1;}#sk-container-id-2 div.sk-parallel-item {display: flex;flex-direction: column;z-index: 1;position: relative;background-color: white;}#sk-container-id-2 div.sk-parallel-item:first-child::after {align-self: flex-end;width: 50%;}#sk-container-id-2 div.sk-parallel-item:last-child::after {align-self: flex-start;width: 50%;}#sk-container-id-2 div.sk-parallel-item:only-child::after {width: 0;}#sk-container-id-2 div.sk-dashed-wrapped {border: 1px dashed gray;margin: 0 0.4em 0.5em 0.4em;box-sizing: border-box;padding-bottom: 0.4em;background-color: white;}#sk-container-id-2 div.sk-label label {font-family: monospace;font-weight: bold;display: inline-block;line-height: 1.2em;}#sk-container-id-2 div.sk-label-container {text-align: center;}#sk-container-id-2 div.sk-container {/* jupyter's `normalize.less` sets `[hidden] { display: none; }` but bootstrap.min.css set `[hidden] { display: none !important; }` so we also need the `!important` here to be able to override the default hidden behavior on the sphinx rendered scikit-learn.org. See: https://github.com/scikit-learn/scikit-learn/issues/21755 */display: inline-block !important;position: relative;}#sk-container-id-2 div.sk-text-repr-fallback {display: none;}</style><div id=\"sk-container-id-2\" class=\"sk-top-container\"><div class=\"sk-text-repr-fallback\"><pre>LogisticRegression(C=100.0)</pre><b>In a Jupyter environment, please rerun this cell to show the HTML representation or trust the notebook. <br />On GitHub, the HTML representation is unable to render, please try loading this page with nbviewer.org.</b></div><div class=\"sk-container\" hidden><div class=\"sk-item\"><div class=\"sk-estimator sk-toggleable\"><input class=\"sk-toggleable__control sk-hidden--visually\" id=\"sk-estimator-id-2\" type=\"checkbox\" checked><label for=\"sk-estimator-id-2\" class=\"sk-toggleable__label sk-toggleable__label-arrow\">LogisticRegression</label><div class=\"sk-toggleable__content\"><pre>LogisticRegression(C=100.0)</pre></div></div></div></div></div>"
      ],
      "text/plain": [
       "LogisticRegression(C=100.0)"
      ]
     },
     "execution_count": 97,
     "metadata": {},
     "output_type": "execute_result"
    }
   ],
   "source": [
    "lr.fit(x_train,y_train)"
   ]
  },
  {
   "cell_type": "code",
   "execution_count": 98,
   "id": "0f7d7eb7-2680-4014-a754-abefed06bb5c",
   "metadata": {},
   "outputs": [],
   "source": [
    "y_train_pred = lr.predict(x_train)"
   ]
  },
  {
   "cell_type": "code",
   "execution_count": 99,
   "id": "807f35a8-240c-4573-bb18-052f9d3d7f1c",
   "metadata": {},
   "outputs": [],
   "source": [
    "y_test_pred = lr.predict(x_test)"
   ]
  },
  {
   "cell_type": "code",
   "execution_count": 100,
   "id": "33c77ca6-3730-484a-bea2-b637cfc3a1ab",
   "metadata": {},
   "outputs": [
    {
     "data": {
      "text/plain": [
       "array([[3228,  839],\n",
       "       [ 541, 3526]])"
      ]
     },
     "execution_count": 100,
     "metadata": {},
     "output_type": "execute_result"
    }
   ],
   "source": [
    "confusion_matrix(y_train,y_train_pred)"
   ]
  },
  {
   "cell_type": "code",
   "execution_count": 101,
   "id": "cf8952fc-8291-4415-b071-f544bdf40b3d",
   "metadata": {},
   "outputs": [
    {
     "data": {
      "text/plain": [
       "array([[787, 230],\n",
       "       [146, 871]])"
      ]
     },
     "execution_count": 101,
     "metadata": {},
     "output_type": "execute_result"
    }
   ],
   "source": [
    "confusion_matrix(y_test,y_test_pred)"
   ]
  },
  {
   "cell_type": "code",
   "execution_count": 102,
   "id": "ec885c36-2766-4296-8807-591d2d0ad09d",
   "metadata": {},
   "outputs": [
    {
     "name": "stdout",
     "output_type": "stream",
     "text": [
      "0.8077892325315006\n",
      "0.866978116547824\n",
      "0.8303417752643226\n",
      "0.7910990009082652\n",
      "0.856440511307768\n",
      "0.8151425762045231\n"
     ]
    }
   ],
   "source": [
    "print(metrics.precision_score(y_train,y_train_pred))\n",
    "print(metrics.recall_score(y_train,y_train_pred))\n",
    "print(metrics.accuracy_score(y_train,y_train_pred))\n",
    "print(metrics.precision_score(y_test,y_test_pred))\n",
    "print(metrics.recall_score(y_test,y_test_pred))\n",
    "print(metrics.accuracy_score(y_test,y_test_pred))"
   ]
  },
  {
   "cell_type": "code",
   "execution_count": 103,
   "id": "b9f0fc82-48f2-4be5-b167-383de373acdb",
   "metadata": {},
   "outputs": [
    {
     "name": "stdout",
     "output_type": "stream",
     "text": [
      "              precision    recall  f1-score   support\n",
      "\n",
      "         0.0       0.86      0.79      0.82      4067\n",
      "         1.0       0.81      0.87      0.84      4067\n",
      "\n",
      "    accuracy                           0.83      8134\n",
      "   macro avg       0.83      0.83      0.83      8134\n",
      "weighted avg       0.83      0.83      0.83      8134\n",
      "\n"
     ]
    }
   ],
   "source": [
    "print(classification_report(y_train,y_train_pred))"
   ]
  },
  {
   "cell_type": "code",
   "execution_count": 104,
   "id": "1ac79f33",
   "metadata": {},
   "outputs": [
    {
     "name": "stdout",
     "output_type": "stream",
     "text": [
      "              precision    recall  f1-score   support\n",
      "\n",
      "         0.0       0.84      0.77      0.81      1017\n",
      "         1.0       0.79      0.86      0.82      1017\n",
      "\n",
      "    accuracy                           0.82      2034\n",
      "   macro avg       0.82      0.82      0.81      2034\n",
      "weighted avg       0.82      0.82      0.81      2034\n",
      "\n"
     ]
    }
   ],
   "source": [
    "print(classification_report(y_test,y_test_pred))"
   ]
  },
  {
   "cell_type": "code",
   "execution_count": 105,
   "id": "92c9f259-a083-4e14-b136-f6943f248b26",
   "metadata": {},
   "outputs": [
    {
     "name": "stderr",
     "output_type": "stream",
     "text": [
      "/usr/local/lib/python3.9/dist-packages/sklearn/linear_model/_logistic.py:444: ConvergenceWarning: lbfgs failed to converge (status=1):\n",
      "STOP: TOTAL NO. of ITERATIONS REACHED LIMIT.\n",
      "\n",
      "Increase the number of iterations (max_iter) or scale the data as shown in:\n",
      "    https://scikit-learn.org/stable/modules/preprocessing.html\n",
      "Please also refer to the documentation for alternative solver options:\n",
      "    https://scikit-learn.org/stable/modules/linear_model.html#logistic-regression\n",
      "  n_iter_i = _check_optimize_result(\n",
      "/usr/local/lib/python3.9/dist-packages/sklearn/linear_model/_logistic.py:444: ConvergenceWarning: lbfgs failed to converge (status=1):\n",
      "STOP: TOTAL NO. of ITERATIONS REACHED LIMIT.\n",
      "\n",
      "Increase the number of iterations (max_iter) or scale the data as shown in:\n",
      "    https://scikit-learn.org/stable/modules/preprocessing.html\n",
      "Please also refer to the documentation for alternative solver options:\n",
      "    https://scikit-learn.org/stable/modules/linear_model.html#logistic-regression\n",
      "  n_iter_i = _check_optimize_result(\n",
      "/usr/local/lib/python3.9/dist-packages/sklearn/linear_model/_logistic.py:444: ConvergenceWarning: lbfgs failed to converge (status=1):\n",
      "STOP: TOTAL NO. of ITERATIONS REACHED LIMIT.\n",
      "\n",
      "Increase the number of iterations (max_iter) or scale the data as shown in:\n",
      "    https://scikit-learn.org/stable/modules/preprocessing.html\n",
      "Please also refer to the documentation for alternative solver options:\n",
      "    https://scikit-learn.org/stable/modules/linear_model.html#logistic-regression\n",
      "  n_iter_i = _check_optimize_result(\n"
     ]
    },
    {
     "data": {
      "text/plain": [
       "{'fit_time': array([0.03861761, 0.05397081, 0.0389595 , 0.04606938, 0.03702664]),\n",
       " 'score_time': array([0.00865436, 0.00959611, 0.00808692, 0.00929022, 0.00630641]),\n",
       " 'test_accuracy': array([0.78132678, 0.81326781, 0.81081081, 0.79115479, 0.82512315]),\n",
       " 'test_precision': array([0.74774775, 0.8173516 , 0.79908676, 0.72608696, 0.81105991]),\n",
       " 'test_ recall': array([0.83417085, 0.83255814, 0.84134615, 0.88359788, 0.85436893]),\n",
       " 'test_f1_score': array([0.78859857, 0.82488479, 0.81967213, 0.79713604, 0.8321513 ])}"
      ]
     },
     "execution_count": 105,
     "metadata": {},
     "output_type": "execute_result"
    }
   ],
   "source": [
    "from sklearn.model_selection import cross_validate\n",
    "from sklearn.metrics import make_scorer, accuracy_score, precision_score, recall_score, f1_score\n",
    "\n",
    "\n",
    "\n",
    "scoring = {'accuracy' : make_scorer(accuracy_score),\n",
    "           'precision' : make_scorer(precision_score),\n",
    "           ' recall' : make_scorer(recall_score),\n",
    "           'f1_score' : make_scorer(f1_score)}\n",
    "\n",
    "\n",
    "\n",
    "\n",
    "\n",
    "cv = KFold(n_splits=5, random_state=1, shuffle=True)\n",
    "\n",
    "\n",
    "\n",
    "scores = cross_validate(LogisticRegression(), x_test, y_test, scoring=scoring, cv=cv, n_jobs=-1)\n",
    "# report performance\n",
    "# print('Accuracy: %.3f (%.3f)' % (mean(scores), std(scores)))\n",
    "scores"
   ]
  },
  {
   "cell_type": "code",
   "execution_count": 106,
   "id": "a1bcaf3e-2ee4-4524-9a93-3f2733f2b551",
   "metadata": {},
   "outputs": [
    {
     "data": {
      "text/plain": [
       "(array([[ 9.09870461e-01, -5.72478630e+00, -6.33149514e+00,\n",
       "         -3.11460574e+00, -1.14822126e-01,  1.82018491e-02,\n",
       "          1.21785911e+01,  1.18338455e+00, -6.32451866e-01,\n",
       "          1.19417554e-02,  1.17927605e-01,  8.95536716e-01,\n",
       "         -5.32254714e-02,  1.66181214e+00,  3.62893765e-01,\n",
       "         -2.37037813e-01, -5.03594729e-01, -6.10433391e-01,\n",
       "          2.70890452e-01, -1.90965461e+00, -8.00863474e-01,\n",
       "         -1.10879113e+00, -2.35109506e-01,  2.89394745e-02,\n",
       "         -2.35340381e+00,  2.58663551e-01,  2.58663551e-01,\n",
       "         -9.58288603e-01,  2.58663551e-01, -7.48128872e-01,\n",
       "          2.58663551e-01, -6.37486109e-01,  2.58663551e-01,\n",
       "         -9.98181066e-01,  2.58663551e-01, -8.72601325e-01,\n",
       "          2.58663551e-01, -1.24434585e+00,  2.58663551e-01,\n",
       "          4.32209961e-01,  2.58663551e-01,  7.97894884e-02,\n",
       "         -1.49432370e+00, -2.63674719e+00,  3.89420560e-01,\n",
       "         -5.20497924e-01,  5.41736377e-01]]),\n",
       " Index(['Age', 'Number of Dependents', 'Number of Referrals',\n",
       "        'Tenure in Months', 'Avg Monthly Long Distance Charges',\n",
       "        'Avg Monthly GB Download', 'Monthly Charge', 'Total Charges',\n",
       "        'Total Refunds', 'Total Extra Data Charges',\n",
       "        'Total Long Distance Charges', 'Total Revenue', 'Gender_Male',\n",
       "        'Married_Yes', 'Offer_Offer A', 'Offer_Offer B', 'Offer_Offer C',\n",
       "        'Offer_Offer D', 'Offer_Offer E', 'Phone Service_Yes',\n",
       "        'Multiple Lines_No', 'Multiple Lines_Yes', 'Internet Service_Yes',\n",
       "        'Internet Type_DSL', 'Internet Type_Fiber Optic',\n",
       "        'Internet Type_No Internet', 'Online Security_No Internet',\n",
       "        'Online Security_Yes', 'Online Backup_No Internet', 'Online Backup_Yes',\n",
       "        'Device Protection Plan_No Internet', 'Device Protection Plan_Yes',\n",
       "        'Premium Tech Support_No Internet', 'Premium Tech Support_Yes',\n",
       "        'Streaming TV_No Internet', 'Streaming TV_Yes',\n",
       "        'Streaming Movies_No Internet', 'Streaming Movies_Yes',\n",
       "        'Streaming Music_No Internet', 'Streaming Music_Yes',\n",
       "        'Unlimited Data_No Internet', 'Unlimited Data_Yes', 'Contract_One Year',\n",
       "        'Contract_Two Year', 'Paperless Billing_Yes',\n",
       "        'Payment Method_Credit Card', 'Payment Method_Mailed Check'],\n",
       "       dtype='object'))"
      ]
     },
     "execution_count": 106,
     "metadata": {},
     "output_type": "execute_result"
    }
   ],
   "source": [
    "\n",
    "lr.coef_,x_train.columns"
   ]
  },
  {
   "cell_type": "code",
   "execution_count": 107,
   "id": "4a8aa793-6151-4b31-b995-5d412c66f840",
   "metadata": {},
   "outputs": [
    {
     "data": {
      "text/html": [
       "<div>\n",
       "<style scoped>\n",
       "    .dataframe tbody tr th:only-of-type {\n",
       "        vertical-align: middle;\n",
       "    }\n",
       "\n",
       "    .dataframe tbody tr th {\n",
       "        vertical-align: top;\n",
       "    }\n",
       "\n",
       "    .dataframe thead th {\n",
       "        text-align: right;\n",
       "    }\n",
       "</style>\n",
       "<table border=\"1\" class=\"dataframe\">\n",
       "  <thead>\n",
       "    <tr style=\"text-align: right;\">\n",
       "      <th></th>\n",
       "      <th>Feature_importance</th>\n",
       "    </tr>\n",
       "  </thead>\n",
       "  <tbody>\n",
       "    <tr>\n",
       "      <th>Age</th>\n",
       "      <td>0.909870</td>\n",
       "    </tr>\n",
       "    <tr>\n",
       "      <th>Number of Dependents</th>\n",
       "      <td>-5.724786</td>\n",
       "    </tr>\n",
       "    <tr>\n",
       "      <th>Number of Referrals</th>\n",
       "      <td>-6.331495</td>\n",
       "    </tr>\n",
       "    <tr>\n",
       "      <th>Tenure in Months</th>\n",
       "      <td>-3.114606</td>\n",
       "    </tr>\n",
       "    <tr>\n",
       "      <th>Avg Monthly Long Distance Charges</th>\n",
       "      <td>-0.114822</td>\n",
       "    </tr>\n",
       "    <tr>\n",
       "      <th>Avg Monthly GB Download</th>\n",
       "      <td>0.018202</td>\n",
       "    </tr>\n",
       "    <tr>\n",
       "      <th>Monthly Charge</th>\n",
       "      <td>12.178591</td>\n",
       "    </tr>\n",
       "    <tr>\n",
       "      <th>Total Charges</th>\n",
       "      <td>1.183385</td>\n",
       "    </tr>\n",
       "    <tr>\n",
       "      <th>Total Refunds</th>\n",
       "      <td>-0.632452</td>\n",
       "    </tr>\n",
       "    <tr>\n",
       "      <th>Total Extra Data Charges</th>\n",
       "      <td>0.011942</td>\n",
       "    </tr>\n",
       "    <tr>\n",
       "      <th>Total Long Distance Charges</th>\n",
       "      <td>0.117928</td>\n",
       "    </tr>\n",
       "    <tr>\n",
       "      <th>Total Revenue</th>\n",
       "      <td>0.895537</td>\n",
       "    </tr>\n",
       "    <tr>\n",
       "      <th>Gender_Male</th>\n",
       "      <td>-0.053225</td>\n",
       "    </tr>\n",
       "    <tr>\n",
       "      <th>Married_Yes</th>\n",
       "      <td>1.661812</td>\n",
       "    </tr>\n",
       "    <tr>\n",
       "      <th>Offer_Offer A</th>\n",
       "      <td>0.362894</td>\n",
       "    </tr>\n",
       "    <tr>\n",
       "      <th>Offer_Offer B</th>\n",
       "      <td>-0.237038</td>\n",
       "    </tr>\n",
       "    <tr>\n",
       "      <th>Offer_Offer C</th>\n",
       "      <td>-0.503595</td>\n",
       "    </tr>\n",
       "    <tr>\n",
       "      <th>Offer_Offer D</th>\n",
       "      <td>-0.610433</td>\n",
       "    </tr>\n",
       "    <tr>\n",
       "      <th>Offer_Offer E</th>\n",
       "      <td>0.270890</td>\n",
       "    </tr>\n",
       "    <tr>\n",
       "      <th>Phone Service_Yes</th>\n",
       "      <td>-1.909655</td>\n",
       "    </tr>\n",
       "    <tr>\n",
       "      <th>Multiple Lines_No</th>\n",
       "      <td>-0.800863</td>\n",
       "    </tr>\n",
       "    <tr>\n",
       "      <th>Multiple Lines_Yes</th>\n",
       "      <td>-1.108791</td>\n",
       "    </tr>\n",
       "    <tr>\n",
       "      <th>Internet Service_Yes</th>\n",
       "      <td>-0.235110</td>\n",
       "    </tr>\n",
       "    <tr>\n",
       "      <th>Internet Type_DSL</th>\n",
       "      <td>0.028939</td>\n",
       "    </tr>\n",
       "    <tr>\n",
       "      <th>Internet Type_Fiber Optic</th>\n",
       "      <td>-2.353404</td>\n",
       "    </tr>\n",
       "    <tr>\n",
       "      <th>Internet Type_No Internet</th>\n",
       "      <td>0.258664</td>\n",
       "    </tr>\n",
       "    <tr>\n",
       "      <th>Online Security_No Internet</th>\n",
       "      <td>0.258664</td>\n",
       "    </tr>\n",
       "    <tr>\n",
       "      <th>Online Security_Yes</th>\n",
       "      <td>-0.958289</td>\n",
       "    </tr>\n",
       "    <tr>\n",
       "      <th>Online Backup_No Internet</th>\n",
       "      <td>0.258664</td>\n",
       "    </tr>\n",
       "    <tr>\n",
       "      <th>Online Backup_Yes</th>\n",
       "      <td>-0.748129</td>\n",
       "    </tr>\n",
       "    <tr>\n",
       "      <th>Device Protection Plan_No Internet</th>\n",
       "      <td>0.258664</td>\n",
       "    </tr>\n",
       "    <tr>\n",
       "      <th>Device Protection Plan_Yes</th>\n",
       "      <td>-0.637486</td>\n",
       "    </tr>\n",
       "    <tr>\n",
       "      <th>Premium Tech Support_No Internet</th>\n",
       "      <td>0.258664</td>\n",
       "    </tr>\n",
       "    <tr>\n",
       "      <th>Premium Tech Support_Yes</th>\n",
       "      <td>-0.998181</td>\n",
       "    </tr>\n",
       "    <tr>\n",
       "      <th>Streaming TV_No Internet</th>\n",
       "      <td>0.258664</td>\n",
       "    </tr>\n",
       "    <tr>\n",
       "      <th>Streaming TV_Yes</th>\n",
       "      <td>-0.872601</td>\n",
       "    </tr>\n",
       "    <tr>\n",
       "      <th>Streaming Movies_No Internet</th>\n",
       "      <td>0.258664</td>\n",
       "    </tr>\n",
       "    <tr>\n",
       "      <th>Streaming Movies_Yes</th>\n",
       "      <td>-1.244346</td>\n",
       "    </tr>\n",
       "    <tr>\n",
       "      <th>Streaming Music_No Internet</th>\n",
       "      <td>0.258664</td>\n",
       "    </tr>\n",
       "    <tr>\n",
       "      <th>Streaming Music_Yes</th>\n",
       "      <td>0.432210</td>\n",
       "    </tr>\n",
       "    <tr>\n",
       "      <th>Unlimited Data_No Internet</th>\n",
       "      <td>0.258664</td>\n",
       "    </tr>\n",
       "    <tr>\n",
       "      <th>Unlimited Data_Yes</th>\n",
       "      <td>0.079789</td>\n",
       "    </tr>\n",
       "    <tr>\n",
       "      <th>Contract_One Year</th>\n",
       "      <td>-1.494324</td>\n",
       "    </tr>\n",
       "    <tr>\n",
       "      <th>Contract_Two Year</th>\n",
       "      <td>-2.636747</td>\n",
       "    </tr>\n",
       "    <tr>\n",
       "      <th>Paperless Billing_Yes</th>\n",
       "      <td>0.389421</td>\n",
       "    </tr>\n",
       "    <tr>\n",
       "      <th>Payment Method_Credit Card</th>\n",
       "      <td>-0.520498</td>\n",
       "    </tr>\n",
       "    <tr>\n",
       "      <th>Payment Method_Mailed Check</th>\n",
       "      <td>0.541736</td>\n",
       "    </tr>\n",
       "  </tbody>\n",
       "</table>\n",
       "</div>"
      ],
      "text/plain": [
       "                                    Feature_importance\n",
       "Age                                           0.909870\n",
       "Number of Dependents                         -5.724786\n",
       "Number of Referrals                          -6.331495\n",
       "Tenure in Months                             -3.114606\n",
       "Avg Monthly Long Distance Charges            -0.114822\n",
       "Avg Monthly GB Download                       0.018202\n",
       "Monthly Charge                               12.178591\n",
       "Total Charges                                 1.183385\n",
       "Total Refunds                                -0.632452\n",
       "Total Extra Data Charges                      0.011942\n",
       "Total Long Distance Charges                   0.117928\n",
       "Total Revenue                                 0.895537\n",
       "Gender_Male                                  -0.053225\n",
       "Married_Yes                                   1.661812\n",
       "Offer_Offer A                                 0.362894\n",
       "Offer_Offer B                                -0.237038\n",
       "Offer_Offer C                                -0.503595\n",
       "Offer_Offer D                                -0.610433\n",
       "Offer_Offer E                                 0.270890\n",
       "Phone Service_Yes                            -1.909655\n",
       "Multiple Lines_No                            -0.800863\n",
       "Multiple Lines_Yes                           -1.108791\n",
       "Internet Service_Yes                         -0.235110\n",
       "Internet Type_DSL                             0.028939\n",
       "Internet Type_Fiber Optic                    -2.353404\n",
       "Internet Type_No Internet                     0.258664\n",
       "Online Security_No Internet                   0.258664\n",
       "Online Security_Yes                          -0.958289\n",
       "Online Backup_No Internet                     0.258664\n",
       "Online Backup_Yes                            -0.748129\n",
       "Device Protection Plan_No Internet            0.258664\n",
       "Device Protection Plan_Yes                   -0.637486\n",
       "Premium Tech Support_No Internet              0.258664\n",
       "Premium Tech Support_Yes                     -0.998181\n",
       "Streaming TV_No Internet                      0.258664\n",
       "Streaming TV_Yes                             -0.872601\n",
       "Streaming Movies_No Internet                  0.258664\n",
       "Streaming Movies_Yes                         -1.244346\n",
       "Streaming Music_No Internet                   0.258664\n",
       "Streaming Music_Yes                           0.432210\n",
       "Unlimited Data_No Internet                    0.258664\n",
       "Unlimited Data_Yes                            0.079789\n",
       "Contract_One Year                            -1.494324\n",
       "Contract_Two Year                            -2.636747\n",
       "Paperless Billing_Yes                         0.389421\n",
       "Payment Method_Credit Card                   -0.520498\n",
       "Payment Method_Mailed Check                   0.541736"
      ]
     },
     "execution_count": 107,
     "metadata": {},
     "output_type": "execute_result"
    }
   ],
   "source": [
    "features = pd.DataFrame(lr.coef_[0],index=x_train.columns,columns=['Feature_importance'])\n",
    "features"
   ]
  },
  {
   "cell_type": "code",
   "execution_count": 108,
   "id": "17cf2eb6-e238-426b-b978-038720b50c9e",
   "metadata": {},
   "outputs": [
    {
     "data": {
      "text/html": [
       "<div>\n",
       "<style scoped>\n",
       "    .dataframe tbody tr th:only-of-type {\n",
       "        vertical-align: middle;\n",
       "    }\n",
       "\n",
       "    .dataframe tbody tr th {\n",
       "        vertical-align: top;\n",
       "    }\n",
       "\n",
       "    .dataframe thead th {\n",
       "        text-align: right;\n",
       "    }\n",
       "</style>\n",
       "<table border=\"1\" class=\"dataframe\">\n",
       "  <thead>\n",
       "    <tr style=\"text-align: right;\">\n",
       "      <th></th>\n",
       "      <th>Feature_importance</th>\n",
       "    </tr>\n",
       "  </thead>\n",
       "  <tbody>\n",
       "    <tr>\n",
       "      <th>Number of Referrals</th>\n",
       "      <td>-6.331495</td>\n",
       "    </tr>\n",
       "    <tr>\n",
       "      <th>Number of Dependents</th>\n",
       "      <td>-5.724786</td>\n",
       "    </tr>\n",
       "    <tr>\n",
       "      <th>Tenure in Months</th>\n",
       "      <td>-3.114606</td>\n",
       "    </tr>\n",
       "    <tr>\n",
       "      <th>Contract_Two Year</th>\n",
       "      <td>-2.636747</td>\n",
       "    </tr>\n",
       "    <tr>\n",
       "      <th>Internet Type_Fiber Optic</th>\n",
       "      <td>-2.353404</td>\n",
       "    </tr>\n",
       "    <tr>\n",
       "      <th>Phone Service_Yes</th>\n",
       "      <td>-1.909655</td>\n",
       "    </tr>\n",
       "    <tr>\n",
       "      <th>Contract_One Year</th>\n",
       "      <td>-1.494324</td>\n",
       "    </tr>\n",
       "    <tr>\n",
       "      <th>Streaming Movies_Yes</th>\n",
       "      <td>-1.244346</td>\n",
       "    </tr>\n",
       "    <tr>\n",
       "      <th>Multiple Lines_Yes</th>\n",
       "      <td>-1.108791</td>\n",
       "    </tr>\n",
       "    <tr>\n",
       "      <th>Premium Tech Support_Yes</th>\n",
       "      <td>-0.998181</td>\n",
       "    </tr>\n",
       "    <tr>\n",
       "      <th>Online Security_Yes</th>\n",
       "      <td>-0.958289</td>\n",
       "    </tr>\n",
       "    <tr>\n",
       "      <th>Streaming TV_Yes</th>\n",
       "      <td>-0.872601</td>\n",
       "    </tr>\n",
       "    <tr>\n",
       "      <th>Multiple Lines_No</th>\n",
       "      <td>-0.800863</td>\n",
       "    </tr>\n",
       "    <tr>\n",
       "      <th>Online Backup_Yes</th>\n",
       "      <td>-0.748129</td>\n",
       "    </tr>\n",
       "    <tr>\n",
       "      <th>Device Protection Plan_Yes</th>\n",
       "      <td>-0.637486</td>\n",
       "    </tr>\n",
       "    <tr>\n",
       "      <th>Total Refunds</th>\n",
       "      <td>-0.632452</td>\n",
       "    </tr>\n",
       "    <tr>\n",
       "      <th>Offer_Offer D</th>\n",
       "      <td>-0.610433</td>\n",
       "    </tr>\n",
       "    <tr>\n",
       "      <th>Payment Method_Credit Card</th>\n",
       "      <td>-0.520498</td>\n",
       "    </tr>\n",
       "    <tr>\n",
       "      <th>Offer_Offer C</th>\n",
       "      <td>-0.503595</td>\n",
       "    </tr>\n",
       "    <tr>\n",
       "      <th>Offer_Offer B</th>\n",
       "      <td>-0.237038</td>\n",
       "    </tr>\n",
       "    <tr>\n",
       "      <th>Internet Service_Yes</th>\n",
       "      <td>-0.235110</td>\n",
       "    </tr>\n",
       "    <tr>\n",
       "      <th>Avg Monthly Long Distance Charges</th>\n",
       "      <td>-0.114822</td>\n",
       "    </tr>\n",
       "    <tr>\n",
       "      <th>Gender_Male</th>\n",
       "      <td>-0.053225</td>\n",
       "    </tr>\n",
       "    <tr>\n",
       "      <th>Total Extra Data Charges</th>\n",
       "      <td>0.011942</td>\n",
       "    </tr>\n",
       "    <tr>\n",
       "      <th>Avg Monthly GB Download</th>\n",
       "      <td>0.018202</td>\n",
       "    </tr>\n",
       "    <tr>\n",
       "      <th>Internet Type_DSL</th>\n",
       "      <td>0.028939</td>\n",
       "    </tr>\n",
       "    <tr>\n",
       "      <th>Unlimited Data_Yes</th>\n",
       "      <td>0.079789</td>\n",
       "    </tr>\n",
       "    <tr>\n",
       "      <th>Total Long Distance Charges</th>\n",
       "      <td>0.117928</td>\n",
       "    </tr>\n",
       "    <tr>\n",
       "      <th>Online Security_No Internet</th>\n",
       "      <td>0.258664</td>\n",
       "    </tr>\n",
       "    <tr>\n",
       "      <th>Device Protection Plan_No Internet</th>\n",
       "      <td>0.258664</td>\n",
       "    </tr>\n",
       "    <tr>\n",
       "      <th>Premium Tech Support_No Internet</th>\n",
       "      <td>0.258664</td>\n",
       "    </tr>\n",
       "    <tr>\n",
       "      <th>Streaming Movies_No Internet</th>\n",
       "      <td>0.258664</td>\n",
       "    </tr>\n",
       "    <tr>\n",
       "      <th>Streaming Music_No Internet</th>\n",
       "      <td>0.258664</td>\n",
       "    </tr>\n",
       "    <tr>\n",
       "      <th>Internet Type_No Internet</th>\n",
       "      <td>0.258664</td>\n",
       "    </tr>\n",
       "    <tr>\n",
       "      <th>Online Backup_No Internet</th>\n",
       "      <td>0.258664</td>\n",
       "    </tr>\n",
       "    <tr>\n",
       "      <th>Streaming TV_No Internet</th>\n",
       "      <td>0.258664</td>\n",
       "    </tr>\n",
       "    <tr>\n",
       "      <th>Unlimited Data_No Internet</th>\n",
       "      <td>0.258664</td>\n",
       "    </tr>\n",
       "    <tr>\n",
       "      <th>Offer_Offer E</th>\n",
       "      <td>0.270890</td>\n",
       "    </tr>\n",
       "    <tr>\n",
       "      <th>Offer_Offer A</th>\n",
       "      <td>0.362894</td>\n",
       "    </tr>\n",
       "    <tr>\n",
       "      <th>Paperless Billing_Yes</th>\n",
       "      <td>0.389421</td>\n",
       "    </tr>\n",
       "    <tr>\n",
       "      <th>Streaming Music_Yes</th>\n",
       "      <td>0.432210</td>\n",
       "    </tr>\n",
       "    <tr>\n",
       "      <th>Payment Method_Mailed Check</th>\n",
       "      <td>0.541736</td>\n",
       "    </tr>\n",
       "    <tr>\n",
       "      <th>Total Revenue</th>\n",
       "      <td>0.895537</td>\n",
       "    </tr>\n",
       "    <tr>\n",
       "      <th>Age</th>\n",
       "      <td>0.909870</td>\n",
       "    </tr>\n",
       "    <tr>\n",
       "      <th>Total Charges</th>\n",
       "      <td>1.183385</td>\n",
       "    </tr>\n",
       "    <tr>\n",
       "      <th>Married_Yes</th>\n",
       "      <td>1.661812</td>\n",
       "    </tr>\n",
       "    <tr>\n",
       "      <th>Monthly Charge</th>\n",
       "      <td>12.178591</td>\n",
       "    </tr>\n",
       "  </tbody>\n",
       "</table>\n",
       "</div>"
      ],
      "text/plain": [
       "                                    Feature_importance\n",
       "Number of Referrals                          -6.331495\n",
       "Number of Dependents                         -5.724786\n",
       "Tenure in Months                             -3.114606\n",
       "Contract_Two Year                            -2.636747\n",
       "Internet Type_Fiber Optic                    -2.353404\n",
       "Phone Service_Yes                            -1.909655\n",
       "Contract_One Year                            -1.494324\n",
       "Streaming Movies_Yes                         -1.244346\n",
       "Multiple Lines_Yes                           -1.108791\n",
       "Premium Tech Support_Yes                     -0.998181\n",
       "Online Security_Yes                          -0.958289\n",
       "Streaming TV_Yes                             -0.872601\n",
       "Multiple Lines_No                            -0.800863\n",
       "Online Backup_Yes                            -0.748129\n",
       "Device Protection Plan_Yes                   -0.637486\n",
       "Total Refunds                                -0.632452\n",
       "Offer_Offer D                                -0.610433\n",
       "Payment Method_Credit Card                   -0.520498\n",
       "Offer_Offer C                                -0.503595\n",
       "Offer_Offer B                                -0.237038\n",
       "Internet Service_Yes                         -0.235110\n",
       "Avg Monthly Long Distance Charges            -0.114822\n",
       "Gender_Male                                  -0.053225\n",
       "Total Extra Data Charges                      0.011942\n",
       "Avg Monthly GB Download                       0.018202\n",
       "Internet Type_DSL                             0.028939\n",
       "Unlimited Data_Yes                            0.079789\n",
       "Total Long Distance Charges                   0.117928\n",
       "Online Security_No Internet                   0.258664\n",
       "Device Protection Plan_No Internet            0.258664\n",
       "Premium Tech Support_No Internet              0.258664\n",
       "Streaming Movies_No Internet                  0.258664\n",
       "Streaming Music_No Internet                   0.258664\n",
       "Internet Type_No Internet                     0.258664\n",
       "Online Backup_No Internet                     0.258664\n",
       "Streaming TV_No Internet                      0.258664\n",
       "Unlimited Data_No Internet                    0.258664\n",
       "Offer_Offer E                                 0.270890\n",
       "Offer_Offer A                                 0.362894\n",
       "Paperless Billing_Yes                         0.389421\n",
       "Streaming Music_Yes                           0.432210\n",
       "Payment Method_Mailed Check                   0.541736\n",
       "Total Revenue                                 0.895537\n",
       "Age                                           0.909870\n",
       "Total Charges                                 1.183385\n",
       "Married_Yes                                   1.661812\n",
       "Monthly Charge                               12.178591"
      ]
     },
     "execution_count": 108,
     "metadata": {},
     "output_type": "execute_result"
    },
    {
     "data": {
      "text/plain": [
       "<Figure size 720x720 with 0 Axes>"
      ]
     },
     "metadata": {},
     "output_type": "display_data"
    }
   ],
   "source": [
    "plt.figure(figsize=(10,10))\n",
    "feat_imp = features.sort_values(['Feature_importance'])\n",
    "#feat_imp.plot(kind='barh')\n",
    "#plt.show()\n",
    "feat_imp"
   ]
  },
  {
   "cell_type": "code",
   "execution_count": 109,
   "id": "4009f122-b595-41c2-8417-10431c6e333d",
   "metadata": {},
   "outputs": [
    {
     "data": {
      "text/plain": [
       "<AxesSubplot:>"
      ]
     },
     "execution_count": 109,
     "metadata": {},
     "output_type": "execute_result"
    },
    {
     "data": {
      "image/png": "[encoded data removed]",
      "text/plain": [
       "<Figure size 432x288 with 1 Axes>"
      ]
     },
     "metadata": {
      "needs_background": "light"
     },
     "output_type": "display_data"
    }
   ],
   "source": [
    "feat_imp[:5].plot(kind='barh')"
   ]
  },
  {
   "cell_type": "code",
   "execution_count": 110,
   "id": "b6c9be67-0866-4c91-84d5-114dfb6fdddc",
   "metadata": {},
   "outputs": [
    {
     "data": {
      "text/plain": [
       "<AxesSubplot:>"
      ]
     },
     "execution_count": 110,
     "metadata": {},
     "output_type": "execute_result"
    },
    {
     "data": {
      "image/png": "[encoded data removed]",
      "text/plain": [
       "<Figure size 432x288 with 1 Axes>"
      ]
     },
     "metadata": {
      "needs_background": "light"
     },
     "output_type": "display_data"
    }
   ],
   "source": [
    "feat_imp[-1:-6:-1].plot(kind='barh')"
   ]
  },
  {
   "cell_type": "code",
   "execution_count": 111,
   "id": "3f2560f1-cb8f-4c46-b23d-f3dbdee67c1d",
   "metadata": {},
   "outputs": [
    {
     "name": "stdout",
     "output_type": "stream",
     "text": [
      "tuned hpyerparameters :(best parameters)  {'C': 10.0, 'penalty': 'l2'}\n",
      "accuracy : 0.8287431510678743\n"
     ]
    }
   ],
   "source": [
    "from sklearn.model_selection import GridSearchCV\n",
    "from sklearn.linear_model import LogisticRegression\n",
    "grid={\"C\":np.logspace(-3,3,7), \"penalty\":[\"l1\",\"l2\"]}# l1 lasso l2 ridge\n",
    "logreg=LogisticRegression()\n",
    "logreg_cv=GridSearchCV(logreg,grid,cv=10)\n",
    "logreg_cv.fit(x_train,y_train)\n",
    "\n",
    "print(\"tuned hpyerparameters :(best parameters) \",logreg_cv.best_params_)\n",
    "print(\"accuracy :\",logreg_cv.best_score_)"
   ]
  },
  {
   "cell_type": "code",
   "execution_count": null,
   "id": "e3a31c4f-2cf8-478d-b2ef-a9f7f1a6aa3d",
   "metadata": {},
   "outputs": [],
   "source": []
  },
  {
   "cell_type": "code",
   "execution_count": null,
   "id": "f1e4648e-f1e3-40a1-af47-cd5f8eb8bec5",
   "metadata": {},
   "outputs": [],
   "source": []
  },
  {
   "cell_type": "code",
   "execution_count": null,
   "id": "f7dc2ab0-58cc-45a8-8796-7f5db1b9ca6f",
   "metadata": {},
   "outputs": [],
   "source": []
  },
  {
   "cell_type": "markdown",
   "id": "9192dd85-8f6a-4e60-a430-329f2e1c876b",
   "metadata": {
    "tags": []
   },
   "source": [
    "#### Decision tree classifier"
   ]
  },
  {
   "cell_type": "code",
   "execution_count": 112,
   "id": "9518c575-2bfb-41a6-a1ad-d654fc42eb16",
   "metadata": {},
   "outputs": [
    {
     "data": {
      "text/html": [
       "<style>#sk-container-id-3 {color: black;background-color: white;}#sk-container-id-3 pre{padding: 0;}#sk-container-id-3 div.sk-toggleable {background-color: white;}#sk-container-id-3 label.sk-toggleable__label {cursor: pointer;display: block;width: 100%;margin-bottom: 0;padding: 0.3em;box-sizing: border-box;text-align: center;}#sk-container-id-3 label.sk-toggleable__label-arrow:before {content: \"▸\";float: left;margin-right: 0.25em;color: #696969;}#sk-container-id-3 label.sk-toggleable__label-arrow:hover:before {color: black;}#sk-container-id-3 div.sk-estimator:hover label.sk-toggleable__label-arrow:before {color: black;}#sk-container-id-3 div.sk-toggleable__content {max-height: 0;max-width: 0;overflow: hidden;text-align: left;background-color: #f0f8ff;}#sk-container-id-3 div.sk-toggleable__content pre {margin: 0.2em;color: black;border-radius: 0.25em;background-color: #f0f8ff;}#sk-container-id-3 input.sk-toggleable__control:checked~div.sk-toggleable__content {max-height: 200px;max-width: 100%;overflow: auto;}#sk-container-id-3 input.sk-toggleable__control:checked~label.sk-toggleable__label-arrow:before {content: \"▾\";}#sk-container-id-3 div.sk-estimator input.sk-toggleable__control:checked~label.sk-toggleable__label {background-color: #d4ebff;}#sk-container-id-3 div.sk-label input.sk-toggleable__control:checked~label.sk-toggleable__label {background-color: #d4ebff;}#sk-container-id-3 input.sk-hidden--visually {border: 0;clip: rect(1px 1px 1px 1px);clip: rect(1px, 1px, 1px, 1px);height: 1px;margin: -1px;overflow: hidden;padding: 0;position: absolute;width: 1px;}#sk-container-id-3 div.sk-estimator {font-family: monospace;background-color: #f0f8ff;border: 1px dotted black;border-radius: 0.25em;box-sizing: border-box;margin-bottom: 0.5em;}#sk-container-id-3 div.sk-estimator:hover {background-color: #d4ebff;}#sk-container-id-3 div.sk-parallel-item::after {content: \"\";width: 100%;border-bottom: 1px solid gray;flex-grow: 1;}#sk-container-id-3 div.sk-label:hover label.sk-toggleable__label {background-color: #d4ebff;}#sk-container-id-3 div.sk-serial::before {content: \"\";position: absolute;border-left: 1px solid gray;box-sizing: border-box;top: 0;bottom: 0;left: 50%;z-index: 0;}#sk-container-id-3 div.sk-serial {display: flex;flex-direction: column;align-items: center;background-color: white;padding-right: 0.2em;padding-left: 0.2em;position: relative;}#sk-container-id-3 div.sk-item {position: relative;z-index: 1;}#sk-container-id-3 div.sk-parallel {display: flex;align-items: stretch;justify-content: center;background-color: white;position: relative;}#sk-container-id-3 div.sk-item::before, #sk-container-id-3 div.sk-parallel-item::before {content: \"\";position: absolute;border-left: 1px solid gray;box-sizing: border-box;top: 0;bottom: 0;left: 50%;z-index: -1;}#sk-container-id-3 div.sk-parallel-item {display: flex;flex-direction: column;z-index: 1;position: relative;background-color: white;}#sk-container-id-3 div.sk-parallel-item:first-child::after {align-self: flex-end;width: 50%;}#sk-container-id-3 div.sk-parallel-item:last-child::after {align-self: flex-start;width: 50%;}#sk-container-id-3 div.sk-parallel-item:only-child::after {width: 0;}#sk-container-id-3 div.sk-dashed-wrapped {border: 1px dashed gray;margin: 0 0.4em 0.5em 0.4em;box-sizing: border-box;padding-bottom: 0.4em;background-color: white;}#sk-container-id-3 div.sk-label label {font-family: monospace;font-weight: bold;display: inline-block;line-height: 1.2em;}#sk-container-id-3 div.sk-label-container {text-align: center;}#sk-container-id-3 div.sk-container {/* jupyter's `normalize.less` sets `[hidden] { display: none; }` but bootstrap.min.css set `[hidden] { display: none !important; }` so we also need the `!important` here to be able to override the default hidden behavior on the sphinx rendered scikit-learn.org. See: https://github.com/scikit-learn/scikit-learn/issues/21755 */display: inline-block !important;position: relative;}#sk-container-id-3 div.sk-text-repr-fallback {display: none;}</style><div id=\"sk-container-id-3\" class=\"sk-top-container\"><div class=\"sk-text-repr-fallback\"><pre>DecisionTreeClassifier(max_depth=10, max_features=0.9, min_samples_leaf=0.01,\n",
       "                       random_state=0)</pre><b>In a Jupyter environment, please rerun this cell to show the HTML representation or trust the notebook. <br />On GitHub, the HTML representation is unable to render, please try loading this page with nbviewer.org.</b></div><div class=\"sk-container\" hidden><div class=\"sk-item\"><div class=\"sk-estimator sk-toggleable\"><input class=\"sk-toggleable__control sk-hidden--visually\" id=\"sk-estimator-id-3\" type=\"checkbox\" checked><label for=\"sk-estimator-id-3\" class=\"sk-toggleable__label sk-toggleable__label-arrow\">DecisionTreeClassifier</label><div class=\"sk-toggleable__content\"><pre>DecisionTreeClassifier(max_depth=10, max_features=0.9, min_samples_leaf=0.01,\n",
       "                       random_state=0)</pre></div></div></div></div></div>"
      ],
      "text/plain": [
       "DecisionTreeClassifier(max_depth=10, max_features=0.9, min_samples_leaf=0.01,\n",
       "                       random_state=0)"
      ]
     },
     "execution_count": 112,
     "metadata": {},
     "output_type": "execute_result"
    }
   ],
   "source": [
    "from sklearn.model_selection import cross_val_score\n",
    "from sklearn.tree import DecisionTreeClassifier\n",
    "clf = DecisionTreeClassifier(random_state=0,max_depth= 10, max_features= 0.9, min_samples_leaf= 0.01)\n",
    "clf.fit(x_train,y_train)"
   ]
  },
  {
   "cell_type": "code",
   "execution_count": 113,
   "id": "49f4e83f-08fb-45aa-a67e-8b7323d42884",
   "metadata": {},
   "outputs": [],
   "source": [
    "y_test_pred = clf.predict(x_test)\n",
    "y_train_pred = clf.predict(x_train)"
   ]
  },
  {
   "cell_type": "code",
   "execution_count": 114,
   "id": "90df5a49-e29e-41df-b007-f595fc14ab1c",
   "metadata": {},
   "outputs": [
    {
     "data": {
      "text/plain": [
       "array([[834, 183],\n",
       "       [190, 827]])"
      ]
     },
     "execution_count": 114,
     "metadata": {},
     "output_type": "execute_result"
    }
   ],
   "source": [
    "confusion_matrix(y_test,y_test_pred)"
   ]
  },
  {
   "cell_type": "code",
   "execution_count": 115,
   "id": "6fae64cd-8798-43aa-b4b6-61920c5c631b",
   "metadata": {},
   "outputs": [
    {
     "name": "stdout",
     "output_type": "stream",
     "text": [
      "0.8482255222753586\n",
      "0.8286206048684535\n",
      "0.8401770346692894\n",
      "0.8188118811881188\n",
      "0.8131760078662733\n",
      "0.8166175024582104\n"
     ]
    }
   ],
   "source": [
    "print(metrics.precision_score(y_train,y_train_pred))\n",
    "print(metrics.recall_score(y_train,y_train_pred))\n",
    "print(metrics.accuracy_score(y_train,y_train_pred))\n",
    "print(metrics.precision_score(y_test,y_test_pred))\n",
    "print(metrics.recall_score(y_test,y_test_pred))\n",
    "print(metrics.accuracy_score(y_test,y_test_pred))"
   ]
  },
  {
   "cell_type": "code",
   "execution_count": 116,
   "id": "5dae68f4-0816-4291-9b8c-b5ed55a6f0af",
   "metadata": {},
   "outputs": [
    {
     "name": "stdout",
     "output_type": "stream",
     "text": [
      "              precision    recall  f1-score   support\n",
      "\n",
      "         0.0       0.81      0.82      0.82      1017\n",
      "         1.0       0.82      0.81      0.82      1017\n",
      "\n",
      "    accuracy                           0.82      2034\n",
      "   macro avg       0.82      0.82      0.82      2034\n",
      "weighted avg       0.82      0.82      0.82      2034\n",
      "\n",
      "              precision    recall  f1-score   support\n",
      "\n",
      "         0.0       0.83      0.85      0.84      4067\n",
      "         1.0       0.85      0.83      0.84      4067\n",
      "\n",
      "    accuracy                           0.84      8134\n",
      "   macro avg       0.84      0.84      0.84      8134\n",
      "weighted avg       0.84      0.84      0.84      8134\n",
      "\n"
     ]
    }
   ],
   "source": [
    "print(classification_report(y_test,y_test_pred))\n",
    "print(classification_report(y_train,y_train_pred))"
   ]
  },
  {
   "cell_type": "markdown",
   "id": "dd9a0490-cf38-4e15-80a2-423637671acd",
   "metadata": {
    "tags": []
   },
   "source": [
    "#### Random forest classifier baseline model"
   ]
  },
  {
   "cell_type": "code",
   "execution_count": 117,
   "id": "76b87302-2551-4207-8fc0-eeb040ade726",
   "metadata": {},
   "outputs": [
    {
     "data": {
      "text/html": [
       "<style>#sk-container-id-4 {color: black;background-color: white;}#sk-container-id-4 pre{padding: 0;}#sk-container-id-4 div.sk-toggleable {background-color: white;}#sk-container-id-4 label.sk-toggleable__label {cursor: pointer;display: block;width: 100%;margin-bottom: 0;padding: 0.3em;box-sizing: border-box;text-align: center;}#sk-container-id-4 label.sk-toggleable__label-arrow:before {content: \"▸\";float: left;margin-right: 0.25em;color: #696969;}#sk-container-id-4 label.sk-toggleable__label-arrow:hover:before {color: black;}#sk-container-id-4 div.sk-estimator:hover label.sk-toggleable__label-arrow:before {color: black;}#sk-container-id-4 div.sk-toggleable__content {max-height: 0;max-width: 0;overflow: hidden;text-align: left;background-color: #f0f8ff;}#sk-container-id-4 div.sk-toggleable__content pre {margin: 0.2em;color: black;border-radius: 0.25em;background-color: #f0f8ff;}#sk-container-id-4 input.sk-toggleable__control:checked~div.sk-toggleable__content {max-height: 200px;max-width: 100%;overflow: auto;}#sk-container-id-4 input.sk-toggleable__control:checked~label.sk-toggleable__label-arrow:before {content: \"▾\";}#sk-container-id-4 div.sk-estimator input.sk-toggleable__control:checked~label.sk-toggleable__label {background-color: #d4ebff;}#sk-container-id-4 div.sk-label input.sk-toggleable__control:checked~label.sk-toggleable__label {background-color: #d4ebff;}#sk-container-id-4 input.sk-hidden--visually {border: 0;clip: rect(1px 1px 1px 1px);clip: rect(1px, 1px, 1px, 1px);height: 1px;margin: -1px;overflow: hidden;padding: 0;position: absolute;width: 1px;}#sk-container-id-4 div.sk-estimator {font-family: monospace;background-color: #f0f8ff;border: 1px dotted black;border-radius: 0.25em;box-sizing: border-box;margin-bottom: 0.5em;}#sk-container-id-4 div.sk-estimator:hover {background-color: #d4ebff;}#sk-container-id-4 div.sk-parallel-item::after {content: \"\";width: 100%;border-bottom: 1px solid gray;flex-grow: 1;}#sk-container-id-4 div.sk-label:hover label.sk-toggleable__label {background-color: #d4ebff;}#sk-container-id-4 div.sk-serial::before {content: \"\";position: absolute;border-left: 1px solid gray;box-sizing: border-box;top: 0;bottom: 0;left: 50%;z-index: 0;}#sk-container-id-4 div.sk-serial {display: flex;flex-direction: column;align-items: center;background-color: white;padding-right: 0.2em;padding-left: 0.2em;position: relative;}#sk-container-id-4 div.sk-item {position: relative;z-index: 1;}#sk-container-id-4 div.sk-parallel {display: flex;align-items: stretch;justify-content: center;background-color: white;position: relative;}#sk-container-id-4 div.sk-item::before, #sk-container-id-4 div.sk-parallel-item::before {content: \"\";position: absolute;border-left: 1px solid gray;box-sizing: border-box;top: 0;bottom: 0;left: 50%;z-index: -1;}#sk-container-id-4 div.sk-parallel-item {display: flex;flex-direction: column;z-index: 1;position: relative;background-color: white;}#sk-container-id-4 div.sk-parallel-item:first-child::after {align-self: flex-end;width: 50%;}#sk-container-id-4 div.sk-parallel-item:last-child::after {align-self: flex-start;width: 50%;}#sk-container-id-4 div.sk-parallel-item:only-child::after {width: 0;}#sk-container-id-4 div.sk-dashed-wrapped {border: 1px dashed gray;margin: 0 0.4em 0.5em 0.4em;box-sizing: border-box;padding-bottom: 0.4em;background-color: white;}#sk-container-id-4 div.sk-label label {font-family: monospace;font-weight: bold;display: inline-block;line-height: 1.2em;}#sk-container-id-4 div.sk-label-container {text-align: center;}#sk-container-id-4 div.sk-container {/* jupyter's `normalize.less` sets `[hidden] { display: none; }` but bootstrap.min.css set `[hidden] { display: none !important; }` so we also need the `!important` here to be able to override the default hidden behavior on the sphinx rendered scikit-learn.org. See: https://github.com/scikit-learn/scikit-learn/issues/21755 */display: inline-block !important;position: relative;}#sk-container-id-4 div.sk-text-repr-fallback {display: none;}</style><div id=\"sk-container-id-4\" class=\"sk-top-container\"><div class=\"sk-text-repr-fallback\"><pre>RandomForestClassifier()</pre><b>In a Jupyter environment, please rerun this cell to show the HTML representation or trust the notebook. <br />On GitHub, the HTML representation is unable to render, please try loading this page with nbviewer.org.</b></div><div class=\"sk-container\" hidden><div class=\"sk-item\"><div class=\"sk-estimator sk-toggleable\"><input class=\"sk-toggleable__control sk-hidden--visually\" id=\"sk-estimator-id-4\" type=\"checkbox\" checked><label for=\"sk-estimator-id-4\" class=\"sk-toggleable__label sk-toggleable__label-arrow\">RandomForestClassifier</label><div class=\"sk-toggleable__content\"><pre>RandomForestClassifier()</pre></div></div></div></div></div>"
      ],
      "text/plain": [
       "RandomForestClassifier()"
      ]
     },
     "execution_count": 117,
     "metadata": {},
     "output_type": "execute_result"
    }
   ],
   "source": [
    "rfc = RandomForestClassifier()\n",
    "rfc.fit(x_train, y_train)"
   ]
  },
  {
   "cell_type": "code",
   "execution_count": 118,
   "id": "3f156bfb-ca49-426e-bcc1-37a03325cfab",
   "metadata": {},
   "outputs": [],
   "source": [
    "train_pred_y = rfc.predict(x_train)\n",
    "test_pred_y = rfc.predict(x_test)"
   ]
  },
  {
   "cell_type": "code",
   "execution_count": 119,
   "id": "40428204-f2a2-4a63-be9a-2c2c0a7e69d0",
   "metadata": {},
   "outputs": [
    {
     "data": {
      "text/plain": [
       "array([[4067,    0],\n",
       "       [   0, 4067]])"
      ]
     },
     "execution_count": 119,
     "metadata": {},
     "output_type": "execute_result"
    }
   ],
   "source": [
    "confusion_matrix(y_train,train_pred_y)"
   ]
  },
  {
   "cell_type": "code",
   "execution_count": 120,
   "id": "2a108377-20e3-47d4-86eb-2fc8f306992f",
   "metadata": {},
   "outputs": [
    {
     "data": {
      "text/plain": [
       "array([[881, 136],\n",
       "       [102, 915]])"
      ]
     },
     "execution_count": 120,
     "metadata": {},
     "output_type": "execute_result"
    }
   ],
   "source": [
    "confusion_matrix(y_test, test_pred_y)"
   ]
  },
  {
   "cell_type": "code",
   "execution_count": 121,
   "id": "28db14c5-d7b1-4fa6-b872-4cf9cdedb94a",
   "metadata": {},
   "outputs": [
    {
     "name": "stdout",
     "output_type": "stream",
     "text": [
      "0.8482255222753586\n",
      "0.8286206048684535\n",
      "0.8401770346692894\n",
      "0.8188118811881188\n",
      "0.8131760078662733\n",
      "0.8166175024582104\n"
     ]
    }
   ],
   "source": [
    "print(metrics.precision_score(y_train,y_train_pred))\n",
    "print(metrics.recall_score(y_train,y_train_pred))\n",
    "print(metrics.accuracy_score(y_train,y_train_pred))\n",
    "print(metrics.precision_score(y_test,y_test_pred))\n",
    "print(metrics.recall_score(y_test,y_test_pred))\n",
    "print(metrics.accuracy_score(y_test,y_test_pred))"
   ]
  },
  {
   "cell_type": "code",
   "execution_count": 122,
   "id": "ebc1468d-0873-47b3-8d94-f19ebdc5795a",
   "metadata": {},
   "outputs": [
    {
     "name": "stdout",
     "output_type": "stream",
     "text": [
      "              precision    recall  f1-score   support\n",
      "\n",
      "         0.0       1.00      1.00      1.00      4067\n",
      "         1.0       1.00      1.00      1.00      4067\n",
      "\n",
      "    accuracy                           1.00      8134\n",
      "   macro avg       1.00      1.00      1.00      8134\n",
      "weighted avg       1.00      1.00      1.00      8134\n",
      "\n"
     ]
    }
   ],
   "source": [
    "print(classification_report(y_train,train_pred_y))"
   ]
  },
  {
   "cell_type": "code",
   "execution_count": 123,
   "id": "e19d4647",
   "metadata": {},
   "outputs": [
    {
     "name": "stdout",
     "output_type": "stream",
     "text": [
      "              precision    recall  f1-score   support\n",
      "\n",
      "         0.0       0.90      0.87      0.88      1017\n",
      "         1.0       0.87      0.90      0.88      1017\n",
      "\n",
      "    accuracy                           0.88      2034\n",
      "   macro avg       0.88      0.88      0.88      2034\n",
      "weighted avg       0.88      0.88      0.88      2034\n",
      "\n"
     ]
    }
   ],
   "source": [
    "print(classification_report(y_test,test_pred_y))"
   ]
  },
  {
   "cell_type": "code",
   "execution_count": 124,
   "id": "40c2e6e1-b949-4e7f-859d-39b74a3331c2",
   "metadata": {},
   "outputs": [
    {
     "data": {
      "text/plain": [
       "{'fit_time': array([0.30375266, 0.3216815 , 0.30998325, 0.32113314, 0.31176591]),\n",
       " 'score_time': array([0.02386498, 0.02479434, 0.02438831, 0.0252459 , 0.02434611]),\n",
       " 'test_accuracy': array([0.82063882, 0.83292383, 0.83783784, 0.82063882, 0.80049261]),\n",
       " 'test_precision': array([0.79439252, 0.84507042, 0.83490566, 0.76363636, 0.81094527]),\n",
       " 'test_ recall': array([0.85427136, 0.8372093 , 0.85096154, 0.88888889, 0.79126214]),\n",
       " 'test_f1_score': array([0.82324455, 0.8411215 , 0.84285714, 0.82151589, 0.8009828 ])}"
      ]
     },
     "execution_count": 124,
     "metadata": {},
     "output_type": "execute_result"
    }
   ],
   "source": [
    "from sklearn.model_selection import cross_validate\n",
    "from sklearn.metrics import make_scorer, accuracy_score, precision_score, recall_score, f1_score\n",
    "\n",
    "\n",
    "\n",
    "scoring = {'accuracy' : make_scorer(accuracy_score),\n",
    "           'precision' : make_scorer(precision_score),\n",
    "           ' recall' : make_scorer(recall_score),\n",
    "           'f1_score' : make_scorer(f1_score)}\n",
    "\n",
    "\n",
    "\n",
    "\n",
    "\n",
    "cv = KFold(n_splits=5, random_state=1, shuffle=True)\n",
    "\n",
    "\n",
    "\n",
    "scores = cross_validate(rfc, x_test, y_test, scoring=scoring, cv=cv, n_jobs=-1)\n",
    "# report performance\n",
    "# print('Accuracy: %.3f (%.3f)' % (mean(scores), std(scores)))\n",
    "scores"
   ]
  },
  {
   "cell_type": "code",
   "execution_count": 125,
   "id": "694629c0-48e7-4ac9-b9db-a98791229ec4",
   "metadata": {},
   "outputs": [
    {
     "data": {
      "text/html": [
       "<style>#sk-container-id-5 {color: black;background-color: white;}#sk-container-id-5 pre{padding: 0;}#sk-container-id-5 div.sk-toggleable {background-color: white;}#sk-container-id-5 label.sk-toggleable__label {cursor: pointer;display: block;width: 100%;margin-bottom: 0;padding: 0.3em;box-sizing: border-box;text-align: center;}#sk-container-id-5 label.sk-toggleable__label-arrow:before {content: \"▸\";float: left;margin-right: 0.25em;color: #696969;}#sk-container-id-5 label.sk-toggleable__label-arrow:hover:before {color: black;}#sk-container-id-5 div.sk-estimator:hover label.sk-toggleable__label-arrow:before {color: black;}#sk-container-id-5 div.sk-toggleable__content {max-height: 0;max-width: 0;overflow: hidden;text-align: left;background-color: #f0f8ff;}#sk-container-id-5 div.sk-toggleable__content pre {margin: 0.2em;color: black;border-radius: 0.25em;background-color: #f0f8ff;}#sk-container-id-5 input.sk-toggleable__control:checked~div.sk-toggleable__content {max-height: 200px;max-width: 100%;overflow: auto;}#sk-container-id-5 input.sk-toggleable__control:checked~label.sk-toggleable__label-arrow:before {content: \"▾\";}#sk-container-id-5 div.sk-estimator input.sk-toggleable__control:checked~label.sk-toggleable__label {background-color: #d4ebff;}#sk-container-id-5 div.sk-label input.sk-toggleable__control:checked~label.sk-toggleable__label {background-color: #d4ebff;}#sk-container-id-5 input.sk-hidden--visually {border: 0;clip: rect(1px 1px 1px 1px);clip: rect(1px, 1px, 1px, 1px);height: 1px;margin: -1px;overflow: hidden;padding: 0;position: absolute;width: 1px;}#sk-container-id-5 div.sk-estimator {font-family: monospace;background-color: #f0f8ff;border: 1px dotted black;border-radius: 0.25em;box-sizing: border-box;margin-bottom: 0.5em;}#sk-container-id-5 div.sk-estimator:hover {background-color: #d4ebff;}#sk-container-id-5 div.sk-parallel-item::after {content: \"\";width: 100%;border-bottom: 1px solid gray;flex-grow: 1;}#sk-container-id-5 div.sk-label:hover label.sk-toggleable__label {background-color: #d4ebff;}#sk-container-id-5 div.sk-serial::before {content: \"\";position: absolute;border-left: 1px solid gray;box-sizing: border-box;top: 0;bottom: 0;left: 50%;z-index: 0;}#sk-container-id-5 div.sk-serial {display: flex;flex-direction: column;align-items: center;background-color: white;padding-right: 0.2em;padding-left: 0.2em;position: relative;}#sk-container-id-5 div.sk-item {position: relative;z-index: 1;}#sk-container-id-5 div.sk-parallel {display: flex;align-items: stretch;justify-content: center;background-color: white;position: relative;}#sk-container-id-5 div.sk-item::before, #sk-container-id-5 div.sk-parallel-item::before {content: \"\";position: absolute;border-left: 1px solid gray;box-sizing: border-box;top: 0;bottom: 0;left: 50%;z-index: -1;}#sk-container-id-5 div.sk-parallel-item {display: flex;flex-direction: column;z-index: 1;position: relative;background-color: white;}#sk-container-id-5 div.sk-parallel-item:first-child::after {align-self: flex-end;width: 50%;}#sk-container-id-5 div.sk-parallel-item:last-child::after {align-self: flex-start;width: 50%;}#sk-container-id-5 div.sk-parallel-item:only-child::after {width: 0;}#sk-container-id-5 div.sk-dashed-wrapped {border: 1px dashed gray;margin: 0 0.4em 0.5em 0.4em;box-sizing: border-box;padding-bottom: 0.4em;background-color: white;}#sk-container-id-5 div.sk-label label {font-family: monospace;font-weight: bold;display: inline-block;line-height: 1.2em;}#sk-container-id-5 div.sk-label-container {text-align: center;}#sk-container-id-5 div.sk-container {/* jupyter's `normalize.less` sets `[hidden] { display: none; }` but bootstrap.min.css set `[hidden] { display: none !important; }` so we also need the `!important` here to be able to override the default hidden behavior on the sphinx rendered scikit-learn.org. See: https://github.com/scikit-learn/scikit-learn/issues/21755 */display: inline-block !important;position: relative;}#sk-container-id-5 div.sk-text-repr-fallback {display: none;}</style><div id=\"sk-container-id-5\" class=\"sk-top-container\"><div class=\"sk-text-repr-fallback\"><pre>RandomForestClassifier(max_depth=20, min_samples_leaf=0.01, n_estimators=300)</pre><b>In a Jupyter environment, please rerun this cell to show the HTML representation or trust the notebook. <br />On GitHub, the HTML representation is unable to render, please try loading this page with nbviewer.org.</b></div><div class=\"sk-container\" hidden><div class=\"sk-item\"><div class=\"sk-estimator sk-toggleable\"><input class=\"sk-toggleable__control sk-hidden--visually\" id=\"sk-estimator-id-5\" type=\"checkbox\" checked><label for=\"sk-estimator-id-5\" class=\"sk-toggleable__label sk-toggleable__label-arrow\">RandomForestClassifier</label><div class=\"sk-toggleable__content\"><pre>RandomForestClassifier(max_depth=20, min_samples_leaf=0.01, n_estimators=300)</pre></div></div></div></div></div>"
      ],
      "text/plain": [
       "RandomForestClassifier(max_depth=20, min_samples_leaf=0.01, n_estimators=300)"
      ]
     },
     "execution_count": 125,
     "metadata": {},
     "output_type": "execute_result"
    }
   ],
   "source": [
    "rfc = RandomForestClassifier(max_depth=20, min_samples_leaf=0.01, n_estimators=300)\n",
    "rfc.fit(x_train, y_train)"
   ]
  },
  {
   "cell_type": "code",
   "execution_count": 126,
   "id": "79955509-860e-4526-8e91-37fe6ba42830",
   "metadata": {},
   "outputs": [],
   "source": [
    "train_pred_y = rfc.predict(x_train)\n",
    "test_pred_y = rfc.predict(x_test)"
   ]
  },
  {
   "cell_type": "code",
   "execution_count": 127,
   "id": "6ce888e6-4f44-4334-b752-02a1b4279203",
   "metadata": {},
   "outputs": [
    {
     "data": {
      "text/plain": [
       "array([[3346,  721],\n",
       "       [ 594, 3473]])"
      ]
     },
     "execution_count": 127,
     "metadata": {},
     "output_type": "execute_result"
    }
   ],
   "source": [
    "confusion_matrix(y_train,train_pred_y)"
   ]
  },
  {
   "cell_type": "code",
   "execution_count": 128,
   "id": "a75023a9-cc4b-446a-aa80-c936dfe7c99a",
   "metadata": {},
   "outputs": [
    {
     "data": {
      "text/plain": [
       "array([[813, 204],\n",
       "       [164, 853]])"
      ]
     },
     "execution_count": 128,
     "metadata": {},
     "output_type": "execute_result"
    }
   ],
   "source": [
    "confusion_matrix(y_test, test_pred_y)"
   ]
  },
  {
   "cell_type": "code",
   "execution_count": 129,
   "id": "119200a0-2369-4f80-b80f-35000af9071d",
   "metadata": {},
   "outputs": [
    {
     "name": "stdout",
     "output_type": "stream",
     "text": [
      "0.8482255222753586\n",
      "0.8286206048684535\n",
      "0.8401770346692894\n",
      "0.8188118811881188\n",
      "0.8131760078662733\n",
      "0.8166175024582104\n"
     ]
    }
   ],
   "source": [
    "print(metrics.precision_score(y_train,y_train_pred))\n",
    "print(metrics.recall_score(y_train,y_train_pred))\n",
    "print(metrics.accuracy_score(y_train,y_train_pred))\n",
    "print(metrics.precision_score(y_test,y_test_pred))\n",
    "print(metrics.recall_score(y_test,y_test_pred))\n",
    "print(metrics.accuracy_score(y_test,y_test_pred))"
   ]
  },
  {
   "cell_type": "code",
   "execution_count": 130,
   "id": "19f1579a-77ed-4ad5-a228-b69338f0c6b5",
   "metadata": {},
   "outputs": [
    {
     "name": "stdout",
     "output_type": "stream",
     "text": [
      "              precision    recall  f1-score   support\n",
      "\n",
      "         0.0       0.85      0.82      0.84      4067\n",
      "         1.0       0.83      0.85      0.84      4067\n",
      "\n",
      "    accuracy                           0.84      8134\n",
      "   macro avg       0.84      0.84      0.84      8134\n",
      "weighted avg       0.84      0.84      0.84      8134\n",
      "\n"
     ]
    }
   ],
   "source": [
    "print(classification_report(y_train,train_pred_y))"
   ]
  },
  {
   "cell_type": "code",
   "execution_count": 131,
   "id": "58a824c0-9f7e-49c1-b688-baced742e452",
   "metadata": {},
   "outputs": [
    {
     "name": "stdout",
     "output_type": "stream",
     "text": [
      "              precision    recall  f1-score   support\n",
      "\n",
      "         0.0       0.83      0.80      0.82      1017\n",
      "         1.0       0.81      0.84      0.82      1017\n",
      "\n",
      "    accuracy                           0.82      2034\n",
      "   macro avg       0.82      0.82      0.82      2034\n",
      "weighted avg       0.82      0.82      0.82      2034\n",
      "\n"
     ]
    }
   ],
   "source": [
    "print(classification_report(y_test,test_pred_y))"
   ]
  },
  {
   "cell_type": "code",
   "execution_count": 132,
   "id": "df50fdf7-8321-4ffc-89fa-fe4ef87db46b",
   "metadata": {},
   "outputs": [
    {
     "data": {
      "text/plain": [
       "{'fit_time': array([0.73053241, 0.71772671, 0.73777413, 0.70910883, 0.71748567]),\n",
       " 'score_time': array([0.05274844, 0.05380917, 0.06062484, 0.05268192, 0.05177188]),\n",
       " 'test_accuracy': array([0.79361179, 0.82063882, 0.8034398 , 0.81326781, 0.8226601 ]),\n",
       " 'test_precision': array([0.74468085, 0.83809524, 0.81067961, 0.75336323, 0.81603774]),\n",
       " 'test_ recall': array([0.87939698, 0.81860465, 0.80288462, 0.88888889, 0.83980583]),\n",
       " 'test_f1_score': array([0.80645161, 0.82823529, 0.80676329, 0.81553398, 0.8277512 ])}"
      ]
     },
     "execution_count": 132,
     "metadata": {},
     "output_type": "execute_result"
    }
   ],
   "source": [
    "from sklearn.model_selection import cross_validate\n",
    "from sklearn.metrics import make_scorer, accuracy_score, precision_score, recall_score, f1_score\n",
    "\n",
    "\n",
    "\n",
    "scoring = {'accuracy' : make_scorer(accuracy_score),\n",
    "           'precision' : make_scorer(precision_score),\n",
    "           ' recall' : make_scorer(recall_score),\n",
    "           'f1_score' : make_scorer(f1_score)}\n",
    "\n",
    "\n",
    "\n",
    "\n",
    "\n",
    "cv = KFold(n_splits=5, random_state=1, shuffle=True)\n",
    "\n",
    "\n",
    "\n",
    "scores = cross_validate(rfc, x_test, y_test, scoring=scoring, cv=cv, n_jobs=-1)\n",
    "# report performance\n",
    "# print('Accuracy: %.3f (%.3f)' % (mean(scores), std(scores)))\n",
    "scores"
   ]
  },
  {
   "cell_type": "code",
   "execution_count": 133,
   "id": "932b7e0c-766d-4bdf-b71b-39e18cdcec69",
   "metadata": {},
   "outputs": [
    {
     "data": {
      "text/plain": [
       "Index(['Age', 'Number of Dependents', 'Number of Referrals',\n",
       "       'Tenure in Months', 'Avg Monthly Long Distance Charges',\n",
       "       'Avg Monthly GB Download', 'Monthly Charge', 'Total Charges',\n",
       "       'Total Refunds', 'Total Extra Data Charges',\n",
       "       'Total Long Distance Charges', 'Total Revenue', 'Gender_Male',\n",
       "       'Married_Yes', 'Offer_Offer A', 'Offer_Offer B', 'Offer_Offer C',\n",
       "       'Offer_Offer D', 'Offer_Offer E', 'Phone Service_Yes',\n",
       "       'Multiple Lines_No', 'Multiple Lines_Yes', 'Internet Service_Yes',\n",
       "       'Internet Type_DSL', 'Internet Type_Fiber Optic',\n",
       "       'Internet Type_No Internet', 'Online Security_No Internet',\n",
       "       'Online Security_Yes', 'Online Backup_No Internet', 'Online Backup_Yes',\n",
       "       'Device Protection Plan_No Internet', 'Device Protection Plan_Yes',\n",
       "       'Premium Tech Support_No Internet', 'Premium Tech Support_Yes',\n",
       "       'Streaming TV_No Internet', 'Streaming TV_Yes',\n",
       "       'Streaming Movies_No Internet', 'Streaming Movies_Yes',\n",
       "       'Streaming Music_No Internet', 'Streaming Music_Yes',\n",
       "       'Unlimited Data_No Internet', 'Unlimited Data_Yes', 'Contract_One Year',\n",
       "       'Contract_Two Year', 'Paperless Billing_Yes',\n",
       "       'Payment Method_Credit Card', 'Payment Method_Mailed Check'],\n",
       "      dtype='object')"
      ]
     },
     "execution_count": 133,
     "metadata": {},
     "output_type": "execute_result"
    }
   ],
   "source": [
    "X.columns"
   ]
  },
  {
   "cell_type": "code",
   "execution_count": 134,
   "id": "dba1b47e-b6a4-4cf1-a1b1-3991f769c554",
   "metadata": {},
   "outputs": [
    {
     "data": {
      "text/html": [
       "<div>\n",
       "<style scoped>\n",
       "    .dataframe tbody tr th:only-of-type {\n",
       "        vertical-align: middle;\n",
       "    }\n",
       "\n",
       "    .dataframe tbody tr th {\n",
       "        vertical-align: top;\n",
       "    }\n",
       "\n",
       "    .dataframe thead th {\n",
       "        text-align: right;\n",
       "    }\n",
       "</style>\n",
       "<table border=\"1\" class=\"dataframe\">\n",
       "  <thead>\n",
       "    <tr style=\"text-align: right;\">\n",
       "      <th></th>\n",
       "      <th>Importance</th>\n",
       "    </tr>\n",
       "  </thead>\n",
       "  <tbody>\n",
       "    <tr>\n",
       "      <th>Contract_Two Year</th>\n",
       "      <td>0.125869</td>\n",
       "    </tr>\n",
       "    <tr>\n",
       "      <th>Number of Referrals</th>\n",
       "      <td>0.118286</td>\n",
       "    </tr>\n",
       "    <tr>\n",
       "      <th>Tenure in Months</th>\n",
       "      <td>0.114495</td>\n",
       "    </tr>\n",
       "    <tr>\n",
       "      <th>Internet Type_Fiber Optic</th>\n",
       "      <td>0.070684</td>\n",
       "    </tr>\n",
       "    <tr>\n",
       "      <th>Number of Dependents</th>\n",
       "      <td>0.059491</td>\n",
       "    </tr>\n",
       "    <tr>\n",
       "      <th>Payment Method_Credit Card</th>\n",
       "      <td>0.051586</td>\n",
       "    </tr>\n",
       "    <tr>\n",
       "      <th>Contract_One Year</th>\n",
       "      <td>0.050605</td>\n",
       "    </tr>\n",
       "    <tr>\n",
       "      <th>Total Revenue</th>\n",
       "      <td>0.045484</td>\n",
       "    </tr>\n",
       "    <tr>\n",
       "      <th>Premium Tech Support_Yes</th>\n",
       "      <td>0.036663</td>\n",
       "    </tr>\n",
       "    <tr>\n",
       "      <th>Total Charges</th>\n",
       "      <td>0.036332</td>\n",
       "    </tr>\n",
       "    <tr>\n",
       "      <th>Monthly Charge</th>\n",
       "      <td>0.035363</td>\n",
       "    </tr>\n",
       "    <tr>\n",
       "      <th>Online Security_Yes</th>\n",
       "      <td>0.031459</td>\n",
       "    </tr>\n",
       "    <tr>\n",
       "      <th>Paperless Billing_Yes</th>\n",
       "      <td>0.022558</td>\n",
       "    </tr>\n",
       "    <tr>\n",
       "      <th>Total Long Distance Charges</th>\n",
       "      <td>0.022302</td>\n",
       "    </tr>\n",
       "    <tr>\n",
       "      <th>Avg Monthly GB Download</th>\n",
       "      <td>0.019810</td>\n",
       "    </tr>\n",
       "    <tr>\n",
       "      <th>Unlimited Data_No Internet</th>\n",
       "      <td>0.013581</td>\n",
       "    </tr>\n",
       "    <tr>\n",
       "      <th>Premium Tech Support_No Internet</th>\n",
       "      <td>0.011196</td>\n",
       "    </tr>\n",
       "    <tr>\n",
       "      <th>Internet Service_Yes</th>\n",
       "      <td>0.010164</td>\n",
       "    </tr>\n",
       "    <tr>\n",
       "      <th>Device Protection Plan_No Internet</th>\n",
       "      <td>0.009640</td>\n",
       "    </tr>\n",
       "    <tr>\n",
       "      <th>Streaming Movies_No Internet</th>\n",
       "      <td>0.009499</td>\n",
       "    </tr>\n",
       "    <tr>\n",
       "      <th>Streaming Music_No Internet</th>\n",
       "      <td>0.009406</td>\n",
       "    </tr>\n",
       "    <tr>\n",
       "      <th>Internet Type_DSL</th>\n",
       "      <td>0.008964</td>\n",
       "    </tr>\n",
       "    <tr>\n",
       "      <th>Online Security_No Internet</th>\n",
       "      <td>0.008625</td>\n",
       "    </tr>\n",
       "    <tr>\n",
       "      <th>Streaming TV_No Internet</th>\n",
       "      <td>0.008380</td>\n",
       "    </tr>\n",
       "    <tr>\n",
       "      <th>Internet Type_No Internet</th>\n",
       "      <td>0.007297</td>\n",
       "    </tr>\n",
       "    <tr>\n",
       "      <th>Online Backup_No Internet</th>\n",
       "      <td>0.006989</td>\n",
       "    </tr>\n",
       "    <tr>\n",
       "      <th>Offer_Offer E</th>\n",
       "      <td>0.006794</td>\n",
       "    </tr>\n",
       "    <tr>\n",
       "      <th>Married_Yes</th>\n",
       "      <td>0.006357</td>\n",
       "    </tr>\n",
       "    <tr>\n",
       "      <th>Online Backup_Yes</th>\n",
       "      <td>0.006044</td>\n",
       "    </tr>\n",
       "    <tr>\n",
       "      <th>Age</th>\n",
       "      <td>0.006010</td>\n",
       "    </tr>\n",
       "    <tr>\n",
       "      <th>Avg Monthly Long Distance Charges</th>\n",
       "      <td>0.004424</td>\n",
       "    </tr>\n",
       "    <tr>\n",
       "      <th>Device Protection Plan_Yes</th>\n",
       "      <td>0.004348</td>\n",
       "    </tr>\n",
       "    <tr>\n",
       "      <th>Offer_Offer B</th>\n",
       "      <td>0.003540</td>\n",
       "    </tr>\n",
       "    <tr>\n",
       "      <th>Unlimited Data_Yes</th>\n",
       "      <td>0.002678</td>\n",
       "    </tr>\n",
       "    <tr>\n",
       "      <th>Streaming TV_Yes</th>\n",
       "      <td>0.002333</td>\n",
       "    </tr>\n",
       "    <tr>\n",
       "      <th>Streaming Movies_Yes</th>\n",
       "      <td>0.002207</td>\n",
       "    </tr>\n",
       "    <tr>\n",
       "      <th>Multiple Lines_Yes</th>\n",
       "      <td>0.002036</td>\n",
       "    </tr>\n",
       "    <tr>\n",
       "      <th>Offer_Offer A</th>\n",
       "      <td>0.001676</td>\n",
       "    </tr>\n",
       "    <tr>\n",
       "      <th>Multiple Lines_No</th>\n",
       "      <td>0.001512</td>\n",
       "    </tr>\n",
       "    <tr>\n",
       "      <th>Streaming Music_Yes</th>\n",
       "      <td>0.001385</td>\n",
       "    </tr>\n",
       "    <tr>\n",
       "      <th>Gender_Male</th>\n",
       "      <td>0.001321</td>\n",
       "    </tr>\n",
       "    <tr>\n",
       "      <th>Offer_Offer D</th>\n",
       "      <td>0.001089</td>\n",
       "    </tr>\n",
       "    <tr>\n",
       "      <th>Payment Method_Mailed Check</th>\n",
       "      <td>0.000724</td>\n",
       "    </tr>\n",
       "    <tr>\n",
       "      <th>Phone Service_Yes</th>\n",
       "      <td>0.000547</td>\n",
       "    </tr>\n",
       "    <tr>\n",
       "      <th>Total Extra Data Charges</th>\n",
       "      <td>0.000147</td>\n",
       "    </tr>\n",
       "    <tr>\n",
       "      <th>Offer_Offer C</th>\n",
       "      <td>0.000051</td>\n",
       "    </tr>\n",
       "    <tr>\n",
       "      <th>Total Refunds</th>\n",
       "      <td>0.000047</td>\n",
       "    </tr>\n",
       "  </tbody>\n",
       "</table>\n",
       "</div>"
      ],
      "text/plain": [
       "                                    Importance\n",
       "Contract_Two Year                     0.125869\n",
       "Number of Referrals                   0.118286\n",
       "Tenure in Months                      0.114495\n",
       "Internet Type_Fiber Optic             0.070684\n",
       "Number of Dependents                  0.059491\n",
       "Payment Method_Credit Card            0.051586\n",
       "Contract_One Year                     0.050605\n",
       "Total Revenue                         0.045484\n",
       "Premium Tech Support_Yes              0.036663\n",
       "Total Charges                         0.036332\n",
       "Monthly Charge                        0.035363\n",
       "Online Security_Yes                   0.031459\n",
       "Paperless Billing_Yes                 0.022558\n",
       "Total Long Distance Charges           0.022302\n",
       "Avg Monthly GB Download               0.019810\n",
       "Unlimited Data_No Internet            0.013581\n",
       "Premium Tech Support_No Internet      0.011196\n",
       "Internet Service_Yes                  0.010164\n",
       "Device Protection Plan_No Internet    0.009640\n",
       "Streaming Movies_No Internet          0.009499\n",
       "Streaming Music_No Internet           0.009406\n",
       "Internet Type_DSL                     0.008964\n",
       "Online Security_No Internet           0.008625\n",
       "Streaming TV_No Internet              0.008380\n",
       "Internet Type_No Internet             0.007297\n",
       "Online Backup_No Internet             0.006989\n",
       "Offer_Offer E                         0.006794\n",
       "Married_Yes                           0.006357\n",
       "Online Backup_Yes                     0.006044\n",
       "Age                                   0.006010\n",
       "Avg Monthly Long Distance Charges     0.004424\n",
       "Device Protection Plan_Yes            0.004348\n",
       "Offer_Offer B                         0.003540\n",
       "Unlimited Data_Yes                    0.002678\n",
       "Streaming TV_Yes                      0.002333\n",
       "Streaming Movies_Yes                  0.002207\n",
       "Multiple Lines_Yes                    0.002036\n",
       "Offer_Offer A                         0.001676\n",
       "Multiple Lines_No                     0.001512\n",
       "Streaming Music_Yes                   0.001385\n",
       "Gender_Male                           0.001321\n",
       "Offer_Offer D                         0.001089\n",
       "Payment Method_Mailed Check           0.000724\n",
       "Phone Service_Yes                     0.000547\n",
       "Total Extra Data Charges              0.000147\n",
       "Offer_Offer C                         0.000051\n",
       "Total Refunds                         0.000047"
      ]
     },
     "execution_count": 134,
     "metadata": {},
     "output_type": "execute_result"
    }
   ],
   "source": [
    "rf_reg_best = rfc.feature_importances_\n",
    "\n",
    "#col_names = df.drop(columns=[\"PM2.5\"]).columns\n",
    "fi_df = pd.DataFrame(rfc.feature_importances_, index=['Age', 'Number of Dependents', 'Number of Referrals',\n",
    "       'Tenure in Months', 'Avg Monthly Long Distance Charges',\n",
    "       'Avg Monthly GB Download', 'Monthly Charge', 'Total Charges',\n",
    "       'Total Refunds', 'Total Extra Data Charges',\n",
    "       'Total Long Distance Charges', 'Total Revenue', 'Gender_Male',\n",
    "       'Married_Yes', 'Offer_Offer A', 'Offer_Offer B', 'Offer_Offer C',\n",
    "       'Offer_Offer D', 'Offer_Offer E', 'Phone Service_Yes',\n",
    "       'Multiple Lines_No', 'Multiple Lines_Yes', 'Internet Service_Yes',\n",
    "       'Internet Type_DSL', 'Internet Type_Fiber Optic',\n",
    "       'Internet Type_No Internet', 'Online Security_No Internet',\n",
    "       'Online Security_Yes', 'Online Backup_No Internet', 'Online Backup_Yes',\n",
    "       'Device Protection Plan_No Internet', 'Device Protection Plan_Yes',\n",
    "       'Premium Tech Support_No Internet', 'Premium Tech Support_Yes',\n",
    "       'Streaming TV_No Internet', 'Streaming TV_Yes',\n",
    "       'Streaming Movies_No Internet', 'Streaming Movies_Yes',\n",
    "       'Streaming Music_No Internet', 'Streaming Music_Yes',\n",
    "       'Unlimited Data_No Internet', 'Unlimited Data_Yes', 'Contract_One Year',\n",
    "       'Contract_Two Year', 'Paperless Billing_Yes',\n",
    "       'Payment Method_Credit Card', 'Payment Method_Mailed Check'], columns=[\"Importance\"])\n",
    "\n",
    "fi_df.sort_values(\"Importance\", ascending=False)"
   ]
  },
  {
   "cell_type": "code",
   "execution_count": 135,
   "id": "94ec07d1-0362-4d8b-982a-6f3c5090f0bb",
   "metadata": {},
   "outputs": [
    {
     "data": {
      "text/plain": [
       "Index(['Contract_Two Year', 'Number of Referrals', 'Tenure in Months',\n",
       "       'Internet Type_Fiber Optic', 'Number of Dependents',\n",
       "       'Payment Method_Credit Card', 'Contract_One Year', 'Total Revenue',\n",
       "       'Premium Tech Support_Yes', 'Total Charges', 'Monthly Charge',\n",
       "       'Online Security_Yes', 'Paperless Billing_Yes',\n",
       "       'Total Long Distance Charges', 'Avg Monthly GB Download',\n",
       "       'Unlimited Data_No Internet', 'Premium Tech Support_No Internet',\n",
       "       'Internet Service_Yes', 'Device Protection Plan_No Internet',\n",
       "       'Streaming Movies_No Internet', 'Streaming Music_No Internet',\n",
       "       'Internet Type_DSL', 'Online Security_No Internet',\n",
       "       'Streaming TV_No Internet', 'Internet Type_No Internet',\n",
       "       'Online Backup_No Internet', 'Offer_Offer E', 'Married_Yes',\n",
       "       'Online Backup_Yes', 'Age', 'Avg Monthly Long Distance Charges',\n",
       "       'Device Protection Plan_Yes', 'Offer_Offer B', 'Unlimited Data_Yes',\n",
       "       'Streaming TV_Yes', 'Streaming Movies_Yes', 'Multiple Lines_Yes',\n",
       "       'Offer_Offer A', 'Multiple Lines_No', 'Streaming Music_Yes',\n",
       "       'Gender_Male', 'Offer_Offer D', 'Payment Method_Mailed Check',\n",
       "       'Phone Service_Yes', 'Total Extra Data Charges', 'Offer_Offer C',\n",
       "       'Total Refunds'],\n",
       "      dtype='object')"
      ]
     },
     "execution_count": 135,
     "metadata": {},
     "output_type": "execute_result"
    }
   ],
   "source": [
    "most_imp = fi_df.sort_values(\"Importance\", ascending=False)\n",
    "\n",
    "most_imp.index"
   ]
  },
  {
   "cell_type": "code",
   "execution_count": 136,
   "id": "e060a055-29cc-4480-a003-39e3b22a25e0",
   "metadata": {},
   "outputs": [],
   "source": [
    "show_woe = True\n",
    "iv_bins = 10\n",
    "iv_threshold = .2\n",
    "target='Churn'\n",
    "################################ Functions #############################################################\n",
    "def iv_woe(data, target, iv_bins,iv_threshold, show_woe):\n",
    "    \n",
    "    #Inputs\n",
    "    # data - Input Data including target variable\n",
    "    # target - Target Variable name\n",
    "    # iv_bins - Number of iv_bins\n",
    "    # show_woe - show all the iv_bins and features\n",
    "    # iv_threshold - select features with IV greater than this\n",
    "    \n",
    "    #Empty Dataframe\n",
    "    newDF,woeDF = pd.DataFrame(), pd.DataFrame()\n",
    "    \n",
    "    #Extract Column Names\n",
    "    cols = data.columns\n",
    "    \n",
    "    #Run WOE and IV on all the independent variables\n",
    "    for ivars in cols[~cols.isin([target])]:\n",
    "        if (data[ivars].dtype.kind in 'bifc') and (len(np.unique(data[ivars]))>10):\n",
    "            binned_x = pd.qcut(data[ivars], iv_bins,  duplicates='drop')\n",
    "            d0 = pd.DataFrame({'x': binned_x, 'y': data[target]})\n",
    "        else:\n",
    "            d0 = pd.DataFrame({'x': data[ivars], 'y': data[target]})\n",
    "# Calculate the number of events in each group (bin)\n",
    "        d = d0.groupby(\"x\", as_index=False).agg({\"y\": [\"count\", \"sum\"]})\n",
    "        d.columns = ['Cutoff', 'N', 'Events']\n",
    "        \n",
    "        # Calculate % of events in each group.\n",
    "        d['% of Events'] = np.maximum(d['Events'], 0.5) / d['Events'].sum()\n",
    "# Calculate the non events in each group.\n",
    "        d['Non-Events'] = d['N'] - d['Events']\n",
    "        # Calculate % of non events in each group.\n",
    "        d['% of Non-Events'] = np.maximum(d['Non-Events'], 0.5) / d['Non-Events'].sum()\n",
    "# Calculate WOE by taking natural log of division of %\n",
    "        # of non-events and % of events\n",
    "        d['WoE'] = np.log(d['% of Events']/d['% of Non-Events'])\n",
    "        d['IV'] = d['WoE'] * (d['% of Events'] - d['% of Non-Events'])\n",
    "        d.insert(loc=0, column='Variable', value=ivars)\n",
    "#         print(\"Information value of \" + ivars + \" is \" +\n",
    "#               str(round(d['IV'].sum(),6)))\n",
    "        temp =pd.DataFrame({\"Variable\" : [ivars],\n",
    "                            \"IV\" : [d['IV'].sum()]},\n",
    "                           columns = [\"Variable\", \"IV\"])\n",
    "        newDF=pd.concat([newDF,temp], axis=0)\n",
    "        woeDF=pd.concat([woeDF,d], axis=0)\n",
    "#Show WOE Table\n",
    "#         if show_woe == True:\n",
    "#             print(d)\n",
    "    \n",
    "    # Aggregate IV at feature level\n",
    "    woeDF_v2 = pd.DataFrame(woeDF.groupby('Variable')['IV'].agg('sum'),\n",
    "                            columns= ['IV']).reset_index()\n",
    "#     woeDF_v3 = woeDF_v2.sort_values(['IV'], ascending = False)\n",
    "#     IV_df = woeDF_v2#[woeDF_v2['IV']> iv_threshold]\n",
    "#     woe_top_features = IV_df['Variable'].tolist()\n",
    "#     print(woe_top_features)\n",
    "#     woe_top_features_df = pd.DataFrame(woe_top_features,columns = ['Feature'])\n",
    "#     woe_top_features_df['Method'] = 'Information_value'\n",
    "    return woeDF_v2#newDF, woeDF,IV_df, woe_top_features_df\n",
    "\n",
    "\n",
    "\n",
    "################################ Calculate IV #############################################################\n",
    "\n",
    "\n",
    "\n",
    "woeDF = iv_woe(model_data,\n",
    "                                              'Churn',iv_bins,iv_threshold,\n",
    "                                              show_woe)\n",
    "woeDF.head(n=50)\n",
    "\n",
    "\n",
    "\n",
    "colsRequired=list(woeDF[woeDF['IV']> iv_threshold].Variable)"
   ]
  },
  {
   "cell_type": "code",
   "execution_count": 137,
   "id": "6fff1bba-e776-41de-8de4-825c19af899b",
   "metadata": {},
   "outputs": [
    {
     "data": {
      "text/plain": [
       "['Contract_One Year',\n",
       " 'Contract_Two Year',\n",
       " 'Device Protection Plan_No Internet',\n",
       " 'Internet Service_Yes',\n",
       " 'Internet Type_Fiber Optic',\n",
       " 'Internet Type_No Internet',\n",
       " 'Monthly Charge',\n",
       " 'Number of Dependents',\n",
       " 'Number of Referrals',\n",
       " 'Offer_Offer E',\n",
       " 'Online Backup_No Internet',\n",
       " 'Online Security_No Internet',\n",
       " 'Paperless Billing_Yes',\n",
       " 'Payment Method_Credit Card',\n",
       " 'Premium Tech Support_No Internet',\n",
       " 'Streaming Movies_No Internet',\n",
       " 'Streaming Music_No Internet',\n",
       " 'Streaming TV_No Internet',\n",
       " 'Tenure in Months',\n",
       " 'Total Charges',\n",
       " 'Total Long Distance Charges',\n",
       " 'Total Revenue',\n",
       " 'Unlimited Data_No Internet']"
      ]
     },
     "execution_count": 137,
     "metadata": {},
     "output_type": "execute_result"
    }
   ],
   "source": [
    "\n",
    "colsRequired"
   ]
  },
  {
   "cell_type": "code",
   "execution_count": 138,
   "id": "46258498-7e26-469d-8b64-1ddec2b4033c",
   "metadata": {},
   "outputs": [],
   "source": [
    "from sklearn.linear_model import LinearRegression\n",
    "\n",
    "\n",
    "\n",
    "def sklearn_vif(exogs, data):\n",
    "\n",
    "\n",
    "\n",
    "   # initialize dictionaries\n",
    "    vif_dict, tolerance_dict = {}, {}\n",
    "\n",
    "\n",
    "\n",
    "   # form input data for each exogenous variable\n",
    "    for exog in exogs:\n",
    "        not_exog = [i for i in exogs if i != exog]\n",
    "        X, y = data[not_exog], data[exog]\n",
    "\n",
    "\n",
    "\n",
    "       # extract r-squared from the fit\n",
    "        r_squared = LinearRegression().fit(X, y).score(X, y)\n",
    "\n",
    "\n",
    "\n",
    "       # calculate VIF\n",
    "        vif = 1/(1 - r_squared)\n",
    "        vif_dict[exog] = vif\n",
    "\n",
    "\n",
    "\n",
    "       # calculate tolerance\n",
    "        tolerance = 1 - r_squared\n",
    "        tolerance_dict[exog] = tolerance\n",
    "\n",
    "\n",
    "\n",
    "   # return VIF DataFrame\n",
    "    df_vif = pd.DataFrame({'VIF': vif_dict, 'Tolerance': tolerance_dict})\n",
    "\n",
    "\n",
    "\n",
    "    return df_vif\n",
    "\n",
    "VIF=sklearn_vif(colsRequired, model_data)\n"
   ]
  },
  {
   "cell_type": "code",
   "execution_count": 139,
   "id": "47685e69-00f9-41fd-971d-682cd5cb6606",
   "metadata": {},
   "outputs": [
    {
     "data": {
      "text/html": [
       "<div>\n",
       "<style scoped>\n",
       "    .dataframe tbody tr th:only-of-type {\n",
       "        vertical-align: middle;\n",
       "    }\n",
       "\n",
       "    .dataframe tbody tr th {\n",
       "        vertical-align: top;\n",
       "    }\n",
       "\n",
       "    .dataframe thead th {\n",
       "        text-align: right;\n",
       "    }\n",
       "</style>\n",
       "<table border=\"1\" class=\"dataframe\">\n",
       "  <thead>\n",
       "    <tr style=\"text-align: right;\">\n",
       "      <th></th>\n",
       "      <th>VIF</th>\n",
       "      <th>Tolerance</th>\n",
       "    </tr>\n",
       "  </thead>\n",
       "  <tbody>\n",
       "    <tr>\n",
       "      <th>Payment Method_Credit Card</th>\n",
       "      <td>1.114011e+00</td>\n",
       "      <td>0.897657</td>\n",
       "    </tr>\n",
       "    <tr>\n",
       "      <th>Number of Dependents</th>\n",
       "      <td>1.119456e+00</td>\n",
       "      <td>0.893291</td>\n",
       "    </tr>\n",
       "    <tr>\n",
       "      <th>Paperless Billing_Yes</th>\n",
       "      <td>1.183526e+00</td>\n",
       "      <td>0.844933</td>\n",
       "    </tr>\n",
       "    <tr>\n",
       "      <th>Number of Referrals</th>\n",
       "      <td>1.211716e+00</td>\n",
       "      <td>0.825276</td>\n",
       "    </tr>\n",
       "    <tr>\n",
       "      <th>Offer_Offer E</th>\n",
       "      <td>1.234508e+00</td>\n",
       "      <td>0.810039</td>\n",
       "    </tr>\n",
       "    <tr>\n",
       "      <th>Contract_One Year</th>\n",
       "      <td>1.510748e+00</td>\n",
       "      <td>0.661924</td>\n",
       "    </tr>\n",
       "    <tr>\n",
       "      <th>Contract_Two Year</th>\n",
       "      <td>2.185911e+00</td>\n",
       "      <td>0.457475</td>\n",
       "    </tr>\n",
       "    <tr>\n",
       "      <th>Internet Type_Fiber Optic</th>\n",
       "      <td>3.523498e+00</td>\n",
       "      <td>0.283809</td>\n",
       "    </tr>\n",
       "    <tr>\n",
       "      <th>Tenure in Months</th>\n",
       "      <td>7.845098e+00</td>\n",
       "      <td>0.127468</td>\n",
       "    </tr>\n",
       "    <tr>\n",
       "      <th>Monthly Charge</th>\n",
       "      <td>1.113504e+01</td>\n",
       "      <td>0.089807</td>\n",
       "    </tr>\n",
       "    <tr>\n",
       "      <th>Total Long Distance Charges</th>\n",
       "      <td>1.075706e+03</td>\n",
       "      <td>0.000930</td>\n",
       "    </tr>\n",
       "    <tr>\n",
       "      <th>Total Charges</th>\n",
       "      <td>7.710235e+03</td>\n",
       "      <td>0.000130</td>\n",
       "    </tr>\n",
       "    <tr>\n",
       "      <th>Total Revenue</th>\n",
       "      <td>1.227482e+04</td>\n",
       "      <td>0.000081</td>\n",
       "    </tr>\n",
       "    <tr>\n",
       "      <th>Streaming TV_No Internet</th>\n",
       "      <td>inf</td>\n",
       "      <td>0.000000</td>\n",
       "    </tr>\n",
       "    <tr>\n",
       "      <th>Streaming Music_No Internet</th>\n",
       "      <td>inf</td>\n",
       "      <td>0.000000</td>\n",
       "    </tr>\n",
       "    <tr>\n",
       "      <th>Online Security_No Internet</th>\n",
       "      <td>inf</td>\n",
       "      <td>0.000000</td>\n",
       "    </tr>\n",
       "    <tr>\n",
       "      <th>Premium Tech Support_No Internet</th>\n",
       "      <td>inf</td>\n",
       "      <td>0.000000</td>\n",
       "    </tr>\n",
       "    <tr>\n",
       "      <th>Online Backup_No Internet</th>\n",
       "      <td>inf</td>\n",
       "      <td>0.000000</td>\n",
       "    </tr>\n",
       "    <tr>\n",
       "      <th>Internet Type_No Internet</th>\n",
       "      <td>inf</td>\n",
       "      <td>0.000000</td>\n",
       "    </tr>\n",
       "    <tr>\n",
       "      <th>Internet Service_Yes</th>\n",
       "      <td>inf</td>\n",
       "      <td>0.000000</td>\n",
       "    </tr>\n",
       "    <tr>\n",
       "      <th>Device Protection Plan_No Internet</th>\n",
       "      <td>inf</td>\n",
       "      <td>0.000000</td>\n",
       "    </tr>\n",
       "    <tr>\n",
       "      <th>Streaming Movies_No Internet</th>\n",
       "      <td>inf</td>\n",
       "      <td>0.000000</td>\n",
       "    </tr>\n",
       "    <tr>\n",
       "      <th>Unlimited Data_No Internet</th>\n",
       "      <td>inf</td>\n",
       "      <td>0.000000</td>\n",
       "    </tr>\n",
       "  </tbody>\n",
       "</table>\n",
       "</div>"
      ],
      "text/plain": [
       "                                             VIF  Tolerance\n",
       "Payment Method_Credit Card          1.114011e+00   0.897657\n",
       "Number of Dependents                1.119456e+00   0.893291\n",
       "Paperless Billing_Yes               1.183526e+00   0.844933\n",
       "Number of Referrals                 1.211716e+00   0.825276\n",
       "Offer_Offer E                       1.234508e+00   0.810039\n",
       "Contract_One Year                   1.510748e+00   0.661924\n",
       "Contract_Two Year                   2.185911e+00   0.457475\n",
       "Internet Type_Fiber Optic           3.523498e+00   0.283809\n",
       "Tenure in Months                    7.845098e+00   0.127468\n",
       "Monthly Charge                      1.113504e+01   0.089807\n",
       "Total Long Distance Charges         1.075706e+03   0.000930\n",
       "Total Charges                       7.710235e+03   0.000130\n",
       "Total Revenue                       1.227482e+04   0.000081\n",
       "Streaming TV_No Internet                     inf   0.000000\n",
       "Streaming Music_No Internet                  inf   0.000000\n",
       "Online Security_No Internet                  inf   0.000000\n",
       "Premium Tech Support_No Internet             inf   0.000000\n",
       "Online Backup_No Internet                    inf   0.000000\n",
       "Internet Type_No Internet                    inf   0.000000\n",
       "Internet Service_Yes                         inf   0.000000\n",
       "Device Protection Plan_No Internet           inf   0.000000\n",
       "Streaming Movies_No Internet                 inf   0.000000\n",
       "Unlimited Data_No Internet                   inf   0.000000"
      ]
     },
     "execution_count": 139,
     "metadata": {},
     "output_type": "execute_result"
    }
   ],
   "source": [
    "VIF.sort_values('VIF')"
   ]
  },
  {
   "cell_type": "code",
   "execution_count": 140,
   "id": "e718a9a1-8441-45a4-b817-d90c4ce38acd",
   "metadata": {},
   "outputs": [
    {
     "data": {
      "text/plain": [
       "['Contract_One Year',\n",
       " 'Contract_Two Year',\n",
       " 'Internet Type_Fiber Optic',\n",
       " 'Number of Dependents',\n",
       " 'Number of Referrals',\n",
       " 'Offer_Offer E',\n",
       " 'Paperless Billing_Yes',\n",
       " 'Payment Method_Credit Card',\n",
       " 'Tenure in Months']"
      ]
     },
     "execution_count": 140,
     "metadata": {},
     "output_type": "execute_result"
    }
   ],
   "source": [
    "colsRequired = list(VIF[VIF.VIF <= 10].index)\n",
    "colsRequired"
   ]
  },
  {
   "cell_type": "markdown",
   "id": "1d366098-3007-48f0-8f15-90f65076c1cd",
   "metadata": {
    "tags": []
   },
   "source": [
    "#### GridSearchCV"
   ]
  },
  {
   "cell_type": "code",
   "execution_count": 141,
   "id": "d6c5eb85-ee4b-4a5e-be2f-df8b1603e7f3",
   "metadata": {},
   "outputs": [],
   "source": [
    "from sklearn.tree import DecisionTreeClassifier\n",
    "dt=DecisionTreeClassifier(random_state=42)"
   ]
  },
  {
   "cell_type": "code",
   "execution_count": 142,
   "id": "be03a9a8-980e-4c10-9e54-080796e8fe3c",
   "metadata": {},
   "outputs": [
    {
     "data": {
      "text/html": [
       "<style>#sk-container-id-6 {color: black;background-color: white;}#sk-container-id-6 pre{padding: 0;}#sk-container-id-6 div.sk-toggleable {background-color: white;}#sk-container-id-6 label.sk-toggleable__label {cursor: pointer;display: block;width: 100%;margin-bottom: 0;padding: 0.3em;box-sizing: border-box;text-align: center;}#sk-container-id-6 label.sk-toggleable__label-arrow:before {content: \"▸\";float: left;margin-right: 0.25em;color: #696969;}#sk-container-id-6 label.sk-toggleable__label-arrow:hover:before {color: black;}#sk-container-id-6 div.sk-estimator:hover label.sk-toggleable__label-arrow:before {color: black;}#sk-container-id-6 div.sk-toggleable__content {max-height: 0;max-width: 0;overflow: hidden;text-align: left;background-color: #f0f8ff;}#sk-container-id-6 div.sk-toggleable__content pre {margin: 0.2em;color: black;border-radius: 0.25em;background-color: #f0f8ff;}#sk-container-id-6 input.sk-toggleable__control:checked~div.sk-toggleable__content {max-height: 200px;max-width: 100%;overflow: auto;}#sk-container-id-6 input.sk-toggleable__control:checked~label.sk-toggleable__label-arrow:before {content: \"▾\";}#sk-container-id-6 div.sk-estimator input.sk-toggleable__control:checked~label.sk-toggleable__label {background-color: #d4ebff;}#sk-container-id-6 div.sk-label input.sk-toggleable__control:checked~label.sk-toggleable__label {background-color: #d4ebff;}#sk-container-id-6 input.sk-hidden--visually {border: 0;clip: rect(1px 1px 1px 1px);clip: rect(1px, 1px, 1px, 1px);height: 1px;margin: -1px;overflow: hidden;padding: 0;position: absolute;width: 1px;}#sk-container-id-6 div.sk-estimator {font-family: monospace;background-color: #f0f8ff;border: 1px dotted black;border-radius: 0.25em;box-sizing: border-box;margin-bottom: 0.5em;}#sk-container-id-6 div.sk-estimator:hover {background-color: #d4ebff;}#sk-container-id-6 div.sk-parallel-item::after {content: \"\";width: 100%;border-bottom: 1px solid gray;flex-grow: 1;}#sk-container-id-6 div.sk-label:hover label.sk-toggleable__label {background-color: #d4ebff;}#sk-container-id-6 div.sk-serial::before {content: \"\";position: absolute;border-left: 1px solid gray;box-sizing: border-box;top: 0;bottom: 0;left: 50%;z-index: 0;}#sk-container-id-6 div.sk-serial {display: flex;flex-direction: column;align-items: center;background-color: white;padding-right: 0.2em;padding-left: 0.2em;position: relative;}#sk-container-id-6 div.sk-item {position: relative;z-index: 1;}#sk-container-id-6 div.sk-parallel {display: flex;align-items: stretch;justify-content: center;background-color: white;position: relative;}#sk-container-id-6 div.sk-item::before, #sk-container-id-6 div.sk-parallel-item::before {content: \"\";position: absolute;border-left: 1px solid gray;box-sizing: border-box;top: 0;bottom: 0;left: 50%;z-index: -1;}#sk-container-id-6 div.sk-parallel-item {display: flex;flex-direction: column;z-index: 1;position: relative;background-color: white;}#sk-container-id-6 div.sk-parallel-item:first-child::after {align-self: flex-end;width: 50%;}#sk-container-id-6 div.sk-parallel-item:last-child::after {align-self: flex-start;width: 50%;}#sk-container-id-6 div.sk-parallel-item:only-child::after {width: 0;}#sk-container-id-6 div.sk-dashed-wrapped {border: 1px dashed gray;margin: 0 0.4em 0.5em 0.4em;box-sizing: border-box;padding-bottom: 0.4em;background-color: white;}#sk-container-id-6 div.sk-label label {font-family: monospace;font-weight: bold;display: inline-block;line-height: 1.2em;}#sk-container-id-6 div.sk-label-container {text-align: center;}#sk-container-id-6 div.sk-container {/* jupyter's `normalize.less` sets `[hidden] { display: none; }` but bootstrap.min.css set `[hidden] { display: none !important; }` so we also need the `!important` here to be able to override the default hidden behavior on the sphinx rendered scikit-learn.org. See: https://github.com/scikit-learn/scikit-learn/issues/21755 */display: inline-block !important;position: relative;}#sk-container-id-6 div.sk-text-repr-fallback {display: none;}</style><div id=\"sk-container-id-6\" class=\"sk-top-container\"><div class=\"sk-text-repr-fallback\"><pre>GridSearchCV(cv=13, estimator=DecisionTreeClassifier(random_state=42),\n",
       "             n_jobs=-1,\n",
       "             param_grid={&#x27;class_weight&#x27;: [{0: 0.25, 1: 0.75}, {0: 4, 1: 9},\n",
       "                                          {0: 0.35, 1: 0.68}, {0: 0, 1: 1}],\n",
       "                         &#x27;max_depth&#x27;: [2, 10, 5, 6, 15, 20],\n",
       "                         &#x27;max_features&#x27;: [0.3, 0.6, 0.9, 0.1, 0.001],\n",
       "                         &#x27;min_samples_leaf&#x27;: [0.04, 0.08, 0.01, 0.02, 0.1,\n",
       "                                              0.001]},\n",
       "             scoring=&#x27;f1&#x27;)</pre><b>In a Jupyter environment, please rerun this cell to show the HTML representation or trust the notebook. <br />On GitHub, the HTML representation is unable to render, please try loading this page with nbviewer.org.</b></div><div class=\"sk-container\" hidden><div class=\"sk-item sk-dashed-wrapped\"><div class=\"sk-label-container\"><div class=\"sk-label sk-toggleable\"><input class=\"sk-toggleable__control sk-hidden--visually\" id=\"sk-estimator-id-6\" type=\"checkbox\" ><label for=\"sk-estimator-id-6\" class=\"sk-toggleable__label sk-toggleable__label-arrow\">GridSearchCV</label><div class=\"sk-toggleable__content\"><pre>GridSearchCV(cv=13, estimator=DecisionTreeClassifier(random_state=42),\n",
       "             n_jobs=-1,\n",
       "             param_grid={&#x27;class_weight&#x27;: [{0: 0.25, 1: 0.75}, {0: 4, 1: 9},\n",
       "                                          {0: 0.35, 1: 0.68}, {0: 0, 1: 1}],\n",
       "                         &#x27;max_depth&#x27;: [2, 10, 5, 6, 15, 20],\n",
       "                         &#x27;max_features&#x27;: [0.3, 0.6, 0.9, 0.1, 0.001],\n",
       "                         &#x27;min_samples_leaf&#x27;: [0.04, 0.08, 0.01, 0.02, 0.1,\n",
       "                                              0.001]},\n",
       "             scoring=&#x27;f1&#x27;)</pre></div></div></div><div class=\"sk-parallel\"><div class=\"sk-parallel-item\"><div class=\"sk-item\"><div class=\"sk-label-container\"><div class=\"sk-label sk-toggleable\"><input class=\"sk-toggleable__control sk-hidden--visually\" id=\"sk-estimator-id-7\" type=\"checkbox\" ><label for=\"sk-estimator-id-7\" class=\"sk-toggleable__label sk-toggleable__label-arrow\">estimator: DecisionTreeClassifier</label><div class=\"sk-toggleable__content\"><pre>DecisionTreeClassifier(random_state=42)</pre></div></div></div><div class=\"sk-serial\"><div class=\"sk-item\"><div class=\"sk-estimator sk-toggleable\"><input class=\"sk-toggleable__control sk-hidden--visually\" id=\"sk-estimator-id-8\" type=\"checkbox\" ><label for=\"sk-estimator-id-8\" class=\"sk-toggleable__label sk-toggleable__label-arrow\">DecisionTreeClassifier</label><div class=\"sk-toggleable__content\"><pre>DecisionTreeClassifier(random_state=42)</pre></div></div></div></div></div></div></div></div></div></div>"
      ],
      "text/plain": [
       "GridSearchCV(cv=13, estimator=DecisionTreeClassifier(random_state=42),\n",
       "             n_jobs=-1,\n",
       "             param_grid={'class_weight': [{0: 0.25, 1: 0.75}, {0: 4, 1: 9},\n",
       "                                          {0: 0.35, 1: 0.68}, {0: 0, 1: 1}],\n",
       "                         'max_depth': [2, 10, 5, 6, 15, 20],\n",
       "                         'max_features': [0.3, 0.6, 0.9, 0.1, 0.001],\n",
       "                         'min_samples_leaf': [0.04, 0.08, 0.01, 0.02, 0.1,\n",
       "                                              0.001]},\n",
       "             scoring='f1')"
      ]
     },
     "execution_count": 142,
     "metadata": {},
     "output_type": "execute_result"
    }
   ],
   "source": [
    "from sklearn.model_selection import GridSearchCV\n",
    "params_dt = {'max_depth' : [2,10,5,6,15,20],\n",
    "             'min_samples_leaf' : [.04,0.08,0.01,0.02,0.1,0.001],\n",
    "             'max_features' : [0.3,0.6,0.9,0.1,0.001],\n",
    "             'class_weight':[{0: 0.25, 1: 0.75},{0: 4, 1: 9},{0: 0.35, 1: 0.68},{0: 0, 1: 1}]\n",
    "            }\n",
    "\n",
    "grid_dt = GridSearchCV(estimator=dt,\n",
    "                       param_grid=params_dt,\n",
    "                       scoring='f1',\n",
    "                       cv=13,n_jobs=-1)\n",
    "grid_dt.fit(x_train,y_train)"
   ]
  },
  {
   "cell_type": "code",
   "execution_count": 143,
   "id": "f9d9be04-2344-4a84-80f8-caaa73493094",
   "metadata": {},
   "outputs": [
    {
     "name": "stdout",
     "output_type": "stream",
     "text": [
      "Best Hyperparameters: \n",
      " {'class_weight': {0: 0.35, 1: 0.68}, 'max_depth': 10, 'max_features': 0.9, 'min_samples_leaf': 0.001}\n"
     ]
    }
   ],
   "source": [
    "best_hyperparams = grid_dt.best_params_\n",
    "print('Best Hyperparameters: \\n', best_hyperparams)"
   ]
  },
  {
   "cell_type": "code",
   "execution_count": 144,
   "id": "89eeec5b-f945-4efd-8d9b-2574ab3c120c",
   "metadata": {},
   "outputs": [
    {
     "name": "stdout",
     "output_type": "stream",
     "text": [
      "Best_cv_score: \n",
      " 0.8486015660145624\n"
     ]
    }
   ],
   "source": [
    "best_cv_score = grid_dt.best_score_\n",
    "print('Best_cv_score: \\n',best_cv_score)"
   ]
  },
  {
   "cell_type": "code",
   "execution_count": 145,
   "id": "5186de54-ccb2-4b1f-8070-a1734d086fe0",
   "metadata": {},
   "outputs": [
    {
     "name": "stdout",
     "output_type": "stream",
     "text": [
      "test_acc :\n",
      " 0.8171091445427728 \n",
      " train_acc:\n",
      " 0.8749692648143594\n"
     ]
    }
   ],
   "source": [
    "best_model = grid_dt.best_estimator_\n",
    "test_acc = best_model.score(x_test,y_test)\n",
    "train_acc = best_model.score(x_train,y_train)\n",
    "print('test_acc :\\n', test_acc,'\\n' ,'train_acc:\\n',train_acc)"
   ]
  },
  {
   "cell_type": "code",
   "execution_count": 146,
   "id": "a4ec7a74-7076-4ae9-962a-f9bc86d0bbf3",
   "metadata": {},
   "outputs": [],
   "source": [
    "######## random forest classifier"
   ]
  },
  {
   "cell_type": "code",
   "execution_count": 147,
   "id": "1d55cff2-b59e-42c0-b34e-90ab2bdfc008",
   "metadata": {},
   "outputs": [],
   "source": [
    "from sklearn.ensemble import RandomForestClassifier\n",
    "from sklearn.model_selection import GridSearchCV\n",
    "rf= RandomForestClassifier(random_state=42)"
   ]
  },
  {
   "cell_type": "code",
   "execution_count": 148,
   "id": "c34267b2-d152-43e2-8ef5-3a0b89aa36e6",
   "metadata": {},
   "outputs": [
    {
     "data": {
      "text/html": [
       "<style>#sk-container-id-7 {color: black;background-color: white;}#sk-container-id-7 pre{padding: 0;}#sk-container-id-7 div.sk-toggleable {background-color: white;}#sk-container-id-7 label.sk-toggleable__label {cursor: pointer;display: block;width: 100%;margin-bottom: 0;padding: 0.3em;box-sizing: border-box;text-align: center;}#sk-container-id-7 label.sk-toggleable__label-arrow:before {content: \"▸\";float: left;margin-right: 0.25em;color: #696969;}#sk-container-id-7 label.sk-toggleable__label-arrow:hover:before {color: black;}#sk-container-id-7 div.sk-estimator:hover label.sk-toggleable__label-arrow:before {color: black;}#sk-container-id-7 div.sk-toggleable__content {max-height: 0;max-width: 0;overflow: hidden;text-align: left;background-color: #f0f8ff;}#sk-container-id-7 div.sk-toggleable__content pre {margin: 0.2em;color: black;border-radius: 0.25em;background-color: #f0f8ff;}#sk-container-id-7 input.sk-toggleable__control:checked~div.sk-toggleable__content {max-height: 200px;max-width: 100%;overflow: auto;}#sk-container-id-7 input.sk-toggleable__control:checked~label.sk-toggleable__label-arrow:before {content: \"▾\";}#sk-container-id-7 div.sk-estimator input.sk-toggleable__control:checked~label.sk-toggleable__label {background-color: #d4ebff;}#sk-container-id-7 div.sk-label input.sk-toggleable__control:checked~label.sk-toggleable__label {background-color: #d4ebff;}#sk-container-id-7 input.sk-hidden--visually {border: 0;clip: rect(1px 1px 1px 1px);clip: rect(1px, 1px, 1px, 1px);height: 1px;margin: -1px;overflow: hidden;padding: 0;position: absolute;width: 1px;}#sk-container-id-7 div.sk-estimator {font-family: monospace;background-color: #f0f8ff;border: 1px dotted black;border-radius: 0.25em;box-sizing: border-box;margin-bottom: 0.5em;}#sk-container-id-7 div.sk-estimator:hover {background-color: #d4ebff;}#sk-container-id-7 div.sk-parallel-item::after {content: \"\";width: 100%;border-bottom: 1px solid gray;flex-grow: 1;}#sk-container-id-7 div.sk-label:hover label.sk-toggleable__label {background-color: #d4ebff;}#sk-container-id-7 div.sk-serial::before {content: \"\";position: absolute;border-left: 1px solid gray;box-sizing: border-box;top: 0;bottom: 0;left: 50%;z-index: 0;}#sk-container-id-7 div.sk-serial {display: flex;flex-direction: column;align-items: center;background-color: white;padding-right: 0.2em;padding-left: 0.2em;position: relative;}#sk-container-id-7 div.sk-item {position: relative;z-index: 1;}#sk-container-id-7 div.sk-parallel {display: flex;align-items: stretch;justify-content: center;background-color: white;position: relative;}#sk-container-id-7 div.sk-item::before, #sk-container-id-7 div.sk-parallel-item::before {content: \"\";position: absolute;border-left: 1px solid gray;box-sizing: border-box;top: 0;bottom: 0;left: 50%;z-index: -1;}#sk-container-id-7 div.sk-parallel-item {display: flex;flex-direction: column;z-index: 1;position: relative;background-color: white;}#sk-container-id-7 div.sk-parallel-item:first-child::after {align-self: flex-end;width: 50%;}#sk-container-id-7 div.sk-parallel-item:last-child::after {align-self: flex-start;width: 50%;}#sk-container-id-7 div.sk-parallel-item:only-child::after {width: 0;}#sk-container-id-7 div.sk-dashed-wrapped {border: 1px dashed gray;margin: 0 0.4em 0.5em 0.4em;box-sizing: border-box;padding-bottom: 0.4em;background-color: white;}#sk-container-id-7 div.sk-label label {font-family: monospace;font-weight: bold;display: inline-block;line-height: 1.2em;}#sk-container-id-7 div.sk-label-container {text-align: center;}#sk-container-id-7 div.sk-container {/* jupyter's `normalize.less` sets `[hidden] { display: none; }` but bootstrap.min.css set `[hidden] { display: none !important; }` so we also need the `!important` here to be able to override the default hidden behavior on the sphinx rendered scikit-learn.org. See: https://github.com/scikit-learn/scikit-learn/issues/21755 */display: inline-block !important;position: relative;}#sk-container-id-7 div.sk-text-repr-fallback {display: none;}</style><div id=\"sk-container-id-7\" class=\"sk-top-container\"><div class=\"sk-text-repr-fallback\"><pre>GridSearchCV(cv=5, estimator=RandomForestClassifier(random_state=42), n_jobs=-1,\n",
       "             param_grid={&#x27;class_weight&#x27;: [{0: 0.25, 1: 0.75}, {0: 4, 1: 9},\n",
       "                                          {0: 0.35, 1: 0.68}, {0: 39, 1: 82}],\n",
       "                         &#x27;max_depth&#x27;: [20, 11, 25, 2, 16],\n",
       "                         &#x27;min_samples_leaf&#x27;: [0.04, 0.01, 0.009, 0.9],\n",
       "                         &#x27;n_estimators&#x27;: [100, 300, 10, 500]},\n",
       "             scoring=&#x27;f1&#x27;)</pre><b>In a Jupyter environment, please rerun this cell to show the HTML representation or trust the notebook. <br />On GitHub, the HTML representation is unable to render, please try loading this page with nbviewer.org.</b></div><div class=\"sk-container\" hidden><div class=\"sk-item sk-dashed-wrapped\"><div class=\"sk-label-container\"><div class=\"sk-label sk-toggleable\"><input class=\"sk-toggleable__control sk-hidden--visually\" id=\"sk-estimator-id-9\" type=\"checkbox\" ><label for=\"sk-estimator-id-9\" class=\"sk-toggleable__label sk-toggleable__label-arrow\">GridSearchCV</label><div class=\"sk-toggleable__content\"><pre>GridSearchCV(cv=5, estimator=RandomForestClassifier(random_state=42), n_jobs=-1,\n",
       "             param_grid={&#x27;class_weight&#x27;: [{0: 0.25, 1: 0.75}, {0: 4, 1: 9},\n",
       "                                          {0: 0.35, 1: 0.68}, {0: 39, 1: 82}],\n",
       "                         &#x27;max_depth&#x27;: [20, 11, 25, 2, 16],\n",
       "                         &#x27;min_samples_leaf&#x27;: [0.04, 0.01, 0.009, 0.9],\n",
       "                         &#x27;n_estimators&#x27;: [100, 300, 10, 500]},\n",
       "             scoring=&#x27;f1&#x27;)</pre></div></div></div><div class=\"sk-parallel\"><div class=\"sk-parallel-item\"><div class=\"sk-item\"><div class=\"sk-label-container\"><div class=\"sk-label sk-toggleable\"><input class=\"sk-toggleable__control sk-hidden--visually\" id=\"sk-estimator-id-10\" type=\"checkbox\" ><label for=\"sk-estimator-id-10\" class=\"sk-toggleable__label sk-toggleable__label-arrow\">estimator: RandomForestClassifier</label><div class=\"sk-toggleable__content\"><pre>RandomForestClassifier(random_state=42)</pre></div></div></div><div class=\"sk-serial\"><div class=\"sk-item\"><div class=\"sk-estimator sk-toggleable\"><input class=\"sk-toggleable__control sk-hidden--visually\" id=\"sk-estimator-id-11\" type=\"checkbox\" ><label for=\"sk-estimator-id-11\" class=\"sk-toggleable__label sk-toggleable__label-arrow\">RandomForestClassifier</label><div class=\"sk-toggleable__content\"><pre>RandomForestClassifier(random_state=42)</pre></div></div></div></div></div></div></div></div></div></div>"
      ],
      "text/plain": [
       "GridSearchCV(cv=5, estimator=RandomForestClassifier(random_state=42), n_jobs=-1,\n",
       "             param_grid={'class_weight': [{0: 0.25, 1: 0.75}, {0: 4, 1: 9},\n",
       "                                          {0: 0.35, 1: 0.68}, {0: 39, 1: 82}],\n",
       "                         'max_depth': [20, 11, 25, 2, 16],\n",
       "                         'min_samples_leaf': [0.04, 0.01, 0.009, 0.9],\n",
       "                         'n_estimators': [100, 300, 10, 500]},\n",
       "             scoring='f1')"
      ]
     },
     "execution_count": 148,
     "metadata": {},
     "output_type": "execute_result"
    }
   ],
   "source": [
    "\n",
    "params_dt = {'n_estimators':[100,300,10,500],\n",
    "             'max_depth' : [20,11,25,2,16],\n",
    "             'min_samples_leaf' : [.04,0.01,0.009,0.9],\n",
    "             'class_weight':[{0: 0.25, 1: 0.75},{0: 4, 1: 9},{0: 0.35, 1: 0.68},{0: 39, 1: 82}]\n",
    "            }\n",
    "\n",
    "grid_dt = GridSearchCV(estimator=rf,\n",
    "                       param_grid=params_dt,\n",
    "                       scoring='f1',\n",
    "                       cv=5,n_jobs=-1)\n",
    "grid_dt.fit(x_train,y_train)"
   ]
  },
  {
   "cell_type": "code",
   "execution_count": 149,
   "id": "5ed06c72-ebb0-48e0-a8d5-441229a786c5",
   "metadata": {},
   "outputs": [
    {
     "name": "stdout",
     "output_type": "stream",
     "text": [
      "Best Hyperparameters: \n",
      " {'class_weight': {0: 0.35, 1: 0.68}, 'max_depth': 11, 'min_samples_leaf': 0.009, 'n_estimators': 500}\n"
     ]
    }
   ],
   "source": [
    "best_hyperparams = grid_dt.best_params_\n",
    "print('Best Hyperparameters: \\n', best_hyperparams)"
   ]
  },
  {
   "cell_type": "code",
   "execution_count": 150,
   "id": "3c1ac621-4e29-4268-9598-cfc56b57ccc4",
   "metadata": {},
   "outputs": [
    {
     "name": "stdout",
     "output_type": "stream",
     "text": [
      "Best_cv_score: \n",
      " 0.833349134694493\n"
     ]
    }
   ],
   "source": [
    "best_cv_score = grid_dt.best_score_\n",
    "print('Best_cv_score: \\n',best_cv_score)"
   ]
  },
  {
   "cell_type": "code",
   "execution_count": 151,
   "id": "915e8482-74b1-4077-89c7-4dfde8065d07",
   "metadata": {},
   "outputs": [
    {
     "name": "stdout",
     "output_type": "stream",
     "text": [
      "test_acc :\n",
      " 0.8102261553588987 \n",
      " train_acc:\n",
      " 0.8182935824932382\n"
     ]
    }
   ],
   "source": [
    "best_model = grid_dt.best_estimator_\n",
    "test_acc = best_model.score(x_test,y_test)\n",
    "train_acc = best_model.score(x_train,y_train)\n",
    "print('test_acc :\\n', test_acc,'\\n' ,'train_acc:\\n',train_acc)"
   ]
  },
  {
   "cell_type": "code",
   "execution_count": null,
   "id": "6c64c07b-b66b-4bb5-ae7f-de3223247ae5",
   "metadata": {},
   "outputs": [],
   "source": []
  },
  {
   "cell_type": "markdown",
   "id": "f134e1ab-05b2-4bf8-8477-a21870de1b4d",
   "metadata": {
    "tags": []
   },
   "source": [
    "#### RFE and Stacking"
   ]
  },
  {
   "cell_type": "code",
   "execution_count": 152,
   "id": "428025a0-f719-4dcf-9463-ed28dfe91b3a",
   "metadata": {},
   "outputs": [],
   "source": [
    "X.drop(['Total Charges', 'Total Revenue'],axis=1,inplace=True)"
   ]
  },
  {
   "cell_type": "code",
   "execution_count": 153,
   "id": "7b25ee68-e805-4c70-8e33-75d8383f196a",
   "metadata": {},
   "outputs": [],
   "source": [
    "#rfe\n",
    "from sklearn.feature_selection import RFE\n",
    "estimator =dt\n"
   ]
  },
  {
   "cell_type": "code",
   "execution_count": 154,
   "id": "d37a1b0a-8739-4ee0-92b7-eaf5bf2415c9",
   "metadata": {},
   "outputs": [
    {
     "data": {
      "text/plain": [
       "array([ 1,  6,  4,  5,  1,  2,  1, 16,  8,  1, 13, 19, 36, 26, 29, 25, 18,\n",
       "       30, 14, 20, 38, 22, 27, 41, 40,  9, 39, 17, 31, 28, 33, 10, 32, 23,\n",
       "       34, 12, 35, 15, 37, 24,  3,  1, 11,  7, 21])"
      ]
     },
     "execution_count": 154,
     "metadata": {},
     "output_type": "execute_result"
    }
   ],
   "source": [
    "selector = RFE(estimator, n_features_to_select=5, step=1)\n",
    "selector = selector.fit(X, Y)\n",
    "mask = selector.ranking_\n",
    "mask"
   ]
  },
  {
   "cell_type": "code",
   "execution_count": 155,
   "id": "1c071102-8049-42ab-ac4f-5b6a5677e9d3",
   "metadata": {},
   "outputs": [],
   "source": [
    "columns = (mask==1) "
   ]
  },
  {
   "cell_type": "code",
   "execution_count": 156,
   "id": "b1944728-27ea-4c0b-9321-0f1ec4ab12a5",
   "metadata": {},
   "outputs": [
    {
     "data": {
      "text/plain": [
       "array([ True, False, False, False,  True, False,  True, False, False,\n",
       "        True, False, False, False, False, False, False, False, False,\n",
       "       False, False, False, False, False, False, False, False, False,\n",
       "       False, False, False, False, False, False, False, False, False,\n",
       "       False, False, False, False, False,  True, False, False, False])"
      ]
     },
     "execution_count": 156,
     "metadata": {},
     "output_type": "execute_result"
    }
   ],
   "source": [
    "columns"
   ]
  },
  {
   "cell_type": "code",
   "execution_count": 157,
   "id": "e9f452a8-b89e-4a9a-b89b-a54247fb9783",
   "metadata": {},
   "outputs": [
    {
     "data": {
      "text/plain": [
       "Index(['Age', 'Avg Monthly Long Distance Charges', 'Monthly Charge',\n",
       "       'Total Long Distance Charges', 'Contract_Two Year'],\n",
       "      dtype='object')"
      ]
     },
     "execution_count": 157,
     "metadata": {},
     "output_type": "execute_result"
    }
   ],
   "source": [
    "colsrequired=X.columns[columns]\n",
    "colsrequired"
   ]
  },
  {
   "cell_type": "code",
   "execution_count": null,
   "id": "6aeb18cd-7467-4423-b75a-fc49bc1dbca6",
   "metadata": {},
   "outputs": [],
   "source": []
  },
  {
   "cell_type": "code",
   "execution_count": null,
   "id": "1d2ab602-a692-4fac-a10e-324359b37b8d",
   "metadata": {},
   "outputs": [],
   "source": []
  },
  {
   "cell_type": "code",
   "execution_count": 158,
   "id": "e04ae427-0647-4ca9-bc8d-a3d67ddfe467",
   "metadata": {},
   "outputs": [],
   "source": [
    "from sklearn.ensemble import StackingClassifier\n",
    "from sklearn.pipeline import make_pipeline\n",
    "from sklearn.preprocessing import StandardScaler\n",
    "from sklearn.svm import LinearSVC"
   ]
  },
  {
   "cell_type": "code",
   "execution_count": 171,
   "id": "985b9067-865c-4c73-80ec-0b3335e0167c",
   "metadata": {},
   "outputs": [],
   "source": [
    "estimators = [('lr',LogisticRegression(C= 100.0, penalty='l2')),\n",
    "                ('rfc',RandomForestClassifier(class_weight= {0: 0.35, 1: 0.68},max_depth=11, min_samples_leaf=0.009, n_estimators=500)),\n",
    "                  ('dt',DecisionTreeClassifier(class_weight= {0: 0.35, 1: 0.68},max_depth= 10, max_features= 0.9, min_samples_leaf= 0.001))]\n",
    "             \n",
    "                        \n"
   ]
  },
  {
   "cell_type": "code",
   "execution_count": 174,
   "id": "02ad1e32-f487-494e-94fc-f4b1d6bb2829",
   "metadata": {},
   "outputs": [
    {
     "ename": "TypeError",
     "evalue": "__init__() got an unexpected keyword argument 'scoring'",
     "output_type": "error",
     "traceback": [
      "\u001b[0;31m---------------------------------------------------------------------------\u001b[0m",
      "\u001b[0;31mTypeError\u001b[0m                                 Traceback (most recent call last)",
      "Input \u001b[0;32mIn [174]\u001b[0m, in \u001b[0;36m<cell line: 1>\u001b[0;34m()\u001b[0m\n\u001b[0;32m----> 1\u001b[0m clf \u001b[38;5;241m=\u001b[39m \u001b[43mStackingClassifier\u001b[49m\u001b[43m(\u001b[49m\u001b[43mestimators\u001b[49m\u001b[38;5;241;43m=\u001b[39;49m\u001b[43mestimators\u001b[49m\u001b[43m,\u001b[49m\u001b[43m \u001b[49m\u001b[43mfinal_estimator\u001b[49m\u001b[38;5;241;43m=\u001b[39;49m\u001b[43mLogisticRegression\u001b[49m\u001b[43m(\u001b[49m\u001b[43m)\u001b[49m\u001b[43m,\u001b[49m\u001b[43mscoring\u001b[49m\u001b[38;5;241;43m=\u001b[39;49m\u001b[38;5;124;43m'\u001b[39;49m\u001b[38;5;124;43mf1\u001b[39;49m\u001b[38;5;124;43m'\u001b[39;49m\u001b[43m)\u001b[49m\n",
      "\u001b[0;31mTypeError\u001b[0m: __init__() got an unexpected keyword argument 'scoring'"
     ]
    }
   ],
   "source": [
    "clf = StackingClassifier(estimators=estimators, final_estimator=LogisticRegression(),scoring='f1')"
   ]
  },
  {
   "cell_type": "code",
   "execution_count": 173,
   "id": "dce02ef2-a3df-45b4-935e-22ff2b356c04",
   "metadata": {},
   "outputs": [
    {
     "data": {
      "text/plain": [
       "0.8421828908554573"
      ]
     },
     "execution_count": 173,
     "metadata": {},
     "output_type": "execute_result"
    }
   ],
   "source": [
    "clf.fit(x_train, y_train).score(x_test, y_test)"
   ]
  },
  {
   "cell_type": "code",
   "execution_count": 162,
   "id": "cd59ea1e-2440-43dc-a3dc-c8846494237d",
   "metadata": {},
   "outputs": [
    {
     "data": {
      "text/plain": [
       "0.8795476892822025"
      ]
     },
     "execution_count": 162,
     "metadata": {},
     "output_type": "execute_result"
    }
   ],
   "source": [
    "\n",
    "from sklearn.ensemble import RandomForestClassifier, StackingClassifier\n",
    "from sklearn.linear_model import LogisticRegression\n",
    "from sklearn.model_selection import train_test_split\n",
    "from sklearn.neighbors import KNeighborsClassifier\n",
    "\n",
    "\n",
    "# Create Base Learners\n",
    "base_learners = [\n",
    "                 ('rf_1', RandomForestClassifier(n_estimators=10, random_state=42)),\n",
    "                 ('rf_2', KNeighborsClassifier(n_neighbors=5))             \n",
    "                ]\n",
    "\n",
    "# Initialize Stacking Classifier with the Meta Learner\n",
    "clf = StackingClassifier(estimators=base_learners, final_estimator=LogisticRegression())\n",
    "\n",
    "# Extract score\n",
    "clf.fit(x_train, y_train).score(x_test, y_test)"
   ]
  },
  {
   "cell_type": "code",
   "execution_count": 163,
   "id": "e963af4c-3946-4fed-a0d3-d2c6b344cfdc",
   "metadata": {},
   "outputs": [],
   "source": [
    "clf = StackingClassifier(estimators=base_learners,\n",
    "                         final_estimator=LogisticRegression(),  \n",
    "                         cv=10)"
   ]
  },
  {
   "cell_type": "code",
   "execution_count": 164,
   "id": "2655c749-3d11-4222-90ee-4329c871f2cd",
   "metadata": {},
   "outputs": [
    {
     "data": {
      "text/plain": [
       "0.8795476892822025"
      ]
     },
     "execution_count": 164,
     "metadata": {},
     "output_type": "execute_result"
    }
   ],
   "source": [
    "clf.fit(x_train, y_train).score(x_test, y_test)"
   ]
  },
  {
   "cell_type": "code",
   "execution_count": 165,
   "id": "f5c21396-38a8-4fce-a62e-7ca34c55f167",
   "metadata": {},
   "outputs": [],
   "source": [
    "from sklearn.model_selection import LeaveOneOut\n",
    "loo = LeaveOneOut()\n",
    "clf = StackingClassifier(estimators=base_learners, final_estimator=LogisticRegression(), cv=loo)"
   ]
  },
  {
   "cell_type": "code",
   "execution_count": 167,
   "id": "ed8b1b64-3328-46c1-9809-922a94905d69",
   "metadata": {},
   "outputs": [
    {
     "ename": "KeyboardInterrupt",
     "evalue": "",
     "output_type": "error",
     "traceback": [
      "\u001b[0;31m---------------------------------------------------------------------------\u001b[0m",
      "\u001b[0;31mKeyboardInterrupt\u001b[0m                         Traceback (most recent call last)",
      "Input \u001b[0;32mIn [167]\u001b[0m, in \u001b[0;36m<cell line: 1>\u001b[0;34m()\u001b[0m\n\u001b[0;32m----> 1\u001b[0m \u001b[43mclf\u001b[49m\u001b[38;5;241;43m.\u001b[39;49m\u001b[43mfit\u001b[49m\u001b[43m(\u001b[49m\u001b[43mx_train\u001b[49m\u001b[43m,\u001b[49m\u001b[43m \u001b[49m\u001b[43my_train\u001b[49m\u001b[43m)\u001b[49m\u001b[38;5;241m.\u001b[39mscore(x_test, y_test)\n",
      "File \u001b[0;32m/usr/local/lib/python3.9/dist-packages/sklearn/ensemble/_stacking.py:584\u001b[0m, in \u001b[0;36mStackingClassifier.fit\u001b[0;34m(self, X, y, sample_weight)\u001b[0m\n\u001b[1;32m    582\u001b[0m \u001b[38;5;28mself\u001b[39m\u001b[38;5;241m.\u001b[39m_le \u001b[38;5;241m=\u001b[39m LabelEncoder()\u001b[38;5;241m.\u001b[39mfit(y)\n\u001b[1;32m    583\u001b[0m \u001b[38;5;28mself\u001b[39m\u001b[38;5;241m.\u001b[39mclasses_ \u001b[38;5;241m=\u001b[39m \u001b[38;5;28mself\u001b[39m\u001b[38;5;241m.\u001b[39m_le\u001b[38;5;241m.\u001b[39mclasses_\n\u001b[0;32m--> 584\u001b[0m \u001b[38;5;28;01mreturn\u001b[39;00m \u001b[38;5;28;43msuper\u001b[39;49m\u001b[43m(\u001b[49m\u001b[43m)\u001b[49m\u001b[38;5;241;43m.\u001b[39;49m\u001b[43mfit\u001b[49m\u001b[43m(\u001b[49m\u001b[43mX\u001b[49m\u001b[43m,\u001b[49m\u001b[43m \u001b[49m\u001b[38;5;28;43mself\u001b[39;49m\u001b[38;5;241;43m.\u001b[39;49m\u001b[43m_le\u001b[49m\u001b[38;5;241;43m.\u001b[39;49m\u001b[43mtransform\u001b[49m\u001b[43m(\u001b[49m\u001b[43my\u001b[49m\u001b[43m)\u001b[49m\u001b[43m,\u001b[49m\u001b[43m \u001b[49m\u001b[43msample_weight\u001b[49m\u001b[43m)\u001b[49m\n",
      "File \u001b[0;32m/usr/local/lib/python3.9/dist-packages/sklearn/ensemble/_stacking.py:232\u001b[0m, in \u001b[0;36m_BaseStacking.fit\u001b[0;34m(self, X, y, sample_weight)\u001b[0m\n\u001b[1;32m    227\u001b[0m         cv\u001b[38;5;241m.\u001b[39mrandom_state \u001b[38;5;241m=\u001b[39m np\u001b[38;5;241m.\u001b[39mrandom\u001b[38;5;241m.\u001b[39mRandomState()\n\u001b[1;32m    229\u001b[0m     fit_params \u001b[38;5;241m=\u001b[39m (\n\u001b[1;32m    230\u001b[0m         {\u001b[38;5;124m\"\u001b[39m\u001b[38;5;124msample_weight\u001b[39m\u001b[38;5;124m\"\u001b[39m: sample_weight} \u001b[38;5;28;01mif\u001b[39;00m sample_weight \u001b[38;5;129;01mis\u001b[39;00m \u001b[38;5;129;01mnot\u001b[39;00m \u001b[38;5;28;01mNone\u001b[39;00m \u001b[38;5;28;01melse\u001b[39;00m \u001b[38;5;28;01mNone\u001b[39;00m\n\u001b[1;32m    231\u001b[0m     )\n\u001b[0;32m--> 232\u001b[0m     predictions \u001b[38;5;241m=\u001b[39m \u001b[43mParallel\u001b[49m\u001b[43m(\u001b[49m\u001b[43mn_jobs\u001b[49m\u001b[38;5;241;43m=\u001b[39;49m\u001b[38;5;28;43mself\u001b[39;49m\u001b[38;5;241;43m.\u001b[39;49m\u001b[43mn_jobs\u001b[49m\u001b[43m)\u001b[49m\u001b[43m(\u001b[49m\n\u001b[1;32m    233\u001b[0m \u001b[43m        \u001b[49m\u001b[43mdelayed\u001b[49m\u001b[43m(\u001b[49m\u001b[43mcross_val_predict\u001b[49m\u001b[43m)\u001b[49m\u001b[43m(\u001b[49m\n\u001b[1;32m    234\u001b[0m \u001b[43m            \u001b[49m\u001b[43mclone\u001b[49m\u001b[43m(\u001b[49m\u001b[43mest\u001b[49m\u001b[43m)\u001b[49m\u001b[43m,\u001b[49m\n\u001b[1;32m    235\u001b[0m \u001b[43m            \u001b[49m\u001b[43mX\u001b[49m\u001b[43m,\u001b[49m\n\u001b[1;32m    236\u001b[0m \u001b[43m            \u001b[49m\u001b[43my\u001b[49m\u001b[43m,\u001b[49m\n\u001b[1;32m    237\u001b[0m \u001b[43m            \u001b[49m\u001b[43mcv\u001b[49m\u001b[38;5;241;43m=\u001b[39;49m\u001b[43mdeepcopy\u001b[49m\u001b[43m(\u001b[49m\u001b[43mcv\u001b[49m\u001b[43m)\u001b[49m\u001b[43m,\u001b[49m\n\u001b[1;32m    238\u001b[0m \u001b[43m            \u001b[49m\u001b[43mmethod\u001b[49m\u001b[38;5;241;43m=\u001b[39;49m\u001b[43mmeth\u001b[49m\u001b[43m,\u001b[49m\n\u001b[1;32m    239\u001b[0m \u001b[43m            \u001b[49m\u001b[43mn_jobs\u001b[49m\u001b[38;5;241;43m=\u001b[39;49m\u001b[38;5;28;43mself\u001b[39;49m\u001b[38;5;241;43m.\u001b[39;49m\u001b[43mn_jobs\u001b[49m\u001b[43m,\u001b[49m\n\u001b[1;32m    240\u001b[0m \u001b[43m            \u001b[49m\u001b[43mfit_params\u001b[49m\u001b[38;5;241;43m=\u001b[39;49m\u001b[43mfit_params\u001b[49m\u001b[43m,\u001b[49m\n\u001b[1;32m    241\u001b[0m \u001b[43m            \u001b[49m\u001b[43mverbose\u001b[49m\u001b[38;5;241;43m=\u001b[39;49m\u001b[38;5;28;43mself\u001b[39;49m\u001b[38;5;241;43m.\u001b[39;49m\u001b[43mverbose\u001b[49m\u001b[43m,\u001b[49m\n\u001b[1;32m    242\u001b[0m \u001b[43m        \u001b[49m\u001b[43m)\u001b[49m\n\u001b[1;32m    243\u001b[0m \u001b[43m        \u001b[49m\u001b[38;5;28;43;01mfor\u001b[39;49;00m\u001b[43m \u001b[49m\u001b[43mest\u001b[49m\u001b[43m,\u001b[49m\u001b[43m \u001b[49m\u001b[43mmeth\u001b[49m\u001b[43m \u001b[49m\u001b[38;5;129;43;01min\u001b[39;49;00m\u001b[43m \u001b[49m\u001b[38;5;28;43mzip\u001b[39;49m\u001b[43m(\u001b[49m\u001b[43mall_estimators\u001b[49m\u001b[43m,\u001b[49m\u001b[43m \u001b[49m\u001b[38;5;28;43mself\u001b[39;49m\u001b[38;5;241;43m.\u001b[39;49m\u001b[43mstack_method_\u001b[49m\u001b[43m)\u001b[49m\n\u001b[1;32m    244\u001b[0m \u001b[43m        \u001b[49m\u001b[38;5;28;43;01mif\u001b[39;49;00m\u001b[43m \u001b[49m\u001b[43mest\u001b[49m\u001b[43m \u001b[49m\u001b[38;5;241;43m!=\u001b[39;49m\u001b[43m \u001b[49m\u001b[38;5;124;43m\"\u001b[39;49m\u001b[38;5;124;43mdrop\u001b[39;49m\u001b[38;5;124;43m\"\u001b[39;49m\n\u001b[1;32m    245\u001b[0m \u001b[43m    \u001b[49m\u001b[43m)\u001b[49m\n\u001b[1;32m    247\u001b[0m \u001b[38;5;66;03m# Only not None or not 'drop' estimators will be used in transform.\u001b[39;00m\n\u001b[1;32m    248\u001b[0m \u001b[38;5;66;03m# Remove the None from the method as well.\u001b[39;00m\n\u001b[1;32m    249\u001b[0m \u001b[38;5;28mself\u001b[39m\u001b[38;5;241m.\u001b[39mstack_method_ \u001b[38;5;241m=\u001b[39m [\n\u001b[1;32m    250\u001b[0m     meth\n\u001b[1;32m    251\u001b[0m     \u001b[38;5;28;01mfor\u001b[39;00m (meth, est) \u001b[38;5;129;01min\u001b[39;00m \u001b[38;5;28mzip\u001b[39m(\u001b[38;5;28mself\u001b[39m\u001b[38;5;241m.\u001b[39mstack_method_, all_estimators)\n\u001b[1;32m    252\u001b[0m     \u001b[38;5;28;01mif\u001b[39;00m est \u001b[38;5;241m!=\u001b[39m \u001b[38;5;124m\"\u001b[39m\u001b[38;5;124mdrop\u001b[39m\u001b[38;5;124m\"\u001b[39m\n\u001b[1;32m    253\u001b[0m ]\n",
      "File \u001b[0;32m/usr/local/lib/python3.9/dist-packages/joblib/parallel.py:1043\u001b[0m, in \u001b[0;36mParallel.__call__\u001b[0;34m(self, iterable)\u001b[0m\n\u001b[1;32m   1034\u001b[0m \u001b[38;5;28;01mtry\u001b[39;00m:\n\u001b[1;32m   1035\u001b[0m     \u001b[38;5;66;03m# Only set self._iterating to True if at least a batch\u001b[39;00m\n\u001b[1;32m   1036\u001b[0m     \u001b[38;5;66;03m# was dispatched. In particular this covers the edge\u001b[39;00m\n\u001b[0;32m   (...)\u001b[0m\n\u001b[1;32m   1040\u001b[0m     \u001b[38;5;66;03m# was very quick and its callback already dispatched all the\u001b[39;00m\n\u001b[1;32m   1041\u001b[0m     \u001b[38;5;66;03m# remaining jobs.\u001b[39;00m\n\u001b[1;32m   1042\u001b[0m     \u001b[38;5;28mself\u001b[39m\u001b[38;5;241m.\u001b[39m_iterating \u001b[38;5;241m=\u001b[39m \u001b[38;5;28;01mFalse\u001b[39;00m\n\u001b[0;32m-> 1043\u001b[0m     \u001b[38;5;28;01mif\u001b[39;00m \u001b[38;5;28;43mself\u001b[39;49m\u001b[38;5;241;43m.\u001b[39;49m\u001b[43mdispatch_one_batch\u001b[49m\u001b[43m(\u001b[49m\u001b[43miterator\u001b[49m\u001b[43m)\u001b[49m:\n\u001b[1;32m   1044\u001b[0m         \u001b[38;5;28mself\u001b[39m\u001b[38;5;241m.\u001b[39m_iterating \u001b[38;5;241m=\u001b[39m \u001b[38;5;28mself\u001b[39m\u001b[38;5;241m.\u001b[39m_original_iterator \u001b[38;5;129;01mis\u001b[39;00m \u001b[38;5;129;01mnot\u001b[39;00m \u001b[38;5;28;01mNone\u001b[39;00m\n\u001b[1;32m   1046\u001b[0m     \u001b[38;5;28;01mwhile\u001b[39;00m \u001b[38;5;28mself\u001b[39m\u001b[38;5;241m.\u001b[39mdispatch_one_batch(iterator):\n",
      "File \u001b[0;32m/usr/local/lib/python3.9/dist-packages/joblib/parallel.py:861\u001b[0m, in \u001b[0;36mParallel.dispatch_one_batch\u001b[0;34m(self, iterator)\u001b[0m\n\u001b[1;32m    859\u001b[0m     \u001b[38;5;28;01mreturn\u001b[39;00m \u001b[38;5;28;01mFalse\u001b[39;00m\n\u001b[1;32m    860\u001b[0m \u001b[38;5;28;01melse\u001b[39;00m:\n\u001b[0;32m--> 861\u001b[0m     \u001b[38;5;28;43mself\u001b[39;49m\u001b[38;5;241;43m.\u001b[39;49m\u001b[43m_dispatch\u001b[49m\u001b[43m(\u001b[49m\u001b[43mtasks\u001b[49m\u001b[43m)\u001b[49m\n\u001b[1;32m    862\u001b[0m     \u001b[38;5;28;01mreturn\u001b[39;00m \u001b[38;5;28;01mTrue\u001b[39;00m\n",
      "File \u001b[0;32m/usr/local/lib/python3.9/dist-packages/joblib/parallel.py:779\u001b[0m, in \u001b[0;36mParallel._dispatch\u001b[0;34m(self, batch)\u001b[0m\n\u001b[1;32m    777\u001b[0m \u001b[38;5;28;01mwith\u001b[39;00m \u001b[38;5;28mself\u001b[39m\u001b[38;5;241m.\u001b[39m_lock:\n\u001b[1;32m    778\u001b[0m     job_idx \u001b[38;5;241m=\u001b[39m \u001b[38;5;28mlen\u001b[39m(\u001b[38;5;28mself\u001b[39m\u001b[38;5;241m.\u001b[39m_jobs)\n\u001b[0;32m--> 779\u001b[0m     job \u001b[38;5;241m=\u001b[39m \u001b[38;5;28;43mself\u001b[39;49m\u001b[38;5;241;43m.\u001b[39;49m\u001b[43m_backend\u001b[49m\u001b[38;5;241;43m.\u001b[39;49m\u001b[43mapply_async\u001b[49m\u001b[43m(\u001b[49m\u001b[43mbatch\u001b[49m\u001b[43m,\u001b[49m\u001b[43m \u001b[49m\u001b[43mcallback\u001b[49m\u001b[38;5;241;43m=\u001b[39;49m\u001b[43mcb\u001b[49m\u001b[43m)\u001b[49m\n\u001b[1;32m    780\u001b[0m     \u001b[38;5;66;03m# A job can complete so quickly than its callback is\u001b[39;00m\n\u001b[1;32m    781\u001b[0m     \u001b[38;5;66;03m# called before we get here, causing self._jobs to\u001b[39;00m\n\u001b[1;32m    782\u001b[0m     \u001b[38;5;66;03m# grow. To ensure correct results ordering, .insert is\u001b[39;00m\n\u001b[1;32m    783\u001b[0m     \u001b[38;5;66;03m# used (rather than .append) in the following line\u001b[39;00m\n\u001b[1;32m    784\u001b[0m     \u001b[38;5;28mself\u001b[39m\u001b[38;5;241m.\u001b[39m_jobs\u001b[38;5;241m.\u001b[39minsert(job_idx, job)\n",
      "File \u001b[0;32m/usr/local/lib/python3.9/dist-packages/joblib/_parallel_backends.py:208\u001b[0m, in \u001b[0;36mSequentialBackend.apply_async\u001b[0;34m(self, func, callback)\u001b[0m\n\u001b[1;32m    206\u001b[0m \u001b[38;5;28;01mdef\u001b[39;00m \u001b[38;5;21mapply_async\u001b[39m(\u001b[38;5;28mself\u001b[39m, func, callback\u001b[38;5;241m=\u001b[39m\u001b[38;5;28;01mNone\u001b[39;00m):\n\u001b[1;32m    207\u001b[0m     \u001b[38;5;124;03m\"\"\"Schedule a func to be run\"\"\"\u001b[39;00m\n\u001b[0;32m--> 208\u001b[0m     result \u001b[38;5;241m=\u001b[39m \u001b[43mImmediateResult\u001b[49m\u001b[43m(\u001b[49m\u001b[43mfunc\u001b[49m\u001b[43m)\u001b[49m\n\u001b[1;32m    209\u001b[0m     \u001b[38;5;28;01mif\u001b[39;00m callback:\n\u001b[1;32m    210\u001b[0m         callback(result)\n",
      "File \u001b[0;32m/usr/local/lib/python3.9/dist-packages/joblib/_parallel_backends.py:572\u001b[0m, in \u001b[0;36mImmediateResult.__init__\u001b[0;34m(self, batch)\u001b[0m\n\u001b[1;32m    569\u001b[0m \u001b[38;5;28;01mdef\u001b[39;00m \u001b[38;5;21m__init__\u001b[39m(\u001b[38;5;28mself\u001b[39m, batch):\n\u001b[1;32m    570\u001b[0m     \u001b[38;5;66;03m# Don't delay the application, to avoid keeping the input\u001b[39;00m\n\u001b[1;32m    571\u001b[0m     \u001b[38;5;66;03m# arguments in memory\u001b[39;00m\n\u001b[0;32m--> 572\u001b[0m     \u001b[38;5;28mself\u001b[39m\u001b[38;5;241m.\u001b[39mresults \u001b[38;5;241m=\u001b[39m \u001b[43mbatch\u001b[49m\u001b[43m(\u001b[49m\u001b[43m)\u001b[49m\n",
      "File \u001b[0;32m/usr/local/lib/python3.9/dist-packages/joblib/parallel.py:262\u001b[0m, in \u001b[0;36mBatchedCalls.__call__\u001b[0;34m(self)\u001b[0m\n\u001b[1;32m    258\u001b[0m \u001b[38;5;28;01mdef\u001b[39;00m \u001b[38;5;21m__call__\u001b[39m(\u001b[38;5;28mself\u001b[39m):\n\u001b[1;32m    259\u001b[0m     \u001b[38;5;66;03m# Set the default nested backend to self._backend but do not set the\u001b[39;00m\n\u001b[1;32m    260\u001b[0m     \u001b[38;5;66;03m# change the default number of processes to -1\u001b[39;00m\n\u001b[1;32m    261\u001b[0m     \u001b[38;5;28;01mwith\u001b[39;00m parallel_backend(\u001b[38;5;28mself\u001b[39m\u001b[38;5;241m.\u001b[39m_backend, n_jobs\u001b[38;5;241m=\u001b[39m\u001b[38;5;28mself\u001b[39m\u001b[38;5;241m.\u001b[39m_n_jobs):\n\u001b[0;32m--> 262\u001b[0m         \u001b[38;5;28;01mreturn\u001b[39;00m [func(\u001b[38;5;241m*\u001b[39margs, \u001b[38;5;241m*\u001b[39m\u001b[38;5;241m*\u001b[39mkwargs)\n\u001b[1;32m    263\u001b[0m                 \u001b[38;5;28;01mfor\u001b[39;00m func, args, kwargs \u001b[38;5;129;01min\u001b[39;00m \u001b[38;5;28mself\u001b[39m\u001b[38;5;241m.\u001b[39mitems]\n",
      "File \u001b[0;32m/usr/local/lib/python3.9/dist-packages/joblib/parallel.py:262\u001b[0m, in \u001b[0;36m<listcomp>\u001b[0;34m(.0)\u001b[0m\n\u001b[1;32m    258\u001b[0m \u001b[38;5;28;01mdef\u001b[39;00m \u001b[38;5;21m__call__\u001b[39m(\u001b[38;5;28mself\u001b[39m):\n\u001b[1;32m    259\u001b[0m     \u001b[38;5;66;03m# Set the default nested backend to self._backend but do not set the\u001b[39;00m\n\u001b[1;32m    260\u001b[0m     \u001b[38;5;66;03m# change the default number of processes to -1\u001b[39;00m\n\u001b[1;32m    261\u001b[0m     \u001b[38;5;28;01mwith\u001b[39;00m parallel_backend(\u001b[38;5;28mself\u001b[39m\u001b[38;5;241m.\u001b[39m_backend, n_jobs\u001b[38;5;241m=\u001b[39m\u001b[38;5;28mself\u001b[39m\u001b[38;5;241m.\u001b[39m_n_jobs):\n\u001b[0;32m--> 262\u001b[0m         \u001b[38;5;28;01mreturn\u001b[39;00m [\u001b[43mfunc\u001b[49m\u001b[43m(\u001b[49m\u001b[38;5;241;43m*\u001b[39;49m\u001b[43margs\u001b[49m\u001b[43m,\u001b[49m\u001b[43m \u001b[49m\u001b[38;5;241;43m*\u001b[39;49m\u001b[38;5;241;43m*\u001b[39;49m\u001b[43mkwargs\u001b[49m\u001b[43m)\u001b[49m\n\u001b[1;32m    263\u001b[0m                 \u001b[38;5;28;01mfor\u001b[39;00m func, args, kwargs \u001b[38;5;129;01min\u001b[39;00m \u001b[38;5;28mself\u001b[39m\u001b[38;5;241m.\u001b[39mitems]\n",
      "File \u001b[0;32m/usr/local/lib/python3.9/dist-packages/sklearn/utils/fixes.py:117\u001b[0m, in \u001b[0;36m_FuncWrapper.__call__\u001b[0;34m(self, *args, **kwargs)\u001b[0m\n\u001b[1;32m    115\u001b[0m \u001b[38;5;28;01mdef\u001b[39;00m \u001b[38;5;21m__call__\u001b[39m(\u001b[38;5;28mself\u001b[39m, \u001b[38;5;241m*\u001b[39margs, \u001b[38;5;241m*\u001b[39m\u001b[38;5;241m*\u001b[39mkwargs):\n\u001b[1;32m    116\u001b[0m     \u001b[38;5;28;01mwith\u001b[39;00m config_context(\u001b[38;5;241m*\u001b[39m\u001b[38;5;241m*\u001b[39m\u001b[38;5;28mself\u001b[39m\u001b[38;5;241m.\u001b[39mconfig):\n\u001b[0;32m--> 117\u001b[0m         \u001b[38;5;28;01mreturn\u001b[39;00m \u001b[38;5;28;43mself\u001b[39;49m\u001b[38;5;241;43m.\u001b[39;49m\u001b[43mfunction\u001b[49m\u001b[43m(\u001b[49m\u001b[38;5;241;43m*\u001b[39;49m\u001b[43margs\u001b[49m\u001b[43m,\u001b[49m\u001b[43m \u001b[49m\u001b[38;5;241;43m*\u001b[39;49m\u001b[38;5;241;43m*\u001b[39;49m\u001b[43mkwargs\u001b[49m\u001b[43m)\u001b[49m\n",
      "File \u001b[0;32m/usr/local/lib/python3.9/dist-packages/sklearn/model_selection/_validation.py:968\u001b[0m, in \u001b[0;36mcross_val_predict\u001b[0;34m(estimator, X, y, groups, cv, n_jobs, verbose, fit_params, pre_dispatch, method)\u001b[0m\n\u001b[1;32m    965\u001b[0m \u001b[38;5;66;03m# We clone the estimator to make sure that all the folds are\u001b[39;00m\n\u001b[1;32m    966\u001b[0m \u001b[38;5;66;03m# independent, and that it is pickle-able.\u001b[39;00m\n\u001b[1;32m    967\u001b[0m parallel \u001b[38;5;241m=\u001b[39m Parallel(n_jobs\u001b[38;5;241m=\u001b[39mn_jobs, verbose\u001b[38;5;241m=\u001b[39mverbose, pre_dispatch\u001b[38;5;241m=\u001b[39mpre_dispatch)\n\u001b[0;32m--> 968\u001b[0m predictions \u001b[38;5;241m=\u001b[39m \u001b[43mparallel\u001b[49m\u001b[43m(\u001b[49m\n\u001b[1;32m    969\u001b[0m \u001b[43m    \u001b[49m\u001b[43mdelayed\u001b[49m\u001b[43m(\u001b[49m\u001b[43m_fit_and_predict\u001b[49m\u001b[43m)\u001b[49m\u001b[43m(\u001b[49m\n\u001b[1;32m    970\u001b[0m \u001b[43m        \u001b[49m\u001b[43mclone\u001b[49m\u001b[43m(\u001b[49m\u001b[43mestimator\u001b[49m\u001b[43m)\u001b[49m\u001b[43m,\u001b[49m\u001b[43m \u001b[49m\u001b[43mX\u001b[49m\u001b[43m,\u001b[49m\u001b[43m \u001b[49m\u001b[43my\u001b[49m\u001b[43m,\u001b[49m\u001b[43m \u001b[49m\u001b[43mtrain\u001b[49m\u001b[43m,\u001b[49m\u001b[43m \u001b[49m\u001b[43mtest\u001b[49m\u001b[43m,\u001b[49m\u001b[43m \u001b[49m\u001b[43mverbose\u001b[49m\u001b[43m,\u001b[49m\u001b[43m \u001b[49m\u001b[43mfit_params\u001b[49m\u001b[43m,\u001b[49m\u001b[43m \u001b[49m\u001b[43mmethod\u001b[49m\n\u001b[1;32m    971\u001b[0m \u001b[43m    \u001b[49m\u001b[43m)\u001b[49m\n\u001b[1;32m    972\u001b[0m \u001b[43m    \u001b[49m\u001b[38;5;28;43;01mfor\u001b[39;49;00m\u001b[43m \u001b[49m\u001b[43mtrain\u001b[49m\u001b[43m,\u001b[49m\u001b[43m \u001b[49m\u001b[43mtest\u001b[49m\u001b[43m \u001b[49m\u001b[38;5;129;43;01min\u001b[39;49;00m\u001b[43m \u001b[49m\u001b[43msplits\u001b[49m\n\u001b[1;32m    973\u001b[0m \u001b[43m\u001b[49m\u001b[43m)\u001b[49m\n\u001b[1;32m    975\u001b[0m inv_test_indices \u001b[38;5;241m=\u001b[39m np\u001b[38;5;241m.\u001b[39mempty(\u001b[38;5;28mlen\u001b[39m(test_indices), dtype\u001b[38;5;241m=\u001b[39m\u001b[38;5;28mint\u001b[39m)\n\u001b[1;32m    976\u001b[0m inv_test_indices[test_indices] \u001b[38;5;241m=\u001b[39m np\u001b[38;5;241m.\u001b[39marange(\u001b[38;5;28mlen\u001b[39m(test_indices))\n",
      "File \u001b[0;32m/usr/local/lib/python3.9/dist-packages/joblib/parallel.py:1046\u001b[0m, in \u001b[0;36mParallel.__call__\u001b[0;34m(self, iterable)\u001b[0m\n\u001b[1;32m   1043\u001b[0m \u001b[38;5;28;01mif\u001b[39;00m \u001b[38;5;28mself\u001b[39m\u001b[38;5;241m.\u001b[39mdispatch_one_batch(iterator):\n\u001b[1;32m   1044\u001b[0m     \u001b[38;5;28mself\u001b[39m\u001b[38;5;241m.\u001b[39m_iterating \u001b[38;5;241m=\u001b[39m \u001b[38;5;28mself\u001b[39m\u001b[38;5;241m.\u001b[39m_original_iterator \u001b[38;5;129;01mis\u001b[39;00m \u001b[38;5;129;01mnot\u001b[39;00m \u001b[38;5;28;01mNone\u001b[39;00m\n\u001b[0;32m-> 1046\u001b[0m \u001b[38;5;28;01mwhile\u001b[39;00m \u001b[38;5;28;43mself\u001b[39;49m\u001b[38;5;241;43m.\u001b[39;49m\u001b[43mdispatch_one_batch\u001b[49m\u001b[43m(\u001b[49m\u001b[43miterator\u001b[49m\u001b[43m)\u001b[49m:\n\u001b[1;32m   1047\u001b[0m     \u001b[38;5;28;01mpass\u001b[39;00m\n\u001b[1;32m   1049\u001b[0m \u001b[38;5;28;01mif\u001b[39;00m pre_dispatch \u001b[38;5;241m==\u001b[39m \u001b[38;5;124m\"\u001b[39m\u001b[38;5;124mall\u001b[39m\u001b[38;5;124m\"\u001b[39m \u001b[38;5;129;01mor\u001b[39;00m n_jobs \u001b[38;5;241m==\u001b[39m \u001b[38;5;241m1\u001b[39m:\n\u001b[1;32m   1050\u001b[0m     \u001b[38;5;66;03m# The iterable was consumed all at once by the above for loop.\u001b[39;00m\n\u001b[1;32m   1051\u001b[0m     \u001b[38;5;66;03m# No need to wait for async callbacks to trigger to\u001b[39;00m\n\u001b[1;32m   1052\u001b[0m     \u001b[38;5;66;03m# consumption.\u001b[39;00m\n",
      "File \u001b[0;32m/usr/local/lib/python3.9/dist-packages/joblib/parallel.py:861\u001b[0m, in \u001b[0;36mParallel.dispatch_one_batch\u001b[0;34m(self, iterator)\u001b[0m\n\u001b[1;32m    859\u001b[0m     \u001b[38;5;28;01mreturn\u001b[39;00m \u001b[38;5;28;01mFalse\u001b[39;00m\n\u001b[1;32m    860\u001b[0m \u001b[38;5;28;01melse\u001b[39;00m:\n\u001b[0;32m--> 861\u001b[0m     \u001b[38;5;28;43mself\u001b[39;49m\u001b[38;5;241;43m.\u001b[39;49m\u001b[43m_dispatch\u001b[49m\u001b[43m(\u001b[49m\u001b[43mtasks\u001b[49m\u001b[43m)\u001b[49m\n\u001b[1;32m    862\u001b[0m     \u001b[38;5;28;01mreturn\u001b[39;00m \u001b[38;5;28;01mTrue\u001b[39;00m\n",
      "File \u001b[0;32m/usr/local/lib/python3.9/dist-packages/joblib/parallel.py:779\u001b[0m, in \u001b[0;36mParallel._dispatch\u001b[0;34m(self, batch)\u001b[0m\n\u001b[1;32m    777\u001b[0m \u001b[38;5;28;01mwith\u001b[39;00m \u001b[38;5;28mself\u001b[39m\u001b[38;5;241m.\u001b[39m_lock:\n\u001b[1;32m    778\u001b[0m     job_idx \u001b[38;5;241m=\u001b[39m \u001b[38;5;28mlen\u001b[39m(\u001b[38;5;28mself\u001b[39m\u001b[38;5;241m.\u001b[39m_jobs)\n\u001b[0;32m--> 779\u001b[0m     job \u001b[38;5;241m=\u001b[39m \u001b[38;5;28;43mself\u001b[39;49m\u001b[38;5;241;43m.\u001b[39;49m\u001b[43m_backend\u001b[49m\u001b[38;5;241;43m.\u001b[39;49m\u001b[43mapply_async\u001b[49m\u001b[43m(\u001b[49m\u001b[43mbatch\u001b[49m\u001b[43m,\u001b[49m\u001b[43m \u001b[49m\u001b[43mcallback\u001b[49m\u001b[38;5;241;43m=\u001b[39;49m\u001b[43mcb\u001b[49m\u001b[43m)\u001b[49m\n\u001b[1;32m    780\u001b[0m     \u001b[38;5;66;03m# A job can complete so quickly than its callback is\u001b[39;00m\n\u001b[1;32m    781\u001b[0m     \u001b[38;5;66;03m# called before we get here, causing self._jobs to\u001b[39;00m\n\u001b[1;32m    782\u001b[0m     \u001b[38;5;66;03m# grow. To ensure correct results ordering, .insert is\u001b[39;00m\n\u001b[1;32m    783\u001b[0m     \u001b[38;5;66;03m# used (rather than .append) in the following line\u001b[39;00m\n\u001b[1;32m    784\u001b[0m     \u001b[38;5;28mself\u001b[39m\u001b[38;5;241m.\u001b[39m_jobs\u001b[38;5;241m.\u001b[39minsert(job_idx, job)\n",
      "File \u001b[0;32m/usr/local/lib/python3.9/dist-packages/joblib/_parallel_backends.py:208\u001b[0m, in \u001b[0;36mSequentialBackend.apply_async\u001b[0;34m(self, func, callback)\u001b[0m\n\u001b[1;32m    206\u001b[0m \u001b[38;5;28;01mdef\u001b[39;00m \u001b[38;5;21mapply_async\u001b[39m(\u001b[38;5;28mself\u001b[39m, func, callback\u001b[38;5;241m=\u001b[39m\u001b[38;5;28;01mNone\u001b[39;00m):\n\u001b[1;32m    207\u001b[0m     \u001b[38;5;124;03m\"\"\"Schedule a func to be run\"\"\"\u001b[39;00m\n\u001b[0;32m--> 208\u001b[0m     result \u001b[38;5;241m=\u001b[39m \u001b[43mImmediateResult\u001b[49m\u001b[43m(\u001b[49m\u001b[43mfunc\u001b[49m\u001b[43m)\u001b[49m\n\u001b[1;32m    209\u001b[0m     \u001b[38;5;28;01mif\u001b[39;00m callback:\n\u001b[1;32m    210\u001b[0m         callback(result)\n",
      "File \u001b[0;32m/usr/local/lib/python3.9/dist-packages/joblib/_parallel_backends.py:572\u001b[0m, in \u001b[0;36mImmediateResult.__init__\u001b[0;34m(self, batch)\u001b[0m\n\u001b[1;32m    569\u001b[0m \u001b[38;5;28;01mdef\u001b[39;00m \u001b[38;5;21m__init__\u001b[39m(\u001b[38;5;28mself\u001b[39m, batch):\n\u001b[1;32m    570\u001b[0m     \u001b[38;5;66;03m# Don't delay the application, to avoid keeping the input\u001b[39;00m\n\u001b[1;32m    571\u001b[0m     \u001b[38;5;66;03m# arguments in memory\u001b[39;00m\n\u001b[0;32m--> 572\u001b[0m     \u001b[38;5;28mself\u001b[39m\u001b[38;5;241m.\u001b[39mresults \u001b[38;5;241m=\u001b[39m \u001b[43mbatch\u001b[49m\u001b[43m(\u001b[49m\u001b[43m)\u001b[49m\n",
      "File \u001b[0;32m/usr/local/lib/python3.9/dist-packages/joblib/parallel.py:262\u001b[0m, in \u001b[0;36mBatchedCalls.__call__\u001b[0;34m(self)\u001b[0m\n\u001b[1;32m    258\u001b[0m \u001b[38;5;28;01mdef\u001b[39;00m \u001b[38;5;21m__call__\u001b[39m(\u001b[38;5;28mself\u001b[39m):\n\u001b[1;32m    259\u001b[0m     \u001b[38;5;66;03m# Set the default nested backend to self._backend but do not set the\u001b[39;00m\n\u001b[1;32m    260\u001b[0m     \u001b[38;5;66;03m# change the default number of processes to -1\u001b[39;00m\n\u001b[1;32m    261\u001b[0m     \u001b[38;5;28;01mwith\u001b[39;00m parallel_backend(\u001b[38;5;28mself\u001b[39m\u001b[38;5;241m.\u001b[39m_backend, n_jobs\u001b[38;5;241m=\u001b[39m\u001b[38;5;28mself\u001b[39m\u001b[38;5;241m.\u001b[39m_n_jobs):\n\u001b[0;32m--> 262\u001b[0m         \u001b[38;5;28;01mreturn\u001b[39;00m [func(\u001b[38;5;241m*\u001b[39margs, \u001b[38;5;241m*\u001b[39m\u001b[38;5;241m*\u001b[39mkwargs)\n\u001b[1;32m    263\u001b[0m                 \u001b[38;5;28;01mfor\u001b[39;00m func, args, kwargs \u001b[38;5;129;01min\u001b[39;00m \u001b[38;5;28mself\u001b[39m\u001b[38;5;241m.\u001b[39mitems]\n",
      "File \u001b[0;32m/usr/local/lib/python3.9/dist-packages/joblib/parallel.py:262\u001b[0m, in \u001b[0;36m<listcomp>\u001b[0;34m(.0)\u001b[0m\n\u001b[1;32m    258\u001b[0m \u001b[38;5;28;01mdef\u001b[39;00m \u001b[38;5;21m__call__\u001b[39m(\u001b[38;5;28mself\u001b[39m):\n\u001b[1;32m    259\u001b[0m     \u001b[38;5;66;03m# Set the default nested backend to self._backend but do not set the\u001b[39;00m\n\u001b[1;32m    260\u001b[0m     \u001b[38;5;66;03m# change the default number of processes to -1\u001b[39;00m\n\u001b[1;32m    261\u001b[0m     \u001b[38;5;28;01mwith\u001b[39;00m parallel_backend(\u001b[38;5;28mself\u001b[39m\u001b[38;5;241m.\u001b[39m_backend, n_jobs\u001b[38;5;241m=\u001b[39m\u001b[38;5;28mself\u001b[39m\u001b[38;5;241m.\u001b[39m_n_jobs):\n\u001b[0;32m--> 262\u001b[0m         \u001b[38;5;28;01mreturn\u001b[39;00m [\u001b[43mfunc\u001b[49m\u001b[43m(\u001b[49m\u001b[38;5;241;43m*\u001b[39;49m\u001b[43margs\u001b[49m\u001b[43m,\u001b[49m\u001b[43m \u001b[49m\u001b[38;5;241;43m*\u001b[39;49m\u001b[38;5;241;43m*\u001b[39;49m\u001b[43mkwargs\u001b[49m\u001b[43m)\u001b[49m\n\u001b[1;32m    263\u001b[0m                 \u001b[38;5;28;01mfor\u001b[39;00m func, args, kwargs \u001b[38;5;129;01min\u001b[39;00m \u001b[38;5;28mself\u001b[39m\u001b[38;5;241m.\u001b[39mitems]\n",
      "File \u001b[0;32m/usr/local/lib/python3.9/dist-packages/sklearn/utils/fixes.py:117\u001b[0m, in \u001b[0;36m_FuncWrapper.__call__\u001b[0;34m(self, *args, **kwargs)\u001b[0m\n\u001b[1;32m    115\u001b[0m \u001b[38;5;28;01mdef\u001b[39;00m \u001b[38;5;21m__call__\u001b[39m(\u001b[38;5;28mself\u001b[39m, \u001b[38;5;241m*\u001b[39margs, \u001b[38;5;241m*\u001b[39m\u001b[38;5;241m*\u001b[39mkwargs):\n\u001b[1;32m    116\u001b[0m     \u001b[38;5;28;01mwith\u001b[39;00m config_context(\u001b[38;5;241m*\u001b[39m\u001b[38;5;241m*\u001b[39m\u001b[38;5;28mself\u001b[39m\u001b[38;5;241m.\u001b[39mconfig):\n\u001b[0;32m--> 117\u001b[0m         \u001b[38;5;28;01mreturn\u001b[39;00m \u001b[38;5;28;43mself\u001b[39;49m\u001b[38;5;241;43m.\u001b[39;49m\u001b[43mfunction\u001b[49m\u001b[43m(\u001b[49m\u001b[38;5;241;43m*\u001b[39;49m\u001b[43margs\u001b[49m\u001b[43m,\u001b[49m\u001b[43m \u001b[49m\u001b[38;5;241;43m*\u001b[39;49m\u001b[38;5;241;43m*\u001b[39;49m\u001b[43mkwargs\u001b[49m\u001b[43m)\u001b[49m\n",
      "File \u001b[0;32m/usr/local/lib/python3.9/dist-packages/sklearn/model_selection/_validation.py:1050\u001b[0m, in \u001b[0;36m_fit_and_predict\u001b[0;34m(estimator, X, y, train, test, verbose, fit_params, method)\u001b[0m\n\u001b[1;32m   1048\u001b[0m     estimator\u001b[38;5;241m.\u001b[39mfit(X_train, \u001b[38;5;241m*\u001b[39m\u001b[38;5;241m*\u001b[39mfit_params)\n\u001b[1;32m   1049\u001b[0m \u001b[38;5;28;01melse\u001b[39;00m:\n\u001b[0;32m-> 1050\u001b[0m     \u001b[43mestimator\u001b[49m\u001b[38;5;241;43m.\u001b[39;49m\u001b[43mfit\u001b[49m\u001b[43m(\u001b[49m\u001b[43mX_train\u001b[49m\u001b[43m,\u001b[49m\u001b[43m \u001b[49m\u001b[43my_train\u001b[49m\u001b[43m,\u001b[49m\u001b[43m \u001b[49m\u001b[38;5;241;43m*\u001b[39;49m\u001b[38;5;241;43m*\u001b[39;49m\u001b[43mfit_params\u001b[49m\u001b[43m)\u001b[49m\n\u001b[1;32m   1051\u001b[0m func \u001b[38;5;241m=\u001b[39m \u001b[38;5;28mgetattr\u001b[39m(estimator, method)\n\u001b[1;32m   1052\u001b[0m predictions \u001b[38;5;241m=\u001b[39m func(X_test)\n",
      "File \u001b[0;32m/usr/local/lib/python3.9/dist-packages/sklearn/ensemble/_forest.py:476\u001b[0m, in \u001b[0;36mBaseForest.fit\u001b[0;34m(self, X, y, sample_weight)\u001b[0m\n\u001b[1;32m    465\u001b[0m trees \u001b[38;5;241m=\u001b[39m [\n\u001b[1;32m    466\u001b[0m     \u001b[38;5;28mself\u001b[39m\u001b[38;5;241m.\u001b[39m_make_estimator(append\u001b[38;5;241m=\u001b[39m\u001b[38;5;28;01mFalse\u001b[39;00m, random_state\u001b[38;5;241m=\u001b[39mrandom_state)\n\u001b[1;32m    467\u001b[0m     \u001b[38;5;28;01mfor\u001b[39;00m i \u001b[38;5;129;01min\u001b[39;00m \u001b[38;5;28mrange\u001b[39m(n_more_estimators)\n\u001b[1;32m    468\u001b[0m ]\n\u001b[1;32m    470\u001b[0m \u001b[38;5;66;03m# Parallel loop: we prefer the threading backend as the Cython code\u001b[39;00m\n\u001b[1;32m    471\u001b[0m \u001b[38;5;66;03m# for fitting the trees is internally releasing the Python GIL\u001b[39;00m\n\u001b[1;32m    472\u001b[0m \u001b[38;5;66;03m# making threading more efficient than multiprocessing in\u001b[39;00m\n\u001b[1;32m    473\u001b[0m \u001b[38;5;66;03m# that case. However, for joblib 0.12+ we respect any\u001b[39;00m\n\u001b[1;32m    474\u001b[0m \u001b[38;5;66;03m# parallel_backend contexts set at a higher level,\u001b[39;00m\n\u001b[1;32m    475\u001b[0m \u001b[38;5;66;03m# since correctness does not rely on using threads.\u001b[39;00m\n\u001b[0;32m--> 476\u001b[0m trees \u001b[38;5;241m=\u001b[39m \u001b[43mParallel\u001b[49m\u001b[43m(\u001b[49m\n\u001b[1;32m    477\u001b[0m \u001b[43m    \u001b[49m\u001b[43mn_jobs\u001b[49m\u001b[38;5;241;43m=\u001b[39;49m\u001b[38;5;28;43mself\u001b[39;49m\u001b[38;5;241;43m.\u001b[39;49m\u001b[43mn_jobs\u001b[49m\u001b[43m,\u001b[49m\n\u001b[1;32m    478\u001b[0m \u001b[43m    \u001b[49m\u001b[43mverbose\u001b[49m\u001b[38;5;241;43m=\u001b[39;49m\u001b[38;5;28;43mself\u001b[39;49m\u001b[38;5;241;43m.\u001b[39;49m\u001b[43mverbose\u001b[49m\u001b[43m,\u001b[49m\n\u001b[1;32m    479\u001b[0m \u001b[43m    \u001b[49m\u001b[43mprefer\u001b[49m\u001b[38;5;241;43m=\u001b[39;49m\u001b[38;5;124;43m\"\u001b[39;49m\u001b[38;5;124;43mthreads\u001b[39;49m\u001b[38;5;124;43m\"\u001b[39;49m\u001b[43m,\u001b[49m\n\u001b[1;32m    480\u001b[0m \u001b[43m\u001b[49m\u001b[43m)\u001b[49m\u001b[43m(\u001b[49m\n\u001b[1;32m    481\u001b[0m \u001b[43m    \u001b[49m\u001b[43mdelayed\u001b[49m\u001b[43m(\u001b[49m\u001b[43m_parallel_build_trees\u001b[49m\u001b[43m)\u001b[49m\u001b[43m(\u001b[49m\n\u001b[1;32m    482\u001b[0m \u001b[43m        \u001b[49m\u001b[43mt\u001b[49m\u001b[43m,\u001b[49m\n\u001b[1;32m    483\u001b[0m \u001b[43m        \u001b[49m\u001b[38;5;28;43mself\u001b[39;49m\u001b[38;5;241;43m.\u001b[39;49m\u001b[43mbootstrap\u001b[49m\u001b[43m,\u001b[49m\n\u001b[1;32m    484\u001b[0m \u001b[43m        \u001b[49m\u001b[43mX\u001b[49m\u001b[43m,\u001b[49m\n\u001b[1;32m    485\u001b[0m \u001b[43m        \u001b[49m\u001b[43my\u001b[49m\u001b[43m,\u001b[49m\n\u001b[1;32m    486\u001b[0m \u001b[43m        \u001b[49m\u001b[43msample_weight\u001b[49m\u001b[43m,\u001b[49m\n\u001b[1;32m    487\u001b[0m \u001b[43m        \u001b[49m\u001b[43mi\u001b[49m\u001b[43m,\u001b[49m\n\u001b[1;32m    488\u001b[0m \u001b[43m        \u001b[49m\u001b[38;5;28;43mlen\u001b[39;49m\u001b[43m(\u001b[49m\u001b[43mtrees\u001b[49m\u001b[43m)\u001b[49m\u001b[43m,\u001b[49m\n\u001b[1;32m    489\u001b[0m \u001b[43m        \u001b[49m\u001b[43mverbose\u001b[49m\u001b[38;5;241;43m=\u001b[39;49m\u001b[38;5;28;43mself\u001b[39;49m\u001b[38;5;241;43m.\u001b[39;49m\u001b[43mverbose\u001b[49m\u001b[43m,\u001b[49m\n\u001b[1;32m    490\u001b[0m \u001b[43m        \u001b[49m\u001b[43mclass_weight\u001b[49m\u001b[38;5;241;43m=\u001b[39;49m\u001b[38;5;28;43mself\u001b[39;49m\u001b[38;5;241;43m.\u001b[39;49m\u001b[43mclass_weight\u001b[49m\u001b[43m,\u001b[49m\n\u001b[1;32m    491\u001b[0m \u001b[43m        \u001b[49m\u001b[43mn_samples_bootstrap\u001b[49m\u001b[38;5;241;43m=\u001b[39;49m\u001b[43mn_samples_bootstrap\u001b[49m\u001b[43m,\u001b[49m\n\u001b[1;32m    492\u001b[0m \u001b[43m    \u001b[49m\u001b[43m)\u001b[49m\n\u001b[1;32m    493\u001b[0m \u001b[43m    \u001b[49m\u001b[38;5;28;43;01mfor\u001b[39;49;00m\u001b[43m \u001b[49m\u001b[43mi\u001b[49m\u001b[43m,\u001b[49m\u001b[43m \u001b[49m\u001b[43mt\u001b[49m\u001b[43m \u001b[49m\u001b[38;5;129;43;01min\u001b[39;49;00m\u001b[43m \u001b[49m\u001b[38;5;28;43menumerate\u001b[39;49m\u001b[43m(\u001b[49m\u001b[43mtrees\u001b[49m\u001b[43m)\u001b[49m\n\u001b[1;32m    494\u001b[0m \u001b[43m\u001b[49m\u001b[43m)\u001b[49m\n\u001b[1;32m    496\u001b[0m \u001b[38;5;66;03m# Collect newly grown trees\u001b[39;00m\n\u001b[1;32m    497\u001b[0m \u001b[38;5;28mself\u001b[39m\u001b[38;5;241m.\u001b[39mestimators_\u001b[38;5;241m.\u001b[39mextend(trees)\n",
      "File \u001b[0;32m/usr/local/lib/python3.9/dist-packages/joblib/parallel.py:1046\u001b[0m, in \u001b[0;36mParallel.__call__\u001b[0;34m(self, iterable)\u001b[0m\n\u001b[1;32m   1043\u001b[0m \u001b[38;5;28;01mif\u001b[39;00m \u001b[38;5;28mself\u001b[39m\u001b[38;5;241m.\u001b[39mdispatch_one_batch(iterator):\n\u001b[1;32m   1044\u001b[0m     \u001b[38;5;28mself\u001b[39m\u001b[38;5;241m.\u001b[39m_iterating \u001b[38;5;241m=\u001b[39m \u001b[38;5;28mself\u001b[39m\u001b[38;5;241m.\u001b[39m_original_iterator \u001b[38;5;129;01mis\u001b[39;00m \u001b[38;5;129;01mnot\u001b[39;00m \u001b[38;5;28;01mNone\u001b[39;00m\n\u001b[0;32m-> 1046\u001b[0m \u001b[38;5;28;01mwhile\u001b[39;00m \u001b[38;5;28;43mself\u001b[39;49m\u001b[38;5;241;43m.\u001b[39;49m\u001b[43mdispatch_one_batch\u001b[49m\u001b[43m(\u001b[49m\u001b[43miterator\u001b[49m\u001b[43m)\u001b[49m:\n\u001b[1;32m   1047\u001b[0m     \u001b[38;5;28;01mpass\u001b[39;00m\n\u001b[1;32m   1049\u001b[0m \u001b[38;5;28;01mif\u001b[39;00m pre_dispatch \u001b[38;5;241m==\u001b[39m \u001b[38;5;124m\"\u001b[39m\u001b[38;5;124mall\u001b[39m\u001b[38;5;124m\"\u001b[39m \u001b[38;5;129;01mor\u001b[39;00m n_jobs \u001b[38;5;241m==\u001b[39m \u001b[38;5;241m1\u001b[39m:\n\u001b[1;32m   1050\u001b[0m     \u001b[38;5;66;03m# The iterable was consumed all at once by the above for loop.\u001b[39;00m\n\u001b[1;32m   1051\u001b[0m     \u001b[38;5;66;03m# No need to wait for async callbacks to trigger to\u001b[39;00m\n\u001b[1;32m   1052\u001b[0m     \u001b[38;5;66;03m# consumption.\u001b[39;00m\n",
      "File \u001b[0;32m/usr/local/lib/python3.9/dist-packages/joblib/parallel.py:861\u001b[0m, in \u001b[0;36mParallel.dispatch_one_batch\u001b[0;34m(self, iterator)\u001b[0m\n\u001b[1;32m    859\u001b[0m     \u001b[38;5;28;01mreturn\u001b[39;00m \u001b[38;5;28;01mFalse\u001b[39;00m\n\u001b[1;32m    860\u001b[0m \u001b[38;5;28;01melse\u001b[39;00m:\n\u001b[0;32m--> 861\u001b[0m     \u001b[38;5;28;43mself\u001b[39;49m\u001b[38;5;241;43m.\u001b[39;49m\u001b[43m_dispatch\u001b[49m\u001b[43m(\u001b[49m\u001b[43mtasks\u001b[49m\u001b[43m)\u001b[49m\n\u001b[1;32m    862\u001b[0m     \u001b[38;5;28;01mreturn\u001b[39;00m \u001b[38;5;28;01mTrue\u001b[39;00m\n",
      "File \u001b[0;32m/usr/local/lib/python3.9/dist-packages/joblib/parallel.py:779\u001b[0m, in \u001b[0;36mParallel._dispatch\u001b[0;34m(self, batch)\u001b[0m\n\u001b[1;32m    777\u001b[0m \u001b[38;5;28;01mwith\u001b[39;00m \u001b[38;5;28mself\u001b[39m\u001b[38;5;241m.\u001b[39m_lock:\n\u001b[1;32m    778\u001b[0m     job_idx \u001b[38;5;241m=\u001b[39m \u001b[38;5;28mlen\u001b[39m(\u001b[38;5;28mself\u001b[39m\u001b[38;5;241m.\u001b[39m_jobs)\n\u001b[0;32m--> 779\u001b[0m     job \u001b[38;5;241m=\u001b[39m \u001b[38;5;28;43mself\u001b[39;49m\u001b[38;5;241;43m.\u001b[39;49m\u001b[43m_backend\u001b[49m\u001b[38;5;241;43m.\u001b[39;49m\u001b[43mapply_async\u001b[49m\u001b[43m(\u001b[49m\u001b[43mbatch\u001b[49m\u001b[43m,\u001b[49m\u001b[43m \u001b[49m\u001b[43mcallback\u001b[49m\u001b[38;5;241;43m=\u001b[39;49m\u001b[43mcb\u001b[49m\u001b[43m)\u001b[49m\n\u001b[1;32m    780\u001b[0m     \u001b[38;5;66;03m# A job can complete so quickly than its callback is\u001b[39;00m\n\u001b[1;32m    781\u001b[0m     \u001b[38;5;66;03m# called before we get here, causing self._jobs to\u001b[39;00m\n\u001b[1;32m    782\u001b[0m     \u001b[38;5;66;03m# grow. To ensure correct results ordering, .insert is\u001b[39;00m\n\u001b[1;32m    783\u001b[0m     \u001b[38;5;66;03m# used (rather than .append) in the following line\u001b[39;00m\n\u001b[1;32m    784\u001b[0m     \u001b[38;5;28mself\u001b[39m\u001b[38;5;241m.\u001b[39m_jobs\u001b[38;5;241m.\u001b[39minsert(job_idx, job)\n",
      "File \u001b[0;32m/usr/local/lib/python3.9/dist-packages/joblib/_parallel_backends.py:208\u001b[0m, in \u001b[0;36mSequentialBackend.apply_async\u001b[0;34m(self, func, callback)\u001b[0m\n\u001b[1;32m    206\u001b[0m \u001b[38;5;28;01mdef\u001b[39;00m \u001b[38;5;21mapply_async\u001b[39m(\u001b[38;5;28mself\u001b[39m, func, callback\u001b[38;5;241m=\u001b[39m\u001b[38;5;28;01mNone\u001b[39;00m):\n\u001b[1;32m    207\u001b[0m     \u001b[38;5;124;03m\"\"\"Schedule a func to be run\"\"\"\u001b[39;00m\n\u001b[0;32m--> 208\u001b[0m     result \u001b[38;5;241m=\u001b[39m \u001b[43mImmediateResult\u001b[49m\u001b[43m(\u001b[49m\u001b[43mfunc\u001b[49m\u001b[43m)\u001b[49m\n\u001b[1;32m    209\u001b[0m     \u001b[38;5;28;01mif\u001b[39;00m callback:\n\u001b[1;32m    210\u001b[0m         callback(result)\n",
      "File \u001b[0;32m/usr/local/lib/python3.9/dist-packages/joblib/_parallel_backends.py:572\u001b[0m, in \u001b[0;36mImmediateResult.__init__\u001b[0;34m(self, batch)\u001b[0m\n\u001b[1;32m    569\u001b[0m \u001b[38;5;28;01mdef\u001b[39;00m \u001b[38;5;21m__init__\u001b[39m(\u001b[38;5;28mself\u001b[39m, batch):\n\u001b[1;32m    570\u001b[0m     \u001b[38;5;66;03m# Don't delay the application, to avoid keeping the input\u001b[39;00m\n\u001b[1;32m    571\u001b[0m     \u001b[38;5;66;03m# arguments in memory\u001b[39;00m\n\u001b[0;32m--> 572\u001b[0m     \u001b[38;5;28mself\u001b[39m\u001b[38;5;241m.\u001b[39mresults \u001b[38;5;241m=\u001b[39m \u001b[43mbatch\u001b[49m\u001b[43m(\u001b[49m\u001b[43m)\u001b[49m\n",
      "File \u001b[0;32m/usr/local/lib/python3.9/dist-packages/joblib/parallel.py:262\u001b[0m, in \u001b[0;36mBatchedCalls.__call__\u001b[0;34m(self)\u001b[0m\n\u001b[1;32m    258\u001b[0m \u001b[38;5;28;01mdef\u001b[39;00m \u001b[38;5;21m__call__\u001b[39m(\u001b[38;5;28mself\u001b[39m):\n\u001b[1;32m    259\u001b[0m     \u001b[38;5;66;03m# Set the default nested backend to self._backend but do not set the\u001b[39;00m\n\u001b[1;32m    260\u001b[0m     \u001b[38;5;66;03m# change the default number of processes to -1\u001b[39;00m\n\u001b[1;32m    261\u001b[0m     \u001b[38;5;28;01mwith\u001b[39;00m parallel_backend(\u001b[38;5;28mself\u001b[39m\u001b[38;5;241m.\u001b[39m_backend, n_jobs\u001b[38;5;241m=\u001b[39m\u001b[38;5;28mself\u001b[39m\u001b[38;5;241m.\u001b[39m_n_jobs):\n\u001b[0;32m--> 262\u001b[0m         \u001b[38;5;28;01mreturn\u001b[39;00m [func(\u001b[38;5;241m*\u001b[39margs, \u001b[38;5;241m*\u001b[39m\u001b[38;5;241m*\u001b[39mkwargs)\n\u001b[1;32m    263\u001b[0m                 \u001b[38;5;28;01mfor\u001b[39;00m func, args, kwargs \u001b[38;5;129;01min\u001b[39;00m \u001b[38;5;28mself\u001b[39m\u001b[38;5;241m.\u001b[39mitems]\n",
      "File \u001b[0;32m/usr/local/lib/python3.9/dist-packages/joblib/parallel.py:262\u001b[0m, in \u001b[0;36m<listcomp>\u001b[0;34m(.0)\u001b[0m\n\u001b[1;32m    258\u001b[0m \u001b[38;5;28;01mdef\u001b[39;00m \u001b[38;5;21m__call__\u001b[39m(\u001b[38;5;28mself\u001b[39m):\n\u001b[1;32m    259\u001b[0m     \u001b[38;5;66;03m# Set the default nested backend to self._backend but do not set the\u001b[39;00m\n\u001b[1;32m    260\u001b[0m     \u001b[38;5;66;03m# change the default number of processes to -1\u001b[39;00m\n\u001b[1;32m    261\u001b[0m     \u001b[38;5;28;01mwith\u001b[39;00m parallel_backend(\u001b[38;5;28mself\u001b[39m\u001b[38;5;241m.\u001b[39m_backend, n_jobs\u001b[38;5;241m=\u001b[39m\u001b[38;5;28mself\u001b[39m\u001b[38;5;241m.\u001b[39m_n_jobs):\n\u001b[0;32m--> 262\u001b[0m         \u001b[38;5;28;01mreturn\u001b[39;00m [\u001b[43mfunc\u001b[49m\u001b[43m(\u001b[49m\u001b[38;5;241;43m*\u001b[39;49m\u001b[43margs\u001b[49m\u001b[43m,\u001b[49m\u001b[43m \u001b[49m\u001b[38;5;241;43m*\u001b[39;49m\u001b[38;5;241;43m*\u001b[39;49m\u001b[43mkwargs\u001b[49m\u001b[43m)\u001b[49m\n\u001b[1;32m    263\u001b[0m                 \u001b[38;5;28;01mfor\u001b[39;00m func, args, kwargs \u001b[38;5;129;01min\u001b[39;00m \u001b[38;5;28mself\u001b[39m\u001b[38;5;241m.\u001b[39mitems]\n",
      "File \u001b[0;32m/usr/local/lib/python3.9/dist-packages/sklearn/utils/fixes.py:117\u001b[0m, in \u001b[0;36m_FuncWrapper.__call__\u001b[0;34m(self, *args, **kwargs)\u001b[0m\n\u001b[1;32m    115\u001b[0m \u001b[38;5;28;01mdef\u001b[39;00m \u001b[38;5;21m__call__\u001b[39m(\u001b[38;5;28mself\u001b[39m, \u001b[38;5;241m*\u001b[39margs, \u001b[38;5;241m*\u001b[39m\u001b[38;5;241m*\u001b[39mkwargs):\n\u001b[1;32m    116\u001b[0m     \u001b[38;5;28;01mwith\u001b[39;00m config_context(\u001b[38;5;241m*\u001b[39m\u001b[38;5;241m*\u001b[39m\u001b[38;5;28mself\u001b[39m\u001b[38;5;241m.\u001b[39mconfig):\n\u001b[0;32m--> 117\u001b[0m         \u001b[38;5;28;01mreturn\u001b[39;00m \u001b[38;5;28;43mself\u001b[39;49m\u001b[38;5;241;43m.\u001b[39;49m\u001b[43mfunction\u001b[49m\u001b[43m(\u001b[49m\u001b[38;5;241;43m*\u001b[39;49m\u001b[43margs\u001b[49m\u001b[43m,\u001b[49m\u001b[43m \u001b[49m\u001b[38;5;241;43m*\u001b[39;49m\u001b[38;5;241;43m*\u001b[39;49m\u001b[43mkwargs\u001b[49m\u001b[43m)\u001b[49m\n",
      "File \u001b[0;32m/usr/local/lib/python3.9/dist-packages/sklearn/ensemble/_forest.py:189\u001b[0m, in \u001b[0;36m_parallel_build_trees\u001b[0;34m(tree, bootstrap, X, y, sample_weight, tree_idx, n_trees, verbose, class_weight, n_samples_bootstrap)\u001b[0m\n\u001b[1;32m    186\u001b[0m     \u001b[38;5;28;01melif\u001b[39;00m class_weight \u001b[38;5;241m==\u001b[39m \u001b[38;5;124m\"\u001b[39m\u001b[38;5;124mbalanced_subsample\u001b[39m\u001b[38;5;124m\"\u001b[39m:\n\u001b[1;32m    187\u001b[0m         curr_sample_weight \u001b[38;5;241m*\u001b[39m\u001b[38;5;241m=\u001b[39m compute_sample_weight(\u001b[38;5;124m\"\u001b[39m\u001b[38;5;124mbalanced\u001b[39m\u001b[38;5;124m\"\u001b[39m, y, indices\u001b[38;5;241m=\u001b[39mindices)\n\u001b[0;32m--> 189\u001b[0m     \u001b[43mtree\u001b[49m\u001b[38;5;241;43m.\u001b[39;49m\u001b[43mfit\u001b[49m\u001b[43m(\u001b[49m\u001b[43mX\u001b[49m\u001b[43m,\u001b[49m\u001b[43m \u001b[49m\u001b[43my\u001b[49m\u001b[43m,\u001b[49m\u001b[43m \u001b[49m\u001b[43msample_weight\u001b[49m\u001b[38;5;241;43m=\u001b[39;49m\u001b[43mcurr_sample_weight\u001b[49m\u001b[43m,\u001b[49m\u001b[43m \u001b[49m\u001b[43mcheck_input\u001b[49m\u001b[38;5;241;43m=\u001b[39;49m\u001b[38;5;28;43;01mFalse\u001b[39;49;00m\u001b[43m)\u001b[49m\n\u001b[1;32m    190\u001b[0m \u001b[38;5;28;01melse\u001b[39;00m:\n\u001b[1;32m    191\u001b[0m     tree\u001b[38;5;241m.\u001b[39mfit(X, y, sample_weight\u001b[38;5;241m=\u001b[39msample_weight, check_input\u001b[38;5;241m=\u001b[39m\u001b[38;5;28;01mFalse\u001b[39;00m)\n",
      "File \u001b[0;32m/usr/local/lib/python3.9/dist-packages/sklearn/tree/_classes.py:969\u001b[0m, in \u001b[0;36mDecisionTreeClassifier.fit\u001b[0;34m(self, X, y, sample_weight, check_input)\u001b[0m\n\u001b[1;32m    939\u001b[0m \u001b[38;5;28;01mdef\u001b[39;00m \u001b[38;5;21mfit\u001b[39m(\u001b[38;5;28mself\u001b[39m, X, y, sample_weight\u001b[38;5;241m=\u001b[39m\u001b[38;5;28;01mNone\u001b[39;00m, check_input\u001b[38;5;241m=\u001b[39m\u001b[38;5;28;01mTrue\u001b[39;00m):\n\u001b[1;32m    940\u001b[0m     \u001b[38;5;124;03m\"\"\"Build a decision tree classifier from the training set (X, y).\u001b[39;00m\n\u001b[1;32m    941\u001b[0m \n\u001b[1;32m    942\u001b[0m \u001b[38;5;124;03m    Parameters\u001b[39;00m\n\u001b[0;32m   (...)\u001b[0m\n\u001b[1;32m    966\u001b[0m \u001b[38;5;124;03m        Fitted estimator.\u001b[39;00m\n\u001b[1;32m    967\u001b[0m \u001b[38;5;124;03m    \"\"\"\u001b[39;00m\n\u001b[0;32m--> 969\u001b[0m     \u001b[38;5;28;43msuper\u001b[39;49m\u001b[43m(\u001b[49m\u001b[43m)\u001b[49m\u001b[38;5;241;43m.\u001b[39;49m\u001b[43mfit\u001b[49m\u001b[43m(\u001b[49m\n\u001b[1;32m    970\u001b[0m \u001b[43m        \u001b[49m\u001b[43mX\u001b[49m\u001b[43m,\u001b[49m\n\u001b[1;32m    971\u001b[0m \u001b[43m        \u001b[49m\u001b[43my\u001b[49m\u001b[43m,\u001b[49m\n\u001b[1;32m    972\u001b[0m \u001b[43m        \u001b[49m\u001b[43msample_weight\u001b[49m\u001b[38;5;241;43m=\u001b[39;49m\u001b[43msample_weight\u001b[49m\u001b[43m,\u001b[49m\n\u001b[1;32m    973\u001b[0m \u001b[43m        \u001b[49m\u001b[43mcheck_input\u001b[49m\u001b[38;5;241;43m=\u001b[39;49m\u001b[43mcheck_input\u001b[49m\u001b[43m,\u001b[49m\n\u001b[1;32m    974\u001b[0m \u001b[43m    \u001b[49m\u001b[43m)\u001b[49m\n\u001b[1;32m    975\u001b[0m     \u001b[38;5;28;01mreturn\u001b[39;00m \u001b[38;5;28mself\u001b[39m\n",
      "File \u001b[0;32m/usr/local/lib/python3.9/dist-packages/sklearn/tree/_classes.py:458\u001b[0m, in \u001b[0;36mBaseDecisionTree.fit\u001b[0;34m(self, X, y, sample_weight, check_input)\u001b[0m\n\u001b[1;32m    447\u001b[0m \u001b[38;5;28;01melse\u001b[39;00m:\n\u001b[1;32m    448\u001b[0m     builder \u001b[38;5;241m=\u001b[39m BestFirstTreeBuilder(\n\u001b[1;32m    449\u001b[0m         splitter,\n\u001b[1;32m    450\u001b[0m         min_samples_split,\n\u001b[0;32m   (...)\u001b[0m\n\u001b[1;32m    455\u001b[0m         \u001b[38;5;28mself\u001b[39m\u001b[38;5;241m.\u001b[39mmin_impurity_decrease,\n\u001b[1;32m    456\u001b[0m     )\n\u001b[0;32m--> 458\u001b[0m \u001b[43mbuilder\u001b[49m\u001b[38;5;241;43m.\u001b[39;49m\u001b[43mbuild\u001b[49m\u001b[43m(\u001b[49m\u001b[38;5;28;43mself\u001b[39;49m\u001b[38;5;241;43m.\u001b[39;49m\u001b[43mtree_\u001b[49m\u001b[43m,\u001b[49m\u001b[43m \u001b[49m\u001b[43mX\u001b[49m\u001b[43m,\u001b[49m\u001b[43m \u001b[49m\u001b[43my\u001b[49m\u001b[43m,\u001b[49m\u001b[43m \u001b[49m\u001b[43msample_weight\u001b[49m\u001b[43m)\u001b[49m\n\u001b[1;32m    460\u001b[0m \u001b[38;5;28;01mif\u001b[39;00m \u001b[38;5;28mself\u001b[39m\u001b[38;5;241m.\u001b[39mn_outputs_ \u001b[38;5;241m==\u001b[39m \u001b[38;5;241m1\u001b[39m \u001b[38;5;129;01mand\u001b[39;00m is_classifier(\u001b[38;5;28mself\u001b[39m):\n\u001b[1;32m    461\u001b[0m     \u001b[38;5;28mself\u001b[39m\u001b[38;5;241m.\u001b[39mn_classes_ \u001b[38;5;241m=\u001b[39m \u001b[38;5;28mself\u001b[39m\u001b[38;5;241m.\u001b[39mn_classes_[\u001b[38;5;241m0\u001b[39m]\n",
      "\u001b[0;31mKeyboardInterrupt\u001b[0m: "
     ]
    }
   ],
   "source": [
    "clf.fit(x_train, y_train).score(x_test, y_test)"
   ]
  },
  {
   "cell_type": "code",
   "execution_count": null,
   "id": "97d13778-921a-4b0d-917d-697c6ac7dfde",
   "metadata": {},
   "outputs": [],
   "source": [
    "\n",
    "from sklearn.datasets import load_iris\n",
    "from sklearn.ensemble import RandomForestClassifier, StackingClassifier\n",
    "from sklearn.linear_model import LogisticRegression\n",
    "from sklearn.model_selection import train_test_split\n",
    "from sklearn.neighbors import KNeighborsClassifier\n",
    "from sklearn.tree import DecisionTreeClassifier\n",
    "\n",
    "\n",
    "\n",
    "# Create Learners per layer\n",
    "layer_one_estimators = [\n",
    "                        ('rf_1', RandomForestClassifier(n_estimators=10, random_state=42)),\n",
    "                        ('knn_1', KNeighborsClassifier(n_neighbors=5))             \n",
    "                       ]\n",
    "layer_two_estimators = [\n",
    "                        ('dt_2', DecisionTreeClassifier()),\n",
    "                        ('rf_2', RandomForestClassifier(n_estimators=50, random_state=42)),\n",
    "                       ]\n",
    "layer_two = StackingClassifier(estimators=layer_two_estimators, final_estimator=LogisticRegression())\n",
    "\n",
    "# Create Final model by \n",
    "clf = StackingClassifier(estimators=layer_one_estimators, final_estimator=layer_two)\n",
    "\n",
    "clf.fit(X_train, y_train).score(X_test, y_test)"
   ]
  },
  {
   "cell_type": "code",
   "execution_count": null,
   "id": "51a26e58-5604-4048-b81e-0ae91624b08e",
   "metadata": {},
   "outputs": [],
   "source": []
  },
  {
   "cell_type": "code",
   "execution_count": null,
   "id": "2d42f2a2-9fae-492a-88ea-e3aa689c11ac",
   "metadata": {},
   "outputs": [],
   "source": [
    "X"
   ]
  },
  {
   "cell_type": "code",
   "execution_count": null,
   "id": "6df4a60b-b49a-4abf-8264-edcc480fef5f",
   "metadata": {},
   "outputs": [],
   "source": [
    "Y"
   ]
  },
  {
   "cell_type": "code",
   "execution_count": null,
   "id": "0b30f509-fb04-45d0-baf0-222fd3b56285",
   "metadata": {},
   "outputs": [],
   "source": [
    "from collections import Counter\n",
    "from sklearn.datasets import make_classification\n",
    "from imblearn.combine import SMOTEENN \n",
    "\n",
    "print('Original dataset shape %s' % Counter(Y))\n",
    "sme = SMOTEENN(random_state=42)\n",
    "x_res, y_res = sme.fit_resample(X, Y)\n",
    "print('Resampled dataset shape %s' % Counter(y_res))\n"
   ]
  },
  {
   "cell_type": "code",
   "execution_count": null,
   "id": "5d9350ef-40b2-4e45-a244-74bcf983aca4",
   "metadata": {},
   "outputs": [],
   "source": [
    "x_train, x_test, y_train, y_test = train_test_split(x_res,y_res, test_size =0.20, random_state=42,stratify=y_res)"
   ]
  },
  {
   "cell_type": "code",
   "execution_count": null,
   "id": "d8c3f47b-ad81-42a0-bf58-5d027f3d785c",
   "metadata": {},
   "outputs": [],
   "source": [
    "x_train, x_val, y_train, y_val = train_test_split(x_test,y_test, test_size =0.20, random_state=42)"
   ]
  },
  {
   "cell_type": "code",
   "execution_count": null,
   "id": "31cd1bc9-befd-4de9-81f2-89445dfe17af",
   "metadata": {},
   "outputs": [],
   "source": [
    "print(\"X_train shape: {}\".format(x_train.shape))\n",
    "print(\"X_test shape: {}\".format(x_test.shape))\n",
    "print(\"y_train shape: {}\".format(y_train.shape))\n",
    "print(\"y_test shape: {}\".format(y_test.shape))\n",
    "print(\"X_val shape: {}\".format(x_val.shape))\n",
    "print(\"y_val shape: {}\".format(y_val.shape))"
   ]
  },
  {
   "cell_type": "code",
   "execution_count": null,
   "id": "4e392927-3cbe-4cd6-ae8e-aab19fe52221",
   "metadata": {},
   "outputs": [],
   "source": [
    "rfc = RandomForestClassifier(max_depth=20, min_samples_leaf=0.01, n_estimators=300)\n",
    "rfc.fit(x_train, y_train)"
   ]
  },
  {
   "cell_type": "code",
   "execution_count": null,
   "id": "179e6250-9f92-4b76-b558-6aeee80a8d51",
   "metadata": {},
   "outputs": [],
   "source": [
    "train_pred_y = rfc.predict(x_train)\n",
    "test_pred_y = rfc.predict(x_test)\n",
    "val_pred_y = rfc.predict(x_val)"
   ]
  },
  {
   "cell_type": "code",
   "execution_count": null,
   "id": "0ce414ae-8ceb-4581-bc59-90b1c290a12f",
   "metadata": {},
   "outputs": [],
   "source": [
    "confusion_matrix(y_train,train_pred_y)"
   ]
  },
  {
   "cell_type": "code",
   "execution_count": null,
   "id": "7254b38d-bdd4-467f-804a-ab9a417a639c",
   "metadata": {},
   "outputs": [],
   "source": [
    "confusion_matrix(y_test, test_pred_y)"
   ]
  },
  {
   "cell_type": "code",
   "execution_count": null,
   "id": "6a0034a1-864a-47ee-b5e7-48b6f19b1074",
   "metadata": {},
   "outputs": [],
   "source": [
    "confusion_matrix(y_val, val_pred_y)"
   ]
  },
  {
   "cell_type": "code",
   "execution_count": null,
   "id": "f0f1e598-1b4b-4372-a7d6-fcc0a3876aa7",
   "metadata": {},
   "outputs": [],
   "source": [
    "print(classification_report(y_train,train_pred_y))"
   ]
  },
  {
   "cell_type": "code",
   "execution_count": null,
   "id": "e8d2364a-2133-4611-8939-2c4bf62b53ed",
   "metadata": {},
   "outputs": [],
   "source": [
    "print(classification_report(y_test,test_pred_y))"
   ]
  },
  {
   "cell_type": "code",
   "execution_count": null,
   "id": "33e41a67-d192-42c1-8a1d-911179033125",
   "metadata": {},
   "outputs": [],
   "source": [
    "print(classification_report(y_val,val_pred_y))"
   ]
  },
  {
   "cell_type": "code",
   "execution_count": null,
   "id": "a84d7dcf-1220-436e-916c-682e15cc0b37",
   "metadata": {},
   "outputs": [],
   "source": [
    "from sklearn.model_selection import cross_validate\n",
    "from sklearn.metrics import make_scorer, accuracy_score, precision_score, recall_score, f1_score\n",
    "\n",
    "\n",
    "\n",
    "scoring = {'accuracy' : make_scorer(accuracy_score),\n",
    "           'precision' : make_scorer(precision_score),\n",
    "           ' recall' : make_scorer(recall_score),\n",
    "           'f1_score' : make_scorer(f1_score)}\n",
    "\n",
    "\n",
    "\n",
    "\n",
    "\n",
    "cv = KFold(n_splits=5, random_state=1, shuffle=True)\n",
    "\n",
    "\n",
    "\n",
    "scores = cross_validate(rfc, x_test, y_test, scoring=scoring, cv=cv, n_jobs=-1)\n",
    "# report performance\n",
    "# print('Accuracy: %.3f (%.3f)' % (mean(scores), std(scores)))\n",
    "scores"
   ]
  },
  {
   "cell_type": "code",
   "execution_count": null,
   "id": "fd095c9a-0028-4f87-93af-54fa4c45416e",
   "metadata": {},
   "outputs": [],
   "source": []
  },
  {
   "cell_type": "code",
   "execution_count": null,
   "id": "c66dfa1a-6c9c-4e95-8988-13a100ff6191",
   "metadata": {},
   "outputs": [],
   "source": []
  },
  {
   "cell_type": "code",
   "execution_count": null,
   "id": "2e8744a2-9c1a-40d3-b79a-22dcbc64df07",
   "metadata": {},
   "outputs": [],
   "source": []
  },
  {
   "cell_type": "code",
   "execution_count": null,
   "id": "bb5d4786-7e75-41c2-a2c7-5381a6d024f8",
   "metadata": {},
   "outputs": [],
   "source": []
  },
  {
   "cell_type": "code",
   "execution_count": null,
   "id": "3988a711-25a7-484a-8bb2-b6f9da3111fe",
   "metadata": {},
   "outputs": [],
   "source": []
  },
  {
   "cell_type": "code",
   "execution_count": null,
   "id": "281c2e3e-90c0-4c3f-b913-73f3b0441ae6",
   "metadata": {},
   "outputs": [],
   "source": []
  },
  {
   "cell_type": "code",
   "execution_count": null,
   "id": "d1838da1-db6c-494a-858d-364958f823bf",
   "metadata": {},
   "outputs": [],
   "source": []
  },
  {
   "cell_type": "code",
   "execution_count": null,
   "id": "e716815f-e640-4e00-a252-ae7d5c0c93c8",
   "metadata": {},
   "outputs": [],
   "source": []
  },
  {
   "cell_type": "code",
   "execution_count": null,
   "id": "427b9bf4-8257-49be-9c3f-2dcf060b67c9",
   "metadata": {},
   "outputs": [],
   "source": []
  },
  {
   "cell_type": "code",
   "execution_count": null,
   "id": "19c71090-54ef-4243-af81-4004daed2068",
   "metadata": {},
   "outputs": [],
   "source": []
  },
  {
   "cell_type": "code",
   "execution_count": null,
   "id": "8f28f73d-05de-4913-ac08-421e6ced5cbb",
   "metadata": {},
   "outputs": [],
   "source": []
  },
  {
   "cell_type": "code",
   "execution_count": null,
   "id": "7afe186d-c00d-4751-8bec-3de06a78c62c",
   "metadata": {},
   "outputs": [],
   "source": []
  },
  {
   "cell_type": "code",
   "execution_count": null,
   "id": "da6a5c47-e08e-4ce6-9260-63d19ad83c22",
   "metadata": {},
   "outputs": [],
   "source": []
  },
  {
   "cell_type": "code",
   "execution_count": null,
   "id": "a55b9113-f94b-4bd1-b484-16fedb8d0d96",
   "metadata": {},
   "outputs": [],
   "source": []
  }
 ],
 "metadata": {
  "kernelspec": {
   "display_name": "Python 3 (ipykernel)",
   "language": "python",
   "name": "python3"
  },
  "language_info": {
   "codemirror_mode": {
    "name": "ipython",
    "version": 3
   },
   "file_extension": ".py",
   "mimetype": "text/x-python",
   "name": "python",
   "nbconvert_exporter": "python",
   "pygments_lexer": "ipython3",
   "version": "3.9.13"
  },
  "toc-showmarkdowntxt": true,
  "toc-showtags": true
 },
 "nbformat": 4,
 "nbformat_minor": 5
}
